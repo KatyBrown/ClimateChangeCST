{
 "cells": [
  {
   "cell_type": "code",
   "execution_count": null,
   "metadata": {
    "colab": {
     "base_uri": "https://localhost:8080/",
     "height": 204
    },
    "colab_type": "code",
    "executionInfo": {
     "elapsed": 45181,
     "status": "ok",
     "timestamp": 1596548153457,
     "user": {
      "displayName": "Katy Brown",
      "photoUrl": "",
      "userId": "04725673548216289527"
     },
     "user_tz": -60
    },
    "id": "S24GoQ8oXE8y",
    "outputId": "2161ee73-fe1b-4866-f619-66dcd4dcfbce"
   },
   "outputs": [
    {
     "name": "stdout",
     "output_type": "stream",
     "text": [
      "Reading package lists...\n",
      "Building dependency tree...\n",
      "Reading state information...\n",
      "libgeos-dev is already the newest version (3.6.2-1build2).\n",
      "libproj-dev is already the newest version (4.9.3-2).\n",
      "proj-bin is already the newest version (4.9.3-2).\n",
      "The following package was automatically installed and is no longer required:\n",
      "  libnvidia-common-440\n",
      "Use 'apt autoremove' to remove it.\n",
      "0 upgraded, 0 newly installed, 0 to remove and 35 not upgraded.\n",
      "  Building wheel for basemap (setup.py) ... \u001b[?25l\u001b[?25hdone\n"
     ]
    }
   ],
   "source": [
    "!pip install -q geopandas\n",
    "!apt install -q proj-bin libproj-dev libgeos-dev -y\n",
    "!pip install -q https://github.com/matplotlib/basemap/archive/master.zip\n",
    "!pip install -q rasterio"
   ]
  },
  {
   "cell_type": "code",
   "execution_count": null,
   "metadata": {
    "colab": {
     "base_uri": "https://localhost:8080/",
     "height": 34
    },
    "colab_type": "code",
    "executionInfo": {
     "elapsed": 46511,
     "status": "ok",
     "timestamp": 1596548154817,
     "user": {
      "displayName": "Katy Brown",
      "photoUrl": "",
      "userId": "04725673548216289527"
     },
     "user_tz": -60
    },
    "id": "8tBHHqpzXHen",
    "outputId": "adbb98ac-296d-49f3-d583-e5863cdabacd"
   },
   "outputs": [
    {
     "name": "stdout",
     "output_type": "stream",
     "text": [
      "Mounted at /content/drive\n"
     ]
    }
   ],
   "source": [
    "# Pandas is a package containing additional functions to use data frames in Python\n",
    "import pandas as pd\n",
    "import geopandas as gpd\n",
    "import matplotlib\n",
    "import matplotlib.pyplot as plt\n",
    "%matplotlib inline\n",
    "from mpl_toolkits.basemap import Basemap\n",
    "import warnings\n",
    "warnings.simplefilter('ignore')\n",
    "import rasterio\n",
    "import rasterio.plot\n",
    "import numpy as np\n",
    "import seaborn as sns\n",
    "# These two lines allow the notebook to access the Google Drive.\n",
    "from google.colab import drive\n",
    "drive.mount('/content/drive', force_remount=True)\n",
    "\n",
    "# This is the path to the project folder within the Google Drive.\n",
    "file_path = \"/content/drive/My Drive/\""
   ]
  },
  {
   "cell_type": "markdown",
   "metadata": {
    "colab_type": "text",
    "id": "1RCC7WX16Z_K"
   },
   "source": [
    "This cell contains some code we'll call later to convert between latitude and longitude co-ordinates and co-ordinates in the raster grids."
   ]
  },
  {
   "cell_type": "code",
   "execution_count": null,
   "metadata": {
    "colab": {},
    "colab_type": "code",
    "id": "KtQojOEYmRxd"
   },
   "outputs": [],
   "source": [
    "def convert_xy_to_longlat(grid_x, grid_y):\n",
    "  lon = ((grid_x / 6) - 180)\n",
    "  lat = -((grid_y / 6) - 90)\n",
    "  return (lon, lat)\n",
    "\n",
    "def convert_longlat_to_xy(lon, lat):\n",
    "  grid_x = (lon + 180) * 6\n",
    "  grid_y = (-lat + 90) * 6\n",
    "  return (grid_x, grid_y)"
   ]
  },
  {
   "cell_type": "markdown",
   "metadata": {
    "colab_type": "text",
    "id": "wrU5Rjfi6eKz"
   },
   "source": [
    "---\n",
    "## Notebook 7"
   ]
  },
  {
   "cell_type": "markdown",
   "metadata": {
    "colab_type": "text",
    "id": "tU_j53j16faX"
   },
   "source": [
    "# Plotting WORLDCLIM Maps"
   ]
  },
  {
   "cell_type": "markdown",
   "metadata": {
    "colab_type": "text",
    "id": "oBhO6r2O75XK"
   },
   "source": [
    "I have downloaded the WORLDCLIM data from the worldclim website.\n",
    "\n",
    "The data is available for 9 different models, I have downloaded six of them because the others had some missing data.\n",
    "\n",
    "The models are listed below (this code might be useful later if we need to loop through all the models)."
   ]
  },
  {
   "cell_type": "code",
   "execution_count": null,
   "metadata": {
    "colab": {},
    "colab_type": "code",
    "id": "kf9-zu-s6ird"
   },
   "outputs": [],
   "source": [
    "models = ['BCC-CSM2-MR',\n",
    "         'CNRM-CM6-1',\n",
    "         'CNRM-ESM2-1',\n",
    "         'CanESM5',\n",
    "         'MIROC-ES2L',\n",
    "         'MIROC6']"
   ]
  },
  {
   "cell_type": "code",
   "execution_count": null,
   "metadata": {
    "colab": {
     "base_uri": "https://localhost:8080/",
     "height": 34
    },
    "colab_type": "code",
    "executionInfo": {
     "elapsed": 46487,
     "status": "ok",
     "timestamp": 1596548154820,
     "user": {
      "displayName": "Katy Brown",
      "photoUrl": "",
      "userId": "04725673548216289527"
     },
     "user_tz": -60
    },
    "id": "CvFusa1l8wNd",
    "outputId": "4198c508-69ef-46a9-bacd-2dfd15312b3e"
   },
   "outputs": [
    {
     "data": {
      "text/plain": [
       "['BCC-CSM2-MR', 'CNRM-CM6-1', 'CNRM-ESM2-1', 'CanESM5', 'MIROC-ES2L', 'MIROC6']"
      ]
     },
     "execution_count": 64,
     "metadata": {
      "tags": []
     },
     "output_type": "execute_result"
    }
   ],
   "source": [
    "models"
   ]
  },
  {
   "cell_type": "markdown",
   "metadata": {
    "colab_type": "text",
    "id": "GSJEOwe76i24"
   },
   "source": [
    "There are four different climate scenarios."
   ]
  },
  {
   "cell_type": "code",
   "execution_count": null,
   "metadata": {
    "colab": {},
    "colab_type": "code",
    "id": "8IcBg-yB8aQg"
   },
   "outputs": [],
   "source": [
    "scenarios = ['ssp126', 'ssp245', 'ssp370', 'ssp585']"
   ]
  },
  {
   "cell_type": "code",
   "execution_count": null,
   "metadata": {
    "colab": {
     "base_uri": "https://localhost:8080/",
     "height": 34
    },
    "colab_type": "code",
    "executionInfo": {
     "elapsed": 46466,
     "status": "ok",
     "timestamp": 1596548154821,
     "user": {
      "displayName": "Katy Brown",
      "photoUrl": "",
      "userId": "04725673548216289527"
     },
     "user_tz": -60
    },
    "id": "MhDkFIq-8yU3",
    "outputId": "4dfb6e98-62b2-4121-8149-8bbd7edc524f"
   },
   "outputs": [
    {
     "data": {
      "text/plain": [
       "['ssp126', 'ssp245', 'ssp370', 'ssp585']"
      ]
     },
     "execution_count": 66,
     "metadata": {
      "tags": []
     },
     "output_type": "execute_result"
    }
   ],
   "source": [
    "scenarios"
   ]
  },
  {
   "cell_type": "markdown",
   "metadata": {
    "colab_type": "text",
    "id": "I6552uCE8fI_"
   },
   "source": [
    "And there are five different time periods."
   ]
  },
  {
   "cell_type": "code",
   "execution_count": null,
   "metadata": {
    "colab": {},
    "colab_type": "code",
    "id": "E2vec1n18o3c"
   },
   "outputs": [],
   "source": [
    "time_periods = ['near_present', '2021-2040', '2041-2060', '2061-2080', '2081-2100']"
   ]
  },
  {
   "cell_type": "code",
   "execution_count": null,
   "metadata": {
    "colab": {
     "base_uri": "https://localhost:8080/",
     "height": 34
    },
    "colab_type": "code",
    "executionInfo": {
     "elapsed": 46451,
     "status": "ok",
     "timestamp": 1596548154823,
     "user": {
      "displayName": "Katy Brown",
      "photoUrl": "",
      "userId": "04725673548216289527"
     },
     "user_tz": -60
    },
    "id": "-tCn2KEn82-P",
    "outputId": "ff1eb14d-a737-4169-de48-79279e07288d"
   },
   "outputs": [
    {
     "data": {
      "text/plain": [
       "['near_present', '2021-2040', '2041-2060', '2061-2080', '2081-2100']"
      ]
     },
     "execution_count": 68,
     "metadata": {
      "tags": []
     },
     "output_type": "execute_result"
    }
   ],
   "source": [
    "time_periods"
   ]
  },
  {
   "cell_type": "markdown",
   "metadata": {
    "colab_type": "text",
    "id": "N2D7oseJ882q"
   },
   "source": [
    "The \"near present\" data is measurements from the past - from 1970 to 2000.  This data is a bit different because we don't need to apply the models or the SSPs - as it has already been measured rather than being predicted with a model."
   ]
  },
  {
   "cell_type": "markdown",
   "metadata": {
    "colab_type": "text",
    "id": "a2wDmwax9HBk"
   },
   "source": [
    "I have saved the data on the Google Drive in \"climate_data\", then the model ID, then the SSP ID."
   ]
  },
  {
   "cell_type": "markdown",
   "metadata": {
    "colab_type": "text",
    "id": "qOUan3f0Z1p2"
   },
   "source": [
    "The worldclim datasets are in raster format - https://desktop.arcgis.com/en/arcmap/10.3/manage-data/raster-and-images/what-is-raster-data.htm - these files have the suffix .tif.\n",
    "\n",
    "These are basically grids of data which can be stacked on top of each other to give multiple layers of data.\n",
    "\n",
    "First, we read in the raster formatted data from the Google Drive.  For now we'll just read the near-present data.\n"
   ]
  },
  {
   "cell_type": "code",
   "execution_count": null,
   "metadata": {
    "colab": {},
    "colab_type": "code",
    "id": "oJNawPWAXJoM"
   },
   "outputs": [],
   "source": [
    "raster = rasterio.open(file_path + \"climate_data/near_present.tif\")"
   ]
  },
  {
   "cell_type": "markdown",
   "metadata": {
    "colab_type": "text",
    "id": "dySjq3_VZNwk"
   },
   "source": [
    "The subunit of degrees latitude and longitude is minutes - there are 60 minutes in a degree.\n",
    "\n",
    "These tables are in 10 minute increments - so 1/6 of a degree of latitude / longitude.\n",
    "\n",
    "Longitude goes from -180 to 180 - so 360 in total - so we expect 360 * 6 = 2160 grid points on the longitude (x, width) axis.\n",
    "\n",
    "Latitude goes from -90 to 90 - so 180 in total - so we expect 180 * 6 = 1080 grid points on the latitude (y, height) axis."
   ]
  },
  {
   "cell_type": "code",
   "execution_count": null,
   "metadata": {
    "colab": {
     "base_uri": "https://localhost:8080/",
     "height": 34
    },
    "colab_type": "code",
    "executionInfo": {
     "elapsed": 46435,
     "status": "ok",
     "timestamp": 1596548154824,
     "user": {
      "displayName": "Katy Brown",
      "photoUrl": "",
      "userId": "04725673548216289527"
     },
     "user_tz": -60
    },
    "id": "q2ZMQjcMXrZJ",
    "outputId": "886cc0f2-3ec4-4b72-fbc7-a712dcb23f0c"
   },
   "outputs": [
    {
     "data": {
      "text/plain": [
       "(2160, 1080)"
      ]
     },
     "execution_count": 70,
     "metadata": {
      "tags": []
     },
     "output_type": "execute_result"
    }
   ],
   "source": [
    "raster.width, raster.height"
   ]
  },
  {
   "cell_type": "markdown",
   "metadata": {
    "colab_type": "text",
    "id": "CRma7B1IabhQ"
   },
   "source": [
    "This means that we have a grid of data predicting the value of a variable at each of the points on a 2160 * 1080 grid on top of a map of the world.\n",
    "\n",
    "These are quite small squares - in the map below each small square is 1 degree of latitude and 1 degree of longitude - so there would be 36 measurements per square."
   ]
  },
  {
   "cell_type": "code",
   "execution_count": null,
   "metadata": {
    "colab": {
     "base_uri": "https://localhost:8080/",
     "height": 439
    },
    "colab_type": "code",
    "executionInfo": {
     "elapsed": 48853,
     "status": "ok",
     "timestamp": 1596548157253,
     "user": {
      "displayName": "Katy Brown",
      "photoUrl": "",
      "userId": "04725673548216289527"
     },
     "user_tz": -60
    },
    "id": "UMttEsj5YLnF",
    "outputId": "78052ea0-63ee-4b31-bc69-3c7f5c74b48d"
   },
   "outputs": [
    {
     "data": {
      "text/plain": [
       "<matplotlib.axes._subplots.AxesSubplot at 0x7f4611068630>"
      ]
     },
     "execution_count": 71,
     "metadata": {
      "tags": []
     },
     "output_type": "execute_result"
    },
    {
     "data": {
      "image/png": "[encoded data removed]",
      "text/plain": [
       "<Figure size 1080x1080 with 1 Axes>"
      ]
     },
     "metadata": {
      "needs_background": "light",
      "tags": []
     },
     "output_type": "display_data"
    }
   ],
   "source": [
    "# import the map\n",
    "worldmap = gpd.read_file(file_path + \"/country_boundaries_shapefiles/World_Countries__Generalized_.shp\")\n",
    "worldmap.to_csv('4088')\n",
    "\n",
    "# make an empty figure\n",
    "f = plt.figure(figsize=(15, 15))\n",
    "a = f.add_subplot(111)\n",
    "\n",
    "# add a line for each degree latitude and longitude\n",
    "a.vlines(np.arange(-180, 180, 1), -90, 90, lw=0.5)\n",
    "a.hlines(np.arange(-90, 90, 1), -180, 180, lw=0.5)\n",
    "\n",
    "a.set_xlim(-185, 185)\n",
    "a.set_ylim(-95, 95)\n",
    "\n",
    "# set the position of the axis markers\n",
    "a.set_xticks(np.arange(-180, 181, 20))\n",
    "a.set_yticks(np.arange(-90, 91, 20))\n",
    "\n",
    "# add the map\n",
    "worldmap.plot(ax=a)"
   ]
  },
  {
   "cell_type": "markdown",
   "metadata": {
    "colab_type": "text",
    "id": "fzaPsk1keGYZ"
   },
   "source": [
    "If we zoom in on a smaller area we can visualise the full grid."
   ]
  },
  {
   "cell_type": "code",
   "execution_count": null,
   "metadata": {
    "colab": {
     "base_uri": "https://localhost:8080/",
     "height": 846
    },
    "colab_type": "code",
    "executionInfo": {
     "elapsed": 51848,
     "status": "ok",
     "timestamp": 1596548160270,
     "user": {
      "displayName": "Katy Brown",
      "photoUrl": "",
      "userId": "04725673548216289527"
     },
     "user_tz": -60
    },
    "id": "EUlbHGVceMbp",
    "outputId": "227d0873-e271-482a-8f21-36c1c5a79092"
   },
   "outputs": [
    {
     "data": {
      "image/png": "[encoded data removed]",
      "text/plain": [
       "<Figure size 1080x1080 with 1 Axes>"
      ]
     },
     "metadata": {
      "needs_background": "light",
      "tags": []
     },
     "output_type": "display_data"
    }
   ],
   "source": [
    "# import the map\n",
    "worldmap = gpd.read_file(file_path + \"/country_boundaries_shapefiles/World_Countries__Generalized_.shp\")\n",
    "worldmap.to_csv('4088')\n",
    "\n",
    "# define the latitude and longitude of the region we want to look at\n",
    "lon_range = [-9, 2]\n",
    "lat_range = [49, 61]\n",
    "\n",
    "# make an empty figure\n",
    "f = plt.figure(figsize=(15, 15))\n",
    "a = f.add_subplot(111)\n",
    "\n",
    "# add a line for each degree latitude and longitude\n",
    "a.vlines(np.arange(-180, 180, 1), -90, 90, lw=0.5)\n",
    "a.hlines(np.arange(-90, 90, 1), -180, 180, lw=0.5)\n",
    "\n",
    "# add six subdivisions for each degree latitude and longitude\n",
    "a.vlines(np.arange(-180, 180, 1/6), -90, 90, lw=0.2)\n",
    "a.hlines(np.arange(-90, 90, 1/6), -180, 180, lw=0.2)\n",
    "\n",
    "# set the x and y axis limits to just show the UK\n",
    "a.set_xlim(lon_range)\n",
    "a.set_ylim(lat_range)\n",
    "\n",
    "# add the map\n",
    "worldmap.plot(ax=a)\n",
    "\n",
    "# hide the axis\n",
    "a.set_axis_off()"
   ]
  },
  {
   "cell_type": "markdown",
   "metadata": {
    "colab_type": "text",
    "id": "avUWB5pLfICT"
   },
   "source": [
    "For each of these points over a map of the world we will have 19 different measurements of climate for each of 5 time points - 1970 - 2000 (current), 2021-2040, 2041-2060, 2061-2080, and 2081-2100.\n",
    "\n",
    "The 19 measurements are listed here: https://worldclim.org/data/bioclim.html\n",
    "\n",
    "We also have these in a table - bioclim_variables.tsv\n",
    "\n",
    "We can see that there are 19 variables using ```raster.count```."
   ]
  },
  {
   "cell_type": "code",
   "execution_count": null,
   "metadata": {
    "colab": {
     "base_uri": "https://localhost:8080/",
     "height": 34
    },
    "colab_type": "code",
    "executionInfo": {
     "elapsed": 51836,
     "status": "ok",
     "timestamp": 1596548160271,
     "user": {
      "displayName": "Katy Brown",
      "photoUrl": "",
      "userId": "04725673548216289527"
     },
     "user_tz": -60
    },
    "id": "rFwLJj8sKOei",
    "outputId": "a8388e86-e77b-4fa8-801c-8a1f8eddcc0b"
   },
   "outputs": [
    {
     "data": {
      "text/plain": [
       "19"
      ]
     },
     "execution_count": 73,
     "metadata": {
      "tags": []
     },
     "output_type": "execute_result"
    }
   ],
   "source": [
    "raster.count"
   ]
  },
  {
   "cell_type": "markdown",
   "metadata": {
    "colab_type": "text",
    "id": "4jc1ISzvNecM"
   },
   "source": [
    "I have made a table with the variable names and their maximum and minimum values.\n",
    "\n",
    "At the moment we don't have units for these - we need to look them up.\n",
    "\n",
    "I will read these into Python dictionaries to make them easier to use later."
   ]
  },
  {
   "cell_type": "code",
   "execution_count": null,
   "metadata": {
    "colab": {},
    "colab_type": "code",
    "id": "xDv1blvNNeNa"
   },
   "outputs": [],
   "source": [
    "bioclim = pd.read_csv(file_path + \"bioclim.tsv\", sep=\"\\t\")"
   ]
  },
  {
   "cell_type": "code",
   "execution_count": null,
   "metadata": {
    "colab": {
     "base_uri": "https://localhost:8080/",
     "height": 658
    },
    "colab_type": "code",
    "executionInfo": {
     "elapsed": 51814,
     "status": "ok",
     "timestamp": 1596548160273,
     "user": {
      "displayName": "Katy Brown",
      "photoUrl": "",
      "userId": "04725673548216289527"
     },
     "user_tz": -60
    },
    "id": "Rcr8WUEf4mUq",
    "outputId": "84a1de9c-2857-4dca-f9a1-e626717aa74b"
   },
   "outputs": [
    {
     "data": {
      "text/html": [
       "<div>\n",
       "<style scoped>\n",
       "    .dataframe tbody tr th:only-of-type {\n",
       "        vertical-align: middle;\n",
       "    }\n",
       "\n",
       "    .dataframe tbody tr th {\n",
       "        vertical-align: top;\n",
       "    }\n",
       "\n",
       "    .dataframe thead th {\n",
       "        text-align: right;\n",
       "    }\n",
       "</style>\n",
       "<table border=\"1\" class=\"dataframe\">\n",
       "  <thead>\n",
       "    <tr style=\"text-align: right;\">\n",
       "      <th></th>\n",
       "      <th>variable_number</th>\n",
       "      <th>ID</th>\n",
       "      <th>name</th>\n",
       "      <th>minimum</th>\n",
       "      <th>maximum</th>\n",
       "    </tr>\n",
       "  </thead>\n",
       "  <tbody>\n",
       "    <tr>\n",
       "      <th>0</th>\n",
       "      <td>1</td>\n",
       "      <td>BIO1</td>\n",
       "      <td>Annual_Mean_Temperature</td>\n",
       "      <td>-26.033854</td>\n",
       "      <td>39.753384</td>\n",
       "    </tr>\n",
       "    <tr>\n",
       "      <th>1</th>\n",
       "      <td>2</td>\n",
       "      <td>BIO2</td>\n",
       "      <td>Mean_Diurnal_Range_(Mean_of_monthly_(max_temp_...</td>\n",
       "      <td>-3.091667</td>\n",
       "      <td>22.678125</td>\n",
       "    </tr>\n",
       "    <tr>\n",
       "      <th>2</th>\n",
       "      <td>3</td>\n",
       "      <td>BIO3</td>\n",
       "      <td>Isothermality_(BIO2/BIO7)_(×100)</td>\n",
       "      <td>-47.100609</td>\n",
       "      <td>95.982124</td>\n",
       "    </tr>\n",
       "    <tr>\n",
       "      <th>3</th>\n",
       "      <td>4</td>\n",
       "      <td>BIO4</td>\n",
       "      <td>Temperature_Seasonality_(standard_deviation_×100)</td>\n",
       "      <td>5.163034</td>\n",
       "      <td>2382.381592</td>\n",
       "    </tr>\n",
       "    <tr>\n",
       "      <th>4</th>\n",
       "      <td>5</td>\n",
       "      <td>BIO5</td>\n",
       "      <td>Max_Temperature_of_Warmest_Month</td>\n",
       "      <td>-8.600000</td>\n",
       "      <td>58.293751</td>\n",
       "    </tr>\n",
       "    <tr>\n",
       "      <th>5</th>\n",
       "      <td>6</td>\n",
       "      <td>BIO6</td>\n",
       "      <td>Min_Temperature_of_Coldest_Month</td>\n",
       "      <td>-48.281246</td>\n",
       "      <td>31.100000</td>\n",
       "    </tr>\n",
       "    <tr>\n",
       "      <th>6</th>\n",
       "      <td>7</td>\n",
       "      <td>BIO7</td>\n",
       "      <td>Temperature_Annual_Range_(BIO5-BIO6)</td>\n",
       "      <td>1.433333</td>\n",
       "      <td>73.893753</td>\n",
       "    </tr>\n",
       "    <tr>\n",
       "      <th>7</th>\n",
       "      <td>8</td>\n",
       "      <td>BIO8</td>\n",
       "      <td>Mean_Temperature_of_Wettest_Quarter</td>\n",
       "      <td>-37.343754</td>\n",
       "      <td>47.507290</td>\n",
       "    </tr>\n",
       "    <tr>\n",
       "      <th>8</th>\n",
       "      <td>9</td>\n",
       "      <td>BIO9</td>\n",
       "      <td>Mean_Temperature_of_Driest_Quarter</td>\n",
       "      <td>-41.141666</td>\n",
       "      <td>48.394791</td>\n",
       "    </tr>\n",
       "    <tr>\n",
       "      <th>9</th>\n",
       "      <td>10</td>\n",
       "      <td>BIO10</td>\n",
       "      <td>Mean_Temperature_of_Warmest_Quarter</td>\n",
       "      <td>-11.806250</td>\n",
       "      <td>48.730209</td>\n",
       "    </tr>\n",
       "    <tr>\n",
       "      <th>10</th>\n",
       "      <td>11</td>\n",
       "      <td>BIO11</td>\n",
       "      <td>Mean_Temperature_of_Coldest_Quarter</td>\n",
       "      <td>-42.546875</td>\n",
       "      <td>35.602081</td>\n",
       "    </tr>\n",
       "    <tr>\n",
       "      <th>11</th>\n",
       "      <td>12</td>\n",
       "      <td>BIO12</td>\n",
       "      <td>Annual_Precipitation</td>\n",
       "      <td>0.000000</td>\n",
       "      <td>13572.436523</td>\n",
       "    </tr>\n",
       "    <tr>\n",
       "      <th>12</th>\n",
       "      <td>13</td>\n",
       "      <td>BIO13</td>\n",
       "      <td>Precipitation_of_Wettest_Month</td>\n",
       "      <td>0.000000</td>\n",
       "      <td>4991.375000</td>\n",
       "    </tr>\n",
       "    <tr>\n",
       "      <th>13</th>\n",
       "      <td>14</td>\n",
       "      <td>BIO14</td>\n",
       "      <td>Precipitation_of_Driest_Month</td>\n",
       "      <td>0.000000</td>\n",
       "      <td>651.875000</td>\n",
       "    </tr>\n",
       "    <tr>\n",
       "      <th>14</th>\n",
       "      <td>15</td>\n",
       "      <td>BIO15</td>\n",
       "      <td>Precipitation_Seasonality_(Coefficient_of_Vari...</td>\n",
       "      <td>0.000000</td>\n",
       "      <td>244.666611</td>\n",
       "    </tr>\n",
       "    <tr>\n",
       "      <th>15</th>\n",
       "      <td>16</td>\n",
       "      <td>BIO16</td>\n",
       "      <td>Precipitation_of_Wettest_Quarter</td>\n",
       "      <td>0.000000</td>\n",
       "      <td>12324.812500</td>\n",
       "    </tr>\n",
       "    <tr>\n",
       "      <th>16</th>\n",
       "      <td>17</td>\n",
       "      <td>BIO17</td>\n",
       "      <td>Precipitation_of_Driest_Quarter</td>\n",
       "      <td>0.000000</td>\n",
       "      <td>2056.812500</td>\n",
       "    </tr>\n",
       "    <tr>\n",
       "      <th>17</th>\n",
       "      <td>18</td>\n",
       "      <td>BIO18</td>\n",
       "      <td>Precipitation_of_Warmest_Quarter</td>\n",
       "      <td>0.000000</td>\n",
       "      <td>5998.000000</td>\n",
       "    </tr>\n",
       "    <tr>\n",
       "      <th>18</th>\n",
       "      <td>19</td>\n",
       "      <td>BIO19</td>\n",
       "      <td>Precipitation_of_Coldest_Quarter</td>\n",
       "      <td>0.000000</td>\n",
       "      <td>9553.812500</td>\n",
       "    </tr>\n",
       "  </tbody>\n",
       "</table>\n",
       "</div>"
      ],
      "text/plain": [
       "    variable_number     ID  ...    minimum       maximum\n",
       "0                 1   BIO1  ... -26.033854     39.753384\n",
       "1                 2   BIO2  ...  -3.091667     22.678125\n",
       "2                 3   BIO3  ... -47.100609     95.982124\n",
       "3                 4   BIO4  ...   5.163034   2382.381592\n",
       "4                 5   BIO5  ...  -8.600000     58.293751\n",
       "5                 6   BIO6  ... -48.281246     31.100000\n",
       "6                 7   BIO7  ...   1.433333     73.893753\n",
       "7                 8   BIO8  ... -37.343754     47.507290\n",
       "8                 9   BIO9  ... -41.141666     48.394791\n",
       "9                10  BIO10  ... -11.806250     48.730209\n",
       "10               11  BIO11  ... -42.546875     35.602081\n",
       "11               12  BIO12  ...   0.000000  13572.436523\n",
       "12               13  BIO13  ...   0.000000   4991.375000\n",
       "13               14  BIO14  ...   0.000000    651.875000\n",
       "14               15  BIO15  ...   0.000000    244.666611\n",
       "15               16  BIO16  ...   0.000000  12324.812500\n",
       "16               17  BIO17  ...   0.000000   2056.812500\n",
       "17               18  BIO18  ...   0.000000   5998.000000\n",
       "18               19  BIO19  ...   0.000000   9553.812500\n",
       "\n",
       "[19 rows x 5 columns]"
      ]
     },
     "execution_count": 75,
     "metadata": {
      "tags": []
     },
     "output_type": "execute_result"
    }
   ],
   "source": [
    "bioclim"
   ]
  },
  {
   "cell_type": "code",
   "execution_count": null,
   "metadata": {
    "colab": {},
    "colab_type": "code",
    "id": "29hcQmA8MDZr"
   },
   "outputs": [],
   "source": [
    "bioclim_name = dict(zip(bioclim['variable_number'], bioclim['name']))\n",
    "bioclim_min = dict(zip(bioclim['variable_number'], bioclim['minimum']))\n",
    "bioclim_max = dict(zip(bioclim['variable_number'], bioclim['maximum']))"
   ]
  },
  {
   "cell_type": "markdown",
   "metadata": {
    "colab_type": "text",
    "id": "zWbvItnSKmfv"
   },
   "source": [
    "We can convert the raster into a more useful format with ```raster.read```.  This gives us all the points in a matrix.\n",
    "\n",
    "There are a couple of other corrections to apply. The data has many decimal places, we can round it to six decminal places using ```np.round```.  The measurements are only predicted or measured on land, so wherever this is the case the matrix has ```-inf``` as the value.  We can replace this with ```nan```.\n"
   ]
  },
  {
   "cell_type": "code",
   "execution_count": null,
   "metadata": {
    "colab": {},
    "colab_type": "code",
    "id": "hNzyhF2KZF_D"
   },
   "outputs": [],
   "source": [
    "# convert the data into a matrix\n",
    "grid = raster.read()\n",
    "\n",
    "# round it to six decimal places\n",
    "grid = np.round(grid, 6)\n",
    "\n",
    "# replace \"-inf\" with \"nan\"\n",
    "grid[grid == float('-inf'), ] = float('nan')"
   ]
  },
  {
   "cell_type": "markdown",
   "metadata": {
    "colab_type": "text",
    "id": "HCMVEyz9LZ5Y"
   },
   "source": [
    "Now we have a stack of 19 grids, each showing the measurement of one climate variable for each grid square.\n",
    "\n",
    "Each individual grid can be accessed using ```grid[x-1]``` where x is the variable number we are interested in.\n",
    "\n",
    "E.g.if we are interested in variable 8 - mean temperature of driest quarter - we can access it as:\n"
   ]
  },
  {
   "cell_type": "code",
   "execution_count": null,
   "metadata": {
    "colab": {
     "base_uri": "https://localhost:8080/",
     "height": 238
    },
    "colab_type": "code",
    "executionInfo": {
     "elapsed": 51794,
     "status": "ok",
     "timestamp": 1596548160275,
     "user": {
      "displayName": "Katy Brown",
      "photoUrl": "",
      "userId": "04725673548216289527"
     },
     "user_tz": -60
    },
    "id": "yuWu9Qh_0UT7",
    "outputId": "2e3ea7fc-4b8f-4d03-8867-111afe83b072"
   },
   "outputs": [
    {
     "data": {
      "text/plain": [
       "array([[       nan,        nan,        nan, ...,        nan,        nan,\n",
       "               nan],\n",
       "       [       nan,        nan,        nan, ...,        nan,        nan,\n",
       "               nan],\n",
       "       [       nan,        nan,        nan, ...,        nan,        nan,\n",
       "               nan],\n",
       "       ...,\n",
       "       [-41.355915, -42.012043, -42.0125  , ..., -42.836792, -42.842873,\n",
       "        -41.570126],\n",
       "       [-37.617085, -39.008083, -39.008415, ..., -39.709835, -39.723667,\n",
       "        -37.809124],\n",
       "       [-38.427708, -39.023125, -39.025208, ..., -39.738415, -39.74521 ,\n",
       "        -38.600292]], dtype=float32)"
      ]
     },
     "execution_count": 78,
     "metadata": {
      "tags": []
     },
     "output_type": "execute_result"
    }
   ],
   "source": [
    "grid[7]"
   ]
  },
  {
   "cell_type": "markdown",
   "metadata": {
    "colab_type": "text",
    "id": "n9ZkSzcv-Sql"
   },
   "source": [
    "It's a bit easier to see if we temporarily convert it to a dataframe."
   ]
  },
  {
   "cell_type": "code",
   "execution_count": null,
   "metadata": {
    "colab": {
     "base_uri": "https://localhost:8080/",
     "height": 439
    },
    "colab_type": "code",
    "executionInfo": {
     "elapsed": 52730,
     "status": "ok",
     "timestamp": 1596548161224,
     "user": {
      "displayName": "Katy Brown",
      "photoUrl": "",
      "userId": "04725673548216289527"
     },
     "user_tz": -60
    },
    "id": "BC415IKT9xvz",
    "outputId": "f97f04d1-f045-4d97-f547-17cc40be75cc"
   },
   "outputs": [
    {
     "data": {
      "text/html": [
       "<div>\n",
       "<style scoped>\n",
       "    .dataframe tbody tr th:only-of-type {\n",
       "        vertical-align: middle;\n",
       "    }\n",
       "\n",
       "    .dataframe tbody tr th {\n",
       "        vertical-align: top;\n",
       "    }\n",
       "\n",
       "    .dataframe thead th {\n",
       "        text-align: right;\n",
       "    }\n",
       "</style>\n",
       "<table border=\"1\" class=\"dataframe\">\n",
       "  <thead>\n",
       "    <tr style=\"text-align: right;\">\n",
       "      <th></th>\n",
       "      <th>0</th>\n",
       "      <th>1</th>\n",
       "      <th>2</th>\n",
       "      <th>3</th>\n",
       "      <th>4</th>\n",
       "      <th>5</th>\n",
       "      <th>6</th>\n",
       "      <th>7</th>\n",
       "      <th>8</th>\n",
       "      <th>9</th>\n",
       "      <th>10</th>\n",
       "      <th>11</th>\n",
       "      <th>12</th>\n",
       "      <th>13</th>\n",
       "      <th>14</th>\n",
       "      <th>15</th>\n",
       "      <th>16</th>\n",
       "      <th>17</th>\n",
       "      <th>18</th>\n",
       "      <th>19</th>\n",
       "      <th>20</th>\n",
       "      <th>21</th>\n",
       "      <th>22</th>\n",
       "      <th>23</th>\n",
       "      <th>24</th>\n",
       "      <th>25</th>\n",
       "      <th>26</th>\n",
       "      <th>27</th>\n",
       "      <th>28</th>\n",
       "      <th>29</th>\n",
       "      <th>30</th>\n",
       "      <th>31</th>\n",
       "      <th>32</th>\n",
       "      <th>33</th>\n",
       "      <th>34</th>\n",
       "      <th>35</th>\n",
       "      <th>36</th>\n",
       "      <th>37</th>\n",
       "      <th>38</th>\n",
       "      <th>39</th>\n",
       "      <th>...</th>\n",
       "      <th>2120</th>\n",
       "      <th>2121</th>\n",
       "      <th>2122</th>\n",
       "      <th>2123</th>\n",
       "      <th>2124</th>\n",
       "      <th>2125</th>\n",
       "      <th>2126</th>\n",
       "      <th>2127</th>\n",
       "      <th>2128</th>\n",
       "      <th>2129</th>\n",
       "      <th>2130</th>\n",
       "      <th>2131</th>\n",
       "      <th>2132</th>\n",
       "      <th>2133</th>\n",
       "      <th>2134</th>\n",
       "      <th>2135</th>\n",
       "      <th>2136</th>\n",
       "      <th>2137</th>\n",
       "      <th>2138</th>\n",
       "      <th>2139</th>\n",
       "      <th>2140</th>\n",
       "      <th>2141</th>\n",
       "      <th>2142</th>\n",
       "      <th>2143</th>\n",
       "      <th>2144</th>\n",
       "      <th>2145</th>\n",
       "      <th>2146</th>\n",
       "      <th>2147</th>\n",
       "      <th>2148</th>\n",
       "      <th>2149</th>\n",
       "      <th>2150</th>\n",
       "      <th>2151</th>\n",
       "      <th>2152</th>\n",
       "      <th>2153</th>\n",
       "      <th>2154</th>\n",
       "      <th>2155</th>\n",
       "      <th>2156</th>\n",
       "      <th>2157</th>\n",
       "      <th>2158</th>\n",
       "      <th>2159</th>\n",
       "    </tr>\n",
       "  </thead>\n",
       "  <tbody>\n",
       "    <tr>\n",
       "      <th>0</th>\n",
       "      <td>NaN</td>\n",
       "      <td>NaN</td>\n",
       "      <td>NaN</td>\n",
       "      <td>NaN</td>\n",
       "      <td>NaN</td>\n",
       "      <td>NaN</td>\n",
       "      <td>NaN</td>\n",
       "      <td>NaN</td>\n",
       "      <td>NaN</td>\n",
       "      <td>NaN</td>\n",
       "      <td>NaN</td>\n",
       "      <td>NaN</td>\n",
       "      <td>NaN</td>\n",
       "      <td>NaN</td>\n",
       "      <td>NaN</td>\n",
       "      <td>NaN</td>\n",
       "      <td>NaN</td>\n",
       "      <td>NaN</td>\n",
       "      <td>NaN</td>\n",
       "      <td>NaN</td>\n",
       "      <td>NaN</td>\n",
       "      <td>NaN</td>\n",
       "      <td>NaN</td>\n",
       "      <td>NaN</td>\n",
       "      <td>NaN</td>\n",
       "      <td>NaN</td>\n",
       "      <td>NaN</td>\n",
       "      <td>NaN</td>\n",
       "      <td>NaN</td>\n",
       "      <td>NaN</td>\n",
       "      <td>NaN</td>\n",
       "      <td>NaN</td>\n",
       "      <td>NaN</td>\n",
       "      <td>NaN</td>\n",
       "      <td>NaN</td>\n",
       "      <td>NaN</td>\n",
       "      <td>NaN</td>\n",
       "      <td>NaN</td>\n",
       "      <td>NaN</td>\n",
       "      <td>NaN</td>\n",
       "      <td>...</td>\n",
       "      <td>NaN</td>\n",
       "      <td>NaN</td>\n",
       "      <td>NaN</td>\n",
       "      <td>NaN</td>\n",
       "      <td>NaN</td>\n",
       "      <td>NaN</td>\n",
       "      <td>NaN</td>\n",
       "      <td>NaN</td>\n",
       "      <td>NaN</td>\n",
       "      <td>NaN</td>\n",
       "      <td>NaN</td>\n",
       "      <td>NaN</td>\n",
       "      <td>NaN</td>\n",
       "      <td>NaN</td>\n",
       "      <td>NaN</td>\n",
       "      <td>NaN</td>\n",
       "      <td>NaN</td>\n",
       "      <td>NaN</td>\n",
       "      <td>NaN</td>\n",
       "      <td>NaN</td>\n",
       "      <td>NaN</td>\n",
       "      <td>NaN</td>\n",
       "      <td>NaN</td>\n",
       "      <td>NaN</td>\n",
       "      <td>NaN</td>\n",
       "      <td>NaN</td>\n",
       "      <td>NaN</td>\n",
       "      <td>NaN</td>\n",
       "      <td>NaN</td>\n",
       "      <td>NaN</td>\n",
       "      <td>NaN</td>\n",
       "      <td>NaN</td>\n",
       "      <td>NaN</td>\n",
       "      <td>NaN</td>\n",
       "      <td>NaN</td>\n",
       "      <td>NaN</td>\n",
       "      <td>NaN</td>\n",
       "      <td>NaN</td>\n",
       "      <td>NaN</td>\n",
       "      <td>NaN</td>\n",
       "    </tr>\n",
       "    <tr>\n",
       "      <th>1</th>\n",
       "      <td>NaN</td>\n",
       "      <td>NaN</td>\n",
       "      <td>NaN</td>\n",
       "      <td>NaN</td>\n",
       "      <td>NaN</td>\n",
       "      <td>NaN</td>\n",
       "      <td>NaN</td>\n",
       "      <td>NaN</td>\n",
       "      <td>NaN</td>\n",
       "      <td>NaN</td>\n",
       "      <td>NaN</td>\n",
       "      <td>NaN</td>\n",
       "      <td>NaN</td>\n",
       "      <td>NaN</td>\n",
       "      <td>NaN</td>\n",
       "      <td>NaN</td>\n",
       "      <td>NaN</td>\n",
       "      <td>NaN</td>\n",
       "      <td>NaN</td>\n",
       "      <td>NaN</td>\n",
       "      <td>NaN</td>\n",
       "      <td>NaN</td>\n",
       "      <td>NaN</td>\n",
       "      <td>NaN</td>\n",
       "      <td>NaN</td>\n",
       "      <td>NaN</td>\n",
       "      <td>NaN</td>\n",
       "      <td>NaN</td>\n",
       "      <td>NaN</td>\n",
       "      <td>NaN</td>\n",
       "      <td>NaN</td>\n",
       "      <td>NaN</td>\n",
       "      <td>NaN</td>\n",
       "      <td>NaN</td>\n",
       "      <td>NaN</td>\n",
       "      <td>NaN</td>\n",
       "      <td>NaN</td>\n",
       "      <td>NaN</td>\n",
       "      <td>NaN</td>\n",
       "      <td>NaN</td>\n",
       "      <td>...</td>\n",
       "      <td>NaN</td>\n",
       "      <td>NaN</td>\n",
       "      <td>NaN</td>\n",
       "      <td>NaN</td>\n",
       "      <td>NaN</td>\n",
       "      <td>NaN</td>\n",
       "      <td>NaN</td>\n",
       "      <td>NaN</td>\n",
       "      <td>NaN</td>\n",
       "      <td>NaN</td>\n",
       "      <td>NaN</td>\n",
       "      <td>NaN</td>\n",
       "      <td>NaN</td>\n",
       "      <td>NaN</td>\n",
       "      <td>NaN</td>\n",
       "      <td>NaN</td>\n",
       "      <td>NaN</td>\n",
       "      <td>NaN</td>\n",
       "      <td>NaN</td>\n",
       "      <td>NaN</td>\n",
       "      <td>NaN</td>\n",
       "      <td>NaN</td>\n",
       "      <td>NaN</td>\n",
       "      <td>NaN</td>\n",
       "      <td>NaN</td>\n",
       "      <td>NaN</td>\n",
       "      <td>NaN</td>\n",
       "      <td>NaN</td>\n",
       "      <td>NaN</td>\n",
       "      <td>NaN</td>\n",
       "      <td>NaN</td>\n",
       "      <td>NaN</td>\n",
       "      <td>NaN</td>\n",
       "      <td>NaN</td>\n",
       "      <td>NaN</td>\n",
       "      <td>NaN</td>\n",
       "      <td>NaN</td>\n",
       "      <td>NaN</td>\n",
       "      <td>NaN</td>\n",
       "      <td>NaN</td>\n",
       "    </tr>\n",
       "    <tr>\n",
       "      <th>2</th>\n",
       "      <td>NaN</td>\n",
       "      <td>NaN</td>\n",
       "      <td>NaN</td>\n",
       "      <td>NaN</td>\n",
       "      <td>NaN</td>\n",
       "      <td>NaN</td>\n",
       "      <td>NaN</td>\n",
       "      <td>NaN</td>\n",
       "      <td>NaN</td>\n",
       "      <td>NaN</td>\n",
       "      <td>NaN</td>\n",
       "      <td>NaN</td>\n",
       "      <td>NaN</td>\n",
       "      <td>NaN</td>\n",
       "      <td>NaN</td>\n",
       "      <td>NaN</td>\n",
       "      <td>NaN</td>\n",
       "      <td>NaN</td>\n",
       "      <td>NaN</td>\n",
       "      <td>NaN</td>\n",
       "      <td>NaN</td>\n",
       "      <td>NaN</td>\n",
       "      <td>NaN</td>\n",
       "      <td>NaN</td>\n",
       "      <td>NaN</td>\n",
       "      <td>NaN</td>\n",
       "      <td>NaN</td>\n",
       "      <td>NaN</td>\n",
       "      <td>NaN</td>\n",
       "      <td>NaN</td>\n",
       "      <td>NaN</td>\n",
       "      <td>NaN</td>\n",
       "      <td>NaN</td>\n",
       "      <td>NaN</td>\n",
       "      <td>NaN</td>\n",
       "      <td>NaN</td>\n",
       "      <td>NaN</td>\n",
       "      <td>NaN</td>\n",
       "      <td>NaN</td>\n",
       "      <td>NaN</td>\n",
       "      <td>...</td>\n",
       "      <td>NaN</td>\n",
       "      <td>NaN</td>\n",
       "      <td>NaN</td>\n",
       "      <td>NaN</td>\n",
       "      <td>NaN</td>\n",
       "      <td>NaN</td>\n",
       "      <td>NaN</td>\n",
       "      <td>NaN</td>\n",
       "      <td>NaN</td>\n",
       "      <td>NaN</td>\n",
       "      <td>NaN</td>\n",
       "      <td>NaN</td>\n",
       "      <td>NaN</td>\n",
       "      <td>NaN</td>\n",
       "      <td>NaN</td>\n",
       "      <td>NaN</td>\n",
       "      <td>NaN</td>\n",
       "      <td>NaN</td>\n",
       "      <td>NaN</td>\n",
       "      <td>NaN</td>\n",
       "      <td>NaN</td>\n",
       "      <td>NaN</td>\n",
       "      <td>NaN</td>\n",
       "      <td>NaN</td>\n",
       "      <td>NaN</td>\n",
       "      <td>NaN</td>\n",
       "      <td>NaN</td>\n",
       "      <td>NaN</td>\n",
       "      <td>NaN</td>\n",
       "      <td>NaN</td>\n",
       "      <td>NaN</td>\n",
       "      <td>NaN</td>\n",
       "      <td>NaN</td>\n",
       "      <td>NaN</td>\n",
       "      <td>NaN</td>\n",
       "      <td>NaN</td>\n",
       "      <td>NaN</td>\n",
       "      <td>NaN</td>\n",
       "      <td>NaN</td>\n",
       "      <td>NaN</td>\n",
       "    </tr>\n",
       "    <tr>\n",
       "      <th>3</th>\n",
       "      <td>NaN</td>\n",
       "      <td>NaN</td>\n",
       "      <td>NaN</td>\n",
       "      <td>NaN</td>\n",
       "      <td>NaN</td>\n",
       "      <td>NaN</td>\n",
       "      <td>NaN</td>\n",
       "      <td>NaN</td>\n",
       "      <td>NaN</td>\n",
       "      <td>NaN</td>\n",
       "      <td>NaN</td>\n",
       "      <td>NaN</td>\n",
       "      <td>NaN</td>\n",
       "      <td>NaN</td>\n",
       "      <td>NaN</td>\n",
       "      <td>NaN</td>\n",
       "      <td>NaN</td>\n",
       "      <td>NaN</td>\n",
       "      <td>NaN</td>\n",
       "      <td>NaN</td>\n",
       "      <td>NaN</td>\n",
       "      <td>NaN</td>\n",
       "      <td>NaN</td>\n",
       "      <td>NaN</td>\n",
       "      <td>NaN</td>\n",
       "      <td>NaN</td>\n",
       "      <td>NaN</td>\n",
       "      <td>NaN</td>\n",
       "      <td>NaN</td>\n",
       "      <td>NaN</td>\n",
       "      <td>NaN</td>\n",
       "      <td>NaN</td>\n",
       "      <td>NaN</td>\n",
       "      <td>NaN</td>\n",
       "      <td>NaN</td>\n",
       "      <td>NaN</td>\n",
       "      <td>NaN</td>\n",
       "      <td>NaN</td>\n",
       "      <td>NaN</td>\n",
       "      <td>NaN</td>\n",
       "      <td>...</td>\n",
       "      <td>NaN</td>\n",
       "      <td>NaN</td>\n",
       "      <td>NaN</td>\n",
       "      <td>NaN</td>\n",
       "      <td>NaN</td>\n",
       "      <td>NaN</td>\n",
       "      <td>NaN</td>\n",
       "      <td>NaN</td>\n",
       "      <td>NaN</td>\n",
       "      <td>NaN</td>\n",
       "      <td>NaN</td>\n",
       "      <td>NaN</td>\n",
       "      <td>NaN</td>\n",
       "      <td>NaN</td>\n",
       "      <td>NaN</td>\n",
       "      <td>NaN</td>\n",
       "      <td>NaN</td>\n",
       "      <td>NaN</td>\n",
       "      <td>NaN</td>\n",
       "      <td>NaN</td>\n",
       "      <td>NaN</td>\n",
       "      <td>NaN</td>\n",
       "      <td>NaN</td>\n",
       "      <td>NaN</td>\n",
       "      <td>NaN</td>\n",
       "      <td>NaN</td>\n",
       "      <td>NaN</td>\n",
       "      <td>NaN</td>\n",
       "      <td>NaN</td>\n",
       "      <td>NaN</td>\n",
       "      <td>NaN</td>\n",
       "      <td>NaN</td>\n",
       "      <td>NaN</td>\n",
       "      <td>NaN</td>\n",
       "      <td>NaN</td>\n",
       "      <td>NaN</td>\n",
       "      <td>NaN</td>\n",
       "      <td>NaN</td>\n",
       "      <td>NaN</td>\n",
       "      <td>NaN</td>\n",
       "    </tr>\n",
       "    <tr>\n",
       "      <th>4</th>\n",
       "      <td>NaN</td>\n",
       "      <td>NaN</td>\n",
       "      <td>NaN</td>\n",
       "      <td>NaN</td>\n",
       "      <td>NaN</td>\n",
       "      <td>NaN</td>\n",
       "      <td>NaN</td>\n",
       "      <td>NaN</td>\n",
       "      <td>NaN</td>\n",
       "      <td>NaN</td>\n",
       "      <td>NaN</td>\n",
       "      <td>NaN</td>\n",
       "      <td>NaN</td>\n",
       "      <td>NaN</td>\n",
       "      <td>NaN</td>\n",
       "      <td>NaN</td>\n",
       "      <td>NaN</td>\n",
       "      <td>NaN</td>\n",
       "      <td>NaN</td>\n",
       "      <td>NaN</td>\n",
       "      <td>NaN</td>\n",
       "      <td>NaN</td>\n",
       "      <td>NaN</td>\n",
       "      <td>NaN</td>\n",
       "      <td>NaN</td>\n",
       "      <td>NaN</td>\n",
       "      <td>NaN</td>\n",
       "      <td>NaN</td>\n",
       "      <td>NaN</td>\n",
       "      <td>NaN</td>\n",
       "      <td>NaN</td>\n",
       "      <td>NaN</td>\n",
       "      <td>NaN</td>\n",
       "      <td>NaN</td>\n",
       "      <td>NaN</td>\n",
       "      <td>NaN</td>\n",
       "      <td>NaN</td>\n",
       "      <td>NaN</td>\n",
       "      <td>NaN</td>\n",
       "      <td>NaN</td>\n",
       "      <td>...</td>\n",
       "      <td>NaN</td>\n",
       "      <td>NaN</td>\n",
       "      <td>NaN</td>\n",
       "      <td>NaN</td>\n",
       "      <td>NaN</td>\n",
       "      <td>NaN</td>\n",
       "      <td>NaN</td>\n",
       "      <td>NaN</td>\n",
       "      <td>NaN</td>\n",
       "      <td>NaN</td>\n",
       "      <td>NaN</td>\n",
       "      <td>NaN</td>\n",
       "      <td>NaN</td>\n",
       "      <td>NaN</td>\n",
       "      <td>NaN</td>\n",
       "      <td>NaN</td>\n",
       "      <td>NaN</td>\n",
       "      <td>NaN</td>\n",
       "      <td>NaN</td>\n",
       "      <td>NaN</td>\n",
       "      <td>NaN</td>\n",
       "      <td>NaN</td>\n",
       "      <td>NaN</td>\n",
       "      <td>NaN</td>\n",
       "      <td>NaN</td>\n",
       "      <td>NaN</td>\n",
       "      <td>NaN</td>\n",
       "      <td>NaN</td>\n",
       "      <td>NaN</td>\n",
       "      <td>NaN</td>\n",
       "      <td>NaN</td>\n",
       "      <td>NaN</td>\n",
       "      <td>NaN</td>\n",
       "      <td>NaN</td>\n",
       "      <td>NaN</td>\n",
       "      <td>NaN</td>\n",
       "      <td>NaN</td>\n",
       "      <td>NaN</td>\n",
       "      <td>NaN</td>\n",
       "      <td>NaN</td>\n",
       "    </tr>\n",
       "    <tr>\n",
       "      <th>...</th>\n",
       "      <td>...</td>\n",
       "      <td>...</td>\n",
       "      <td>...</td>\n",
       "      <td>...</td>\n",
       "      <td>...</td>\n",
       "      <td>...</td>\n",
       "      <td>...</td>\n",
       "      <td>...</td>\n",
       "      <td>...</td>\n",
       "      <td>...</td>\n",
       "      <td>...</td>\n",
       "      <td>...</td>\n",
       "      <td>...</td>\n",
       "      <td>...</td>\n",
       "      <td>...</td>\n",
       "      <td>...</td>\n",
       "      <td>...</td>\n",
       "      <td>...</td>\n",
       "      <td>...</td>\n",
       "      <td>...</td>\n",
       "      <td>...</td>\n",
       "      <td>...</td>\n",
       "      <td>...</td>\n",
       "      <td>...</td>\n",
       "      <td>...</td>\n",
       "      <td>...</td>\n",
       "      <td>...</td>\n",
       "      <td>...</td>\n",
       "      <td>...</td>\n",
       "      <td>...</td>\n",
       "      <td>...</td>\n",
       "      <td>...</td>\n",
       "      <td>...</td>\n",
       "      <td>...</td>\n",
       "      <td>...</td>\n",
       "      <td>...</td>\n",
       "      <td>...</td>\n",
       "      <td>...</td>\n",
       "      <td>...</td>\n",
       "      <td>...</td>\n",
       "      <td>...</td>\n",
       "      <td>...</td>\n",
       "      <td>...</td>\n",
       "      <td>...</td>\n",
       "      <td>...</td>\n",
       "      <td>...</td>\n",
       "      <td>...</td>\n",
       "      <td>...</td>\n",
       "      <td>...</td>\n",
       "      <td>...</td>\n",
       "      <td>...</td>\n",
       "      <td>...</td>\n",
       "      <td>...</td>\n",
       "      <td>...</td>\n",
       "      <td>...</td>\n",
       "      <td>...</td>\n",
       "      <td>...</td>\n",
       "      <td>...</td>\n",
       "      <td>...</td>\n",
       "      <td>...</td>\n",
       "      <td>...</td>\n",
       "      <td>...</td>\n",
       "      <td>...</td>\n",
       "      <td>...</td>\n",
       "      <td>...</td>\n",
       "      <td>...</td>\n",
       "      <td>...</td>\n",
       "      <td>...</td>\n",
       "      <td>...</td>\n",
       "      <td>...</td>\n",
       "      <td>...</td>\n",
       "      <td>...</td>\n",
       "      <td>...</td>\n",
       "      <td>...</td>\n",
       "      <td>...</td>\n",
       "      <td>...</td>\n",
       "      <td>...</td>\n",
       "      <td>...</td>\n",
       "      <td>...</td>\n",
       "      <td>...</td>\n",
       "      <td>...</td>\n",
       "    </tr>\n",
       "    <tr>\n",
       "      <th>1075</th>\n",
       "      <td>-41.528831</td>\n",
       "      <td>-42.201832</td>\n",
       "      <td>-42.200584</td>\n",
       "      <td>-42.196999</td>\n",
       "      <td>-44.445499</td>\n",
       "      <td>-49.663960</td>\n",
       "      <td>-53.777794</td>\n",
       "      <td>-56.323875</td>\n",
       "      <td>-56.313293</td>\n",
       "      <td>-56.314957</td>\n",
       "      <td>-56.316040</td>\n",
       "      <td>-56.313084</td>\n",
       "      <td>-56.306210</td>\n",
       "      <td>-56.299210</td>\n",
       "      <td>-56.293541</td>\n",
       "      <td>-56.290249</td>\n",
       "      <td>-56.285999</td>\n",
       "      <td>-56.282585</td>\n",
       "      <td>-56.279125</td>\n",
       "      <td>-56.274292</td>\n",
       "      <td>-56.270290</td>\n",
       "      <td>-56.265541</td>\n",
       "      <td>-56.259792</td>\n",
       "      <td>-56.255291</td>\n",
       "      <td>-56.250374</td>\n",
       "      <td>-56.246460</td>\n",
       "      <td>-56.243999</td>\n",
       "      <td>-56.238457</td>\n",
       "      <td>-56.234543</td>\n",
       "      <td>-56.231956</td>\n",
       "      <td>-56.228458</td>\n",
       "      <td>-56.223251</td>\n",
       "      <td>-56.219707</td>\n",
       "      <td>-56.218460</td>\n",
       "      <td>-56.214417</td>\n",
       "      <td>-56.208832</td>\n",
       "      <td>-56.202583</td>\n",
       "      <td>-56.199791</td>\n",
       "      <td>-56.192249</td>\n",
       "      <td>-56.185001</td>\n",
       "      <td>...</td>\n",
       "      <td>-56.947960</td>\n",
       "      <td>-56.960041</td>\n",
       "      <td>-56.977707</td>\n",
       "      <td>-56.993542</td>\n",
       "      <td>-57.007710</td>\n",
       "      <td>-57.023125</td>\n",
       "      <td>-57.040833</td>\n",
       "      <td>-57.065624</td>\n",
       "      <td>-57.077126</td>\n",
       "      <td>-57.087250</td>\n",
       "      <td>-57.097046</td>\n",
       "      <td>-57.114708</td>\n",
       "      <td>-57.135124</td>\n",
       "      <td>-57.146378</td>\n",
       "      <td>-57.162125</td>\n",
       "      <td>-57.180710</td>\n",
       "      <td>-57.188751</td>\n",
       "      <td>-57.202919</td>\n",
       "      <td>-57.213207</td>\n",
       "      <td>-57.226585</td>\n",
       "      <td>-57.239746</td>\n",
       "      <td>-57.251877</td>\n",
       "      <td>-57.259583</td>\n",
       "      <td>-57.272499</td>\n",
       "      <td>-57.289375</td>\n",
       "      <td>-57.296669</td>\n",
       "      <td>-57.306458</td>\n",
       "      <td>-57.315838</td>\n",
       "      <td>-57.327625</td>\n",
       "      <td>-57.344666</td>\n",
       "      <td>-57.351833</td>\n",
       "      <td>-57.355751</td>\n",
       "      <td>-57.367207</td>\n",
       "      <td>-54.786915</td>\n",
       "      <td>-50.610291</td>\n",
       "      <td>-45.296375</td>\n",
       "      <td>-43.008209</td>\n",
       "      <td>-43.015415</td>\n",
       "      <td>-43.022167</td>\n",
       "      <td>-41.717499</td>\n",
       "    </tr>\n",
       "    <tr>\n",
       "      <th>1076</th>\n",
       "      <td>-41.459457</td>\n",
       "      <td>-42.124458</td>\n",
       "      <td>-42.120834</td>\n",
       "      <td>-42.118710</td>\n",
       "      <td>-42.117542</td>\n",
       "      <td>-42.114040</td>\n",
       "      <td>-44.926376</td>\n",
       "      <td>-49.734249</td>\n",
       "      <td>-56.216042</td>\n",
       "      <td>-56.229210</td>\n",
       "      <td>-56.233917</td>\n",
       "      <td>-56.232460</td>\n",
       "      <td>-56.228416</td>\n",
       "      <td>-56.224960</td>\n",
       "      <td>-56.215832</td>\n",
       "      <td>-56.212540</td>\n",
       "      <td>-56.205750</td>\n",
       "      <td>-56.200001</td>\n",
       "      <td>-56.196583</td>\n",
       "      <td>-56.195126</td>\n",
       "      <td>-56.193417</td>\n",
       "      <td>-56.194416</td>\n",
       "      <td>-56.192627</td>\n",
       "      <td>-56.192543</td>\n",
       "      <td>-56.193249</td>\n",
       "      <td>-56.192249</td>\n",
       "      <td>-56.191418</td>\n",
       "      <td>-56.191666</td>\n",
       "      <td>-56.189999</td>\n",
       "      <td>-56.190666</td>\n",
       "      <td>-56.190914</td>\n",
       "      <td>-56.190582</td>\n",
       "      <td>-56.188000</td>\n",
       "      <td>-56.183838</td>\n",
       "      <td>-56.183960</td>\n",
       "      <td>-56.185291</td>\n",
       "      <td>-56.184959</td>\n",
       "      <td>-56.180622</td>\n",
       "      <td>-56.179790</td>\n",
       "      <td>-56.180416</td>\n",
       "      <td>...</td>\n",
       "      <td>-56.827457</td>\n",
       "      <td>-56.843334</td>\n",
       "      <td>-56.860374</td>\n",
       "      <td>-56.880207</td>\n",
       "      <td>-56.896999</td>\n",
       "      <td>-56.913792</td>\n",
       "      <td>-56.927502</td>\n",
       "      <td>-56.942169</td>\n",
       "      <td>-56.954544</td>\n",
       "      <td>-56.973625</td>\n",
       "      <td>-56.989834</td>\n",
       "      <td>-57.004082</td>\n",
       "      <td>-57.022209</td>\n",
       "      <td>-57.034584</td>\n",
       "      <td>-57.046333</td>\n",
       "      <td>-57.066376</td>\n",
       "      <td>-57.079754</td>\n",
       "      <td>-57.089668</td>\n",
       "      <td>-57.097332</td>\n",
       "      <td>-57.108418</td>\n",
       "      <td>-57.122833</td>\n",
       "      <td>-57.136166</td>\n",
       "      <td>-57.147541</td>\n",
       "      <td>-57.160126</td>\n",
       "      <td>-57.172169</td>\n",
       "      <td>-57.185627</td>\n",
       "      <td>-57.195335</td>\n",
       "      <td>-57.198666</td>\n",
       "      <td>-57.205002</td>\n",
       "      <td>-57.216499</td>\n",
       "      <td>-57.235374</td>\n",
       "      <td>-57.240082</td>\n",
       "      <td>-50.665417</td>\n",
       "      <td>-45.796124</td>\n",
       "      <td>-42.935627</td>\n",
       "      <td>-42.938583</td>\n",
       "      <td>-42.941582</td>\n",
       "      <td>-42.946999</td>\n",
       "      <td>-42.958710</td>\n",
       "      <td>-41.677624</td>\n",
       "    </tr>\n",
       "    <tr>\n",
       "      <th>1077</th>\n",
       "      <td>-41.355915</td>\n",
       "      <td>-42.012043</td>\n",
       "      <td>-42.012501</td>\n",
       "      <td>-42.012627</td>\n",
       "      <td>-42.011833</td>\n",
       "      <td>-42.012333</td>\n",
       "      <td>-42.011292</td>\n",
       "      <td>-43.835915</td>\n",
       "      <td>-47.355125</td>\n",
       "      <td>-50.457291</td>\n",
       "      <td>-50.463417</td>\n",
       "      <td>-50.461666</td>\n",
       "      <td>-53.401375</td>\n",
       "      <td>-56.090710</td>\n",
       "      <td>-56.094624</td>\n",
       "      <td>-56.094376</td>\n",
       "      <td>-56.092876</td>\n",
       "      <td>-56.091251</td>\n",
       "      <td>-56.091125</td>\n",
       "      <td>-56.090252</td>\n",
       "      <td>-56.087376</td>\n",
       "      <td>-56.085209</td>\n",
       "      <td>-56.085583</td>\n",
       "      <td>-56.083542</td>\n",
       "      <td>-56.085415</td>\n",
       "      <td>-56.084209</td>\n",
       "      <td>-56.086792</td>\n",
       "      <td>-56.082874</td>\n",
       "      <td>-56.084251</td>\n",
       "      <td>-56.084373</td>\n",
       "      <td>-56.084293</td>\n",
       "      <td>-56.084209</td>\n",
       "      <td>-56.084084</td>\n",
       "      <td>-56.084831</td>\n",
       "      <td>-56.087334</td>\n",
       "      <td>-56.086956</td>\n",
       "      <td>-56.087502</td>\n",
       "      <td>-56.086876</td>\n",
       "      <td>-56.089458</td>\n",
       "      <td>-56.092041</td>\n",
       "      <td>...</td>\n",
       "      <td>-56.662956</td>\n",
       "      <td>-56.677582</td>\n",
       "      <td>-56.696293</td>\n",
       "      <td>-56.711418</td>\n",
       "      <td>-56.724251</td>\n",
       "      <td>-56.744167</td>\n",
       "      <td>-56.759998</td>\n",
       "      <td>-56.775749</td>\n",
       "      <td>-56.788418</td>\n",
       "      <td>-56.799625</td>\n",
       "      <td>-56.819874</td>\n",
       "      <td>-56.834835</td>\n",
       "      <td>-56.846542</td>\n",
       "      <td>-56.860500</td>\n",
       "      <td>-56.875542</td>\n",
       "      <td>-56.890999</td>\n",
       "      <td>-56.904499</td>\n",
       "      <td>-56.917332</td>\n",
       "      <td>-56.931667</td>\n",
       "      <td>-56.942833</td>\n",
       "      <td>-56.955250</td>\n",
       "      <td>-56.969166</td>\n",
       "      <td>-56.983707</td>\n",
       "      <td>-56.992706</td>\n",
       "      <td>-57.006126</td>\n",
       "      <td>-57.021873</td>\n",
       "      <td>-57.033375</td>\n",
       "      <td>-54.326332</td>\n",
       "      <td>-51.353043</td>\n",
       "      <td>-51.359375</td>\n",
       "      <td>-51.363209</td>\n",
       "      <td>-48.222084</td>\n",
       "      <td>-44.652752</td>\n",
       "      <td>-42.807415</td>\n",
       "      <td>-42.814625</td>\n",
       "      <td>-42.825832</td>\n",
       "      <td>-42.830334</td>\n",
       "      <td>-42.836792</td>\n",
       "      <td>-42.842873</td>\n",
       "      <td>-41.570126</td>\n",
       "    </tr>\n",
       "    <tr>\n",
       "      <th>1078</th>\n",
       "      <td>-37.617085</td>\n",
       "      <td>-39.008083</td>\n",
       "      <td>-39.008415</td>\n",
       "      <td>-39.008083</td>\n",
       "      <td>-39.008541</td>\n",
       "      <td>-39.010414</td>\n",
       "      <td>-39.010750</td>\n",
       "      <td>-39.010708</td>\n",
       "      <td>-39.010624</td>\n",
       "      <td>-39.012585</td>\n",
       "      <td>-39.015751</td>\n",
       "      <td>-39.018127</td>\n",
       "      <td>-39.021000</td>\n",
       "      <td>-41.259960</td>\n",
       "      <td>-41.823540</td>\n",
       "      <td>-43.368584</td>\n",
       "      <td>-44.636543</td>\n",
       "      <td>-44.639832</td>\n",
       "      <td>-44.642666</td>\n",
       "      <td>-47.860790</td>\n",
       "      <td>-53.037457</td>\n",
       "      <td>-53.044167</td>\n",
       "      <td>-53.044167</td>\n",
       "      <td>-53.043915</td>\n",
       "      <td>-53.042915</td>\n",
       "      <td>-53.742416</td>\n",
       "      <td>-55.838001</td>\n",
       "      <td>-55.840416</td>\n",
       "      <td>-55.844959</td>\n",
       "      <td>-55.851124</td>\n",
       "      <td>-55.857082</td>\n",
       "      <td>-55.861794</td>\n",
       "      <td>-55.868038</td>\n",
       "      <td>-55.872417</td>\n",
       "      <td>-55.873959</td>\n",
       "      <td>-55.874790</td>\n",
       "      <td>-55.877335</td>\n",
       "      <td>-55.879623</td>\n",
       "      <td>-55.881248</td>\n",
       "      <td>-55.881668</td>\n",
       "      <td>...</td>\n",
       "      <td>-56.228416</td>\n",
       "      <td>-56.245956</td>\n",
       "      <td>-56.260254</td>\n",
       "      <td>-56.274624</td>\n",
       "      <td>-56.293793</td>\n",
       "      <td>-56.319538</td>\n",
       "      <td>-56.337627</td>\n",
       "      <td>-56.356625</td>\n",
       "      <td>-56.376793</td>\n",
       "      <td>-56.394875</td>\n",
       "      <td>-56.410793</td>\n",
       "      <td>-56.430168</td>\n",
       "      <td>-56.451668</td>\n",
       "      <td>-56.467167</td>\n",
       "      <td>-54.355000</td>\n",
       "      <td>-53.665581</td>\n",
       "      <td>-53.687584</td>\n",
       "      <td>-53.706333</td>\n",
       "      <td>-53.722046</td>\n",
       "      <td>-53.733208</td>\n",
       "      <td>-48.485664</td>\n",
       "      <td>-45.232334</td>\n",
       "      <td>-45.247040</td>\n",
       "      <td>-45.262165</td>\n",
       "      <td>-43.988914</td>\n",
       "      <td>-42.430916</td>\n",
       "      <td>-41.875336</td>\n",
       "      <td>-39.611046</td>\n",
       "      <td>-39.620876</td>\n",
       "      <td>-39.633167</td>\n",
       "      <td>-39.646999</td>\n",
       "      <td>-39.657707</td>\n",
       "      <td>-39.663666</td>\n",
       "      <td>-39.673958</td>\n",
       "      <td>-39.686085</td>\n",
       "      <td>-39.695915</td>\n",
       "      <td>-39.703125</td>\n",
       "      <td>-39.709835</td>\n",
       "      <td>-39.723667</td>\n",
       "      <td>-37.809124</td>\n",
       "    </tr>\n",
       "    <tr>\n",
       "      <th>1079</th>\n",
       "      <td>-38.427708</td>\n",
       "      <td>-39.023125</td>\n",
       "      <td>-39.025208</td>\n",
       "      <td>-39.025959</td>\n",
       "      <td>-39.027870</td>\n",
       "      <td>-39.029167</td>\n",
       "      <td>-39.030540</td>\n",
       "      <td>-39.032997</td>\n",
       "      <td>-39.034290</td>\n",
       "      <td>-39.035164</td>\n",
       "      <td>-39.036373</td>\n",
       "      <td>-39.036667</td>\n",
       "      <td>-39.037292</td>\n",
       "      <td>-39.038708</td>\n",
       "      <td>-39.040169</td>\n",
       "      <td>-39.041916</td>\n",
       "      <td>-39.044456</td>\n",
       "      <td>-39.046043</td>\n",
       "      <td>-39.047832</td>\n",
       "      <td>-39.050415</td>\n",
       "      <td>-39.053707</td>\n",
       "      <td>-39.053543</td>\n",
       "      <td>-39.055416</td>\n",
       "      <td>-39.057457</td>\n",
       "      <td>-39.060665</td>\n",
       "      <td>-39.480667</td>\n",
       "      <td>-41.857002</td>\n",
       "      <td>-41.860790</td>\n",
       "      <td>-41.863377</td>\n",
       "      <td>-41.865082</td>\n",
       "      <td>-41.866001</td>\n",
       "      <td>-41.868210</td>\n",
       "      <td>-41.871250</td>\n",
       "      <td>-41.873791</td>\n",
       "      <td>-41.875999</td>\n",
       "      <td>-41.877625</td>\n",
       "      <td>-41.879623</td>\n",
       "      <td>-42.587460</td>\n",
       "      <td>-44.694752</td>\n",
       "      <td>-44.694168</td>\n",
       "      <td>...</td>\n",
       "      <td>-44.960167</td>\n",
       "      <td>-44.975292</td>\n",
       "      <td>-42.869377</td>\n",
       "      <td>-42.173500</td>\n",
       "      <td>-42.188999</td>\n",
       "      <td>-42.201164</td>\n",
       "      <td>-42.219082</td>\n",
       "      <td>-42.234039</td>\n",
       "      <td>-42.249168</td>\n",
       "      <td>-42.259251</td>\n",
       "      <td>-42.271000</td>\n",
       "      <td>-42.289333</td>\n",
       "      <td>-42.302959</td>\n",
       "      <td>-42.310585</td>\n",
       "      <td>-39.919418</td>\n",
       "      <td>-39.508793</td>\n",
       "      <td>-39.519249</td>\n",
       "      <td>-39.532127</td>\n",
       "      <td>-39.542374</td>\n",
       "      <td>-39.554249</td>\n",
       "      <td>-39.560833</td>\n",
       "      <td>-39.569958</td>\n",
       "      <td>-39.588291</td>\n",
       "      <td>-39.602959</td>\n",
       "      <td>-39.615540</td>\n",
       "      <td>-39.623417</td>\n",
       "      <td>-39.631962</td>\n",
       "      <td>-39.640709</td>\n",
       "      <td>-39.650166</td>\n",
       "      <td>-39.663460</td>\n",
       "      <td>-39.674541</td>\n",
       "      <td>-39.684666</td>\n",
       "      <td>-39.693832</td>\n",
       "      <td>-39.698624</td>\n",
       "      <td>-39.710041</td>\n",
       "      <td>-39.722584</td>\n",
       "      <td>-39.731293</td>\n",
       "      <td>-39.738415</td>\n",
       "      <td>-39.745209</td>\n",
       "      <td>-38.600292</td>\n",
       "    </tr>\n",
       "  </tbody>\n",
       "</table>\n",
       "<p>1080 rows × 2160 columns</p>\n",
       "</div>"
      ],
      "text/plain": [
       "           0          1          2     ...       2157       2158       2159\n",
       "0           NaN        NaN        NaN  ...        NaN        NaN        NaN\n",
       "1           NaN        NaN        NaN  ...        NaN        NaN        NaN\n",
       "2           NaN        NaN        NaN  ...        NaN        NaN        NaN\n",
       "3           NaN        NaN        NaN  ...        NaN        NaN        NaN\n",
       "4           NaN        NaN        NaN  ...        NaN        NaN        NaN\n",
       "...         ...        ...        ...  ...        ...        ...        ...\n",
       "1075 -41.528831 -42.201832 -42.200584  ... -43.015415 -43.022167 -41.717499\n",
       "1076 -41.459457 -42.124458 -42.120834  ... -42.946999 -42.958710 -41.677624\n",
       "1077 -41.355915 -42.012043 -42.012501  ... -42.836792 -42.842873 -41.570126\n",
       "1078 -37.617085 -39.008083 -39.008415  ... -39.709835 -39.723667 -37.809124\n",
       "1079 -38.427708 -39.023125 -39.025208  ... -39.738415 -39.745209 -38.600292\n",
       "\n",
       "[1080 rows x 2160 columns]"
      ]
     },
     "execution_count": 79,
     "metadata": {
      "tags": []
     },
     "output_type": "execute_result"
    }
   ],
   "source": [
    "pd.DataFrame(grid[7])"
   ]
  },
  {
   "cell_type": "markdown",
   "metadata": {
    "colab_type": "text",
    "id": "QwZIKK6b-j7o"
   },
   "source": [
    "We can plot each variable on a map to show how it varies by region.\n",
    "\n",
    "It would be worthwhile to plot this information for a couple of different variables at different time points and under different models and see how it changes.  For now this is just to get used to the data, later we will pick some which are relevant for the report.\n",
    "\n",
    "This code is a bit complicated, so I would recommend just changing  the variable number (here you do not need to subtract 1), the latitude and longitude range and the colour map.  There is an example below with a different latitude and longitude range.\n",
    "\n",
    "There are different colour maps listed here:\n",
    "https://matplotlib.org/3.1.0/tutorials/colors/colormaps.html\n",
    "\n",
    "It is sometimes useful to use different colour maps for different variables - e.g. temperature and rainfall are most intuitive in different sets of colours.  You can reverse any colour map by adding \"_r\" to the end of the name e.g. \"magma\" vs \"magma_r\"."
   ]
  },
  {
   "cell_type": "code",
   "execution_count": null,
   "metadata": {
    "colab": {},
    "colab_type": "code",
    "id": "a4jQdQY3G-Z4"
   },
   "outputs": [],
   "source": [
    "# Choose the bioclim variable to plot\n",
    "variable_number = 1\n",
    "\n",
    "\n",
    "# First plot the whole map\n",
    "lon_range = [-180, 180]\n",
    "lat_range = [-60, 75]\n",
    "\n",
    "colour_map = 'jet'\n",
    "\n",
    "# choose a raster file to look at - either the near_present or a specific model, SSP and future time point.\n",
    "# for near_present make the first value \"near_present\" and comment out the other two with a # symbol\n",
    "\n",
    "model = 'BCC-CSM2-MR'\n",
    "ssp = 'ssp585'\n",
    "timepoint = '2021-2040'\n",
    "# model = 'near_present'\n",
    "\n",
    "if model == \"near_present\":\n",
    "  raster_path = file_path + \"climate_data/near_present.tif\"\n",
    "else:\n",
    "  raster_path = file_path + \"/climate_data/\" + model + \"/\" + ssp + \"/\" + timepoint + \".tiff\""
   ]
  },
  {
   "cell_type": "code",
   "execution_count": null,
   "metadata": {
    "colab": {},
    "colab_type": "code",
    "id": "Kjonaa8qjIE0"
   },
   "outputs": [],
   "source": []
  },
  {
   "cell_type": "code",
   "execution_count": null,
   "metadata": {
    "colab": {},
    "colab_type": "code",
    "id": "uaQIRa3O-P7R"
   },
   "outputs": [],
   "source": [
    "timepoint = '2081-2100'\n",
    "present_done = 0\n",
    "for model in ['near_present',\n",
    "              'BCC-CSM2-MR',\n",
    "              'CanESM5',\n",
    "              'MIROC6']:\n",
    "    for ssp in ['ssp126', 'ssp585']:\n",
    "        if model == \"near_present\" and present_done == 0:\n",
    "            raster_path = file_path + \"climate_data/near_present.tif\"\n",
    "            ssp = \"NA\"\n",
    "            time_period = \"\"\n",
    "            present_done = 1\n",
    "        elif model != \"near_present\":\n",
    "            raster_path = file_path + \"/climate_data/\" + model + \"/\" + ssp + \"/\" + timepoint + \".tiff\"\n",
    "        else:\n",
    "          continue\n",
    "        for variable_number in [1, 5, 6, 12, 13, 14]:\n",
    "          if 'Precipitation' in bioclim_name[variable_number]:\n",
    "            colour_map = 'terrain_r'\n",
    "            iqr_1 = bioclim_min[variable_number]\n",
    "            iqr_2 = np.percentile(np.arange(bioclim_min[variable_number], bioclim_max[variable_number]), 50)\n",
    "          else:\n",
    "            colour_map = 'jet'\n",
    "            iqr_1 = np.percentile(np.arange(bioclim_min[variable_number], bioclim_max[variable_number]), 25)\n",
    "            iqr_2 = bioclim_max[variable_number]\n",
    "          raster = rasterio.open(raster_path)\n",
    "          # convert the data into a matrix\n",
    "          grid = raster.read()\n",
    "\n",
    "          # round it to six decimal places\n",
    "          grid = np.round(grid, 6)\n",
    "\n",
    "          # replace \"-inf\" with \"nan\"\n",
    "          grid[grid == float('-inf'), ] = float('nan')\n",
    "\n",
    "\n",
    "          # Convert the latitude and longitude range to the units used\n",
    "          # in this map projection\n",
    "          axis_1 = convert_longlat_to_xy(lon_range[0], lat_range[0])\n",
    "          axis_2 = convert_longlat_to_xy(lon_range[1], lat_range[1])\n",
    "\n",
    "          # Calculates the ratio of the size of one latitude unit to one longitude unit\n",
    "          # Just used to make the map the right aspect ratio\n",
    "          ratio =  np.abs(lon_range[1] - lon_range[0]) / (np.abs(lat_range[1] - lat_range[0]))\n",
    "\n",
    "          # Initially make a square map\n",
    "          f = plt.figure(figsize=(10, 10))\n",
    "\n",
    "          # Correct the map width as a proportion of its height\n",
    "          f.set_figwidth(f.get_figheight() * ratio)\n",
    "\n",
    "          # Start an empty plot\n",
    "          plt.subplot(111)\n",
    "\n",
    "          # iqr_1 = np.percentile(np.arange(bioclim_min[variable_number], bioclim_max[variable_number]), 25)\n",
    "\n",
    "          # Draw the heatmap\n",
    "          x = plt.imshow(grid[variable_number-1][0:930, :], cmap=colour_map,\n",
    "                        vmin=iqr_1, vmax=iqr_2)\n",
    "\n",
    "          # Add a title\n",
    "          if model == \"near_present\":\n",
    "            plt.title(bioclim_name[variable_number].replace(\"_\", \" \") + \": Near present measurements, 1970-2000\")\n",
    "          else:\n",
    "            plt.title(bioclim_name[variable_number].replace(\"_\", \" \") + \": \" + model + \" prediction; \" + ssp + \"; \" + timepoint)\n",
    "\n",
    "          # Add the markers to the axis\n",
    "          plt.xticks(np.arange(axis_1[0], axis_2[0]+1, 120), labels=np.arange(lon_range[0], lon_range[1]+1, 20))\n",
    "          plt.yticks(np.arange(axis_2[1], axis_1[1]+1, 120), labels=(np.arange(lat_range[1], lat_range[0]-1, -20)))\n",
    "\n",
    "          # Set the x and y axis limits to show the region of interest\n",
    "          plt.xlim(axis_1[0], axis_2[0])\n",
    "          plt.ylim(axis_1[1], axis_2[1])\n",
    "          plt.colorbar(x)\n",
    "          if model == \"near_present\":\n",
    "            plt.savefig(file_path + \"worldclim_plots/\" + bioclim_name[variable_number] + \"_near_present.png\", dpi=300, bbox_inches='tight')\n",
    "          else:\n",
    "            plt.savefig(file_path + \"worldclim_plots/\" + bioclim_name[variable_number] + \"_\" + model + \"_\" + ssp + \"_\" + timepoint + \".png\", dpi=300, bbox_inches='tight')\n",
    "          \n",
    "          plt.close()"
   ]
  },
  {
   "cell_type": "code",
   "execution_count": null,
   "metadata": {
    "colab": {},
    "colab_type": "code",
    "id": "kqeqCnjWXEN-"
   },
   "outputs": [],
   "source": [
    "plt.imshow(grid[0])"
   ]
  },
  {
   "cell_type": "markdown",
   "metadata": {
    "colab_type": "text",
    "id": "GWMcZLQE_1ra"
   },
   "source": [
    "We can zoom in a bit to see the individual grid squares.\n",
    "\n",
    "The only thing which is different in this code is the lon_range and lat_range values.  You can look these up online for different countries or regions - there's a list of some here https://gist.github.com/graydon/11198540 (as long 1, lat 1, long 2, lat 2)"
   ]
  },
  {
   "cell_type": "code",
   "execution_count": null,
   "metadata": {
    "colab": {
     "base_uri": "https://localhost:8080/",
     "height": 592
    },
    "colab_type": "code",
    "executionInfo": {
     "elapsed": 292782,
     "status": "ok",
     "timestamp": 1596548401327,
     "user": {
      "displayName": "Katy Brown",
      "photoUrl": "",
      "userId": "04725673548216289527"
     },
     "user_tz": -60
    },
    "id": "apmSQvb4A0x5",
    "outputId": "93170aa1-c5a2-4434-fa7a-90b27a69bc5d"
   },
   "outputs": [
    {
     "data": {
      "text/plain": [
       "<matplotlib.colorbar.Colorbar at 0x7f4609ba6f28>"
      ]
     },
     "execution_count": 82,
     "metadata": {
      "tags": []
     },
     "output_type": "execute_result"
    },
    {
     "data": {
      "image/png": "[encoded data removed]",
      "text/plain": [
       "<Figure size 720x720 with 2 Axes>"
      ]
     },
     "metadata": {
      "needs_background": "light",
      "tags": []
     },
     "output_type": "display_data"
    }
   ],
   "source": [
    "# update the co-ordinates to UK only\n",
    "lon_range = [-9, 2]\n",
    "lat_range = [49, 60]\n",
    "\n",
    "raster = rasterio.open(raster_path)\n",
    "# convert the data into a matrix\n",
    "grid = raster.read()\n",
    "\n",
    "# round it to six decimal places\n",
    "grid = np.round(grid, 6)\n",
    "\n",
    "# replace \"-inf\" with \"nan\"\n",
    "grid[grid == float('-inf'), ] = float('nan')\n",
    "\n",
    "\n",
    "# Convert the latitude and longitude range to the units used\n",
    "# in this map projection\n",
    "axis_1 = convert_longlat_to_xy(lon_range[0], lat_range[0])\n",
    "axis_2 = convert_longlat_to_xy(lon_range[1], lat_range[1])\n",
    "\n",
    "# Calculates the ratio of the size of one latitude unit to one longitude unit\n",
    "# Just used to make the map the right aspect ratio\n",
    "ratio =  np.abs(lon_range[1] - lon_range[0]) / (np.abs(lat_range[1] - lat_range[0]))\n",
    "\n",
    "# Initially make a square map\n",
    "f = plt.figure(figsize=(10, 10))\n",
    "\n",
    "# Correct the map width as a proportion of its height\n",
    "f.set_figwidth(f.get_figheight() * ratio)\n",
    "\n",
    "# Start an empty plot\n",
    "plt.subplot(111)\n",
    "\n",
    "iqr_1 = np.percentile(np.arange(bioclim_min[variable_number], bioclim_max[variable_number]), 25)\n",
    "\n",
    "# Draw the heatmap\n",
    "x = plt.imshow(grid[variable_number-1][0:930, :], cmap=colour_map,\n",
    "               vmin=iqr_1, vmax=bioclim_max[variable_number])\n",
    "\n",
    "# Add a title\n",
    "if model == \"near_present\":\n",
    "  plt.title(bioclim_name[variable_number].replace(\"_\", \" \") + \": Near present measurements, 1970-2000\")\n",
    "else:\n",
    "  plt.title(bioclim_name[variable_number].replace(\"_\", \" \") + \": \" + model + \" prediction; \" + ssp + \"; \" + timepoint)\n",
    "\n",
    "# Add the markers to the axis\n",
    "plt.xticks(np.arange(axis_1[0], axis_2[0]+1, 120), labels=np.arange(lon_range[0], lon_range[1]+1, 20))\n",
    "plt.yticks(np.arange(axis_2[1], axis_1[1]+1, 120), labels=(np.arange(lat_range[1], lat_range[0]-1, -20)))\n",
    "\n",
    "# Set the x and y axis limits to show the region of interest\n",
    "plt.xlim(axis_1[0], axis_2[0])\n",
    "plt.ylim(axis_1[1], axis_2[1])\n",
    "\n",
    "plt.colorbar(x)\n"
   ]
  },
  {
   "cell_type": "code",
   "execution_count": null,
   "metadata": {
    "colab": {},
    "colab_type": "code",
    "id": "zKAa3PrJcSfo"
   },
   "outputs": [],
   "source": []
  }
 ],
 "metadata": {
  "colab": {
   "authorship_tag": "ABX9TyPjHASsEDSRXzrbkAodOof/",
   "name": "7_data_explanation_and_maps.ipynb",
   "provenance": [
    {
     "file_id": "1JoRurCfFkUbvo2YjHGrIfN5e8y10_3CC",
     "timestamp": 1596484735720
    }
   ]
  },
  "kernelspec": {
   "display_name": "Python 3",
   "language": "python",
   "name": "python3"
  },
  "language_info": {
   "codemirror_mode": {
    "name": "ipython",
    "version": 3
   },
   "file_extension": ".py",
   "mimetype": "text/x-python",
   "name": "python",
   "nbconvert_exporter": "python",
   "pygments_lexer": "ipython3",
   "version": "3.6.10"
  }
 },
 "nbformat": 4,
 "nbformat_minor": 1
}
