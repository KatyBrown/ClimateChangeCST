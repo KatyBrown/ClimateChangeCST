{
 "cells": [
  {
   "cell_type": "code",
   "execution_count": null,
   "metadata": {
    "colab": {
     "base_uri": "https://localhost:8080/",
     "height": 90
    },
    "colab_type": "code",
    "executionInfo": {
     "elapsed": 3058,
     "status": "ok",
     "timestamp": 1597320465540,
     "user": {
      "displayName": "Katy Brown",
      "photoUrl": "",
      "userId": "04725673548216289527"
     },
     "user_tz": -60
    },
    "id": "UJirXY9v6G-G",
    "outputId": "21aa6607-96fb-4030-8c8a-fb546a69241b"
   },
   "outputs": [
    {
     "name": "stderr",
     "output_type": "stream",
     "text": [
      "/usr/local/lib/python3.6/dist-packages/statsmodels/tools/_testing.py:19: FutureWarning: pandas.util.testing is deprecated. Use the functions in the public API at pandas.testing instead.\n",
      "  import pandas.util.testing as tm\n"
     ]
    },
    {
     "name": "stdout",
     "output_type": "stream",
     "text": [
      "Mounted at /content/drive\n"
     ]
    }
   ],
   "source": [
    "\n",
    "# Pandas is a package containing additional functions to use data frames in Python\n",
    "import pandas as pd\n",
    "import matplotlib\n",
    "import matplotlib.pyplot as plt\n",
    "%matplotlib inline\n",
    "import warnings\n",
    "import numpy as np\n",
    "import seaborn as sns\n",
    "warnings.simplefilter('ignore')\n",
    "# These two lines allow the notebook to access the Google Drive.\n",
    "from google.colab import drive\n",
    "drive.mount('/content/drive', force_remount=True)\n",
    "\n",
    "# This is the path to the project folder within the Google Drive.\n",
    "file_path = \"/content/drive/My Drive/\""
   ]
  },
  {
   "cell_type": "code",
   "execution_count": null,
   "metadata": {
    "colab": {
     "base_uri": "https://localhost:8080/",
     "height": 263
    },
    "colab_type": "code",
    "executionInfo": {
     "elapsed": 6031,
     "status": "ok",
     "timestamp": 1597320470866,
     "user": {
      "displayName": "Katy Brown",
      "photoUrl": "",
      "userId": "04725673548216289527"
     },
     "user_tz": -60
    },
    "id": "3cS51IBt3Xu5",
    "outputId": "b108c71e-9fe8-4002-8be7-0f32c0be6f20"
   },
   "outputs": [
    {
     "name": "stdout",
     "output_type": "stream",
     "text": [
      "Requirement already satisfied: geopandas in /usr/local/lib/python3.6/dist-packages (0.8.1)\n",
      "Requirement already satisfied: fiona in /usr/local/lib/python3.6/dist-packages (from geopandas) (1.8.13.post1)\n",
      "Requirement already satisfied: pyproj>=2.2.0 in /usr/local/lib/python3.6/dist-packages (from geopandas) (2.6.1.post1)\n",
      "Requirement already satisfied: shapely in /usr/local/lib/python3.6/dist-packages (from geopandas) (1.7.0)\n",
      "Requirement already satisfied: pandas>=0.23.0 in /usr/local/lib/python3.6/dist-packages (from geopandas) (1.0.5)\n",
      "Requirement already satisfied: attrs>=17 in /usr/local/lib/python3.6/dist-packages (from fiona->geopandas) (19.3.0)\n",
      "Requirement already satisfied: six>=1.7 in /usr/local/lib/python3.6/dist-packages (from fiona->geopandas) (1.15.0)\n",
      "Requirement already satisfied: cligj>=0.5 in /usr/local/lib/python3.6/dist-packages (from fiona->geopandas) (0.5.0)\n",
      "Requirement already satisfied: click<8,>=4.0 in /usr/local/lib/python3.6/dist-packages (from fiona->geopandas) (7.1.2)\n",
      "Requirement already satisfied: click-plugins>=1.0 in /usr/local/lib/python3.6/dist-packages (from fiona->geopandas) (1.1.1)\n",
      "Requirement already satisfied: munch in /usr/local/lib/python3.6/dist-packages (from fiona->geopandas) (2.5.0)\n",
      "Requirement already satisfied: numpy>=1.13.3 in /usr/local/lib/python3.6/dist-packages (from pandas>=0.23.0->geopandas) (1.18.5)\n",
      "Requirement already satisfied: python-dateutil>=2.6.1 in /usr/local/lib/python3.6/dist-packages (from pandas>=0.23.0->geopandas) (2.8.1)\n",
      "Requirement already satisfied: pytz>=2017.2 in /usr/local/lib/python3.6/dist-packages (from pandas>=0.23.0->geopandas) (2018.9)\n"
     ]
    }
   ],
   "source": [
    "!pip install geopandas\n",
    "import geopandas as gpd"
   ]
  },
  {
   "cell_type": "code",
   "execution_count": null,
   "metadata": {
    "colab": {},
    "colab_type": "code",
    "id": "v1dNbQ0K7pue"
   },
   "outputs": [],
   "source": [
    "import itertools\n",
    "import os"
   ]
  },
  {
   "cell_type": "markdown",
   "metadata": {
    "colab_type": "text",
    "id": "EC2cFY85xV8G"
   },
   "source": [
    "---\n",
    "## Notebook 17\n",
    "# Calculating overlaps between species"
   ]
  },
  {
   "cell_type": "markdown",
   "metadata": {
    "colab_type": "text",
    "id": "Oxz3RRiexUUf"
   },
   "source": [
    "The final piece of analysis we need to do is to look at how the overlap in distribution between species is predicted to change under the different combinations of climate change models and ssps.\n",
    "\n",
    "We would expect that some species will overlap more and others will overlap less - as the range of different species increases and decreases.\n",
    "\n",
    "For the purposes of studying virus transmission, we are particularly interested in species which are predicted to overlap more."
   ]
  },
  {
   "cell_type": "markdown",
   "metadata": {
    "colab_type": "text",
    "id": "IpiK9Xovxw-r"
   },
   "source": [
    "First we just create some variables with the lists of models etc - as usual."
   ]
  },
  {
   "cell_type": "code",
   "execution_count": null,
   "metadata": {
    "colab": {},
    "colab_type": "code",
    "id": "HPv45tVO6oih"
   },
   "outputs": [],
   "source": [
    "species_list = [line.strip() for line in open(file_path + \"species_names.tsv\")]\n",
    "models = ['BCC-CSM2-MR',\n",
    "         'CanESM5']\n",
    "scenarios = ['ssp126', 'ssp585']\n",
    "\n",
    "time_periods = ['2021-2040', '2041-2060', '2061-2080', '2081-2100']\n",
    "\n",
    "sdm = 'rf'\n"
   ]
  },
  {
   "cell_type": "markdown",
   "metadata": {
    "colab_type": "text",
    "id": "fRTFHZ7wx2mJ"
   },
   "source": [
    "Now we want to look at the overlap between species.\n",
    "\n",
    "This is fairly straightforward - on the grid representing the map of the world we just count the number of squares which are habitable by both species under each model.\n",
    "\n",
    "Running every possible combination of species (approximately 70*70 = 4900) and every model / scenario / timepoint combination (2 * 2 * 4 = 16) means there are are large number of comparisons to perform (about 78,000) - so the code needs to be quite efficient - to do this I had to make it a bit more difficult to read."
   ]
  },
  {
   "cell_type": "markdown",
   "metadata": {
    "colab_type": "text",
    "id": "a0KTcZ4RzCsY"
   },
   "source": [
    "First we run the present data."
   ]
  },
  {
   "cell_type": "code",
   "execution_count": null,
   "metadata": {
    "colab": {},
    "colab_type": "code",
    "id": "IEOaNSPe1dLR"
   },
   "outputs": [],
   "source": [
    "# make empty dictionaries to store the results\n",
    "resultsD = dict()\n",
    "totD = dict()\n",
    "\n",
    "\n",
    "# make an empty matrix with one layer for each species, to store the intermediate results\n",
    "present = np.empty([len(species_list), 930, 2160], dtype=float)\n",
    "\n",
    "# for every possible species\n",
    "for i, species in enumerate(species_list):\n",
    "    # path to the distribution data for the species\n",
    "    path = file_path + \"SDM_results/\" + species + \"/present_\" + sdm + \".npy\"\n",
    "\n",
    "    # if this exists (a few are missing for various reasons)\n",
    "    if os.path.exists(path):\n",
    "      # load the distribution data\n",
    "      present_matrix = np.load(path)\n",
    "\n",
    "      # store it in the matrix\n",
    "      present[i, :, :] = present_matrix\n",
    "\n",
    "      # store the total number of grid squares habitable by this species\n",
    "      totD.setdefault(species, dict())\n",
    "      totD[species]['present'] = np.nansum(present_matrix)\n",
    "\n",
    "overlapD = dict()\n",
    "# make every possible combination of pairs of species grids\n",
    "for pair in itertools.combinations(np.arange(len(species_list)), 2):\n",
    "  # calculate the total number of squares which are occupied in both grids\n",
    "  overlap = np.nansum((present[pair[0], :, :] == 1) & (present[pair[1], :, :] == 1))\n",
    "  # store this in the dictionary\n",
    "  overlapD[pair] = overlap\n",
    "resultsD['present'] = overlapD"
   ]
  },
  {
   "cell_type": "markdown",
   "metadata": {
    "colab_type": "text",
    "id": "4wv1WvUe0LcT"
   },
   "source": [
    "Then we run all the combinations of other factors"
   ]
  },
  {
   "cell_type": "code",
   "execution_count": null,
   "metadata": {
    "colab": {},
    "colab_type": "code",
    "id": "Tyxbg7Us1z-f"
   },
   "outputs": [],
   "source": [
    "# for every combination of factors\n",
    "for model in models:\n",
    "  for ssp in scenarios:\n",
    "    for timepoint in time_periods:\n",
    "      overlapD = dict()\n",
    "      # make a matrix to store the results\n",
    "      future = np.empty([len(species_list), 930, 2160], dtype=float)\n",
    "\n",
    "      # for every possible species\n",
    "      for i, species in enumerate(species_list):\n",
    "          # build the path to the file\n",
    "          path = file_path + \"SDM_results/\" + species + \"/\" + model + \"_\" + ssp + \"_\" + timepoint + \"__\" + sdm + \".npy\"\n",
    "          # check the file exists\n",
    "          if os.path.exists(path):\n",
    "            # load the data\n",
    "            future_matrix = np.load(path)\n",
    "            # count the total number of squares which are habitable by this species\n",
    "            totD[species][model + \"_\" + ssp + \"_\" + timepoint] = np.nansum(future_matrix)\n",
    "            # store the result in the matrix\n",
    "            future[i, :, :] = future_matrix\n",
    "      # for every pair of species\n",
    "      for pair in itertools.combinations(np.arange(len(species_list)), 2):\n",
    "        # count the squares which are habitable by both species\n",
    "        overlap = np.nansum((future[pair[0], :, :] == 1) & (future[pair[1], :, :] == 1))\n",
    "        # store the result\n",
    "        overlapD[pair] = overlap\n",
    "      resultsD[model + \"_\" + ssp + \"_\" + timepoint] = overlapD"
   ]
  },
  {
   "cell_type": "markdown",
   "metadata": {
    "colab_type": "text",
    "id": "a8P_tE7a01E3"
   },
   "source": [
    "This generates all the results but not in a very usable form, so we transform them into a pandas dataframe."
   ]
  },
  {
   "cell_type": "code",
   "execution_count": null,
   "metadata": {
    "colab": {},
    "colab_type": "code",
    "id": "REa1AySW4U_g"
   },
   "outputs": [],
   "source": [
    "# store all the combination names in a list\n",
    "combos = ['present']\n",
    "for model in models:\n",
    "  for ssp in scenarios:\n",
    "    for timepoint in time_periods:\n",
    "      combos.append(model + \"_\" + ssp + \"_\" + timepoint)\n",
    "\n",
    "results = []\n",
    "\n",
    "# for every pair of species (for which a result exists)\n",
    "for i, species1 in enumerate(species_list):\n",
    "  if species1 in totD:\n",
    "    for j, species2 in enumerate(species_list):\n",
    "      if species2 in totD:\n",
    "        if species1 != species2:\n",
    "          \n",
    "          # store the names of the two species\n",
    "          pair = species1 + \"_\" + species2\n",
    "\n",
    "          # start a list to store the results of the analysis\n",
    "          thismodel = [species1, species2]\n",
    "\n",
    "          # for every combination of factors (model, ssp, time period)\n",
    "          for combo in combos:\n",
    "              # if there is a result for this combination and these two species\n",
    "              if (i, j) in resultsD[combo] or (j, i) in resultsD[combo]:\n",
    "\n",
    "                # store the total number of occupied squares for each species\n",
    "                thismodel.append(totD[species1][combo])\n",
    "                thismodel.append(totD[species2][combo])\n",
    "\n",
    "                # its a diagonal matrix so sometimes the indices are the\n",
    "                # other way around\n",
    "                try:\n",
    "                  thismodel.append(resultsD[combo][i, j])\n",
    "                except:\n",
    "                  thismodel.append(resultsD[combo][j, i])\n",
    "              else:\n",
    "                # store nan for species which do not overlap\n",
    "                thismodel.append(float('nan'))\n",
    "                thismodel.append(float('nan'))\n",
    "                thismodel.append(float('nan'))       \n",
    "          results.append(thismodel)\n",
    "\n",
    "# convert everything into a pandas dataframe\n",
    "r = pd.DataFrame(results)\n",
    "\n",
    "# generate column names for the dataframe\n",
    "cols = ['species1', 'species2']\n",
    "for combo in combos:\n",
    "  cols.append('species1_total_habitable_squares_' + combo)\n",
    "  cols.append('speces2_total_habitable_squares_' + combo)\n",
    "  cols.append('total_shared_habitable_squares_' + combo)\n",
    "r.columns = cols"
   ]
  },
  {
   "cell_type": "markdown",
   "metadata": {
    "colab_type": "text",
    "id": "QXep8DFZ2y03"
   },
   "source": [
    "Now we can save the results."
   ]
  },
  {
   "cell_type": "code",
   "execution_count": null,
   "metadata": {
    "colab": {},
    "colab_type": "code",
    "id": "_4pRzE55I33o"
   },
   "outputs": [],
   "source": [
    "r.to_csv(file_path + \"overlaps.tsv\", sep=\"\\t\", index=None)"
   ]
  },
  {
   "cell_type": "markdown",
   "metadata": {
    "colab_type": "text",
    "id": "yQ4hm6WB256k"
   },
   "source": [
    "For each species, as well as the total number of squares which are habitable by both species, it is useful to know, for each species, the proportion of its habitable range which is also habitable by the other species.\n",
    "\n",
    "For example, it could be that one bee species currently shares 1% of its total range with an ant species, but is predicted to share 20% under a climate change scenario.  This is important in terms of virus transmission - if a virus is present in the ant it would have a much larger impact if the percentage overlap increases."
   ]
  },
  {
   "cell_type": "markdown",
   "metadata": {
    "colab_type": "text",
    "id": "cgriexqa3f6I"
   },
   "source": [
    "To do this, we just need to (for every model / ssp / timepoint combination) divide the number of squares the species shares with the other species by the total number of squares it occupies."
   ]
  },
  {
   "cell_type": "code",
   "execution_count": null,
   "metadata": {
    "colab": {},
    "colab_type": "code",
    "id": "TzRT13O2UtHd"
   },
   "outputs": [],
   "source": [
    "propcols = []\n",
    "# for every combination of factors\n",
    "for combo in combos:\n",
    "  # divide the number of shared squares by the total number of habitable squares\n",
    "  prop = r['total_shared_habitable_squares_' + combo] / r['species1_total_habitable_squares_' + combo]\n",
    "  r['proportion_species1_habitat_shared_' + combo] = prop\n",
    "  propcols.append('proportion_species1_habitat_' + combo)"
   ]
  },
  {
   "cell_type": "markdown",
   "metadata": {
    "colab_type": "text",
    "id": "-eOPvkkf4j82"
   },
   "source": [
    "For each species, we can draw a bar chart showing the percentage of squares that the species can inhabit which it shares with each other species.\n"
   ]
  },
  {
   "cell_type": "code",
   "execution_count": null,
   "metadata": {
    "colab": {},
    "colab_type": "code",
    "id": "fzeSJ6dWsfdO"
   },
   "outputs": [],
   "source": []
  },
  {
   "cell_type": "code",
   "execution_count": null,
   "metadata": {
    "colab": {},
    "colab_type": "code",
    "id": "p5rLl70-WcQn"
   },
   "outputs": [],
   "source": [
    "colours = ['#0C4C8A'] +  ['#FF847C'] * 4 + ['#FECEA8'] * 4 + ['#99B898'] * 4 + ['#2A363B'] * 4\n",
    "\n",
    "# for each possible species\n",
    "for species1 in species_list:\n",
    "  # generate a plot\n",
    "  f = plt.figure(figsize=(30, 30))\n",
    "  i = 1\n",
    "  # take the rows from the table where this species is species1\n",
    "  thistab = r[r['species1'] == species1]\n",
    "\n",
    "  # for each other possible species\n",
    "  for species2 in species_list:\n",
    "    # take the row where this species is species2 and the other species is species 1\n",
    "    subtab = thistab[thistab['species2'] == species2]\n",
    "    # if there is data for this species combination\n",
    "    if len(subtab) != 0:\n",
    "      # make an empty list to store the results\n",
    "      props = []\n",
    "      # extract the right row from the table\n",
    "      ind = subtab.index.values[0]\n",
    "      row = thistab.loc[ind]\n",
    "      # extract the proportion for every model / ssp / timepoint combination\n",
    "      for combo in combos:\n",
    "        props.append(row['proportion_species1_habitat_shared_' + combo] * 100)\n",
    "      # if there are any results\n",
    "      if sum(props) != 0:\n",
    "        # add a subplot\n",
    "        plt.subplot(10, 6, i)\n",
    "        # add the bars\n",
    "        plt.bar(np.arange(len(props)), props, width=0.6, color=colours)\n",
    "        \n",
    "        # add the title\n",
    "        plt.title(species2.replace(\"_\", \" \"))\n",
    "\n",
    "        # set axis limits\n",
    "        plt.xlim(-0.5, len(props) -0.5)\n",
    "        # find the maximum for the y axis\n",
    "        maxy = np.nanmax(props)\n",
    "        plt.ylim(0, maxy*1.3)\n",
    "        \n",
    "        # add a line at the level of the present overlap\n",
    "        plt.hlines(props[0], -0.5, len(props) + 0.5, lw=0.5, ls='dotted', color='red')\n",
    "\n",
    "        # add short vertical lines between the ssps\n",
    "        plt.vlines(np.arange(0.5, len(props)+0.5, 4),0, maxy, lw=0.5, ls='dotted')\n",
    "\n",
    "        # add taller vertical lines between the models\n",
    "        plt.vlines(np.arange(0.5, len(props)+0.5, 8),0, maxy*1.15, lw=0.5, ls='dotted')\n",
    "\n",
    "        # extract the time periods from the combination names\n",
    "        times = [c.split(\"_\")[-1] for c in combos]\n",
    "        # add the time periods to the x axis\n",
    "        plt.xticks(np.arange(len(props)), times, rotation='vertical')\n",
    "\n",
    "        # label the axes\n",
    "        plt.xlabel(\"Time Period\")\n",
    "        plt.ylabel('% ' + species1.replace(\"_\", \" \") + \" \\nrange habitable\")\n",
    "\n",
    "        # label the models and ssps\n",
    "        plt.text(4.5, (maxy * 1.19), 'BCC-CSM2-MR', ha='center', fontsize=8)\n",
    "        plt.text(12.5, (maxy * 1.19), 'CanESM5', ha='center', fontsize=8)\n",
    "        plt.text(2.5, (maxy * 1.07), \"ssp126\", ha='center', fontsize=8)\n",
    "        plt.text(6.5, (maxy * 1.07), \"ssp585\", ha='center', fontsize=8)\n",
    "        plt.text(10.5, (maxy * 1.07), \"ssp126\", ha='center', fontsize=8)\n",
    "        plt.text(14.5, (maxy * 1.07), \"ssp585\", ha='center', fontsize=8)\n",
    "        i += 1\n",
    "  plt.tight_layout(pad=3)\n",
    "  plt.suptitle(species1.replace(\"_\", \" \"), y=1.01, fontsize=10)\n",
    "  plt.savefig(file_path + \"/overlap_barcharts/\" + species1 + \".png\", dpi=300, bbox_inches='tight')\n",
    "  plt.close()\n",
    "  if i == 1:\n",
    "    os.unlink(file_path + \"/overlap_barcharts/\" + species1 + \".png\")"
   ]
  },
  {
   "cell_type": "markdown",
   "metadata": {
    "colab_type": "text",
    "id": "_SNZ0pp65XAe"
   },
   "source": [
    "We can do the same thing for the total number of squares shared between each pair of species (rather than as a percentage).\n",
    "\n",
    "This code is the same as above except using the total columns instead of the proportion columns."
   ]
  },
  {
   "cell_type": "code",
   "execution_count": null,
   "metadata": {
    "colab": {},
    "colab_type": "code",
    "id": "inQk_mgvWjaE"
   },
   "outputs": [],
   "source": [
    "for species1 in species_list:\n",
    "\n",
    "  f = plt.figure(figsize=(30, 30))\n",
    "  i = 1\n",
    "  thistab = r[r['species1'] == species1]\n",
    "  for species2 in species_list:\n",
    "    subtab = thistab[thistab['species2'] == species2]\n",
    "    if len(subtab) != 0:\n",
    "      props = []\n",
    "      ind = subtab.index.values[0]\n",
    "      row = thistab.loc[ind]\n",
    "      for combo in combos:\n",
    "        props.append(row['total_shared_habitable_squares_' + combo])\n",
    "      if sum(props) != 0:\n",
    "        a = f.add_subplot(10, 6, i)\n",
    "        \n",
    "        # add the bars\n",
    "        plt.bar(np.arange(len(props)), props, width=0.6, color=colours)\n",
    "        \n",
    "        # add the title\n",
    "        plt.title(species2.replace(\"_\", \" \"))\n",
    "\n",
    "        # set axis limits\n",
    "        plt.xlim(-0.5, len(props) -0.5)\n",
    "        # find the maximum for the y axis\n",
    "        maxy = np.nanmax(props)\n",
    "        plt.ylim(0, maxy*1.3)\n",
    "        \n",
    "        # add a line at the level of the present overlap\n",
    "        plt.hlines(props[0], -0.5, len(props) + 0.5, lw=0.5, ls='dotted', color='red')\n",
    "\n",
    "        # add short vertical lines between the ssps\n",
    "        plt.vlines(np.arange(0.5, len(props)+0.5, 4),0, maxy, lw=0.5, ls='dotted')\n",
    "\n",
    "        # add taller vertical lines between the models\n",
    "        plt.vlines(np.arange(0.5, len(props)+0.5, 8),0, maxy*1.15, lw=0.5, ls='dotted')\n",
    "\n",
    "        # extract the time periods from the combination names\n",
    "        times = [c.split(\"_\")[-1] for c in combos]\n",
    "        # add the time periods to the x axis\n",
    "        plt.xticks(np.arange(len(props)), times, rotation='vertical')\n",
    "\n",
    "        # label the axes\n",
    "        plt.xlabel(\"Time Period\")\n",
    "        plt.ylabel('% ' + species1.replace(\"_\", \" \") + \" \\nrange habitable\")\n",
    "\n",
    "        # label the models and ssps\n",
    "        plt.text(4.5, (maxy * 1.17), 'BCC-CSM2-MR', ha='center', fontsize=8)\n",
    "        plt.text(12.5, (maxy * 1.17), 'CanESM5', ha='center', fontsize=8)\n",
    "        plt.text(2.5, (maxy * 1.07), \"ssp126\", ha='center', fontsize=8)\n",
    "        plt.text(6.5, (maxy * 1.07), \"ssp585\", ha='center', fontsize=8)\n",
    "        plt.text(10.5, (maxy * 1.07), \"ssp126\", ha='center', fontsize=8)\n",
    "        plt.text(14.5, (maxy * 1.07), \"ssp585\", ha='center', fontsize=8)\n",
    "        i += 1\n",
    "  plt.tight_layout(pad=3)\n",
    "  plt.suptitle(species1.replace(\"_\", \" \"), y=1.01, fontsize=10)\n",
    "  plt.savefig(file_path + \"/overlap_barcharts/\" + species1 + \"_total.png\", dpi=300, bbox_inches='tight')\n",
    "  plt.close()\n",
    "  if i == 1:\n",
    "    os.unlink(file_path + \"/overlap_barcharts/\" + species1 + \"_total.png\")"
   ]
  },
  {
   "cell_type": "code",
   "execution_count": null,
   "metadata": {
    "colab": {},
    "colab_type": "code",
    "id": "GpdvzBXlq6YN"
   },
   "outputs": [],
   "source": []
  },
  {
   "cell_type": "code",
   "execution_count": null,
   "metadata": {
    "colab": {},
    "colab_type": "code",
    "id": "CH2tLfsq7ACI"
   },
   "outputs": [],
   "source": []
  }
 ],
 "metadata": {
  "colab": {
   "authorship_tag": "ABX9TyN7m1xzYFm5wedg0EyfalyR",
   "name": "17_overlaps.ipynb",
   "provenance": [
    {
     "file_id": "1cJsOlm8BdobuscYvB505K97n_ckilIm4",
     "timestamp": 1597171003854
    }
   ]
  },
  "kernelspec": {
   "display_name": "Python 3",
   "language": "python",
   "name": "python3"
  },
  "language_info": {
   "codemirror_mode": {
    "name": "ipython",
    "version": 3
   },
   "file_extension": ".py",
   "mimetype": "text/x-python",
   "name": "python",
   "nbconvert_exporter": "python",
   "pygments_lexer": "ipython3",
   "version": "3.6.10"
  }
 },
 "nbformat": 4,
 "nbformat_minor": 1
}
