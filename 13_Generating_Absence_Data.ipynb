{
 "cells": [
  {
   "cell_type": "code",
   "execution_count": 1,
   "metadata": {
    "colab": {
     "base_uri": "https://localhost:8080/",
     "height": 283
    },
    "colab_type": "code",
    "executionInfo": {
     "elapsed": 45812,
     "status": "ok",
     "timestamp": 1597076752748,
     "user": {
      "displayName": "Katy Brown",
      "photoUrl": "",
      "userId": "04725673548216289527"
     },
     "user_tz": -60
    },
    "id": "RPOPpqEXohJO",
    "outputId": "8824437f-41d6-4dfb-8bd9-e37e8fdf2afe"
   },
   "outputs": [
    {
     "name": "stdout",
     "output_type": "stream",
     "text": [
      "Reading package lists...\n",
      "Building dependency tree...\n",
      "Reading state information...\n",
      "libgeos-dev is already the newest version (3.6.2-1build2).\n",
      "libproj-dev is already the newest version (4.9.3-2).\n",
      "proj-bin is already the newest version (4.9.3-2).\n",
      "The following package was automatically installed and is no longer required:\n",
      "  libnvidia-common-440\n",
      "Use 'apt autoremove' to remove it.\n",
      "0 upgraded, 0 newly installed, 0 to remove and 35 not upgraded.\n",
      "  Building wheel for basemap (setup.py) ... \u001b[?25l\u001b[?25hdone\n"
     ]
    },
    {
     "name": "stderr",
     "output_type": "stream",
     "text": [
      "/usr/local/lib/python3.6/dist-packages/statsmodels/tools/_testing.py:19: FutureWarning: pandas.util.testing is deprecated. Use the functions in the public API at pandas.testing instead.\n",
      "  import pandas.util.testing as tm\n"
     ]
    },
    {
     "name": "stdout",
     "output_type": "stream",
     "text": [
      "Mounted at /content/drive\n"
     ]
    }
   ],
   "source": [
    "!pip install -q geopandas\n",
    "!apt install -q proj-bin libproj-dev libgeos-dev -y\n",
    "!pip install -q https://github.com/matplotlib/basemap/archive/master.zip\n",
    "!pip install -q rasterio\n",
    "\n",
    "# Pandas is a package containing additional functions to use data frames in Python\n",
    "import pandas as pd\n",
    "import geopandas as gpd\n",
    "import matplotlib\n",
    "import matplotlib.pyplot as plt\n",
    "%matplotlib inline\n",
    "from mpl_toolkits.basemap import Basemap\n",
    "import warnings\n",
    "import rasterio\n",
    "import rasterio.features\n",
    "import numpy as np\n",
    "import seaborn as sns\n",
    "import shapely\n",
    "import os\n",
    "import copy\n",
    "warnings.simplefilter('ignore')\n",
    "# These two lines allow the notebook to access the Google Drive.\n",
    "from google.colab import drive\n",
    "drive.mount('/content/drive', force_remount=True)\n",
    "\n",
    "# This is the path to the project folder within the Google Drive.\n",
    "file_path = \"/content/drive/My Drive/\"\n",
    "\n",
    "%load_ext rpy2.ipython\n",
    "from rpy2.robjects import pandas2ri  # activate pandas R  interface\n",
    "pandas2ri.activate()"
   ]
  },
  {
   "cell_type": "code",
   "execution_count": 2,
   "metadata": {
    "colab": {},
    "colab_type": "code",
    "executionInfo": {
     "elapsed": 45813,
     "status": "ok",
     "timestamp": 1597076752755,
     "user": {
      "displayName": "Katy Brown",
      "photoUrl": "",
      "userId": "04725673548216289527"
     },
     "user_tz": -60
    },
    "id": "agh9gxiuuUYX"
   },
   "outputs": [],
   "source": [
    "def convert_xy_to_longlat(grid_x, grid_y):\n",
    "  lon = ((grid_x / 6) - 180)\n",
    "  lat = -((grid_y / 6) - 90)\n",
    "  return (lon, lat)\n",
    "\n",
    "def convert_longlat_to_xy(lon, lat):\n",
    "  grid_x = int((lon + 180) * 6)\n",
    "  grid_y = int((-lat + 90) * 6)\n",
    "  return (grid_x, grid_y)"
   ]
  },
  {
   "cell_type": "markdown",
   "metadata": {
    "colab_type": "text",
    "id": "76aJVPvsucVA"
   },
   "source": [
    "---\n",
    "## Notebook 13\n",
    "# Generating Absence Data"
   ]
  },
  {
   "cell_type": "markdown",
   "metadata": {
    "colab_type": "text",
    "id": "68LcntweuQJ5"
   },
   "source": [
    "For some species distribution models, we need \"pseudo absence\" data - this is data for point in the world where the species is not found, which we can compare to places where it is found.\n",
    "\n",
    "It is difficult to verify experimentally if a species is not present in a region - it's much easier to say the species is definitely there than that it definitely isn't there.\n",
    "\n",
    "Instead, we generate random points where the species is assumed not to be present, as it has never been observed there.\n",
    "\n",
    "This data needs to be realistic points where other similar species have been observed in the past and within a similar geographic area to the observation points.\n",
    "\n",
    "To generate this data we'll use the following steps:\n",
    "\n",
    "* Divide species into ants, bees, wasps, ticks and mites.  I have merged sawflies into wasps, as they are very similar\n",
    "\n",
    "* Divide geographical regions by continent, excluding Antarctica.\n",
    "\n",
    "* Extract the subset of observations for each combination of continent and species type (unless there are no observations for the combination).\n",
    "\n",
    "* For each of our study species, loop through every continent where the species lives\n",
    "\n",
    "* Generate a set of random points on the same continent, in regions where individuals of that type (e.g. ant) but not species (e.g. Lasius niger) have been observed.\n",
    "\n",
    "* These points are \"padded\" to give us more points to work with, adding 10 x and y grid squares on either side of each possible absence point.\n",
    "\n",
    "\n",
    "\n"
   ]
  },
  {
   "cell_type": "markdown",
   "metadata": {
    "colab_type": "text",
    "id": "5zPxNKllw1zj"
   },
   "source": [
    "First, we read in a shapefile showing the location of each continent, so that we can automatically assign observation points to the correct continent - source https://www.arcgis.com/home/item.html?id=5cf4f223c4a642eb9aa7ae1216a04372"
   ]
  },
  {
   "cell_type": "code",
   "execution_count": 3,
   "metadata": {
    "colab": {},
    "colab_type": "code",
    "executionInfo": {
     "elapsed": 50041,
     "status": "ok",
     "timestamp": 1597076756991,
     "user": {
      "displayName": "Katy Brown",
      "photoUrl": "",
      "userId": "04725673548216289527"
     },
     "user_tz": -60
    },
    "id": "EGNWe2Lq7JES"
   },
   "outputs": [],
   "source": [
    "worldmap = gpd.read_file(file_path + \"/continent_shapefile/continent.shp\", index_col=0)\n",
    "worldmap = worldmap.to_crs('epsg:4088')\n",
    "worldmap = worldmap[worldmap['CONTINENT'] != 'Antarctica']\n",
    "worldmap.index = worldmap['CONTINENT']\n",
    "continents = dict(zip(worldmap['CONTINENT'], worldmap['geometry']))\n",
    "worldmap['geometry'] = worldmap['geometry'].simplify(tolerance=0.15)"
   ]
  },
  {
   "cell_type": "markdown",
   "metadata": {
    "colab_type": "text",
    "id": "U1zfVVFDxGC8"
   },
   "source": [
    "We also read the list of species which we have observations for."
   ]
  },
  {
   "cell_type": "code",
   "execution_count": 4,
   "metadata": {
    "colab": {},
    "colab_type": "code",
    "executionInfo": {
     "elapsed": 50035,
     "status": "ok",
     "timestamp": 1597076756994,
     "user": {
      "displayName": "Katy Brown",
      "photoUrl": "",
      "userId": "04725673548216289527"
     },
     "user_tz": -60
    },
    "id": "-2QCAMrQ7JHy"
   },
   "outputs": [],
   "source": [
    "species_list = [line.strip() for line in open(file_path + \"species_names.tsv\")]"
   ]
  },
  {
   "cell_type": "markdown",
   "metadata": {
    "colab_type": "text",
    "id": "yi2fNIpqxPfp"
   },
   "source": [
    "To find out the \"type\" of each species we read the final summary table we generated in the data cleaning / georeferencing step and convert these into a dictionary."
   ]
  },
  {
   "cell_type": "code",
   "execution_count": 5,
   "metadata": {
    "colab": {},
    "colab_type": "code",
    "executionInfo": {
     "elapsed": 50031,
     "status": "ok",
     "timestamp": 1597076756995,
     "user": {
      "displayName": "Katy Brown",
      "photoUrl": "",
      "userId": "04725673548216289527"
     },
     "user_tz": -60
    },
    "id": "ZY_Nisoo-K1u"
   },
   "outputs": [],
   "source": [
    "summary_tab = pd.read_csv(file_path + \"final_summary_all_tables/\" + \"final_summary_all.tsv\", sep=\"\\t\")\n",
    "typeD = dict(zip(summary_tab['species_name'], summary_tab['Type'].str.strip().str.capitalize()))\n",
    "\n",
    "# Merge the \"Sawfly\" species into the \"Wasp\" category.\n",
    "for key, val in typeD.items():\n",
    "  if typeD[key] == 'Sawfly':\n",
    "    typeD[key] = 'Wasp'"
   ]
  },
  {
   "cell_type": "markdown",
   "metadata": {
    "colab_type": "text",
    "id": "0lLprRxJx6sk"
   },
   "source": [
    "Store the grid shape of the rasters."
   ]
  },
  {
   "cell_type": "code",
   "execution_count": 6,
   "metadata": {
    "colab": {},
    "colab_type": "code",
    "executionInfo": {
     "elapsed": 50024,
     "status": "ok",
     "timestamp": 1597076756996,
     "user": {
      "displayName": "Katy Brown",
      "photoUrl": "",
      "userId": "04725673548216289527"
     },
     "user_tz": -60
    },
    "id": "8_gMadsix7TO"
   },
   "outputs": [],
   "source": [
    "grid_shape = ((930, 2160))"
   ]
  },
  {
   "cell_type": "markdown",
   "metadata": {
    "colab_type": "text",
    "id": "hLzCBvCyHg3Z"
   },
   "source": [
    "Then we run through the species types (ant, wasp, bee, mite, tick) and find all the observation points for that type for any species, and store them in a dictionary."
   ]
  },
  {
   "cell_type": "code",
   "execution_count": 7,
   "metadata": {
    "colab": {},
    "colab_type": "code",
    "executionInfo": {
     "elapsed": 60323,
     "status": "ok",
     "timestamp": 1597076767299,
     "user": {
      "displayName": "Katy Brown",
      "photoUrl": "",
      "userId": "04725673548216289527"
     },
     "user_tz": -60
    },
    "id": "NJcIxsv85gFf"
   },
   "outputs": [],
   "source": [
    "# make an empty dictionary to store the grids\n",
    "gridD = dict()\n",
    "# seperate each continent\n",
    "for continent in continents:\n",
    "  # set the default dictionary value\n",
    "  gridD.setdefault(continent, dict())\n",
    "  for species in species_list:\n",
    "    if species in typeD:\n",
    "      # find out which type of species it is\n",
    "      species_type = typeD[species]\n",
    "      # check there is an observation table for this species\n",
    "      if os.path.exists(file_path + \"species_plus_climate_observed_geo/\" + species + \".tsv\"):\n",
    "\n",
    "          # read the observation table\n",
    "          obs_geo = pd.read_csv(file_path + \"species_plus_climate_observed_geo/\" + species + \".tsv\", sep=\"\\t\")\n",
    "          \n",
    "          # filter to keep only this continent\n",
    "          cont_obs = obs_geo[obs_geo['Continent'] == continent]\n",
    "\n",
    "          # if there are observations for this species on this continent\n",
    "          if len(cont_obs) != 0:\n",
    "            # start each species type and continent with an empty grid of 0s\n",
    "            gridD[continent].setdefault(species_type, np.zeros(grid_shape))\n",
    "\n",
    "            # generate 10 x and 10 y coordinates surrounding each observation\n",
    "            # co-ordinate\n",
    "            xs = []\n",
    "            ys = []\n",
    "            xs += [np.arange(x - 10,  x + 10) for x in cont_obs['x']]\n",
    "            ys += [np.arange(y - 10, y + 10) for y in cont_obs['y']]\n",
    "\n",
    "            # convert these to numpy arrays\n",
    "            xs = np.array(xs)\n",
    "            ys = np.array(ys)\n",
    "          \n",
    "            # replace values which are outside the area of the grid\n",
    "            xs[xs < 0] = 0\n",
    "            xs[xs > 2100] = 2100\n",
    "            ys[ys < 0] = 0\n",
    "            ys[ys > 930] = 930\n",
    "\n",
    "            # add a one to the observation grid everywhere this species\n",
    "            # was observed\n",
    "            gridD[continent][species_type][ys, xs] = 1"
   ]
  },
  {
   "cell_type": "markdown",
   "metadata": {
    "colab_type": "text",
    "id": "JZqlTjnlHpi-"
   },
   "source": [
    "Check they look as expected - the absence data should be points on a specific continent distributed randomly within the known range of this species type."
   ]
  },
  {
   "cell_type": "code",
   "execution_count": 8,
   "metadata": {
    "colab": {
     "base_uri": "https://localhost:8080/",
     "height": 214
    },
    "colab_type": "code",
    "executionInfo": {
     "elapsed": 60816,
     "status": "ok",
     "timestamp": 1597076767798,
     "user": {
      "displayName": "Katy Brown",
      "photoUrl": "",
      "userId": "04725673548216289527"
     },
     "user_tz": -60
    },
    "id": "un49se8-1CK0",
    "outputId": "09c34c2e-ea82-46f3-95c2-65e4c8d045e9"
   },
   "outputs": [
    {
     "data": {
      "text/plain": [
       "<matplotlib.image.AxesImage at 0x7f17c24d7550>"
      ]
     },
     "execution_count": 8,
     "metadata": {
      "tags": []
     },
     "output_type": "execute_result"
    },
    {
     "data": {
      "image/png": "[encoded data removed]",
      "text/plain": [
       "<Figure size 432x288 with 1 Axes>"
      ]
     },
     "metadata": {
      "needs_background": "light",
      "tags": []
     },
     "output_type": "display_data"
    }
   ],
   "source": [
    "plt.imshow(gridD['North America']['Ant'], cmap='binary')"
   ]
  },
  {
   "cell_type": "code",
   "execution_count": 9,
   "metadata": {
    "colab": {
     "base_uri": "https://localhost:8080/",
     "height": 214
    },
    "colab_type": "code",
    "executionInfo": {
     "elapsed": 61170,
     "status": "ok",
     "timestamp": 1597076768160,
     "user": {
      "displayName": "Katy Brown",
      "photoUrl": "",
      "userId": "04725673548216289527"
     },
     "user_tz": -60
    },
    "id": "AnLR2Mfe3tcC",
    "outputId": "ba6d6ac0-a9dc-434a-c2ac-1e88513961fe"
   },
   "outputs": [
    {
     "data": {
      "text/plain": [
       "<matplotlib.image.AxesImage at 0x7f17c2416400>"
      ]
     },
     "execution_count": 9,
     "metadata": {
      "tags": []
     },
     "output_type": "execute_result"
    },
    {
     "data": {
      "image/png": "[encoded data removed]",
      "text/plain": [
       "<Figure size 432x288 with 1 Axes>"
      ]
     },
     "metadata": {
      "needs_background": "light",
      "tags": []
     },
     "output_type": "display_data"
    }
   ],
   "source": [
    "plt.imshow(gridD['Asia']['Mite'], cmap='binary')"
   ]
  },
  {
   "cell_type": "markdown",
   "metadata": {
    "colab_type": "text",
    "id": "jD6vbaxVpX8v"
   },
   "source": [
    "From these datasets, for each species we want to generate a random set of absence points, the same size as the set of presence points for this species."
   ]
  },
  {
   "cell_type": "code",
   "execution_count": 10,
   "metadata": {
    "colab": {},
    "colab_type": "code",
    "executionInfo": {
     "elapsed": 80261,
     "status": "ok",
     "timestamp": 1597076787257,
     "user": {
      "displayName": "Katy Brown",
      "photoUrl": "",
      "userId": "04725673548216289527"
     },
     "user_tz": -60
    },
    "id": "apQP-7mfRpkl"
   },
   "outputs": [],
   "source": [
    "# Dictionaries to store the results in various formats\n",
    "absenceD = dict()\n",
    "absenceG = dict()\n",
    "presenceG = dict()\n",
    "\n",
    "for species in species_list:\n",
    "  absenceD.setdefault(species, dict())\n",
    "  absenceG.setdefault(species, dict())\n",
    "  presenceG.setdefault(species, dict())\n",
    "  for continent in continents:\n",
    "      if species in typeD:\n",
    "        # if there is observed data for this species and continent\n",
    "        if os.path.exists(file_path + \"species_plus_climate_observed_geo/\" + species + \".tsv\"):\n",
    "            # get the species type\n",
    "            species_type = typeD[species]\n",
    "\n",
    "            # get the observed data for this continent only\n",
    "            obs_geo = pd.read_csv(file_path + \"species_plus_climate_observed_geo/\" + species + \".tsv\", sep=\"\\t\")\n",
    "            cont_obs = obs_geo[obs_geo['Continent'] == continent]\n",
    "            if len(cont_obs) != 0:\n",
    "\n",
    "              # get all the possible absence points for this species type\n",
    "              type_grid = copy.copy(gridD[continent][species_type])\n",
    "\n",
    "              # get the observed presence points for this specific species\n",
    "              xs = []\n",
    "              ys = []\n",
    "\n",
    "              # pad the observed points by 10 squares on either side so we're\n",
    "              # not placing an absence point too close to a presence point\n",
    "              xs += [np.arange(x - 20,  x + 20) for x in cont_obs['x']]\n",
    "              ys += [np.arange(y - 20, y + 20) for y in cont_obs['y']]\n",
    "\n",
    "              xs = np.array(xs)\n",
    "              ys = np.array(ys)\n",
    "            \n",
    "              # remove points outside the grid boundaries\n",
    "              xs[xs < 0] = 0\n",
    "              xs[xs > 2100] = 2100\n",
    "              ys[ys < 0] = 0\n",
    "              ys[ys > 930] = 930\n",
    "\n",
    "              # remove these points from the list of possible absence points\n",
    "              type_grid[ys, xs] = 0\n",
    "\n",
    "              # find the co-ordinates of the points for the remaining species\n",
    "              # of this type\n",
    "              remaining_absence = np.where(type_grid == 1)\n",
    "\n",
    "              # if there are any points left - otherwise we can't have\n",
    "              # absence data for this species and continent\n",
    "              if sum(sum(remaining_absence)) != 0:\n",
    "                # take a random sample of these co-ordinates\n",
    "                # the random sample is the same size as the list of presence\n",
    "                # points\n",
    "                sample = np.random.choice(np.arange(np.shape(remaining_absence)[1]), len(obs_geo))\n",
    "                absence_x = remaining_absence[0][sample]\n",
    "                absence_y = remaining_absence[1][sample]\n",
    "                absence_coords = absence_x, absence_y\n",
    "                \n",
    "                # store the co-ordinates of the absence points\n",
    "                absenceD[species][continent] = absence_coords\n",
    "                \n",
    "                # store a grid of the absence points\n",
    "                new_grid = np.zeros(np.shape(type_grid))\n",
    "                new_grid[ys, xs] = 1\n",
    "                absenceG[species][continent] = new_grid\n",
    "\n",
    "                # store a grid of the presence points, just for comparison\n",
    "                presence = np.zeros(np.shape(type_grid))\n",
    "                presence[cont_obs['y'], cont_obs['x']] = 1\n",
    "                presenceG[species][continent] = presence"
   ]
  },
  {
   "cell_type": "markdown",
   "metadata": {
    "colab_type": "text",
    "id": "dc3qfPchz0IG"
   },
   "source": [
    "Look at a couple to check the look normal - the dots should be different but in a similar region, the absence point should usually be more dispered."
   ]
  },
  {
   "cell_type": "code",
   "execution_count": 11,
   "metadata": {
    "colab": {
     "base_uri": "https://localhost:8080/",
     "height": 226
    },
    "colab_type": "code",
    "executionInfo": {
     "elapsed": 80746,
     "status": "ok",
     "timestamp": 1597076787749,
     "user": {
      "displayName": "Katy Brown",
      "photoUrl": "",
      "userId": "04725673548216289527"
     },
     "user_tz": -60
    },
    "id": "qbnw6ZoaNcuQ",
    "outputId": "83b9fc52-ffa0-447c-b216-7a70f0d30504"
   },
   "outputs": [
    {
     "data": {
      "text/plain": [
       "Text(0.5, 1.0, 'Bombus terrestris presence Europe')"
      ]
     },
     "execution_count": 11,
     "metadata": {
      "tags": []
     },
     "output_type": "execute_result"
    },
    {
     "data": {
      "image/png": "[encoded data removed]",
      "text/plain": [
       "<Figure size 432x288 with 1 Axes>"
      ]
     },
     "metadata": {
      "needs_background": "light",
      "tags": []
     },
     "output_type": "display_data"
    }
   ],
   "source": [
    "plt.imshow(presenceG['Bombus_terrestris']['Europe'], cmap='binary')\n",
    "plt.title(\"Bombus terrestris presence Europe\")"
   ]
  },
  {
   "cell_type": "code",
   "execution_count": 12,
   "metadata": {
    "colab": {
     "base_uri": "https://localhost:8080/",
     "height": 226
    },
    "colab_type": "code",
    "executionInfo": {
     "elapsed": 81397,
     "status": "ok",
     "timestamp": 1597076788407,
     "user": {
      "displayName": "Katy Brown",
      "photoUrl": "",
      "userId": "04725673548216289527"
     },
     "user_tz": -60
    },
    "id": "SE9iUAIK0v4T",
    "outputId": "f2371963-c822-45f7-a5a4-176176063b67"
   },
   "outputs": [
    {
     "data": {
      "text/plain": [
       "Text(0.5, 1.0, 'Bombus terrestris absence Europe')"
      ]
     },
     "execution_count": 12,
     "metadata": {
      "tags": []
     },
     "output_type": "execute_result"
    },
    {
     "data": {
      "image/png": "[encoded data removed]",
      "text/plain": [
       "<Figure size 432x288 with 1 Axes>"
      ]
     },
     "metadata": {
      "needs_background": "light",
      "tags": []
     },
     "output_type": "display_data"
    }
   ],
   "source": [
    "plt.imshow(absenceG['Bombus_terrestris']['Europe'], cmap='binary')\n",
    "plt.title(\"Bombus terrestris absence Europe\")"
   ]
  },
  {
   "cell_type": "code",
   "execution_count": 13,
   "metadata": {
    "colab": {
     "base_uri": "https://localhost:8080/",
     "height": 226
    },
    "colab_type": "code",
    "executionInfo": {
     "elapsed": 81653,
     "status": "ok",
     "timestamp": 1597076788671,
     "user": {
      "displayName": "Katy Brown",
      "photoUrl": "",
      "userId": "04725673548216289527"
     },
     "user_tz": -60
    },
    "id": "UilD46Y-z6vV",
    "outputId": "f6a7fcad-e91a-422c-b596-fb849c294dfb"
   },
   "outputs": [
    {
     "data": {
      "text/plain": [
       "Text(0.5, 1.0, 'Apis mellifera presence Europe')"
      ]
     },
     "execution_count": 13,
     "metadata": {
      "tags": []
     },
     "output_type": "execute_result"
    },
    {
     "data": {
      "image/png": "[encoded data removed]",
      "text/plain": [
       "<Figure size 432x288 with 1 Axes>"
      ]
     },
     "metadata": {
      "needs_background": "light",
      "tags": []
     },
     "output_type": "display_data"
    }
   ],
   "source": [
    "plt.imshow(presenceG['Apis_mellifera']['Europe'], cmap='binary')\n",
    "plt.title(\"Apis mellifera presence Europe\")"
   ]
  },
  {
   "cell_type": "code",
   "execution_count": 14,
   "metadata": {
    "colab": {
     "base_uri": "https://localhost:8080/",
     "height": 226
    },
    "colab_type": "code",
    "executionInfo": {
     "elapsed": 82192,
     "status": "ok",
     "timestamp": 1597076789217,
     "user": {
      "displayName": "Katy Brown",
      "photoUrl": "",
      "userId": "04725673548216289527"
     },
     "user_tz": -60
    },
    "id": "Z42YtKSK0FZ8",
    "outputId": "42def0e3-31a0-44b3-86c8-ca8457ceb344"
   },
   "outputs": [
    {
     "data": {
      "text/plain": [
       "Text(0.5, 1.0, 'Apis mellifera absence Europe')"
      ]
     },
     "execution_count": 14,
     "metadata": {
      "tags": []
     },
     "output_type": "execute_result"
    },
    {
     "data": {
      "image/png": "[encoded data removed]",
      "text/plain": [
       "<Figure size 432x288 with 1 Axes>"
      ]
     },
     "metadata": {
      "needs_background": "light",
      "tags": []
     },
     "output_type": "display_data"
    }
   ],
   "source": [
    "plt.imshow(absenceG['Apis_mellifera']['Europe'], cmap='binary')\n",
    "plt.title(\"Apis mellifera absence Europe\")"
   ]
  },
  {
   "cell_type": "markdown",
   "metadata": {
    "colab_type": "text",
    "id": "R4PdidUO0XjV"
   },
   "source": [
    "Now we want to extract the WORLDCLIM data for these points and save it - just like we did for the presence points.\n",
    "\n",
    "We only need absence points for the current data (I think) and then we can predict presence and absence under the predicted scenarios using the SDM."
   ]
  },
  {
   "cell_type": "code",
   "execution_count": 14,
   "metadata": {
    "colab": {},
    "colab_type": "code",
    "executionInfo": {
     "elapsed": 82188,
     "status": "ok",
     "timestamp": 1597076789220,
     "user": {
      "displayName": "Katy Brown",
      "photoUrl": "",
      "userId": "04725673548216289527"
     },
     "user_tz": -60
    },
    "id": "jdzILhq8dI4Q"
   },
   "outputs": [],
   "source": []
  },
  {
   "cell_type": "code",
   "execution_count": 15,
   "metadata": {
    "colab": {},
    "colab_type": "code",
    "executionInfo": {
     "elapsed": 111106,
     "status": "ok",
     "timestamp": 1597076818143,
     "user": {
      "displayName": "Katy Brown",
      "photoUrl": "",
      "userId": "04725673548216289527"
     },
     "user_tz": -60
    },
    "id": "wSKCvawQM_Bc"
   },
   "outputs": [],
   "source": [
    "# get the names of the bioclim datapoints\n",
    "\n",
    "bioclim = pd.read_csv(file_path + \"bioclim.tsv\", sep=\"\\t\")\n",
    "bioclim_name = dict(zip(bioclim['variable_number'], bioclim['name']))\n",
    "\n",
    "# set the paths to the raster files for current and predicted climate\n",
    "raster_path_current = file_path + \"climate_data/\" + \"near_present.tif\"\n",
    "\n",
    "# open the raster files\n",
    "raster_current = rasterio.open(raster_path_current)\n",
    "\n",
    "# convert the data into a matrix, round to 6dp, replace inf with nan\n",
    "grid_current = raster_current.read()\n",
    "grid_current = np.round(grid_current, 6)\n",
    "grid_current[grid_current == float('-inf'), ] = float('nan')\n",
    "# exclude very low latitudes\n",
    "grid_current = grid_current[:, 0:930, :]\n",
    "\n",
    "\n",
    "for species in species_list:\n",
    "  all_results = pd.DataFrame()\n",
    "  for continent in continents:\n",
    "      if species in typeD:\n",
    "        if os.path.exists(file_path + \"species_plus_climate_observed_geo/\" + species + \".tsv\"):\n",
    "\n",
    "            if continent in absenceD[species]:\n",
    "                absence = absenceD[species][continent]\n",
    "                raster_results = []\n",
    "                # for each absence point\n",
    "                for i, (x, y) in enumerate(zip(absence[0], absence[1])):\n",
    "                    dLong, dLat = convert_xy_to_longlat(y, x)\n",
    "                    this_obs = [\"obs_\" + str(i+1), x, y, dLong, dLat, continent]\n",
    "\n",
    "                    # for each bioclim variable\n",
    "                    for i in range(0, 19):\n",
    "                        # get the grid for this variable\n",
    "                        var_grid = grid_current[i]\n",
    "                        \n",
    "                        # get the value of this variable at this grid point\n",
    "                        gridpoint_current = var_grid[x, y]\n",
    "                        # store the results for this observation\n",
    "                        this_obs.append(gridpoint_current)\n",
    "                    # exclude NA values\n",
    "                    if not np.isnan(this_obs[-1]):\n",
    "                       raster_results.append(this_obs)\n",
    "                # save everything in the species_plus_climate_observed_absence folder\n",
    "                results = pd.DataFrame(raster_results, columns=['obs_ID', 'x', 'y', 'decimalLongitude', 'decimalLatitude', 'Continent'] + [bioclim_name[x] for x in range(1, 20)])\n",
    "                all_results = all_results.append(results)\n",
    "  all_results.to_csv(file_path + \"species_plus_climate_observed_absence/\" + species + \"_geo.tsv\", sep=\"\\t\", index=None)"
   ]
  },
  {
   "cell_type": "code",
   "execution_count": null,
   "metadata": {
    "colab": {},
    "colab_type": "code",
    "executionInfo": {
     "elapsed": 111092,
     "status": "aborted",
     "timestamp": 1597076818146,
     "user": {
      "displayName": "Katy Brown",
      "photoUrl": "",
      "userId": "04725673548216289527"
     },
     "user_tz": -60
    },
    "id": "TGt_Dx3Q2-b3"
   },
   "outputs": [],
   "source": []
  }
 ],
 "metadata": {
  "colab": {
   "authorship_tag": "ABX9TyP56HG3jGrDIK4rn8FWHZCp",
   "collapsed_sections": [],
   "name": "13_absence_data.ipynb",
   "provenance": [
    {
     "file_id": "1rbf23z75cQEZK1cf1J6UzUjONwoNkqta",
     "timestamp": 1596820313739
    },
    {
     "file_id": "1CK3pembU63f-LIHil2CtJltp9GtwBr3y",
     "timestamp": 1596803598953
    },
    {
     "file_id": "1znoNo7JDrfelUOgAYtMYMZpa4T2OWLzt",
     "timestamp": 1596728531288
    }
   ]
  },
  "kernelspec": {
   "display_name": "Python 3",
   "language": "python",
   "name": "python3"
  },
  "language_info": {
   "codemirror_mode": {
    "name": "ipython",
    "version": 3
   },
   "file_extension": ".py",
   "mimetype": "text/x-python",
   "name": "python",
   "nbconvert_exporter": "python",
   "pygments_lexer": "ipython3",
   "version": "3.6.10"
  }
 },
 "nbformat": 4,
 "nbformat_minor": 1
}
