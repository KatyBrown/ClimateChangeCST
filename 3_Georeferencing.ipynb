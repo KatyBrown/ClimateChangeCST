{
 "cells": [
  {
   "cell_type": "code",
   "execution_count": null,
   "metadata": {
    "colab": {
     "base_uri": "https://localhost:8080/",
     "height": 325
    },
    "colab_type": "code",
    "executionInfo": {
     "elapsed": 82651,
     "status": "ok",
     "timestamp": 1596107153775,
     "user": {
      "displayName": "Katy Brown",
      "photoUrl": "",
      "userId": "04725673548216289527"
     },
     "user_tz": -60
    },
    "id": "_d_1WZWg2nCE",
    "outputId": "9a19e4f2-c81a-4d4e-a4b4-6a14906736a6"
   },
   "outputs": [
    {
     "name": "stdout",
     "output_type": "stream",
     "text": [
      "Reading package lists...\n",
      "Building dependency tree...\n",
      "Reading state information...\n",
      "libgeos-dev is already the newest version (3.6.2-1build2).\n",
      "libproj-dev is already the newest version (4.9.3-2).\n",
      "proj-bin is already the newest version (4.9.3-2).\n",
      "The following package was automatically installed and is no longer required:\n",
      "  libnvidia-common-440\n",
      "Use 'apt autoremove' to remove it.\n",
      "0 upgraded, 0 newly installed, 0 to remove and 35 not upgraded.\n",
      "  Building wheel for basemap (setup.py) ... \u001b[?25l\u001b[?25hdone\n",
      "Go to this URL in a browser: https://accounts.google.com/o/oauth2/auth?client_id=947318989803-6bn6qk8qdgf4n4g3pfee6491hc0brc4i.apps.googleusercontent.com&redirect_uri=urn%3aietf%3awg%3aoauth%3a2.0%3aoob&response_type=code&scope=email%20https%3a%2f%2fwww.googleapis.com%2fauth%2fdocs.test%20https%3a%2f%2fwww.googleapis.com%2fauth%2fdrive%20https%3a%2f%2fwww.googleapis.com%2fauth%2fdrive.photos.readonly%20https%3a%2f%2fwww.googleapis.com%2fauth%2fpeopleapi.readonly\n",
      "\n",
      "Enter your authorization code:\n",
      "··········\n",
      "Mounted at /content/drive\n"
     ]
    }
   ],
   "source": [
    "!pip install -q geopandas\n",
    "!apt install -q proj-bin libproj-dev libgeos-dev -y\n",
    "!pip install -q https://github.com/matplotlib/basemap/archive/master.zip\n",
    "\n",
    "# Pandas is a package containing additional functions to use data frames in Python\n",
    "import pandas as pd\n",
    "import geopandas as gpd\n",
    "import matplotlib\n",
    "import matplotlib.pyplot as plt\n",
    "%matplotlib inline\n",
    "from mpl_toolkits.basemap import Basemap\n",
    "import warnings\n",
    "warnings.simplefilter('ignore')\n",
    "# These two lines allow the notebook to access the Google Drive.\n",
    "from google.colab import drive\n",
    "drive.mount('/content/drive', force_remount=True)\n",
    "\n",
    "# This is the path to the project folder within the Google Drive.\n",
    "file_path = \"/content/drive/My Drive/\""
   ]
  },
  {
   "cell_type": "markdown",
   "metadata": {
    "colab_type": "text",
    "id": "Suu258UHBAIC"
   },
   "source": []
  },
  {
   "cell_type": "markdown",
   "metadata": {
    "colab": {},
    "colab_type": "code",
    "id": "wmv00W4jA8lO"
   },
   "source": [
    "---\n",
    "## Notebook 3"
   ]
  },
  {
   "cell_type": "markdown",
   "metadata": {
    "colab_type": "text",
    "id": "zM0yVXe_GG55"
   },
   "source": [
    "## Georeferencing"
   ]
  },
  {
   "cell_type": "markdown",
   "metadata": {},
   "source": [
    "This notebook contains step by step instructions on how to \"georeference\" geographical data using geopandas and basemap for a single species, checking that the point is the the correct country according to the latitude and longitude and that it is not in the ocean."
   ]
  },
  {
   "cell_type": "markdown",
   "metadata": {},
   "source": [
    "We can use a variable to control the species name - this means we only have to change it in one place every time we want to run a different table."
   ]
  },
  {
   "cell_type": "code",
   "execution_count": 1,
   "metadata": {},
   "outputs": [],
   "source": [
    "species_name = 'Athalia_rosae'"
   ]
  },
  {
   "cell_type": "markdown",
   "metadata": {
    "colab_type": "text",
    "id": "3gXvKaTc3EiM"
   },
   "source": [
    "Read the data table which we created in the data cleaning step into Python."
   ]
  },
  {
   "cell_type": "code",
   "execution_count": null,
   "metadata": {
    "colab": {},
    "colab_type": "code",
    "id": "RJowWXj73G60"
   },
   "outputs": [],
   "source": [
    "mytab = pd.read_csv(file_path + \"/filtered_main_tables/\" + species_name + \".csv\", sep=\"\\t\")"
   ]
  },
  {
   "cell_type": "markdown",
   "metadata": {
    "colab_type": "text",
    "id": "XASNDcT9fqF8"
   },
   "source": [
    "Make another summary table to record the results of processing the data."
   ]
  },
  {
   "cell_type": "code",
   "execution_count": null,
   "metadata": {
    "colab": {},
    "colab_type": "code",
    "id": "Leu1Jyxpft2l"
   },
   "outputs": [],
   "source": [
    "# Create an empty dataframe with these columns and with one row for this species\n",
    "geosummary = pd.DataFrame(columns=['nrecords_unfiltered', 'n_in_wrong_country', 'n_in_ocean',\n",
    "                                   'nrecords_clean'],\n",
    "                       index=[species_name])\n",
    "\n",
    "# record the original number of records\n",
    "geosummary.loc[species_name, 'nrecords_unfiltered'] = len(mytab)"
   ]
  },
  {
   "cell_type": "code",
   "execution_count": null,
   "metadata": {
    "colab": {
     "base_uri": "https://localhost:8080/",
     "height": 80
    },
    "colab_type": "code",
    "executionInfo": {
     "elapsed": 83522,
     "status": "ok",
     "timestamp": 1596107154688,
     "user": {
      "displayName": "Katy Brown",
      "photoUrl": "",
      "userId": "04725673548216289527"
     },
     "user_tz": -60
    },
    "id": "uUvcbMy96lki",
    "outputId": "8e01ff8c-fe6d-49b9-f020-09098fddf37f"
   },
   "outputs": [
    {
     "data": {
      "text/html": [
       "<div>\n",
       "<style scoped>\n",
       "    .dataframe tbody tr th:only-of-type {\n",
       "        vertical-align: middle;\n",
       "    }\n",
       "\n",
       "    .dataframe tbody tr th {\n",
       "        vertical-align: top;\n",
       "    }\n",
       "\n",
       "    .dataframe thead th {\n",
       "        text-align: right;\n",
       "    }\n",
       "</style>\n",
       "<table border=\"1\" class=\"dataframe\">\n",
       "  <thead>\n",
       "    <tr style=\"text-align: right;\">\n",
       "      <th></th>\n",
       "      <th>nrecords_unfiltered</th>\n",
       "      <th>n_in_wrong_country</th>\n",
       "      <th>n_in_ocean</th>\n",
       "      <th>nrecords_clean</th>\n",
       "    </tr>\n",
       "  </thead>\n",
       "  <tbody>\n",
       "    <tr>\n",
       "      <th>Athalia_rosae</th>\n",
       "      <td>2973</td>\n",
       "      <td>NaN</td>\n",
       "      <td>NaN</td>\n",
       "      <td>NaN</td>\n",
       "    </tr>\n",
       "  </tbody>\n",
       "</table>\n",
       "</div>"
      ],
      "text/plain": [
       "              nrecords_unfiltered n_in_wrong_country n_in_ocean nrecords_clean\n",
       "Athalia_rosae                2973                NaN        NaN            NaN"
      ]
     },
     "execution_count": 5,
     "metadata": {
      "tags": []
     },
     "output_type": "execute_result"
    }
   ],
   "source": [
    "geosummary"
   ]
  },
  {
   "cell_type": "markdown",
   "metadata": {
    "colab_type": "text",
    "id": "0OrGDanhMjxE"
   },
   "source": [
    "Merge the table with the file called “country_codes.tsv” in the main classroom folder.  This will add an additional column - country name."
   ]
  },
  {
   "cell_type": "code",
   "execution_count": null,
   "metadata": {
    "colab": {},
    "colab_type": "code",
    "id": "fHvJ7qgysJib"
   },
   "outputs": [],
   "source": [
    "another_tab = pd.read_csv(file_path + \"country_codes.tsv\", sep=\"\\t\")\n",
    "another_tab['countryCode'] = another_tab['countryCode'].str.strip()"
   ]
  },
  {
   "cell_type": "code",
   "execution_count": null,
   "metadata": {
    "colab": {},
    "colab_type": "code",
    "id": "8Mw0-SiUtG-B"
   },
   "outputs": [],
   "source": [
    "mytab = another_tab.merge(mytab)"
   ]
  },
  {
   "cell_type": "markdown",
   "metadata": {
    "colab_type": "text",
    "id": "i5QCdTqePAh8"
   },
   "source": [
    "A format called a \"shape file\" can be used to give information about geographic regions to pandas.\n",
    "\n",
    "\n",
    "https://en.wikipedia.org/wiki/Shapefile.  These actually consist of sets of five files.\n",
    "\n",
    "These consist of polygons representing geographical information plotted onto a set of map co-ordinates.\n",
    "\n",
    "We will use this data source to find the boundaries of different countries https://hub.arcgis.com/datasets/UIA::uia-world-countries-boundaries?geometry=-73.828%2C-89.382%2C73.828%2C86.053.  I have downloaded the shapefiles from this source and saved them in the \"country_boundaries_shapefiles\" folder.\n",
    "\n",
    "Geopandas knows how to interpret this data into a table.\n",
    "\n"
   ]
  },
  {
   "cell_type": "code",
   "execution_count": null,
   "metadata": {
    "colab": {},
    "colab_type": "code",
    "id": "HSifU3lLPDGO"
   },
   "outputs": [],
   "source": [
    "worldmap = gpd.read_file(file_path + \"/country_boundaries_shapefiles/World_Countries__Generalized_.shp\")"
   ]
  },
  {
   "cell_type": "markdown",
   "metadata": {
    "colab_type": "text",
    "id": "zI85dCRCSWT8"
   },
   "source": [
    "The geometry column of this table contains the information needed to reproduce the shapes of the countries on a map."
   ]
  },
  {
   "cell_type": "code",
   "execution_count": null,
   "metadata": {
    "colab": {
     "base_uri": "https://localhost:8080/",
     "height": 419
    },
    "colab_type": "code",
    "executionInfo": {
     "elapsed": 85970,
     "status": "ok",
     "timestamp": 1596107157163,
     "user": {
      "displayName": "Katy Brown",
      "photoUrl": "",
      "userId": "04725673548216289527"
     },
     "user_tz": -60
    },
    "id": "0r1jRsxPSRE1",
    "outputId": "6b5cb75f-a59a-4805-cb67-7369561c027a"
   },
   "outputs": [
    {
     "data": {
      "text/html": [
       "<div>\n",
       "<style scoped>\n",
       "    .dataframe tbody tr th:only-of-type {\n",
       "        vertical-align: middle;\n",
       "    }\n",
       "\n",
       "    .dataframe tbody tr th {\n",
       "        vertical-align: top;\n",
       "    }\n",
       "\n",
       "    .dataframe thead th {\n",
       "        text-align: right;\n",
       "    }\n",
       "</style>\n",
       "<table border=\"1\" class=\"dataframe\">\n",
       "  <thead>\n",
       "    <tr style=\"text-align: right;\">\n",
       "      <th></th>\n",
       "      <th>FID</th>\n",
       "      <th>COUNTRY</th>\n",
       "      <th>ISO</th>\n",
       "      <th>COUNTRYAFF</th>\n",
       "      <th>AFF_ISO</th>\n",
       "      <th>SHAPE_Leng</th>\n",
       "      <th>SHAPE_Area</th>\n",
       "      <th>geometry</th>\n",
       "    </tr>\n",
       "  </thead>\n",
       "  <tbody>\n",
       "    <tr>\n",
       "      <th>0</th>\n",
       "      <td>1</td>\n",
       "      <td>American Samoa</td>\n",
       "      <td>AS</td>\n",
       "      <td>United States</td>\n",
       "      <td>US</td>\n",
       "      <td>0.600124</td>\n",
       "      <td>0.013720</td>\n",
       "      <td>POLYGON ((-170.74390 -14.37555, -170.74942 -14...</td>\n",
       "    </tr>\n",
       "    <tr>\n",
       "      <th>1</th>\n",
       "      <td>2</td>\n",
       "      <td>United States Minor Outlying Islands</td>\n",
       "      <td>UM</td>\n",
       "      <td>United States</td>\n",
       "      <td>US</td>\n",
       "      <td>0.480216</td>\n",
       "      <td>0.003216</td>\n",
       "      <td>MULTIPOLYGON (((-160.02114 -0.39805, -160.0281...</td>\n",
       "    </tr>\n",
       "    <tr>\n",
       "      <th>2</th>\n",
       "      <td>3</td>\n",
       "      <td>Cook Islands</td>\n",
       "      <td>CK</td>\n",
       "      <td>New Zealand</td>\n",
       "      <td>NZ</td>\n",
       "      <td>0.980664</td>\n",
       "      <td>0.013073</td>\n",
       "      <td>MULTIPOLYGON (((-159.74698 -21.25667, -159.793...</td>\n",
       "    </tr>\n",
       "    <tr>\n",
       "      <th>3</th>\n",
       "      <td>4</td>\n",
       "      <td>French Polynesia</td>\n",
       "      <td>PF</td>\n",
       "      <td>France</td>\n",
       "      <td>FR</td>\n",
       "      <td>3.930211</td>\n",
       "      <td>0.175332</td>\n",
       "      <td>MULTIPOLYGON (((-149.17920 -17.87084, -149.258...</td>\n",
       "    </tr>\n",
       "    <tr>\n",
       "      <th>4</th>\n",
       "      <td>5</td>\n",
       "      <td>Niue</td>\n",
       "      <td>NU</td>\n",
       "      <td>New Zealand</td>\n",
       "      <td>NZ</td>\n",
       "      <td>0.541413</td>\n",
       "      <td>0.021414</td>\n",
       "      <td>POLYGON ((-169.89389 -19.14556, -169.93088 -19...</td>\n",
       "    </tr>\n",
       "    <tr>\n",
       "      <th>...</th>\n",
       "      <td>...</td>\n",
       "      <td>...</td>\n",
       "      <td>...</td>\n",
       "      <td>...</td>\n",
       "      <td>...</td>\n",
       "      <td>...</td>\n",
       "      <td>...</td>\n",
       "      <td>...</td>\n",
       "    </tr>\n",
       "    <tr>\n",
       "      <th>244</th>\n",
       "      <td>245</td>\n",
       "      <td>Northern Mariana Islands</td>\n",
       "      <td>MP</td>\n",
       "      <td>United States</td>\n",
       "      <td>US</td>\n",
       "      <td>0.908853</td>\n",
       "      <td>0.019927</td>\n",
       "      <td>MULTIPOLYGON (((145.73468 15.08722, 145.72830 ...</td>\n",
       "    </tr>\n",
       "    <tr>\n",
       "      <th>245</th>\n",
       "      <td>246</td>\n",
       "      <td>Palau</td>\n",
       "      <td>PW</td>\n",
       "      <td>Palau</td>\n",
       "      <td>PW</td>\n",
       "      <td>1.105323</td>\n",
       "      <td>0.031136</td>\n",
       "      <td>MULTIPOLYGON (((134.53137 7.35444, 134.52234 7...</td>\n",
       "    </tr>\n",
       "    <tr>\n",
       "      <th>246</th>\n",
       "      <td>247</td>\n",
       "      <td>Russian Federation</td>\n",
       "      <td>RU</td>\n",
       "      <td>Russian Federation</td>\n",
       "      <td>RU</td>\n",
       "      <td>1536.287150</td>\n",
       "      <td>2931.526082</td>\n",
       "      <td>MULTIPOLYGON (((-179.99999 68.98010, -179.9580...</td>\n",
       "    </tr>\n",
       "    <tr>\n",
       "      <th>247</th>\n",
       "      <td>248</td>\n",
       "      <td>Spain</td>\n",
       "      <td>ES</td>\n",
       "      <td>Spain</td>\n",
       "      <td>ES</td>\n",
       "      <td>51.724956</td>\n",
       "      <td>52.915449</td>\n",
       "      <td>MULTIPOLYGON (((-2.91472 35.27361, -2.93924 35...</td>\n",
       "    </tr>\n",
       "    <tr>\n",
       "      <th>248</th>\n",
       "      <td>249</td>\n",
       "      <td>Canarias</td>\n",
       "      <td>ES</td>\n",
       "      <td>Spain</td>\n",
       "      <td>ES</td>\n",
       "      <td>9.491474</td>\n",
       "      <td>0.695336</td>\n",
       "      <td>MULTIPOLYGON (((-17.91125 27.77374, -17.96389 ...</td>\n",
       "    </tr>\n",
       "  </tbody>\n",
       "</table>\n",
       "<p>249 rows × 8 columns</p>\n",
       "</div>"
      ],
      "text/plain": [
       "     FID  ...                                           geometry\n",
       "0      1  ...  POLYGON ((-170.74390 -14.37555, -170.74942 -14...\n",
       "1      2  ...  MULTIPOLYGON (((-160.02114 -0.39805, -160.0281...\n",
       "2      3  ...  MULTIPOLYGON (((-159.74698 -21.25667, -159.793...\n",
       "3      4  ...  MULTIPOLYGON (((-149.17920 -17.87084, -149.258...\n",
       "4      5  ...  POLYGON ((-169.89389 -19.14556, -169.93088 -19...\n",
       "..   ...  ...                                                ...\n",
       "244  245  ...  MULTIPOLYGON (((145.73468 15.08722, 145.72830 ...\n",
       "245  246  ...  MULTIPOLYGON (((134.53137 7.35444, 134.52234 7...\n",
       "246  247  ...  MULTIPOLYGON (((-179.99999 68.98010, -179.9580...\n",
       "247  248  ...  MULTIPOLYGON (((-2.91472 35.27361, -2.93924 35...\n",
       "248  249  ...  MULTIPOLYGON (((-17.91125 27.77374, -17.96389 ...\n",
       "\n",
       "[249 rows x 8 columns]"
      ]
     },
     "execution_count": 9,
     "metadata": {
      "tags": []
     },
     "output_type": "execute_result"
    }
   ],
   "source": [
    "worldmap"
   ]
  },
  {
   "cell_type": "markdown",
   "metadata": {
    "colab_type": "text",
    "id": "Wb0X2MlcSkM8"
   },
   "source": [
    "We can plot a map of the world based just on the information in this table."
   ]
  },
  {
   "cell_type": "code",
   "execution_count": null,
   "metadata": {
    "colab": {
     "base_uri": "https://localhost:8080/",
     "height": 227
    },
    "colab_type": "code",
    "executionInfo": {
     "elapsed": 86773,
     "status": "ok",
     "timestamp": 1596107157980,
     "user": {
      "displayName": "Katy Brown",
      "photoUrl": "",
      "userId": "04725673548216289527"
     },
     "user_tz": -60
    },
    "id": "H_6ISpGzycLU",
    "outputId": "8809049d-79fc-457b-ca97-f2c88afa1475"
   },
   "outputs": [
    {
     "data": {
      "text/plain": [
       "<matplotlib.axes._subplots.AxesSubplot at 0x7ff6ddadf978>"
      ]
     },
     "execution_count": 10,
     "metadata": {
      "tags": []
     },
     "output_type": "execute_result"
    },
    {
     "data": {
      "image/png": "[encoded data removed]",
      "text/plain": [
       "<Figure size 432x288 with 1 Axes>"
      ]
     },
     "metadata": {
      "needs_background": "light",
      "tags": []
     },
     "output_type": "display_data"
    }
   ],
   "source": [
    "worldmap.plot()"
   ]
  },
  {
   "cell_type": "markdown",
   "metadata": {
    "colab_type": "text",
    "id": "GGZ0qmfiS9EN"
   },
   "source": [
    "The \"ISO\" column in this table corresponds to the information in the \"countryCode\" column in our filtered species data table.\n",
    "\n",
    "We can use the map data to check that each point in the species table is actually in the country it is reported as being in."
   ]
  },
  {
   "cell_type": "markdown",
   "metadata": {
    "colab_type": "text",
    "id": "L2mLiYlBUF9r"
   },
   "source": [
    "In order to allow Python to interpret geographical data, we need to convert our species dataframe into a \"geodataframe\".  This converts the points in the 'decimalLongitude' and 'decimalLatitude' columns into points on a map.\n",
    "\n",
    "In order to convert latitude and longitude points into map points we used a map projection - https://en.wikipedia.org/wiki/Map_projection - the points can be converted in different ways depending on the map used.\n",
    "\n",
    "Our species observation points and the country polygons are recorded in projection ESPG 4326 or the \"Web Mercator\" projection.\n"
   ]
  },
  {
   "cell_type": "code",
   "execution_count": null,
   "metadata": {
    "colab": {},
    "colab_type": "code",
    "id": "W5W76M0eO-7J"
   },
   "outputs": [],
   "source": [
    "# convert the table to geopandas\n",
    "# tell Python that \"decimalLongitude\" and \"decimalLatitude\" are geographical points in the EPSG 4326 projection.\n",
    "gdf = gpd.GeoDataFrame(mytab,\n",
    "                       geometry=gpd.points_from_xy(mytab['decimalLongitude'], mytab['decimalLatitude']),\n",
    "                       crs=\"epsg:4326\")"
   ]
  },
  {
   "cell_type": "markdown",
   "metadata": {
    "colab_type": "text",
    "id": "PrE-sqakVhdL"
   },
   "source": [
    "The table now has a \"geometry\" column with the new information."
   ]
  },
  {
   "cell_type": "code",
   "execution_count": null,
   "metadata": {
    "colab": {
     "base_uri": "https://localhost:8080/",
     "height": 949
    },
    "colab_type": "code",
    "executionInfo": {
     "elapsed": 86964,
     "status": "ok",
     "timestamp": 1596107158190,
     "user": {
      "displayName": "Katy Brown",
      "photoUrl": "",
      "userId": "04725673548216289527"
     },
     "user_tz": -60
    },
    "id": "iK_tlW76VBPS",
    "outputId": "47e24734-ecef-4e55-80a7-6ae57d23c4f5"
   },
   "outputs": [
    {
     "data": {
      "text/html": [
       "<div>\n",
       "<style scoped>\n",
       "    .dataframe tbody tr th:only-of-type {\n",
       "        vertical-align: middle;\n",
       "    }\n",
       "\n",
       "    .dataframe tbody tr th {\n",
       "        vertical-align: top;\n",
       "    }\n",
       "\n",
       "    .dataframe thead th {\n",
       "        text-align: right;\n",
       "    }\n",
       "</style>\n",
       "<table border=\"1\" class=\"dataframe\">\n",
       "  <thead>\n",
       "    <tr style=\"text-align: right;\">\n",
       "      <th></th>\n",
       "      <th>CountryName</th>\n",
       "      <th>countryCode</th>\n",
       "      <th>gbifID</th>\n",
       "      <th>datasetKey</th>\n",
       "      <th>occurrenceID</th>\n",
       "      <th>kingdom</th>\n",
       "      <th>phylum</th>\n",
       "      <th>class</th>\n",
       "      <th>order</th>\n",
       "      <th>family</th>\n",
       "      <th>genus</th>\n",
       "      <th>species</th>\n",
       "      <th>infraspecificEpithet</th>\n",
       "      <th>taxonRank</th>\n",
       "      <th>scientificName</th>\n",
       "      <th>verbatimScientificName</th>\n",
       "      <th>verbatimScientificNameAuthorship</th>\n",
       "      <th>locality</th>\n",
       "      <th>stateProvince</th>\n",
       "      <th>occurrenceStatus</th>\n",
       "      <th>individualCount</th>\n",
       "      <th>publishingOrgKey</th>\n",
       "      <th>decimalLatitude</th>\n",
       "      <th>decimalLongitude</th>\n",
       "      <th>coordinateUncertaintyInMeters</th>\n",
       "      <th>coordinatePrecision</th>\n",
       "      <th>elevation</th>\n",
       "      <th>elevationAccuracy</th>\n",
       "      <th>depth</th>\n",
       "      <th>depthAccuracy</th>\n",
       "      <th>eventDate</th>\n",
       "      <th>day</th>\n",
       "      <th>month</th>\n",
       "      <th>year</th>\n",
       "      <th>taxonKey</th>\n",
       "      <th>speciesKey</th>\n",
       "      <th>basisOfRecord</th>\n",
       "      <th>institutionCode</th>\n",
       "      <th>collectionCode</th>\n",
       "      <th>catalogNumber</th>\n",
       "      <th>recordNumber</th>\n",
       "      <th>identifiedBy</th>\n",
       "      <th>dateIdentified</th>\n",
       "      <th>license</th>\n",
       "      <th>rightsHolder</th>\n",
       "      <th>recordedBy</th>\n",
       "      <th>typeStatus</th>\n",
       "      <th>establishmentMeans</th>\n",
       "      <th>lastInterpreted</th>\n",
       "      <th>mediaType</th>\n",
       "      <th>issue</th>\n",
       "      <th>geometry</th>\n",
       "    </tr>\n",
       "  </thead>\n",
       "  <tbody>\n",
       "    <tr>\n",
       "      <th>0</th>\n",
       "      <td>Austria</td>\n",
       "      <td>AT</td>\n",
       "      <td>2445054003</td>\n",
       "      <td>50c9509d-22c7-4a22-a47d-8c48425ef4a7</td>\n",
       "      <td>https://www.inaturalist.org/observations/34636624</td>\n",
       "      <td>Animalia</td>\n",
       "      <td>Arthropoda</td>\n",
       "      <td>Insecta</td>\n",
       "      <td>Hymenoptera</td>\n",
       "      <td>Tenthredinidae</td>\n",
       "      <td>Athalia</td>\n",
       "      <td>Athalia rosae</td>\n",
       "      <td>NaN</td>\n",
       "      <td>SPECIES</td>\n",
       "      <td>Athalia rosae (Linnaeus, 1758)</td>\n",
       "      <td>Athalia rosae</td>\n",
       "      <td>NaN</td>\n",
       "      <td>NaN</td>\n",
       "      <td>Steiermark</td>\n",
       "      <td>NaN</td>\n",
       "      <td>NaN</td>\n",
       "      <td>28eb1a3f-1c15-4a95-931a-4af90ecb574d</td>\n",
       "      <td>46.735321</td>\n",
       "      <td>15.583444</td>\n",
       "      <td>NaN</td>\n",
       "      <td>NaN</td>\n",
       "      <td>NaN</td>\n",
       "      <td>NaN</td>\n",
       "      <td>NaN</td>\n",
       "      <td>NaN</td>\n",
       "      <td>2019-10-20T17:16:51</td>\n",
       "      <td>20.0</td>\n",
       "      <td>10.0</td>\n",
       "      <td>2019.0</td>\n",
       "      <td>4490913</td>\n",
       "      <td>4490913</td>\n",
       "      <td>HUMAN_OBSERVATION</td>\n",
       "      <td>iNaturalist</td>\n",
       "      <td>Observations</td>\n",
       "      <td>34636624</td>\n",
       "      <td>NaN</td>\n",
       "      <td>Alexander Boldyrev</td>\n",
       "      <td>NaN</td>\n",
       "      <td>CC_BY_NC_4_0</td>\n",
       "      <td>julia_neuer</td>\n",
       "      <td>julia_neuer</td>\n",
       "      <td>NaN</td>\n",
       "      <td>NaN</td>\n",
       "      <td>2020-07-21T08:52:00.522Z</td>\n",
       "      <td>StillImage</td>\n",
       "      <td>COORDINATE_ROUNDED;GEODETIC_DATUM_ASSUMED_WGS84</td>\n",
       "      <td>POINT (15.58344 46.73532)</td>\n",
       "    </tr>\n",
       "    <tr>\n",
       "      <th>1</th>\n",
       "      <td>Austria</td>\n",
       "      <td>AT</td>\n",
       "      <td>1949983717</td>\n",
       "      <td>50c9509d-22c7-4a22-a47d-8c48425ef4a7</td>\n",
       "      <td>https://www.inaturalist.org/observations/17679331</td>\n",
       "      <td>Animalia</td>\n",
       "      <td>Arthropoda</td>\n",
       "      <td>Insecta</td>\n",
       "      <td>Hymenoptera</td>\n",
       "      <td>Tenthredinidae</td>\n",
       "      <td>Athalia</td>\n",
       "      <td>Athalia rosae</td>\n",
       "      <td>NaN</td>\n",
       "      <td>SPECIES</td>\n",
       "      <td>Athalia rosae (Linnaeus, 1758)</td>\n",
       "      <td>Athalia rosae</td>\n",
       "      <td>NaN</td>\n",
       "      <td>NaN</td>\n",
       "      <td>Wien</td>\n",
       "      <td>NaN</td>\n",
       "      <td>NaN</td>\n",
       "      <td>28eb1a3f-1c15-4a95-931a-4af90ecb574d</td>\n",
       "      <td>48.304750</td>\n",
       "      <td>16.419672</td>\n",
       "      <td>6.0</td>\n",
       "      <td>NaN</td>\n",
       "      <td>NaN</td>\n",
       "      <td>NaN</td>\n",
       "      <td>NaN</td>\n",
       "      <td>NaN</td>\n",
       "      <td>2018-10-20T09:55:10</td>\n",
       "      <td>20.0</td>\n",
       "      <td>10.0</td>\n",
       "      <td>2018.0</td>\n",
       "      <td>4490913</td>\n",
       "      <td>4490913</td>\n",
       "      <td>HUMAN_OBSERVATION</td>\n",
       "      <td>iNaturalist</td>\n",
       "      <td>Observations</td>\n",
       "      <td>17679331</td>\n",
       "      <td>NaN</td>\n",
       "      <td>carnifex</td>\n",
       "      <td>2018-10-20T16:19:41</td>\n",
       "      <td>CC_BY_NC_4_0</td>\n",
       "      <td>carnifex</td>\n",
       "      <td>carnifex</td>\n",
       "      <td>NaN</td>\n",
       "      <td>NaN</td>\n",
       "      <td>2020-07-21T08:51:34.566Z</td>\n",
       "      <td>StillImage</td>\n",
       "      <td>COORDINATE_ROUNDED;GEODETIC_DATUM_ASSUMED_WGS84</td>\n",
       "      <td>POINT (16.41967 48.30475)</td>\n",
       "    </tr>\n",
       "    <tr>\n",
       "      <th>2</th>\n",
       "      <td>Austria</td>\n",
       "      <td>AT</td>\n",
       "      <td>1946190437</td>\n",
       "      <td>50c9509d-22c7-4a22-a47d-8c48425ef4a7</td>\n",
       "      <td>https://www.inaturalist.org/observations/12173291</td>\n",
       "      <td>Animalia</td>\n",
       "      <td>Arthropoda</td>\n",
       "      <td>Insecta</td>\n",
       "      <td>Hymenoptera</td>\n",
       "      <td>Tenthredinidae</td>\n",
       "      <td>Athalia</td>\n",
       "      <td>Athalia rosae</td>\n",
       "      <td>NaN</td>\n",
       "      <td>SPECIES</td>\n",
       "      <td>Athalia rosae (Linnaeus, 1758)</td>\n",
       "      <td>Athalia rosae</td>\n",
       "      <td>NaN</td>\n",
       "      <td>NaN</td>\n",
       "      <td>Wien</td>\n",
       "      <td>NaN</td>\n",
       "      <td>NaN</td>\n",
       "      <td>28eb1a3f-1c15-4a95-931a-4af90ecb574d</td>\n",
       "      <td>48.231321</td>\n",
       "      <td>16.333859</td>\n",
       "      <td>44.0</td>\n",
       "      <td>NaN</td>\n",
       "      <td>NaN</td>\n",
       "      <td>NaN</td>\n",
       "      <td>NaN</td>\n",
       "      <td>NaN</td>\n",
       "      <td>2018-05-05T23:01:42</td>\n",
       "      <td>5.0</td>\n",
       "      <td>5.0</td>\n",
       "      <td>2018.0</td>\n",
       "      <td>4490913</td>\n",
       "      <td>4490913</td>\n",
       "      <td>HUMAN_OBSERVATION</td>\n",
       "      <td>iNaturalist</td>\n",
       "      <td>Observations</td>\n",
       "      <td>12173291</td>\n",
       "      <td>NaN</td>\n",
       "      <td>Konstantin</td>\n",
       "      <td>2018-11-28T05:24:27</td>\n",
       "      <td>CC_BY_NC_4_0</td>\n",
       "      <td>carnifex</td>\n",
       "      <td>carnifex</td>\n",
       "      <td>NaN</td>\n",
       "      <td>NaN</td>\n",
       "      <td>2020-07-21T08:51:33.716Z</td>\n",
       "      <td>StillImage</td>\n",
       "      <td>GEODETIC_DATUM_ASSUMED_WGS84</td>\n",
       "      <td>POINT (16.33386 48.23132)</td>\n",
       "    </tr>\n",
       "    <tr>\n",
       "      <th>3</th>\n",
       "      <td>Austria</td>\n",
       "      <td>AT</td>\n",
       "      <td>1338113327</td>\n",
       "      <td>6ac3f774-d9fb-4796-b3e9-92bf6c81c084</td>\n",
       "      <td>NaN</td>\n",
       "      <td>Animalia</td>\n",
       "      <td>Arthropoda</td>\n",
       "      <td>Insecta</td>\n",
       "      <td>Hymenoptera</td>\n",
       "      <td>Tenthredinidae</td>\n",
       "      <td>Athalia</td>\n",
       "      <td>Athalia rosae</td>\n",
       "      <td>NaN</td>\n",
       "      <td>SPECIES</td>\n",
       "      <td>Athalia rosae (Linnaeus, 1758)</td>\n",
       "      <td>Athalia rosae</td>\n",
       "      <td>NaN</td>\n",
       "      <td>Schloss und Park Arenberg, Salzburg</td>\n",
       "      <td>NaN</td>\n",
       "      <td>NaN</td>\n",
       "      <td>NaN</td>\n",
       "      <td>bb646dff-a905-4403-a49b-6d378c2cf0d9</td>\n",
       "      <td>47.799248</td>\n",
       "      <td>13.058721</td>\n",
       "      <td>250.0</td>\n",
       "      <td>NaN</td>\n",
       "      <td>NaN</td>\n",
       "      <td>NaN</td>\n",
       "      <td>NaN</td>\n",
       "      <td>NaN</td>\n",
       "      <td>2014-09-12T00:00:00</td>\n",
       "      <td>12.0</td>\n",
       "      <td>9.0</td>\n",
       "      <td>2014.0</td>\n",
       "      <td>4490913</td>\n",
       "      <td>4490913</td>\n",
       "      <td>HUMAN_OBSERVATION</td>\n",
       "      <td>naturgucker</td>\n",
       "      <td>naturgucker</td>\n",
       "      <td>750179370</td>\n",
       "      <td>NaN</td>\n",
       "      <td>NaN</td>\n",
       "      <td>NaN</td>\n",
       "      <td>CC_BY_4_0</td>\n",
       "      <td>NaN</td>\n",
       "      <td>-1082328577</td>\n",
       "      <td>NaN</td>\n",
       "      <td>NaN</td>\n",
       "      <td>2020-03-01T11:56:29.324Z</td>\n",
       "      <td>NaN</td>\n",
       "      <td>COORDINATE_ROUNDED;GEODETIC_DATUM_ASSUMED_WGS84</td>\n",
       "      <td>POINT (13.05872 47.79925)</td>\n",
       "    </tr>\n",
       "    <tr>\n",
       "      <th>4</th>\n",
       "      <td>Belgium</td>\n",
       "      <td>BE</td>\n",
       "      <td>2283049884</td>\n",
       "      <td>50c9509d-22c7-4a22-a47d-8c48425ef4a7</td>\n",
       "      <td>https://www.inaturalist.org/observations/27806550</td>\n",
       "      <td>Animalia</td>\n",
       "      <td>Arthropoda</td>\n",
       "      <td>Insecta</td>\n",
       "      <td>Hymenoptera</td>\n",
       "      <td>Tenthredinidae</td>\n",
       "      <td>Athalia</td>\n",
       "      <td>Athalia rosae</td>\n",
       "      <td>NaN</td>\n",
       "      <td>SPECIES</td>\n",
       "      <td>Athalia rosae (Linnaeus, 1758)</td>\n",
       "      <td>Athalia rosae</td>\n",
       "      <td>NaN</td>\n",
       "      <td>NaN</td>\n",
       "      <td>Wallonie</td>\n",
       "      <td>NaN</td>\n",
       "      <td>NaN</td>\n",
       "      <td>28eb1a3f-1c15-4a95-931a-4af90ecb574d</td>\n",
       "      <td>50.708869</td>\n",
       "      <td>4.779504</td>\n",
       "      <td>12.0</td>\n",
       "      <td>NaN</td>\n",
       "      <td>NaN</td>\n",
       "      <td>NaN</td>\n",
       "      <td>NaN</td>\n",
       "      <td>NaN</td>\n",
       "      <td>2019-06-28T15:10:00</td>\n",
       "      <td>28.0</td>\n",
       "      <td>6.0</td>\n",
       "      <td>2019.0</td>\n",
       "      <td>4490913</td>\n",
       "      <td>4490913</td>\n",
       "      <td>HUMAN_OBSERVATION</td>\n",
       "      <td>iNaturalist</td>\n",
       "      <td>Observations</td>\n",
       "      <td>27806550</td>\n",
       "      <td>NaN</td>\n",
       "      <td>Colin Ducarme</td>\n",
       "      <td>2019-06-28T13:17:05</td>\n",
       "      <td>CC_BY_NC_4_0</td>\n",
       "      <td>Colin Ducarme</td>\n",
       "      <td>Colin Ducarme</td>\n",
       "      <td>NaN</td>\n",
       "      <td>NaN</td>\n",
       "      <td>2020-07-21T08:51:37.022Z</td>\n",
       "      <td>StillImage</td>\n",
       "      <td>COORDINATE_ROUNDED;GEODETIC_DATUM_ASSUMED_WGS84</td>\n",
       "      <td>POINT (4.77950 50.70887)</td>\n",
       "    </tr>\n",
       "    <tr>\n",
       "      <th>...</th>\n",
       "      <td>...</td>\n",
       "      <td>...</td>\n",
       "      <td>...</td>\n",
       "      <td>...</td>\n",
       "      <td>...</td>\n",
       "      <td>...</td>\n",
       "      <td>...</td>\n",
       "      <td>...</td>\n",
       "      <td>...</td>\n",
       "      <td>...</td>\n",
       "      <td>...</td>\n",
       "      <td>...</td>\n",
       "      <td>...</td>\n",
       "      <td>...</td>\n",
       "      <td>...</td>\n",
       "      <td>...</td>\n",
       "      <td>...</td>\n",
       "      <td>...</td>\n",
       "      <td>...</td>\n",
       "      <td>...</td>\n",
       "      <td>...</td>\n",
       "      <td>...</td>\n",
       "      <td>...</td>\n",
       "      <td>...</td>\n",
       "      <td>...</td>\n",
       "      <td>...</td>\n",
       "      <td>...</td>\n",
       "      <td>...</td>\n",
       "      <td>...</td>\n",
       "      <td>...</td>\n",
       "      <td>...</td>\n",
       "      <td>...</td>\n",
       "      <td>...</td>\n",
       "      <td>...</td>\n",
       "      <td>...</td>\n",
       "      <td>...</td>\n",
       "      <td>...</td>\n",
       "      <td>...</td>\n",
       "      <td>...</td>\n",
       "      <td>...</td>\n",
       "      <td>...</td>\n",
       "      <td>...</td>\n",
       "      <td>...</td>\n",
       "      <td>...</td>\n",
       "      <td>...</td>\n",
       "      <td>...</td>\n",
       "      <td>...</td>\n",
       "      <td>...</td>\n",
       "      <td>...</td>\n",
       "      <td>...</td>\n",
       "      <td>...</td>\n",
       "      <td>...</td>\n",
       "    </tr>\n",
       "    <tr>\n",
       "      <th>2968</th>\n",
       "      <td>United Kingdom</td>\n",
       "      <td>GB</td>\n",
       "      <td>1504126540</td>\n",
       "      <td>4bc14221-60af-43e5-8e92-0c2b262b9945</td>\n",
       "      <td>72396a41-b021-4679-9982-59e4c773b71b</td>\n",
       "      <td>Animalia</td>\n",
       "      <td>Arthropoda</td>\n",
       "      <td>Insecta</td>\n",
       "      <td>Hymenoptera</td>\n",
       "      <td>Tenthredinidae</td>\n",
       "      <td>Athalia</td>\n",
       "      <td>Athalia rosae</td>\n",
       "      <td>NaN</td>\n",
       "      <td>SPECIES</td>\n",
       "      <td>Athalia rosae (Linnaeus, 1758)</td>\n",
       "      <td>Athalia rosae</td>\n",
       "      <td>NaN</td>\n",
       "      <td>Stodmarsh</td>\n",
       "      <td>England</td>\n",
       "      <td>present</td>\n",
       "      <td>NaN</td>\n",
       "      <td>c71f0513-c95a-4e98-abad-0c222b87ec66</td>\n",
       "      <td>51.319950</td>\n",
       "      <td>1.205420</td>\n",
       "      <td>100.0</td>\n",
       "      <td>NaN</td>\n",
       "      <td>NaN</td>\n",
       "      <td>NaN</td>\n",
       "      <td>NaN</td>\n",
       "      <td>NaN</td>\n",
       "      <td>2009-06-17T00:00:00</td>\n",
       "      <td>17.0</td>\n",
       "      <td>6.0</td>\n",
       "      <td>2009.0</td>\n",
       "      <td>4490913</td>\n",
       "      <td>4490913</td>\n",
       "      <td>HUMAN_OBSERVATION</td>\n",
       "      <td>RSPB</td>\n",
       "      <td>no key</td>\n",
       "      <td>NaN</td>\n",
       "      <td>3574</td>\n",
       "      <td>NaN</td>\n",
       "      <td>NaN</td>\n",
       "      <td>CC_BY_4_0</td>\n",
       "      <td>NaN</td>\n",
       "      <td>NaN</td>\n",
       "      <td>NaN</td>\n",
       "      <td>NaN</td>\n",
       "      <td>2020-02-10T11:26:27.275Z</td>\n",
       "      <td>NaN</td>\n",
       "      <td>NaN</td>\n",
       "      <td>POINT (1.20542 51.31995)</td>\n",
       "    </tr>\n",
       "    <tr>\n",
       "      <th>2969</th>\n",
       "      <td>United Kingdom</td>\n",
       "      <td>GB</td>\n",
       "      <td>1504126414</td>\n",
       "      <td>4bc14221-60af-43e5-8e92-0c2b262b9945</td>\n",
       "      <td>5bc97a5f-0613-45a0-b223-9a5a2a9af619</td>\n",
       "      <td>Animalia</td>\n",
       "      <td>Arthropoda</td>\n",
       "      <td>Insecta</td>\n",
       "      <td>Hymenoptera</td>\n",
       "      <td>Tenthredinidae</td>\n",
       "      <td>Athalia</td>\n",
       "      <td>Athalia rosae</td>\n",
       "      <td>NaN</td>\n",
       "      <td>SPECIES</td>\n",
       "      <td>Athalia rosae (Linnaeus, 1758)</td>\n",
       "      <td>Athalia rosae</td>\n",
       "      <td>NaN</td>\n",
       "      <td>Stodmarsh</td>\n",
       "      <td>England</td>\n",
       "      <td>present</td>\n",
       "      <td>NaN</td>\n",
       "      <td>c71f0513-c95a-4e98-abad-0c222b87ec66</td>\n",
       "      <td>51.306050</td>\n",
       "      <td>1.187230</td>\n",
       "      <td>100.0</td>\n",
       "      <td>NaN</td>\n",
       "      <td>NaN</td>\n",
       "      <td>NaN</td>\n",
       "      <td>NaN</td>\n",
       "      <td>NaN</td>\n",
       "      <td>2009-06-16T00:00:00</td>\n",
       "      <td>16.0</td>\n",
       "      <td>6.0</td>\n",
       "      <td>2009.0</td>\n",
       "      <td>4490913</td>\n",
       "      <td>4490913</td>\n",
       "      <td>HUMAN_OBSERVATION</td>\n",
       "      <td>RSPB</td>\n",
       "      <td>no key</td>\n",
       "      <td>NaN</td>\n",
       "      <td>3571</td>\n",
       "      <td>NaN</td>\n",
       "      <td>NaN</td>\n",
       "      <td>CC_BY_4_0</td>\n",
       "      <td>NaN</td>\n",
       "      <td>NaN</td>\n",
       "      <td>NaN</td>\n",
       "      <td>NaN</td>\n",
       "      <td>2020-02-10T11:26:27.497Z</td>\n",
       "      <td>NaN</td>\n",
       "      <td>NaN</td>\n",
       "      <td>POINT (1.18723 51.30605)</td>\n",
       "    </tr>\n",
       "    <tr>\n",
       "      <th>2970</th>\n",
       "      <td>United Kingdom</td>\n",
       "      <td>GB</td>\n",
       "      <td>1504126270</td>\n",
       "      <td>4bc14221-60af-43e5-8e92-0c2b262b9945</td>\n",
       "      <td>edcec703-e150-4cbb-83b2-10a09d1a9fbd</td>\n",
       "      <td>Animalia</td>\n",
       "      <td>Arthropoda</td>\n",
       "      <td>Insecta</td>\n",
       "      <td>Hymenoptera</td>\n",
       "      <td>Tenthredinidae</td>\n",
       "      <td>Athalia</td>\n",
       "      <td>Athalia rosae</td>\n",
       "      <td>NaN</td>\n",
       "      <td>SPECIES</td>\n",
       "      <td>Athalia rosae (Linnaeus, 1758)</td>\n",
       "      <td>Athalia rosae</td>\n",
       "      <td>NaN</td>\n",
       "      <td>Stodmarsh</td>\n",
       "      <td>England</td>\n",
       "      <td>present</td>\n",
       "      <td>NaN</td>\n",
       "      <td>c71f0513-c95a-4e98-abad-0c222b87ec66</td>\n",
       "      <td>51.306050</td>\n",
       "      <td>1.187230</td>\n",
       "      <td>100.0</td>\n",
       "      <td>NaN</td>\n",
       "      <td>NaN</td>\n",
       "      <td>NaN</td>\n",
       "      <td>NaN</td>\n",
       "      <td>NaN</td>\n",
       "      <td>2009-06-15T00:00:00</td>\n",
       "      <td>15.0</td>\n",
       "      <td>6.0</td>\n",
       "      <td>2009.0</td>\n",
       "      <td>4490913</td>\n",
       "      <td>4490913</td>\n",
       "      <td>HUMAN_OBSERVATION</td>\n",
       "      <td>RSPB</td>\n",
       "      <td>no key</td>\n",
       "      <td>NaN</td>\n",
       "      <td>3569</td>\n",
       "      <td>NaN</td>\n",
       "      <td>NaN</td>\n",
       "      <td>CC_BY_4_0</td>\n",
       "      <td>NaN</td>\n",
       "      <td>NaN</td>\n",
       "      <td>NaN</td>\n",
       "      <td>NaN</td>\n",
       "      <td>2020-02-10T11:26:27.557Z</td>\n",
       "      <td>NaN</td>\n",
       "      <td>NaN</td>\n",
       "      <td>POINT (1.18723 51.30605)</td>\n",
       "    </tr>\n",
       "    <tr>\n",
       "      <th>2971</th>\n",
       "      <td>United Kingdom</td>\n",
       "      <td>GB</td>\n",
       "      <td>1504125580</td>\n",
       "      <td>4bc14221-60af-43e5-8e92-0c2b262b9945</td>\n",
       "      <td>9659fcc9-a361-4db1-abe9-ddcc678bfb2d</td>\n",
       "      <td>Animalia</td>\n",
       "      <td>Arthropoda</td>\n",
       "      <td>Insecta</td>\n",
       "      <td>Hymenoptera</td>\n",
       "      <td>Tenthredinidae</td>\n",
       "      <td>Athalia</td>\n",
       "      <td>Athalia rosae</td>\n",
       "      <td>NaN</td>\n",
       "      <td>SPECIES</td>\n",
       "      <td>Athalia rosae (Linnaeus, 1758)</td>\n",
       "      <td>Athalia rosae</td>\n",
       "      <td>NaN</td>\n",
       "      <td>Stodmarsh</td>\n",
       "      <td>England</td>\n",
       "      <td>present</td>\n",
       "      <td>NaN</td>\n",
       "      <td>c71f0513-c95a-4e98-abad-0c222b87ec66</td>\n",
       "      <td>51.312060</td>\n",
       "      <td>1.197690</td>\n",
       "      <td>100.0</td>\n",
       "      <td>NaN</td>\n",
       "      <td>NaN</td>\n",
       "      <td>NaN</td>\n",
       "      <td>NaN</td>\n",
       "      <td>NaN</td>\n",
       "      <td>2009-06-17T00:00:00</td>\n",
       "      <td>17.0</td>\n",
       "      <td>6.0</td>\n",
       "      <td>2009.0</td>\n",
       "      <td>4490913</td>\n",
       "      <td>4490913</td>\n",
       "      <td>HUMAN_OBSERVATION</td>\n",
       "      <td>RSPB</td>\n",
       "      <td>no key</td>\n",
       "      <td>NaN</td>\n",
       "      <td>3572</td>\n",
       "      <td>NaN</td>\n",
       "      <td>NaN</td>\n",
       "      <td>CC_BY_4_0</td>\n",
       "      <td>NaN</td>\n",
       "      <td>NaN</td>\n",
       "      <td>NaN</td>\n",
       "      <td>NaN</td>\n",
       "      <td>2020-02-10T11:26:27.218Z</td>\n",
       "      <td>NaN</td>\n",
       "      <td>NaN</td>\n",
       "      <td>POINT (1.19769 51.31206)</td>\n",
       "    </tr>\n",
       "    <tr>\n",
       "      <th>2972</th>\n",
       "      <td>United Kingdom</td>\n",
       "      <td>GB</td>\n",
       "      <td>1098893419</td>\n",
       "      <td>50c9509d-22c7-4a22-a47d-8c48425ef4a7</td>\n",
       "      <td>http://www.inaturalist.org/observations/406110</td>\n",
       "      <td>Animalia</td>\n",
       "      <td>Arthropoda</td>\n",
       "      <td>Insecta</td>\n",
       "      <td>Hymenoptera</td>\n",
       "      <td>Tenthredinidae</td>\n",
       "      <td>Athalia</td>\n",
       "      <td>Athalia rosae</td>\n",
       "      <td>NaN</td>\n",
       "      <td>SPECIES</td>\n",
       "      <td>Athalia rosae (Linnaeus, 1758)</td>\n",
       "      <td>Athalia rosae</td>\n",
       "      <td>NaN</td>\n",
       "      <td>NaN</td>\n",
       "      <td>England</td>\n",
       "      <td>NaN</td>\n",
       "      <td>NaN</td>\n",
       "      <td>28eb1a3f-1c15-4a95-931a-4af90ecb574d</td>\n",
       "      <td>52.263900</td>\n",
       "      <td>0.252662</td>\n",
       "      <td>NaN</td>\n",
       "      <td>NaN</td>\n",
       "      <td>NaN</td>\n",
       "      <td>NaN</td>\n",
       "      <td>NaN</td>\n",
       "      <td>NaN</td>\n",
       "      <td>2013-09-22T00:00:00</td>\n",
       "      <td>22.0</td>\n",
       "      <td>9.0</td>\n",
       "      <td>2013.0</td>\n",
       "      <td>4490913</td>\n",
       "      <td>4490913</td>\n",
       "      <td>HUMAN_OBSERVATION</td>\n",
       "      <td>iNaturalist</td>\n",
       "      <td>Observations</td>\n",
       "      <td>406110</td>\n",
       "      <td>NaN</td>\n",
       "      <td>Finlay Cox</td>\n",
       "      <td>2013-09-23T22:27:19</td>\n",
       "      <td>CC_BY_NC_4_0</td>\n",
       "      <td>Finlay Cox</td>\n",
       "      <td>Finlay Cox</td>\n",
       "      <td>NaN</td>\n",
       "      <td>NaN</td>\n",
       "      <td>2020-07-21T08:52:12.837Z</td>\n",
       "      <td>StillImage</td>\n",
       "      <td>GEODETIC_DATUM_ASSUMED_WGS84</td>\n",
       "      <td>POINT (0.25266 52.26390)</td>\n",
       "    </tr>\n",
       "  </tbody>\n",
       "</table>\n",
       "<p>2973 rows × 52 columns</p>\n",
       "</div>"
      ],
      "text/plain": [
       "         CountryName  ...                   geometry\n",
       "0            Austria  ...  POINT (15.58344 46.73532)\n",
       "1            Austria  ...  POINT (16.41967 48.30475)\n",
       "2            Austria  ...  POINT (16.33386 48.23132)\n",
       "3            Austria  ...  POINT (13.05872 47.79925)\n",
       "4            Belgium  ...   POINT (4.77950 50.70887)\n",
       "...              ...  ...                        ...\n",
       "2968  United Kingdom  ...   POINT (1.20542 51.31995)\n",
       "2969  United Kingdom  ...   POINT (1.18723 51.30605)\n",
       "2970  United Kingdom  ...   POINT (1.18723 51.30605)\n",
       "2971  United Kingdom  ...   POINT (1.19769 51.31206)\n",
       "2972  United Kingdom  ...   POINT (0.25266 52.26390)\n",
       "\n",
       "[2973 rows x 52 columns]"
      ]
     },
     "execution_count": 12,
     "metadata": {
      "tags": []
     },
     "output_type": "execute_result"
    }
   ],
   "source": [
    "gdf"
   ]
  },
  {
   "cell_type": "markdown",
   "metadata": {
    "colab_type": "text",
    "id": "eSegspWUdEHF"
   },
   "source": [
    "Converting both columns to a different projection - the \"World Equidistant Cylindrical\" or ESPG 4088 - just makes the images of the map look more familiar.  We also add a couple of extra columns to the table here with the x and y positions in this projection - just for convenience later."
   ]
  },
  {
   "cell_type": "code",
   "execution_count": null,
   "metadata": {
    "colab": {},
    "colab_type": "code",
    "id": "yXIKs5KlckOb"
   },
   "outputs": [],
   "source": [
    "worldmap = worldmap.to_crs('epsg:4088')\n",
    "gdf = gdf.to_crs('epsg:4088')\n",
    "\n",
    "x_positions_cyl = [x.coords[0][0] for x in gdf['geometry']]\n",
    "y_positions_cyl = [x.coords[0][1] for x in gdf['geometry']]\n",
    "gdf['x_positions'] = x_positions_cyl\n",
    "gdf['y_positions'] = y_positions_cyl"
   ]
  },
  {
   "cell_type": "markdown",
   "metadata": {
    "colab_type": "text",
    "id": "bcYVUIxNangY"
   },
   "source": [
    "We can now plot the points on a map."
   ]
  },
  {
   "cell_type": "code",
   "execution_count": null,
   "metadata": {
    "colab": {
     "base_uri": "https://localhost:8080/",
     "height": 344
    },
    "colab_type": "code",
    "executionInfo": {
     "elapsed": 91059,
     "status": "ok",
     "timestamp": 1596107162300,
     "user": {
      "displayName": "Katy Brown",
      "photoUrl": "",
      "userId": "04725673548216289527"
     },
     "user_tz": -60
    },
    "id": "fp58RI32aQdp",
    "outputId": "1671f1ca-c3f6-4143-c28d-4713d8805f61"
   },
   "outputs": [
    {
     "data": {
      "image/png": "[encoded data removed]",
      "text/plain": [
       "<Figure size 720x720 with 1 Axes>"
      ]
     },
     "metadata": {
      "needs_background": "light",
      "tags": []
     },
     "output_type": "display_data"
    }
   ],
   "source": [
    "# feel free to change these colours using the codes here: https://htmlcolorcodes.com/\n",
    "sea_colour = '#B5F0FC'\n",
    "land_colour = '#CDFCB5'\n",
    "point_colour = '#8237B9'\n",
    "\n",
    "\n",
    "# create an empty set of axis\n",
    "f = plt.figure(figsize=(10, 10))\n",
    "\n",
    "# add a plot to these axis\n",
    "a = f.add_subplot(111, facecolor=sea_colour)\n",
    "\n",
    "# plot the countries onto the axis\n",
    "worldmap.plot(ax=a, color=land_colour, edgecolor='black', lw=0.3)\n",
    "\n",
    "# add the species observation points\n",
    "gdf['geometry'].plot(ax=a, color=point_colour)\n",
    "\n",
    "# add a title\n",
    "a.set_title(species_name.replace(\"_\", \" \") + \" Unfiltered Points\")\n",
    "\n",
    "# save a copy\n",
    "f.savefig(file_path + \"/unfiltered_maps/\" + species_name + \".png\", dpi=300, bbox_inches='tight')"
   ]
  },
  {
   "cell_type": "markdown",
   "metadata": {
    "colab_type": "text",
    "id": "p0jZtuErXVcK"
   },
   "source": [
    "We want to check that each point has been recorded in the right country.\n",
    "\n",
    "First, we record all the country polygons into a Python dictionary.  This code just links each country code to a polygon in the worldmap table."
   ]
  },
  {
   "cell_type": "code",
   "execution_count": null,
   "metadata": {
    "colab": {},
    "colab_type": "code",
    "id": "SQrQDASjVbmD"
   },
   "outputs": [],
   "source": [
    "country_dict = dict()\n",
    "for iso, polygon in zip(worldmap['ISO'], worldmap['geometry']):\n",
    "  country_dict[iso] = polygon"
   ]
  },
  {
   "cell_type": "code",
   "execution_count": null,
   "metadata": {
    "colab": {},
    "colab_type": "code",
    "id": "DyuBuHrCONVR"
   },
   "outputs": [],
   "source": [
    "country_dict = dict(zip(worldmap['ISO'], worldmap['geometry']))"
   ]
  },
  {
   "cell_type": "markdown",
   "metadata": {
    "colab_type": "text",
    "id": "VZampGjyXtW2"
   },
   "source": [
    "Each polygon can be accessed using the country code, e.g."
   ]
  },
  {
   "cell_type": "code",
   "execution_count": null,
   "metadata": {
    "colab": {
     "base_uri": "https://localhost:8080/",
     "height": 320
    },
    "colab_type": "code",
    "executionInfo": {
     "elapsed": 91045,
     "status": "ok",
     "timestamp": 1596107162307,
     "user": {
      "displayName": "Katy Brown",
      "photoUrl": "",
      "userId": "04725673548216289527"
     },
     "user_tz": -60
    },
    "id": "0r3yU3ctX00l",
    "outputId": "0e7838fe-89bf-4796-ea13-4cf54e7754f3"
   },
   "outputs": [
    {
     "data": {
      "image/svg+xml": [
       "<svg xmlns=\"http://www.w3.org/2000/svg\" xmlns:xlink=\"http://www.w3.org/1999/xlink\" width=\"300\" height=\"300\" viewBox=\"-957076.4690845577 5506351.129249129 1200034.00996716 1307553.4957713755\" preserveAspectRatio=\"xMinYMin meet\"><g transform=\"matrix(1,0,0,-1,0,12320255.754269633)\"><g><path fill-rule=\"evenodd\" fill=\"#66cc99\" stroke=\"#555555\" stroke-width=\"8717.023305142504\" opacity=\"0.6\" d=\"M -540870.9369799688,6074276.18173161 L -547357.6152396222,6075758.065915749 L -548948.6957415759,6076438.500999612 L -550430.6917879279,6077364.413053125 L -551782.1669747898,6080283.705292185 L -550708.6779644387,6081998.241876204 L -551357.6290597887,6085056.107831394 L -556531.1943132262,6089410.83218937 L -559898.4183488275,6091511.414075947 L -564283.4895035494,6094136.6147588305 L -567372.7273626399,6095897.622200041 L -568947.6838041481,6097024.684095355 L -570646.9724335187,6098522.822994119 L -571789.1518516893,6099851.053411992 L -574878.3897107862,6103619.551912845 L -575758.8188751098,6105086.337366082 L -576484.7181673885,6107017.122745199 L -576616.021951224,6108635.455596882 L -575805.4015945195,6114491.431759005 L -575341.4016686516,6115788.290272985 L -574013.0593885538,6116716.345944646 L -572901.1149049047,6117024.678806708 L -567650.7134279568,6118384.262670109 L -561936.2748859829,6121178.253322878 L -557365.171301131,6130569.236841718 L -555882.2804682156,6131510.266306895 L -553072.035212017,6132962.9408860495 L -548747.5457885755,6135587.135031344 L -541010.3681211227,6140568.665545915 L -539049.3478074777,6145687.651376809 L -537867.6692392885,6151178.683387203 L -528006.6649162638,6161379.262044394 L -525829.24680617,6162459.9836255 L -524129.95817680564,6162985.59038981 L -520670.7990755965,6163973.239935935 L -517474.508628034,6164344.167604435 L -515898.5269681715,6164946.629384215 L -513010.4576316478,6170290.102896148 L -514045.5657805863,6172868.832833034 L -518107.31709336577,6178213.20124272 L -521195.4178718901,6182166.744205695 L -522261.87946634996,6183077.538847537 L -523482.03218860354,6183680.000516122 L -525890.9656180164,6184420.998539305 L -530307.4086766386,6185625.903306904 L -535249.4586107633,6187510.105966605 L -540500.9785987111,6190475.0116378395 L -542168.9138937478,6191555.602675954 L -545288.3866873726,6192420.914428614 L -546678.3173475198,6193656.184562538 L -542438.7913937132,6219864.852676261 L -536411.0242185269,6221307.405503707 L -532667.7463114727,6221460.0713019585 L -528361.5058858577,6220930.326302718 L -523697.2930156864,6219586.866610951 L -508192.7213158128,6218150.4652048 L -502941.3133012771,6217872.479028295 L -498756.2549077893,6218428.4512701165 L -500501.00785677007,6219046.1423237845 L -514524.70179889083,6220867.619634057 L -531133.2584184253,6224673.604209767 L -534864.4200681747,6224300.551492685 L -539808.4645078895,6225419.616573671 L -541114.5686677804,6230456.751840327 L -540368.5748734486,6234748.881391859 L -538876.4197138487,6236520.886690568 L -536917.394016994,6239506.035976414 L -541208.516919745,6238665.94481756 L -542793.6136825405,6234841.841675815 L -544659.6792066331,6224859.524777678 L -546338.724221387,6222621.506366732 L -548017.7693473346,6219542.39025935 L -551743.8234749102,6213579.342939181 L -554492.3312384957,6211903.299078792 L -557333.7992860307,6212127.675008808 L -558848.155315498,6212436.026551638 L -568206.6856697781,6216142.824921411 L -575249.429352698,6219046.1423237845 L -578894.527702592,6218237.423180025 L -580947.6320832021,6215998.267688511 L -581506.6054793952,6212920.288661695 L -579109.9188502718,6209625.799976206 L -579048.2001496191,6207880.040489644 L -588499.7839693066,6209965.504853363 L -589921.0678525938,6210490.123760857 L -593781.5387805884,6216026.63854924 L -593874.6109267625,6218706.43744662 L -590340.6287883996,6227556.566135311 L -587227.1581923182,6230758.970642628 L -586393.1998851863,6231555.591987467 L -578291.0780659976,6240111.480118598 L -564005.5033270387,6247710.1027507 L -553102.400689536,6252867.543943692 L -550111.2492061479,6254721.511668866 L -547334.3704706399,6257068.726286432 L -559557.7068228951,6252775.590308517 L -578863.2675497098,6242180.708670855 L -582538.7311547286,6240142.833452932 L -584762.620122014,6238814.491172834 L -587937.809529942,6236269.127756639 L -589994.9216025053,6234619.441570623 L -591199.8263701103,6233080.964666388 L -593664.3458708354,6230764.972951365 L -595572.7811563336,6229690.514542578 L -600368.391214186,6226891.397686863 L -603696.1532389079,6227693.984090095 L -602553.8247081798,6216544.2486104155 L -598229.3352847319,6199154.355851041 L -600916.2734602285,6197609.727525513 L -605565.2198061722,6194320.36504297 L -606384.0420208736,6192112.581566551 L -606785.372528432,6191833.588852465 L -608113.5842655388,6190073.699811048 L -610059.5057370863,6187232.119901288 L -617710.7132861352,6161806.931545557 L -615356.3780712322,6159866.005733966 L -613272.0319961186,6156144.108522101 L -614136.3557807696,6154892.602465514 L -615495.9396441707,6153595.613519751 L -619016.8174460324,6150939.171253563 L -622229.3438162585,6149734.1360541675 L -638012.9267997906,6148220.898424506 L -639649.5087604999,6148189.526409412 L -641132.4927748669,6148375.558839542 L -642892.4004970448,6148977.013970546 L -643695.9934378642,6150058.6116574425 L -644406.6446642942,6155788.279584499 L -644468.3447953678,6157239.81708308 L -644298.4551064499,6158892.616285681 L -643572.6863571559,6159803.410927529 L -640390.5067836823,6162151.632082671 L -636514.8065817992,6163989.345315607 L -635772.895202487,6165163.027180669 L -635819.4033100242,6172993.146451318 L -633996.7889191787,6181178.106802754 L -630382.950722167,6189301.460204568 L -623789.0895534512,6200158.092096074 L -627974.0174039543,6202614.502920259 L -630830.7334061505,6205270.0690806545 L -631251.2821987711,6214517.371361186 L -631353.3576968539,6215740.525237812 L -630908.5761672423,6217307.373002774 L -629852.2177549182,6217946.314208634 L -628795.8593425939,6218576.997625391 L -626429.4077591922,6223154.233839576 L -620483.5842185025,6228389.517904861 L -620252.0875799563,6231099.682168567 L -622414.2764161617,6230505.235883875 L -625533.8610720047,6229208.246938111 L -629407.4362253064,6224990.959104504 L -631138.0783001984,6224046.798053166 L -631348.3620368984,6226256.576035175 L -627386.6917166052,6231710.121970707 L -626306.1006784902,6232697.771405639 L -622846.9228965081,6235416.044234696 L -618615.505619247,6239524.135861683 L -613796.6509036061,6245253.692037708 L -613325.6422426136,6247524.200863555 L -615155.2281182383,6247214.842783144 L -618121.1403270477,6245764.181390347 L -619789.057052518,6244713.9556073565 L -622445.6297504891,6244682.602273029 L -622306.0681775509,6255493.751275351 L -619511.0708760073,6263431.072247028 L -614475.9487957086,6268465.225040086 L -614136.3557807696,6269917.880938473 L -604591.6998149018,6273883.409838149 L -603165.4015908925,6274837.692752391 L -592406.8375055171,6275375.434565958 L -590285.0241475084,6274699.156397801 L -582523.6137430646,6275400.785702749 L -580531.2028447528,6275384.549780085 L -578893.5210538167,6275956.776514143 L -577473.3368895625,6276774.480329039 L -571048.2842603041,6280851.349053488 L -569380.3489652673,6282025.888454768 L -567960.0529387951,6283384.596101191 L -563774.0998699439,6289268.812581059 L -565333.8456071365,6288867.51943504 L -566631.8225209154,6287492.687728178 L -567527.3877776758,6285794.405636388 L -568824.376723446,6283940.568343013 L -577225.6043283463,6278287.736639474 L -578553.9466084441,6277423.431535589 L -579820.5701878956,6277176.780123839 L -581781.5905015343,6277068.720997786 L -596932.4582011861,6279665.550819933 L -600304.696466322,6280147.706673377 L -597916.0067627134,6284868.493582882 L -596395.6297437485,6284183.0815198235 L -593430.8360459325,6284358.992198252 L -583862.9353110823,6288916.991446597 L -591364.6086480482,6288783.543933413 L -593407.5912769502,6287884.8656600695 L -595317.0332112237,6287671.5994497705 L -597568.305071229,6289108.019536688 L -598569.058842662,6291755.458339773 L -590971.3122051565,6299940.437371975 L -582908.67096642,6306117.869302242 L -575589.04104841,6311429.989479843 L -570693.4619714769,6315214.612152335 L -569411.6836188283,6317515.355912704 L -573148.8661468875,6315785.720486593 L -576978.9715973632,6313252.585301109 L -582013.1057096532,6309577.028292251 L -596376.4859593648,6300527.7442673575 L -618677.1125688754,6287029.675770313 L -621889.6575086678,6285207.080060239 L -622908.6603891276,6284681.45450397 L -631248.2810443995,6281840.993105204 L -633101.1118002003,6283786.895895985 L -643881.0378999856,6286751.671024228 L -647896.169243016,6287214.7015516665 L -654289.8871075133,6288449.971796785 L -655556.5106869584,6288851.264942803 L -659448.334949287,6290272.567506857 L -660807.9187014941,6291044.825682916 L -666707.3645664437,6294905.4084731275 L -668205.3914917962,6296140.659926285 L -668250.8557002061,6297361.819297314 L -666815.44226207,6298673.925654748 L -665780.3341131315,6299136.807069629 L -664359.0314378839,6299353.204977278 L -654116.977694651,6299940.437371975 L -633718.8027426742,6302844.723950396 L -628097.3243734625,6302565.749917077 L -624082.1931416257,6302750.645266641 L -617399.3792697069,6303519.883718754 L -638197.9712619182,6306056.169171162 L -641147.6288673037,6306024.909018286 L -642645.7677660617,6305623.615761067 L -644128.6585989773,6304912.964534637 L -647846.5667996618,6303820.126585038 L -649978.5205901518,6302633.452245694 L -658181.7113698418,6301855.098579447 L -688452.0002533601,6302504.012535657 L -690428.2870912328,6302998.303215972 L -692498.5036114911,6304449.933896005 L -693247.517129761,6306619.243440754 L -688528.8364768769,6310194.719345919 L -682737.5802809653,6311183.356748859 L -663494.8381962177,6313685.250462228 L -661733.8307550069,6313746.838731084 L -660529.9326361836,6313160.501122943 L -656606.736358761,6311059.937805933 L -652436.9259199279,6309515.440023395 L -650444.5337023827,6309701.342021734 L -645162.7788911008,6314966.991453344 L -649317.4718070697,6316279.097810778 L -651147.0763634611,6317468.885055512 L -650838.7248206314,6318974.014119829 L -643356.400422919,6320276.98658237 L -639278.5623000332,6320573.221867895 L -637487.3199242945,6320233.53556031 L -635819.4033100242,6320263.863676289 L -629688.4235561826,6323577.477576589 L -630753.8971826338,6324341.739049514 L -638568.9176111848,6326302.759251965 L -641317.4254859639,6326163.328222006 L -646938.9037439818,6325391.964721317 L -652190.3118697115,6324711.6788612055 L -654136.2146604862,6324666.195972023 L -658228.2007966061,6325561.873091002 L -647804.196815875,6338502.869516006 L -645610.5614638841,6339383.4292233195 L -644282.3310460044,6339631.049922312 L -640866.660328388,6339253.989402084 L -639494.8296646975,6339420.784755184 L -637563.1309294568,6339128.669135018 L -636289.4054334353,6337752.849460147 L -633502.4049462192,6336912.795662827 L -630660.9368986778,6335862.532740692 L -629487.2736031886,6335461.2394834785 L -627819.3383081518,6335028.574322359 L -625996.7425980729,6335121.534606315 L -620375.3946606582,6335893.904755785 L -618923.7452998584,6336140.518806002 L -615804.2911870002,6336943.123778806 L -614244.4335875895,6337823.571623903 L -617348.9007205684,6337360.671528255 L -619263.4501770155,6336974.495793907 L -624483.4862876447,6336418.504982512 L -626182.7749170152,6336448.870348832 L -628684.6686303841,6337222.116492898 L -641996.7233780663,6343183.169307476 L -643518.0882538462,6344132.456561756 L -643356.400422919,6345685.062909645 L -642182.7558082025,6347090.241524453 L -636560.2707902156,6350688.831655616 L -632878.711695008,6350453.327325117 L -628375.3291195459,6351028.536532774 L -624965.7538921119,6350416.978330834 L -623983.1186867146,6349619.368906791 L -620190.3688793036,6348959.308091718 L -618182.8591388941,6348403.335849897 L -615696.0829483893,6347924.199831592 L -613580.3835389481,6347908.9518769365 L -600792.9476987536,6350417.966187643 L -602770.2039350559,6351213.580994901 L -605302.3511525255,6351275.169263762 L -606815.6073517662,6351090.162163169 L -609533.8802920112,6350595.87137166 L -617163.8562584408,6351059.908547874 L -627975.0239415357,6356087.909919635 L -627819.3383081518,6364247.630996507 L -623850.6778223129,6364937.0507515045 L -618318.3011576677,6366447.305907567 L -616965.7075710124,6366632.201257131 L -615983.2029085997,6365640.562699825 L -610985.417790599,6364680.296157619 L -608994.0321106353,6363646.175865496 L -605981.6303638613,6362734.374686072 L -603248.3519853582,6362456.388620761 L -601024.4443372998,6363800.854961304 L -612980.923024728,6368968.306043786 L -619485.8502822078,6369709.304178156 L -622563.9411712419,6374866.763940727 L -619988.212388728,6375050.671322282 L -613858.3697154527,6378054.945822938 L -610738.7850596161,6379351.916087942 L -607218.0003280119,6381314.073370953 L -606322.3418897938,6382163.14920095 L -606152.564063094,6384602.317564891 L -607372.5675615962,6384819.721898926 L -611943.801578239,6382719.140123543 L -626312.2147382454,6379321.550610423 L -639494.8296646975,6376294.050132752 L -642012.9593007299,6375939.227843924 L -643664.6401035304,6376356.7754821805 L -646938.9037439818,6378426.00403443 L -651602.9676127897,6388247.527665808 L -652375.3376510661,6390131.842187728 L -652869.5911922349,6391398.353904954 L -652699.7945735683,6393035.029047116 L -650537.4939863386,6399243.721130252 L -649347.7067415977,6401807.333544273 L -646676.0350903353,6402524.975047449 L -642367.7815895573,6401498.982001444 L -639371.5040144228,6399090.030002458 L -628591.7083464282,6394687.716387497 L -627449.3984964604,6394672.598975827 L -624916.151448764,6396463.841351572 L -615001.6675334292,6396865.13449759 L -612699.9171242791,6397406.00789732 L -613765.2975692786,6399104.178126886 L -615495.9396441707,6399521.707195569 L -627541.3521316411,6399521.707195569 L -628807.9757110862,6398950.617542078 L -630475.9110061231,6398904.034933861 L -633317.5095966553,6400324.312279566 L -646136.2802016047,6409236.159780096 L -646830.695616565,6429235.017299689 L -645085.9426675842,6433065.25329315 L -641255.8371059146,6434270.158060756 L -639927.4948258168,6434578.509603585 L -635696.0775485493,6434794.776968243 L -633110.2270143272,6432851.875220641 L -631971.0487505218,6432162.474146402 L -629703.6715108375,6425838.564978336 L -627263.3660663305,6424170.648252865 L -623441.3691812,6423313.445176751 L -620638.1514520867,6429236.023948466 L -620653.380837169,6430594.619732664 L -622645.7730547079,6432061.367935561 L -625533.8610720047,6432880.20883103 L -626546.7312119299,6434233.7903857 L -627598.9513893162,6436035.154624347 L -627634.442958588,6438161.9823230775 L -626229.2644549735,6439474.088680512 L -623927.5140458232,6440818.536340289 L -606846.9607972875,6433622.232072559 L -603650.670349725,6438308.534061568 L -593626.859684786,6440509.196940645 L -580160.1446332618,6438286.295941367 L -570152.5884605527,6434794.776968243 L -568423.0835774271,6433683.820452609 L -567404.0806969737,6432725.548415993 L -566909.808586226,6434640.097872441 L -577473.3368895625,6443829.931438287 L -578553.9466084441,6444277.714122265 L -585195.2852831333,6446100.309832337 L -600236.9754569322,6452772.013873345 L -602337.5760242821,6454069.002819115 L -606329.4625983305,6457559.4220732 L -605163.9266601596,6459721.704090858 L -603001.6072809631,6460231.205475487 L -601380.2732749087,6459783.311040486 L -598692.3658121701,6458609.759607215 L -597333.7885975443,6457775.782619317 L -591016.888275791,6456447.459019985 L -588592.8374347141,6456926.706789314 L -587271.6344327257,6457899.108269591 L -586430.555417057,6462346.904773741 L -586492.2742289036,6465837.435890045 L -588684.8097506614,6465976.885600764 L -600190.4860301679,6477172.197151084 L -599279.710069092,6478253.925380966 L -596962.7117052868,6478130.506438039 L -578615.5349884998,6477203.569166185 L -563943.9150581831,6478748.178810941 L -564376.5802192962,6479026.164876257 L -565117.4478106813,6479211.190768806 L -570029.2814910447,6481281.425858644 L -574291.0455650582,6485481.601663795 L -575402.9899375071,6488231.115964961 L -574755.0640605051,6489899.032690426 L -568145.0974009163,6505836.288120986 L -556145.0185788774,6518716.684245137 L -530415.5796649102,6516322.980200805 L -522801.7463284987,6511427.401123879 L -520021.86654981284,6507627.5304967305 L -522833.09966282616,6506021.314013541 L -524593.9766722462,6504291.678476229 L -529450.2056005244,6498909.842672456 L -527219.1960358962,6499164.584079985 L -519064.6011619726,6503612.380584127 L -511397.13900949346,6508276.574884732 L -511465.8479868921,6510470.117055265 L -511204.0977330449,6511751.858046381 L -510230.57785296836,6512785.978338505 L -509088.3797540247,6513187.271484523 L -507111.1236289163,6513342.957117907 L -501118.7174800106,6512446.403893137 L -497721.1467588572,6511704.380651608 L -493319.82100070507,6510360.920848645 L -492470.72660113627,6509326.819237296 L -475605.4340684832,6508647.5213451935 L -453737.50987043756,6511056.454663412 L -434031.71857748524,6511396.0476783505 L -427915.9867782985,6511582.080108486 L -420610.4863039501,6512416.0385268135 L -414788.88331129245,6515226.283671817 L -412718.6482214551,6516446.287281513 L -407005.2162170691,6518222.412245588 L -397645.58603255585,6518469.044976572 L -395113.4574958591,6517048.767630866 L -374650.4508266399,6515535.492639671 L -373568.87182050984,6515983.405755439 L -372835.98236268543,6517859.462599449 L -375098.34526164125,6519086.735919045 L -372936.0633551781,6522763.168922501 L -353198.937297471,6521526.910820567 L -336102.2413077231,6521203.441866069 L -335221.70028117514,6520276.5232749805 L -340025.32572292764,6499442.570256488 L -345785.2285845053,6491751.900585373 L -347144.924198937,6490392.298152393 L -356441.82903401594,6483365.771822557 L -371113.4489643326,6480106.756025566 L -373653.8352901448,6479906.594040582 L -376055.6480110147,6478748.178810941 L -380318.40005303704,6476400.964193374 L -382990.0901626847,6474115.33784467 L -384641.90150846983,6471891.430307811 L -387329.8089712084,6469637.306405991 L -390649.4250690456,6467520.470027179 L -396533.6415489131,6464787.09835603 L -409692.13571179257,6459289.038929744 L -427544.9471363867,6451536.743739421 L -444440.6051465525,6443814.683483632 L -446077.1684264889,6441188.476151974 L -443853.26088963076,6438872.633549508 L -446448.09620618896,6434609.862937913 L -456640.6967298254,6432849.862034284 L -458123.58756273455,6432725.548415993 L -471806.70063310786,6434888.8556520045 L -485088.3899032711,6437945.71495842 L -486818.0253293878,6438594.647484197 L -488331.28163982223,6438348.014753214 L -483683.32326188096,6433791.022042444 L -477860.695050869,6432231.294986019 L -476285.8317908124,6431984.550392818 L -461429.07421691663,6429884.080368453 L -449585.7995392614,6428673.042860325 L -436595.21924048255,6427906.805562577 L -430849.4272529873,6428772.117204042 L -428162.63819005457,6429297.7426491175 L -426787.82505276514,6430146.818479113 L -425151.2617728225,6432447.562350683 L -423298.30058523087,6433544.389311462 L -421244.2827372969,6433868.8462339705 L -419653.090484319,6433173.312419204 L -420070.63812257425,6431922.943443188 L -424703.4790888454,6427583.336496883 L -429830.5734850914,6423583.303995951 L -439004.15255869535,6417606.015369902 L -441289.6484756092,6416232.320743613 L -442309.6578936503,6415768.302136965 L -443544.90934680117,6415428.709122026 L -444903.4865614269,6415181.964528826 L -446902.01163069403,6416204.956420459 L -446590.6589334991,6417784.945772268 L -446942.4801791485,6419073.788791148 L -448239.3385819341,6419443.859145824 L -454263.1167459338,6418857.5214264905 L -455653.04729489336,6418609.900727498 L -477767.75333648577,6413111.729438994 L -491080.796052183,6405019.74805228 L -492763.83018931095,6401807.333544273 L -490894.76362204674,6401807.333544273 L -486849.3600941489,6403691.517634401 L -482987.789447115,6405699.157806601 L -481505.90515178716,6406935.415908528 L -479528.63034591207,6407954.288245996 L -473629.2963431805,6410980.912617884 L -472517.35185953777,6411443.812713525 L -470108.41854131874,6412061.503767192 L -466061.91518318775,6412773.161642403 L -453762.7305754309,6412098.859410257 L -449968.9926888174,6409590.982068923 L -457166.30360532156,6404648.801703008 L -464733.7033348871,6400664.01715673 L -468224.19720085105,6397730.464819823 L -470231.72551082686,6395443.8319335375 L -471220.3629137676,6393344.275265302 L -469830.43236480793,6392510.31695817 L -468470.84861260076,6392170.705262459 L -466648.2527913342,6392140.33989614 L -464702.3314309806,6392540.645074149 L -462448.0770973763,6393344.275265302 L -449212.85857320455,6399907.8829299165 L -417441.4110669774,6407618.7029230045 L -404819.67086085706,6409150.189661693 L -403020.45024035726,6408448.672218962 L -399792.6573459035,6408911.572314603 L -391653.1798836502,6411876.4779858375 L -389723.5130155392,6413158.218865759 L -388696.38288896135,6414934.343829834 L -388966.39093191136,6416262.686109932 L -387854.427767502,6417004.560238899 L -371360.08169531566,6418548.182026846 L -365415.28348417406,6418733.207808199 L -364503.4823047438,6417961.8443075055 L -362619.1491020581,6416478.953474595 L -360951.23248778784,6415768.302136965 L -358419.0851591244,6415027.304113789 L -347299.58472516673,6412803.415257698 L -342573.78347493336,6412124.098684829 L -337863.13688671583,6411783.517701882 L -336087.0120338348,6412092.875782292 L -332411.5855679614,6413081.401323008 L -329971.28023464815,6413760.792507757 L -327191.4190255414,6414779.664734032 L -325090.8185693852,6415613.6231523575 L -322249.3504106501,6416725.567636006 L -317215.21629836,6416602.260555298 L -309832.8610309221,6416200.967409279 L -294203.93846242584,6414624.985749423 L -285771.26423054,6413699.07369591 L -279099.5601895384,6412803.415257698 L -271810.2769570806,6412432.450116466 L -266451.6859222884,6412216.182863002 L -243084.48585609987,6412463.803561994 L -241293.2434803548,6412726.672215641 L -237988.74479418143,6414903.978463516 L -237000.10739124077,6415428.709122026 L -235733.48392298952,6415675.3418530105 L -230791.43387767722,6415891.609217674 L -224860.616108821,6415274.048706992 L -214575.07387080137,6413482.806331253 L -213309.5502327769,6412680.070815457 L -206822.77879167837,6407212.395436264 L -202591.36151441085,6402456.247500477 L -198081.8461984208,6394332.89409867 L -197278.2346880286,6392695.324169952 L -197186.26226088754,6389051.120606622 L -206359.86001526445,6382472.50728136 L -217818.97225612792,6375090.152013928 L -219595.07853943625,6373375.745861694 L -228412.8473562042,6362426.041824009 L -229246.82434410905,6360819.713478601 L -229710.82415878933,6359306.457168172 L -230652.87895350787,6354534.185060747 L -229864.38485479224,6353066.411639501 L -232768.69011397957,6345931.807502853 L -240953.65046541576,6338178.394023924 L -243548.50435154673,6335306.56049887 L -244227.7836740701,6333916.629949911 L -244304.61989758685,6331877.76676398 L -243485.77900211883,6330611.124614962 L -243054.23224079903,6329237.3181264475 L -243980.16297507833,6327276.279243236 L -246821.63102261967,6323414.820347233 L -257957.38606000753,6315476.492837973 L -261092.08823871455,6314148.150557876 L -265756.15210752236,6312727.854531403 L -268567.3852205357,6311276.317032815 L -275547.44080437324,6306457.574179399 L -273849.15871258406,6304357.980260824 L -272259.0661786391,6303807.003678965 L -276720.97355687147,6295214.636121748 L -281463.01072976214,6290983.218844481 L -283702.0356782905,6289624.641518662 L -293647.9662206045,6285022.166029909 L -302543.5777984707,6281284.014214607 L -321941.01754858706,6278504.1344359275 L -328982.6428317138,6277639.810651272 L -338094.652206035,6277485.131666669 L -339361.27578548016,6277515.497032988 L -341400.138860217,6277176.780123839 L -342573.78347493336,6276805.852344139 L -364503.4823047438,6266674.970632349 L -363020.4609288436,6265408.347052904 L -361661.88371421775,6265624.614417568 L -354758.664353897,6266906.485840474 L -333090.88357125764,6272975.746893656 L -326048.1026379921,6276156.919818362 L -324303.33100825106,6276975.630282039 L -322558.68992148835,6277207.145490158 L -320736.11278098845,6277114.203886968 L -319129.76575480716,6276897.806090513 L -312689.57703311834,6275802.097529534 L -311809.1478687948,6275045.963302728 L -311346.11723015644,6272829.064612182 L -312396.47344494367,6271029.825422116 L -313045.405970721,6268465.225040086 L -312829.1200364839,6267262.314778077 L -311608.98588380317,6265361.876195713 L -307855.58622504707,6263817.266662144 L -303237.99321343086,6262983.308243819 L -300689.6287540642,6263029.77910101 L -297122.2799838169,6262813.5117363455 L -293268.79933256813,6261871.345190603 L -287330.9912869723,6258350.467277547 L -287269.38433734386,6256782.612975003 L -297932.99363316677,6250790.206826091 L -310017.9054930497,6247770.815024965 L -313570.02487821475,6247400.8751020795 L -315176.3532236231,6247339.156401427 L -316566.28377258277,6247647.507944257 L -317771.1885401814,6248080.173105377 L -319978.9534470276,6249115.281365509 L -321107.04056068853,6249378.019476164 L -324318.5789628996,6249716.736385319 L -325986.51425794273,6249748.08983084 L -328797.7474821499,6249408.38484249 L -330928.56419206114,6248574.426535351 L -349044.2443814958,6239247.156333948 L -350604.10198091273,6236767.5008519795 L -371839.2177136266,6229516.59848094 L -377600.2389750102,6228126.649251214 L -379113.513855011,6228312.681681351 L -382634.26122508204,6229053.698385293 L -388904.6721200712,6230751.849934091 L -397120.9858058349,6232882.797298194 L -398356.2373701859,6233037.476282796 L -413614.1949086428,6233223.5087129325 L -415560.1162689964,6233099.064551657 L -414063.1145619984,6229964.362484151 L -407436.8747294067,6227647.513232904 L -405429.2532379794,6227478.723263019 L -384147.5175355103,6226027.055332639 L -361908.4978756281,6223771.924893245 L -343376.4256980834,6221146.593667376 L -341090.79934937874,6220745.300521358 L -339484.5827549883,6220651.352269392 L -335592.75860386,6221300.284795171 L -326357.44203763653,6223525.180300043 L -325183.9092851383,6223864.885177201 L -323392.6483398205,6224589.647388914 L -321971.3643453395,6225656.127552945 L -318705.22783981235,6230080.6792881135 L -315114.6345229768,6232605.817770458 L -313601.37821254233,6233253.74364746 L -310697.18481557304,6233624.820539718 L -309368.8424242814,6233748.127620426 L -295469.4622116442,6233563.083158298 L -292566.2753522564,6233007.110916478 L -289168.8349516999,6231740.487337031 L -278234.229867306,6227231.102564027 L -264119.5887163858,6222134.243102308 L -251332.15287619745,6217872.479028295 L -236876.80031053876,6214227.268927377 L -231254.31540374554,6212158.040375127 L -230235.46174704976,6210305.079298729 L -229185.08685149593,6209131.546546231 L -224799.0091591926,6205363.029364611 L -223903.33204021413,6204127.759119494 L -222483.14787595996,6202490.207871542 L -219811.34590409414,6199587.002331387 L -205865.49472307152,6188807.076231603 L -202112.2068153333,6186120.156736879 L -200707.04699249173,6185903.889372215 L -199563.7304937486,6186551.815360411 L -194251.74074793878,6185223.60351211 L -187919.61115229706,6183062.290892882 L -181912.0874805337,6180436.102130802 L -175796.35568134705,6169502.615446208 L -175070.58693205303,6161904.011383679 L -175966.15218881337,6160204.722643121 L -177625.9416681656,6158576.156177506 L -174113.30286344615,6147664.907501918 L -169078.1808943413,6133981.92508573 L -168460.47115990685,6132375.596629127 L -164893.1225008534,6125317.716853771 L -157094.35656453882,6115665.971160285 L -153603.8254482292,6113102.489178061 L -151781.22973815657,6107696.420637296 L -149619.04090195108,6101426.0098535 L -145047.93742829308,6090306.509308348 L -144275.54870925006,6089442.185523697 L -129573.58198218099,6076778.075333784 L -118021.41638710396,6073164.237247966 L -116075.49491555641,6072701.206609335 L -97388.70639186991,6067944.182567764 L -62793.81622268563,6057906.279709503 L -57651.62298434216,6054291.434974911 L -50871.71070472332,6046446.067638413 L -48493.14275282934,6043481.273940597 L -46886.94483921179,6041473.652337969 L -43737.10656807431,6034863.667108808 L -43752.242660504795,6034277.329389474 L -42470.50166939575,6032948.987109376 L -29188.681856235246,6023929.06191322 L -22297.57886440672,6021401.947606052 L -16864.276654678924,6020254.623415362 L -13003.805726684242,6019234.632678093 L -8818.747444390243,6017142.1780376285 L -12509.421753718396,6015466.115496473 L -15428.86321653642,6015079.939762118 L -17914.502326475125,6014323.805535312 L -19335.804890528838,6013613.284740672 L -22871.800215254745,6010262.184765517 L -23860.43761818912,6008006.923894325 L -23968.64585679995,6006616.993345371 L -23597.56896454244,6005458.559323764 L -18810.17944545989,5995467.257865685 L -14177.357159955365,5989397.008955682 L -12540.793768818818,5987914.994117363 L -11057.902935903277,5986710.089349764 L -5992.396808519147,5982633.220736508 L -1451.6400204133454,5978803.115174838 L 6964.816969569133,5971606.792337531 L 14054.068648832384,5965088.779313123 L 15690.632039968934,5963081.139140929 L 16617.550631063117,5961691.189911203 L 17111.93460402265,5960362.978062896 L 16617.550631063117,5958772.885640151 L 15798.840278579763,5957892.325932837 L 12903.631552752711,5956362.964242729 L 13714.363771675295,5957336.353691015 L 15312.583551732081,5959343.975293636 L 14516.968744479716,5960980.538684773 L 12138.419473352318,5962185.573884162 L 9914.511936494186,5963019.550872067 L 7505.690369299302,5963760.418463453 L 4910.743190522957,5964409.481421026 L 3304.508026559781,5964502.441704983 L 1559.7550775853088,5964394.233466372 L 0.009340386453682464,5964006.04454566 L -3860.4429068353206,5962895.106710793 L -5744.776109527366,5962618.108502298 L -8354.84069996761,5962602.991090627 L -9513.274610374641,5962772.7875981 L -11768.516911993896,5963575.523113889 L -14423.971210171845,5964657.102120019 L -15783.685505363728,5965396.981743395 L -19088.184191537057,5968425.619301639 L -25729.522866226263,5973583.079175397 L -27737.144357653542,5974478.625751391 L -30300.62633988428,5975126.551739593 L -32679.212972544847,5975250.995789668 L -39727.97753377467,5974571.586035354 L -42359.29238760703,5974126.804505742 L -46992.00281089346,5973126.050845503 L -61064.31122835973,5971853.425068514 L -62825.18823777973,5972439.762676661 L -64709.50275969887,5973861.065240714 L -67366.03820733704,5974478.625751391 L -68909.54802186596,5974509.979085725 L -70299.49725159215,5974417.0374825355 L -72771.15603043308,5973984.372321417 L -75474.18090483556,5973119.041999184 L -79674.22616700266,5970771.827381617 L -77064.27343877418,5969628.529563647 L -57790.0474767144,5969536.575817273 L -56141.3678282794,5969665.885095518 L -50915.199088316076,5970741.480584872 L -43390.28098237417,5972057.576064686 L -33543.536757195776,5972640.912518461 L -31999.915080442443,5972131.41113383 L -29405.079763890513,5970154.136327949 L -26860.704315704163,5967621.895929029 L -25636.562582270333,5965984.326000317 L -24772.238797619404,5964995.688597376 L -23041.596722721082,5963482.432286948 L -13034.040661212233,5958045.998379857 L -11212.544670172541,5957058.367625698 L 2996.1564837302067,5950015.717124224 L 9482.96517517437,5947420.881807672 L 13976.244568507136,5946092.520958002 L 15953.519374382202,5946185.611673748 L 18748.497883965323,5944487.329581959 L 24123.213090396934,5939698.8216630705 L 26192.441531452627,5937752.90019153 L 27520.802492316994,5935653.306272955 L 28354.760799455253,5934232.152821458 L 30022.677524919316,5931853.566188797 L 37759.855192378425,5919437.076697876 L 39350.954263904794,5914155.3218865935 L 39628.94044040925,5912950.417118989 L 39783.600855445104,5911220.763012106 L 39520.73220179842,5909352.68441285 L 37713.2725841626,5903606.8924253555 L 36323.34192400911,5902588.038768653 L 30763.58236665014,5900780.541789478 L 22671.694161387943,5896457.059014818 L 19274.123440234463,5894356.6075600255 L 3582.494091876682,5884132.653702061 L 234.5257028771931,5879977.942105319 L 3119.482134011257,5880086.15034393 L 6425.099219984108,5881013.199478015 L 8015.191753929049,5881214.34943101 L 9606.272255882706,5881074.787746871 L 13590.05015338553,5879715.203994664 L 16401.283266398852,5878727.573129305 L 17929.657099691158,5878048.275237208 L 19335.84214088078,5876889.860007568 L 20787.36106989609,5875298.760824848 L 24216.30380614367,5871869.83676936 L 26694.952750536642,5870673.059247879 L 40401.179935700995,5868905.061529923 L 42130.81547301157,5869029.356578634 L 47705.69255324096,5873770.275240531 L 48369.87292247295,5874757.906105884 L 48740.80070217307,5876163.960715289 L 49404.981182605254,5878403.116206802 L 54640.26524788933,5886032.08563565 L 60910.67603168455,5889577.214855264 L 74191.3587642726,5890681.032092788 L 98376.28132612328,5889599.452975471 L 99920.89097088533,5888642.168906857 L 101141.043581945,5888070.948821581 L 104769.99919062051,5887869.798868581 L 107827.8464650442,5887777.8452334 L 110607.7262437237,5887901.170883682 L 111844.00302642274,5888086.19677623 L 131642.8292152098,5886542.593669056 L 142576.3158998041,5885275.970200804 L 145202.50466188375,5884627.037675027 L 150391.31775878233,5883298.6953949295 L 152646.57874116817,5882496.090422118 L 154932.07454688812,5881507.453019184 L 159255.55743274823,5879406.852451834 L 163302.06067967898,5877151.591580642 L 167193.8849420075,5875267.407490514 L 168707.14125243574,5874588.109598418 L 170221.40410044536,5873908.830275889 L 182947.2329910116,5867886.0587606635 L 184244.09150499105,5867113.819154179 L 186283.08501151876,5865322.446346642 L 187518.3552566364,5864055.953310181 L 189309.5976323752,5861738.973627144 L 189834.19785910245,5860658.382477835 L 191378.8075038582,5857384.2492691735 L 194135.46119432832,5851106.717665648 L 194478.16722585718,5840976.861172212 L 194529.63363181052,5832828.249815065 L 192398.8168106991,5827886.19988094 L 192707.03792173788,5825848.194231228 L 191996.40526488065,5824581.701194767 L 187447.5025498901,5818425.500847126 L 181247.94436164733,5803855.956414892 L 180846.6512156284,5801941.257845882 L 176506.93240710467,5791469.8138319105 L 175656.8313587543,5790635.855413578 L 154592.50021271573,5778805.703641997 L 148027.86732975242,5774219.333532917 L 146530.8469419815,5775871.144767515 L 142051.69710350412,5780535.227205896 L 140630.39442825655,5781307.597244172 L 129372.46939073273,5784767.762994157 L 134360.99018204276,5776674.7563890945 L 142437.87272666526,5768906.337138332 L 143804.46543638498,5768142.094346174 L 142700.62962928772,5765725.033670643 L 140785.073524059,5764258.397329964 L 136059.27227383194,5760891.173405556 L 133881.8541637381,5759686.15677574 L 131364.843038699,5758760.22604146 L 125897.05579728723,5757338.942158173 L 123611.44812934918,5756937.630331388 L 121017.58210003306,5756629.278788558 L 116754.81148843803,5756629.278788558 L 115163.73098648438,5757030.721047135 L 110917.08443533487,5761107.440659027 L 109280.52104419832,5762713.787685208 L 103674.17876742333,5760551.468417206 L 95862.27124426205,5756969.002346489 L 80523.37660888379,5751748.94766628 L 77959.85737632008,5750838.153024438 L 84663.92128923703,5747854.9983553765 L 95967.3478967103,5750081.030940816 L 97450.36927261685,5750668.226085174 L 100361.66469734993,5752636.385676929 L 102577.4449880899,5753278.309356387 L 104044.23044133281,5752845.662764847 L 105295.60606612307,5751625.510042587 L 105913.29700859706,5738690.515815133 L 101187.5144391366,5735594.306360063 L 97327.04351114192,5733339.045488871 L 91272.91866158368,5730498.453547121 L 89851.61609752997,5729880.874355671 L 87782.38754527409,5729231.96051066 L 86639.08972730386,5728985.197236692 L 85280.49394310536,5728922.602319054 L 75674.24970838203,5730127.507086653 L 72493.05810291071,5730637.008471283 L 51705.72494298011,5726884.615350109 L 50222.72224784648,5726328.624538714 L 43247.77418618891,5720787.113979176 L 45836.60730520381,5720644.569932639 L 50277.301781583534,5721609.962566596 L 51813.914612018234,5723347.613487807 L 52817.66942662282,5724336.250890742 L 54392.53268667945,5724815.386797858 L 59612.68054833285,5725216.680055072 L 61033.98311238655,5725216.680055072 L 65821.3540619027,5725185.457152535 L 77558.56423030117,5723302.130598619 L 79164.76214391872,5722699.668930032 L 80585.07673996371,5721448.293305242 L 80238.36301648799,5719918.801183345 L 78825.18769855244,5719439.665165033 L 76446.61974665213,5719363.835479105 L 74037.68631724548,5719780.376579779 L 71427.62172679891,5719919.807720926 L 62207.515864891095,5716088.695621669 L 64940.92478637897,5714050.708652723 L 68909.5852722179,5713540.200730511 L 78299.46907202566,5712922.640108634 L 100971.11664268152,5708830.6539725205 L 109125.84205958975,5709371.396940454 L 111101.99835447143,5709618.141533662 L 112553.64771527123,5710082.029597311 L 114901.85030084642,5711192.986112945 L 117064.16956884904,5711780.330258672 L 118561.17127584704,5711996.728166321 L 132538.39447197012,5713046.953838118 L 154066.74422465576,5714065.937926611 L 158730.9572060273,5707765.180346069 L 156908.34281518176,5693309.827780411 L 156522.16708083305,5691395.278323964 L 155488.04678870947,5689171.3707871055 L 154592.50021271573,5688089.791780976 L 152213.91358005514,5686050.798163254 L 150762.26421924902,5685139.984951839 L 140383.76169727347,5682252.046047105 L 136986.19097612,5682158.955220159 L 135719.56739667486,5682035.648250651 L 122345.92438013085,5679132.461391263 L 120862.92168499721,5678575.482500666 L 116260.4275154722,5676444.535247764 L 114530.92252115262,5675488.257827933 L 110948.43776966239,5673063.200338074 L 109650.4608558834,5671750.106012631 L 108847.85588307898,5670576.573260127 L 107997.64297251686,5668846.919153243 L 107642.82068368953,5667425.6165891895 L 107859.21848014461,5664862.134606965 L 108415.19072196598,5663379.113342259 L 95256.71523985309,5662669.46854221 L 90530.91398962606,5663657.0994075695 L 88215.05270639343,5663842.143869696 L 86886.82228851374,5663781.41302586 L 79659.14600568438,5660383.9727364965 L 78485.48282138903,5659580.379795684 L 75489.33567804527,5657249.270557789 L 73635.38652245126,5656429.42312474 L 63071.839649542024,5654020.620238318 L 55442.870220693745,5652939.898657212 L 50347.147728354335,5652476.010593556 L 47906.84239504113,5652167.659050726 L 44539.63704020646,5651425.654378775 L 41358.44543473514,5650530.0891220085 L 38856.57040213914,5649665.765337357 L 34161.1345182309,5646545.192713506 L 32957.236399407564,5645742.587740702 L 31906.88018462036,5644816.675687195 L 30470.460208896428,5643009.178819213 L 29312.026187295527,5642191.4563235445 L 28231.4351491742,5641882.1169239 L 26933.45823540154,5641820.3981120605 L 25328.2482897927,5641974.070559081 L 23938.31774083309,5642221.821801064 L 13714.363771675295,5644197.978095945 L 10934.483992989488,5645125.0086604515 L 6332.008504237369,5646576.546159034 L -10501.912013315336,5649850.809910679 L -15351.020344250712,5650746.356486673 L -17451.602230827793,5651087.068012611 L -21220.10073168139,5651580.314793805 L -22918.271072446354,5651673.405620751 L -28354.72354910331,5651642.052286424 L -64183.7654524055,5648182.874504442 L -70886.82282774734,5647287.197385463 L -75088.00517048055,5646607.899493361 L -79103.13651351108,5645805.31309013 L -82963.60744150577,5644908.6294335695 L -85327.05798173585,5643117.387057824 L -85388.66482016406,5641927.59970189 L -86940.39517346285,5640615.493344455 L -88894.42521036198,5640507.303786611 L -100994.45459310265,5645812.303366875 L -99241.55571723712,5647642.019785485 L -96276.76190822088,5648669.019369071 L -96956.07848108986,5649696.130814876 L -103235.45547764844,5653117.803841224 L -104430.36892532957,5653248.250200042 L -121696.9732847682,5653805.228979444 L -128862.93075575106,5653248.250200042 L -127503.34689234367,5652167.659050726 L -124198.84831737052,5649480.739556002 L -125828.29088877015,5646831.287455369 L -127241.46620670569,5646252.089236531 L -148044.06589087023,5647750.228024095 L -156568.73111946354,5645464.601675391 L -177109.45000678994,5640275.9190102825 L -179487.03010186905,5640893.479520966 L -185472.31554224427,5641800.285040434 L -187302.05053042632,5641912.482290225 L -189186.23462055466,5641696.08449377 L -201973.670460743,5640152.462817017 L -215069.45784376722,5639009.295430838 L -223440.4319445668,5639256.916129829 L -225061.76595062116,5639812.888371651 L -226273.79142675654,5641094.629362767 L -229818.90196560934,5639179.0733687375 L -231293.81466496407,5637209.925808975 L -219578.8426167726,5634283.494180611 L -217320.58059121517,5633736.506721119 L -215224.11825880306,5630855.557981938 L -218428.53595248374,5626106.530643496 L -228444.21926011075,5624878.399787688 L -235949.88171944456,5627272.085262446 L -237278.09345655763,5627951.383154542 L -238481.99168657485,5628353.682949335 L -244319.73730925075,5629372.667149022 L -265864.3416653666,5631102.321255912 L -270327.2555811804,5630360.316583955 L -272056.90968806366,5629404.039164123 L -274203.9810014114,5625820.566444624 L -274188.84490897454,5624677.249945887 L -273385.1215363706,5623689.600510956 L -269616.62292432314,5622021.683785492 L -270699.3391222132,5619996.931584843 L -273009.0676649241,5620787.42018915 L -273343.7582013527,5622215.713029948 L -277387.1485428938,5625986.224717159 L -284999.0246240607,5630051.965041125 L -295995.1994077374,5634624.075163559 L -300288.3354968514,5636137.331473987 L -302573.83141376526,5636846.976162835 L -308164.94430545805,5638546.264903399 L -313909.72975537187,5639843.253737969 L -318450.4865434777,5640739.806962745 L -320551.0683188672,5641048.158505575 L -323237.98781359073,5641294.772666985 L -325523.4837305046,5641063.276028432 L -327407.8168219964,5640182.828183342 L -329075.7335474605,5639009.295430838 L -331144.9620997101,5638298.644204408 L -344087.05835494056,5636723.669082133 L -352874.4803749625,5636291.003921014 L -360734.9651231299,5634746.394276258 L -361846.90960677265,5634469.39617895 L -379329.7812196753,5628259.716127799 L -382201.59606396273,5627025.452531463 L -384935.99306465953,5625126.02048668 L -388533.72577079834,5620508.4275862565 L -389214.01163090946,5619333.757753186 L -394897.07826897677,5608492.243273346 L -395113.4574958591,5607071.947358067 L -406078.297514781,5585450.637210231 L -408641.77949700534,5584245.732553827 L -412162.67597963376,5583072.050688765 L -413274.62046327646,5582732.476243398 L -414634.2043266839,5582701.122909064 L -421367.62706833816,5583350.036754075 L -422880.88337877276,5583566.43455053 L -424024.16251597635,5583906.008995897 L -426602.78059063765,5585295.958225623 L -427544.9471363867,5586222.876816717 L -428317.31728585693,5587736.2449893635 L -431174.0146072803,5591041.750213118 L -438541.1407120301,5594608.110904163 L -439807.7641802814,5594840.4836485 L -442093.3532786467,5594655.588298936 L -443173.9815671073,5594376.595584844 L -445707.19136446447,5593512.271911393 L -446834.2906213106,5592709.666938582 L -448209.08507782704,5592322.484555459 L -451127.40802965173,5592878.45679728 L -457166.30360532156,5596477.177471427 L -463189.07512055227,5600925.980624353 L -464239.3194731151,5601758.950963476 L -487034.29269405204,5600214.34131872 L -492562.68034751073,5598825.398737769 L -493815.19294167956,5598052.022050717 L -495049.4565380156,5597063.384647777 L -496640.55560954195,5596353.870390725 L -498463.15131961455,5595982.793609661 L -501551.38264113,5595611.865829961 L -505196.5554917025,5595581.500352449 L -516532.3420822849,5595736.179448252 L -520238.13391447713,5595982.793609661 L -529566.4106534626,5594376.595584844 L -540129.9389567928,5585512.356022078 L -550724.8205944569,5581249.454867492 L -561318.7143753062,5578778.933169223 L -562585.3378435574,5575226.8138952525 L -563858.9515885483,5568833.095919561 L -561997.9935866356,5566439.280013013 L -562368.9400471023,5564879.552845386 L -563264.6171660807,5563922.268887973 L -565550.1129718007,5562284.698959262 L -573844.2695298564,5560107.280849162 L -575867.0271137205,5557482.080055091 L -577442.0022360015,5554779.036499921 L -578307.2953078883,5554933.715595724 L -581395.4147671856,5556786.546240325 L -582384.05217012,5557651.876673757 L -584523.1080995677,5560323.548213826 L -584013.6252845107,5562569.693870891 L -586738.9069598867,5566392.790475054 L -588190.4258888956,5567474.388273145 L -593070.8875541586,5569913.687068876 L -608298.6287276663,5573650.832235397 L -610013.0163103221,5573883.354092296 L -611696.069017029,5573775.145853686 L -612839.3668349993,5573527.525154687 L -615371.6259146869,5572616.730624046 L -616205.5843330191,5571303.61761783 L -615789.0432323453,5569157.552842064 L -616205.5843330191,5567596.707274645 L -617750.1939777812,5566099.686998074 L -619047.0523805604,5565435.525087214 L -620777.6944554524,5565064.578737942 L -629557.1009803867,5563789.827912377 L -631341.2413283617,5564045.575857488 L -632421.8137969039,5564415.515669173 L -635680.8295938943,5566516.116236523 L -634923.7075102729,5574114.850730843 L -632916.1977698698,5577002.8083163425 L -616731.2097780944,5582577.79714759 L -612869.7323125182,5583566.43455053 L -611109.8432711007,5583875.662199151 L -609488.4160836011,5583566.43455053 L -608152.0396276364,5582053.047808312 L -604005.4926385523,5581242.464701947 L -585781.6228912735,5590207.77322522 L -572885.9974932409,5597975.185827207 L -561233.7507944773,5607288.345154522 L -558831.9380736011,5612315.358558276 L -560330.0769723654,5615133.581948029 L -557921.1435429524,5620090.879836808 L -546616.7103978914,5623936.233241939 L -544577.7354609427,5624122.265672075 L -541952.5346668655,5624122.265672075 L -533890.8813961376,5625294.810456565 L -531913.6252710291,5625758.828952012 L -530585.3948531494,5626685.747654299 L -529473.4503695067,5628106.043569578 L -528361.5058858577,5631071.955778394 L -527465.8101973066,5633975.142637781 L -522709.77401255147,5636291.003921014 L -517211.63997438736,5639287.2816073485 L -507204.0839128722,5646067.0446632095 L -506338.7535906398,5647070.930020799 L -505875.85349499877,5648986.486126028 L -505644.35685644625,5651009.225140319 L -505651.34702199826,5655325.605887215 L -505196.5554917025,5662823.141100437 L -502748.1601626104,5672530.472865234 L -497536.23272852675,5672522.476050907 L -492300.94877443655,5672012.974666278 L -490586.54262220184,5671255.852582657 L -486632.99954803305,5669957.875668878 L -484563.7709957835,5669772.831206756 L -482524.90792104666,5669897.144825039 L -480887.20756053785,5670422.882132333 L -478539.99294297135,5671410.531567265 L -471135.399444139,5676128.187001801 L -468162.49706977117,5678992.899707125 L -469274.44155341387,5683239.546369473 L -470138.7652268709,5691826.936947496 L -467976.4646396412,5692722.483523489 L -466864.52015599847,5693000.488269572 L -457752.64121346804,5694545.097914334 L -452748.87246749684,5694730.123806883 L -443080.8908513543,5695070.704789837 L -431869.43655982823,5695873.440194433 L -421707.2015137108,5697541.356919896 L -411453.0312907853,5696522.372720209 L -403884.6435932174,5695193.023902531 L -402371.38728278916,5695039.481887294 L -399436.82840830093,5695610.571540785 L -396981.53609511466,5696552.719516956 L -389985.26326938,5695780.349478679 L -382209.7233100809,5693896.165388557 L -380287.0466075156,5692136.145915348 L -379020.42313926434,5691455.860055238 L -377352.50641380023,5691116.285609871 L -374758.6590652507,5691085.920243552 L -367098.31762130203,5691085.920243552 L -336736.0564218302,5693865.800022231 L -335006.4208845196,5699448.785667807 L -335068.1210155995,5701278.520767189 L -334357.5070395089,5705108.626217664 L -329137.32181632234,5712644.654043323 L -317215.21629836,5720397.937090456 L -308071.98402150214,5725340.117567564 L -295037.91545032436,5733649.39153729 L -293493.3243751414,5735317.326832328 L -283887.0615708453,5744026.887410491 L -274836.7894667431,5751502.184392313 L -272968.71086748765,5752304.919908102 L -270080.6415309639,5752891.1269732565 L -267300.7617522844,5753277.321388379 L -265571.219396419,5753972.855203144 L -264644.188943113,5755648.768631735 L -266065.49150716676,5757137.792205179 L -273601.51933282573,5753972.855203144 L -286759.90163348074,5746312.513759196 L -292350.00798759214,5742575.34991191 L -296334.7925338766,5739332.458175358 L -297415.3835719916,5738436.781056379 L -300103.29103473015,5736489.853047251 L -301863.18007614143,5735532.58765941 L -316659.2440565387,5731548.809650707 L -321663.0128025099,5730838.158424277 L -324566.2183426643,5730745.198140322 L -328549.9962401671,5730961.465393792 L -329847.9731539461,5731177.863301441 L -335932.351618799,5729355.267480168 L -346790.10191010963,5725155.09178621 L -347793.8567247143,5724196.819749595 L -350449.4228851103,5721323.849143969 L -351253.0158259234,5718821.974111366 L -351885.84297202807,5716436.397313153 L -353723.5562049585,5715131.299802038 L -363715.99474360957,5713216.731664824 L -372070.73292174557,5713046.953838118 L -373553.7542976458,5713046.953838118 L -378434.19728214206,5713170.260918827 L -379885.75346149673,5713263.221202782 L -383746.2057087248,5713726.233049453 L -387916.0347171305,5714313.577306369 L -393908.4408660361,5715177.901091021 L -395885.71567191114,5716042.094332687 L -408302.205162833,5723640.847507774 L -417159.32401706825,5729804.03813216 L -418216.67039740126,5731487.090950061 L -420502.2967461059,5734050.703364076 L -426757.45968644,5739887.442449171 L -439189.06658903207,5739085.825444375 L -440950.07403024286,5738745.132599209 L -467560.05397075816,5730467.2119638175 L -468934.7365650629,5730189.2258985005 L -471776.33515558887,5731085.779123269 L -475668.1594179174,5732845.798596477 L -477258.251951856,5738490.372510914 L -472640.6589402398,5740845.714485792 L -470571.43038799026,5741338.961266986 L -468285.8041504795,5740629.447121128 L -464517.305538432,5740150.180671027 L -462849.3702433952,5740258.370228871 L -457722.27584714297,5741463.40542826 L -453289.59675466333,5742930.060449706 L -452135.3010791941,5745229.797672499 L -453088.4469128631,5746250.794947349 L -466741.19450571743,5746467.192854998 L -473937.5173430191,5746219.422932255 L -493273.3315739407,5752922.498988357 L -508655.73327367834,5752582.905973418 L -514648.13942258386,5751995.580397262 L -516594.0422133648,5751748.94766628 L -519450.64635333663,5751084.78575542 L -520871.9489173967,5749879.750556031 L -521133.82960303465,5747609.372161975 L -521536.1293978289,5745077.243625272 L -523836.8545886247,5743177.811580495 L -532693.97344286,5741378.441958631 L -534538.8260651,5742172.919685318 L -537704.8814669406,5742705.66583893 L -540870.9369799688,5742127.4554769015 L -543775.1304881319,5740659.682055656 L -549458.1971262055,5737015.608924117 L -556562.5663283267,5738374.186138743 L -560701.0233216382,5739517.502637485 L -561689.6607245726,5739919.80243228 L -558341.6737660003,5745293.510878743 L -552707.0910602876,5746090.11365401 L -545411.6937680747,5748443.330580307 L -544206.789000476,5748721.316645618 L -540531.2321028117,5750266.932827962 L -541210.530106108,5751316.282505167 L -543126.1979623546,5753972.855203144 L -543775.1304881319,5751980.332442608 L -544407.9389534701,5750837.146486856 L -545829.2415175238,5750172.9846871905 L -556797.0641212447,5749172.230915757 L -563209.0310947623,5749339.007699286 L -577225.6043283463,5749771.6728604045 L -581395.4147671856,5751347.523977277 L -583434.4082737133,5752150.259493065 L -573889.7523078455,5755702.360197464 L -572453.3323321216,5756042.0836442 L -569781.6607920529,5756042.0836442 L -568206.6856697781,5756288.6978056105 L -567380.8360391854,5757563.318088189 L -568794.0112459271,5763609.334372396 L -569426.8383920317,5765153.944017151 L -570615.6190991912,5766172.94678641 L -576546.3064362502,5767640.720207662 L -579697.225856848,5767748.77933371 L -584762.620122014,5767748.77933371 L -582569.0779514747,5772844.650827419 L -567033.1343477009,5777756.335395224 L -564947.6698727878,5779577.943248482 L -564499.8873000045,5781709.897038966 L -538678.4014582111,5783686.16530726 L -537103.4264471303,5783948.903417922 L -530153.7362296116,5789307.51313348 L -529195.4643041899,5790265.7851701025 L -527743.7962626171,5792180.465058341 L -526724.9426059213,5793663.355891257 L -525149.9674836466,5794713.581674246 L -519219.26157700847,5796628.280243257 L -516392.78039814637,5797092.168195712 L -514462.1255620267,5797060.926723603 L -510446.97564942343,5796782.940658293 L -503404.21339692443,5796689.868512113 L -500114.9439846395,5797385.402326878 L -477243.1344289983,5806883.457003757 L -470540.0770536564,5809817.0092294635 L -466308.52934459806,5812874.875184654 L -460687.20008795,5817755.336738723 L -459328.585622985,5819361.534652348 L -455528.7336766036,5825044.601401608 L -455004.13344988273,5826372.943681707 L -451420.5116178263,5836165.108484342 L -451575.1906024349,5838418.374849943 L -453737.50987043756,5843669.7642949065 L -458787.74947359407,5849275.994709457 L -456610.3313635002,5854512.2853123285 L -450710.97868000204,5861832.045773324 L -451822.92316364485,5862666.004080456 L -459297.25085822376,5868627.05678384 L -461274.5069833323,5871144.067908873 L -459868.3405117154,5879869.883090466 L -459220.41463471344,5880796.80168156 L -457938.65496283147,5881599.406654364 L -459636.8438731691,5883824.302159231 L -470726.0908030261,5883885.033003069 L -479575.1012031037,5882773.069949854 L -490833.1753531849,5880518.8156162435 L -493767.7155469066,5879160.238401618 L -497844.45372836525,5877214.3169300705 L -500409.0541103955,5874371.730371535 L -504763.90901135607,5870326.214981413 L -525705.9397254679,5869029.356578634 L -527527.5288979592,5869013.12065597 L -529120.6225862695,5869682.427339349 L -528424.0821227282,5871869.83676936 L -527187.8240207958,5873260.773855901 L -525057.0071996844,5875113.735043487 L -517180.26795928687,5880765.42966646 L -513597.8018885696,5883237.088445301 L -509952.59167645755,5884873.651725237 L -506246.79984426533,5885430.63061584 L -504856.869295312,5885614.537997395 L -503342.6064472961,5886201.88225431 L -501026.7451640634,5887345.180072287 L -496207.890448429,5890032.118136584 L -484918.59339580475,5896549.143192983 L -483991.6561239439,5897569.003387267 L -483095.99768573215,5900580.398485265 L -481505.90515178716,5905815.6825505495 L -466617.8874250154,5916255.903773172 L -461830.47922516,5918418.073928616 L -459745.0334310134,5918881.104456054 L -456487.02428279823,5918633.483757063 L -452162.5348593567,5918511.164644363 L -446849.40803297446,5919746.4348894805 L -445119.8844690759,5920240.688319455 L -428595.3033511676,5924965.464351335 L -414772.7406812742,5925521.436593156 L -410587.7009685529,5925089.777969624 L -401398.9858025121,5924409.492109513 L -399128.6074084624,5924718.850189924 L -384919.8875737867,5928980.614263938 L -376734.92733354436,5931545.214645968 L -373924.7007581125,5931823.200822473 L -370990.14188363054,5931946.526472754 L -369044.2390928496,5931916.161106435 L -357121.126926112,5926417.132281713 L -347592.7068829141,5921753.925949117 L -344951.2515966005,5920888.744739449 L -343437.00742935744,5922249.316459664 L -342766.843320961,5923197.466633378 L -347607.82440577814,5929475.986204913 L -350727.4090616148,5932069.833553455 L -352148.71162566845,5933043.353433532 L -353198.937297471,5933677.168547645 L -354588.8678464243,5935344.097305101 L -354680.82159279875,5936517.630057605 L -353631.602458584,5937382.960379837 L -352581.33953644853,5937845.990907276 L -341644.77708560997,5938856.866541611 L -340049.6702109365,5938945.819022426 L -338437.33955679095,5938217.925335751 L -336797.66326026473,5935803.996246383 L -332411.5855679614,5934170.415440039 L -327191.4190255414,5927869.657748304 L -325611.4483544986,5926936.755529245 L -322434.2644409805,5925491.220228201 L -320519.7149845334,5925058.555067081 L -318264.4541133414,5924780.569001771 L -308720.9165472794,5925862.1480079 L -306141.1986423914,5927174.254365334 L -300774.4616807081,5932324.593530557 L -302172.51958697976,5932532.864080894 L -307948.67694079375,5931066.078627657 L -308875.5956430818,5930340.309878363 L -317724.71779418364,5929011.967598265 L -320056.7962081194,5929552.822428423 L -328458.0426049865,5933398.175833554 L -329569.98697743536,5934232.152821458 L -334339.25793048856,5939748.423995231 L -335062.025636611,5940601.4889476 L -345330.3253031854,5955598.702880999 L -343993.9862087666,5957428.437869181 L -341708.4904030466,5959838.228723612 L -331059.9985188876,5970486.720607771 L -327160.04701044096,5972069.692433178 L -322442.39168709866,5973953.018987089 L -323268.22274811874,5974772.866420139 L -325183.9092851383,5975004.232626894 L -326851.8260106024,5975034.597993219 L -329816.6198196123,5974911.290912511 L -332782.53202842805,5974818.330628555 L -334295.7696580897,5975064.963470732 L -335994.07031945157,5975590.57023504 L -337708.4579021072,5976671.16138435 L -339454.23606943607,5978663.5536018945 L -340133.5152807656,5980609.475073442 L -340225.46902714635,5982014.65357705 L -339438.093328224,5994262.222666296 L -338419.1091285372,5995497.492800213 L -336364.99809914536,5996316.333695682 L -326079.45597232593,5999034.494662521 L -322126.04344114196,6004408.333651968 L -315083.2625078764,6013984.231201139 L -313292.038701704,6020408.314543156 L -312859.373540591,6029303.907440255 L -325909.678034426,6021581.847295654 L -350511.01115396584,6013643.519675201 L -357460.7013714846,6015157.763953644 L -359159.9900008489,6015760.35605402 L -375900.96891521226,6031712.7104378715 L -379236.8209357194,6035682.377461292 L -379421.7162852832,6036902.530183544 L -381831.65625227767,6043234.529347396 L -385414.14100376156,6046632.10006855 L -388410.41869009,6049380.607943328 L -391931.16606016096,6051913.854879831 L -395514.76921145077,6054384.395258866 L -401753.826772106,6058863.545097344 L -403931.2262014332,6061488.745780227 L -396873.34642607655,6075974.463823398 L -381306.04948796896,6095218.212445721 L -377136.239049136,6101982.988632909 L -375962.5571840741,6102877.547352089 L -365754.85781834647,6108824.4891813835 L -363607.78650499874,6109209.676947723 L -356781.42204895493,6110105.223634918 L -354503.9230575623,6109803.992689424 L -353476.9233627816,6109117.592769559 L -348364.9464893997,6108098.72043209 L -345075.67707710835,6108375.699959825 L -336441.8343226621,6109888.956270253 L -336596.5134184646,6112715.306906125 L -338187.6124899909,6113379.487275362 L -339259.0697444063,6113488.683481982 L -340967.4736990977,6112916.456747925 L -349924.80408881034,6111835.865598616 L -373677.0613783541,6112545.528968231 L -375437.9383877741,6112669.842586515 L -377012.91339885496,6112854.868479069 L -383098.2798317228,6114213.445693695 L -397089.6137907345,6114707.699123669 L -398155.0874171856,6112329.131171776 L -402063.14760217775,6101858.675014619 L -403514.70378152607,6102105.307745603 L -410587.7009685529,6102506.600891622 L -423899.7370354685,6098924.134820904 L -430293.45501116593,6094075.026489969 L -439621.7317501451,6089873.844147235 L -440888.3553295902,6089627.229985826 L -442494.6836750049,6089627.229985826 L -455405.4265959016,6089905.21616233 L -459884.576434379,6090677.455657622 L -483760.1594853914,6100052.203253793 L -486864.5148673523,6102600.5678243525 L -487111.12891756237,6103851.0672321655 L -487567.0388476641,6105225.768507237 L -489041.93297744606,6105318.84065341 L -491976.47317116143,6102553.0903183855 L -492432.3831012567,6100615.296204151 L -490493.4517952612,6096360.522295689 L -484780.0383604415,6090276.143830836 L -483219.3046552402,6083388.19110593 L -483482.1733088869,6082276.228052715 L -484347.4850615466,6081039.839407798 L -485366.3760797818,6080175.646166132 L -486571.37402883195,6079774.353020112 L -487836.8976668565,6079650.8968268465 L -489504.8330730871,6079804.569273874 L -499976.40763004916,6082244.874607193 L -501056.998779358,6082677.539879501 L -506817.8896089507,6086708.795171782 L -507142.45839367737,6087928.92921327 L -511342.54090618377,6091295.14671129 L -520485.8664756871,6093457.335436301 L -527126.2357519402,6095897.622200041 L -533875.782665234,6099666.00894987 L -535311.1961033765,6100345.437384957 L -536577.8195716278,6100653.63970403 L -539542.594699871,6101117.67688025 L -544176.4236341509,6099264.715803852 L -547558.7650814224,6097612.02835227 L -548809.264600422,6096793.1874568015 L -551612.3891480837,6093140.987190338 L -549829.1434754721,6089873.844147235 L -546184.063806351,6084222.149413068 L -544855.7215262533,6082492.495417379 L -543512.2618344853,6081936.523175558 L -541619.9504982451,6080738.608573505 L -540099.5735904741,6074539.050385256 L -540870.9369799688,6074276.18173161 z\" /><path fill-rule=\"evenodd\" fill=\"#66cc99\" stroke=\"#555555\" stroke-width=\"8717.023305142504\" opacity=\"0.6\" d=\"M -734536.3494601602,6009474.69731557 L -734782.9821911433,6009227.076616579 L -736111.2126090167,6008671.104374757 L -737084.7326002935,6009227.076616579 L -740064.7556831917,6011790.6890306 L -748868.2830828925,6024949.052650488 L -761809.3728005353,6036747.8510877425 L -764249.6781338485,6042570.479298755 L -769160.3747336394,6046075.121289146 L -770242.0842827541,6046693.818880396 L -775523.8577748089,6049195.712593764 L -781639.5895739892,6050925.21747689 L -784852.0972634486,6050122.612504086 L -796249.5838739171,6041968.036310935 L -797886.184515393,6036686.262818887 L -794318.817175573,6033056.170129639 L -794581.6671484531,6029581.89361676 L -809932.6036516387,6018261.243229807 L -813206.8301529384,6017042.097045136 L -815091.0513822122,6017103.685313991 L -840572.9628898394,6018647.307101939 L -846194.3107160602,6020376.942528055 L -847507.4050415031,6020933.921307458 L -847847.1099186601,6022732.284391739 L -856170.4947624687,6027049.653106645 L -861514.9750343787,6026802.01383808 L -869329.0074949209,6026678.706757371 L -873035.7872951219,6028130.24425596 L -874209.4691601838,6028778.170132962 L -874920.0832474682,6029844.631727422 L -875043.4275785158,6032671.001044059 L -875745.9515588275,6036222.24432344 L -878472.2212022061,6037242.235060709 L -883043.3433566306,6037828.442237058 L -892927.5924486313,6044253.5134358825 L -894595.5090629016,6044716.5440745205 L -895769.1536776242,6045273.522853924 L -896849.7820772786,6045983.167542772 L -907135.3056345317,6053488.830002106 L -908648.561833766,6056114.030684982 L -894780.5535250292,6060932.773649599 L -884093.6808906513,6063712.653428279 L -871058.5124892468,6066122.593395273 L -862009.2284643535,6070631.978168279 L -864819.4736093582,6074244.828286087 L -873143.9955337326,6075017.198435558 L -879151.5190943085,6078415.645262502 L -879985.4775126344,6079156.643396872 L -881375.4267423606,6082429.769956757 L -872108.8687040276,6086106.333503197 L -870186.1920014622,6086168.052315043 L -860556.7029977567,6083541.733121166 L -839893.6463169705,6089349.243920509 L -832054.3931514286,6096817.420193793 L -829298.783248879,6099912.772223839 L -827723.8082377983,6102662.2865250055 L -823553.9979101592,6110537.888796031 L -814658.3862210993,6120761.842653994 L -806443.0791841107,6123577.064889382 L -806503.7913471757,6120931.6204807 L -788928.8541256804,6119835.800168698 L -786025.6672662925,6120082.544761899 L -784079.7457947449,6120931.6204807 L -781608.2175588951,6122615.66126661 L -780557.8613441079,6123541.72243268 L -777716.3932965666,6127989.518936824 L -774689.8993564767,6133086.2479667505 L -766102.5088896493,6134383.236801321 L -758874.83260682,6134414.4597038645 L -748374.0296529178,6135773.167461475 L -735370.3077672923,6138769.314604819 L -724497.4400643175,6141642.135986688 L -709023.0846182054,6142321.564421774 L -706459.584066402,6142167.891974754 L -695525.0161211536,6139293.933401118 L -685888.499701563,6140035.938073069 L -683386.6246689607,6140267.453392389 L -678429.3453497601,6139016.93530381 L -674259.5163413543,6137024.542975071 L -671000.5192251306,6132916.451459278 L -671896.0659123182,6127155.560629692 L -672668.4359505946,6125425.906522809 L -671185.4145746944,6122152.77985173 L -649873.4440488911,6104175.524154667 L -643973.9795031748,6099203.108854223 L -642568.9315425513,6099634.786047334 L -639031.9295690501,6099449.741585206 L -637610.6270049964,6098970.605566902 L -634846.8712867624,6097009.585364457 L -632746.289400179,6094507.691651088 L -632449.1781200512,6089413.833343736 L -633240.6733731385,6087974.4121024525 L -635047.0331605539,6086724.043126437 L -639006.5598626869,6085095.457980055 L -641267.953474407,6085049.993771639 L -643356.400422919,6084561.723858435 L -647046.962870029,6083449.779374792 L -652360.0896964113,6081225.8718379345 L -653610.6078961837,6080422.278897114 L -654923.7022216266,6079372.910650343 L -658769.0556267572,6074785.683116239 L -656320.6416168986,6071504.429199048 L -654112.9698915102,6071974.449892031 L -653239.5310039263,6073442.223313283 L -651140.0488363758,6075419.498119159 L -646753.8592818544,6077426.00132198 L -645270.9684489451,6078075.064279554 L -637896.7217468588,6079458.880768753 L -625935.1542180235,6080083.561987966 L -622599.3021975163,6080052.339085429 L -619835.5464792823,6079835.941288974 L -615487.8122868586,6076909.509660604 L -614661.9812258448,6074585.53981202 L -609287.2661306007,6064175.683955717 L -603935.6466917816,6058569.453541161 L -604438.1392300989,6055511.587697163 L -607248.2539433065,6047404.339675035 L -612319.7622682339,6045056.118519887 L -613542.8974640863,6045575.741656224 L -616735.1987892747,6049597.005739784 L -616462.3388157105,6050954.594986401 L -615155.2281182383,6051987.708629742 L -616260.182436329,6054462.219450392 L -616421.8516976835,6057566.55615158 L -617240.6924819575,6060222.122311969 L -618322.290280048,6062059.835544906 L -619140.1432075073,6062847.322994852 L -622660.890577572,6064793.2444664 L -627078.4707167667,6066708.931003413 L -629271.0062385243,6067511.535976218 L -631649.5743016185,6068253.410105191 L -633603.4924762932,6068205.932710412 L -634336.3819341239,6063867.332412887 L -630877.2041521419,6062615.8263563 L -627698.0257330337,6059315.447335492 L -619727.4501028897,6046457.17746933 L -619153.2474328146,6045326.126451643 L -618466.8475129483,6042759.512883256 L -618151.5058045667,6036872.164706033 L -618491.0801387391,6036006.853064567 L -621209.3716485631,6033999.343324157 L -623619.2743652118,6032300.054583599 L -628869.7130925055,6029774.934893209 L -630136.3366719569,6030662.484654881 L -632931.3152927276,6031744.082341777 L -637209.3338589775,6032053.421852616 L -638938.8574228762,6032115.010121471 L -647711.1433504676,6031172.992688286 L -651572.6022464709,6029658.729840276 L -653101.1064003601,6027790.651241015 L -652931.3098928875,6026492.674327242 L -652205.4107118027,6025195.685381471 L -652112.4689974195,6023096.091462897 L -654382.8473914692,6017474.762206249 L -656050.7641169396,6015296.337558573 L -658306.0249881252,6014076.184836321 L -663649.4986112536,6011637.016583573 L -672050.7448969267,6008023.178386562 L -675108.610852117,6007605.630748306 L -676282.2740364124,6007682.466971822 L -679216.7956605549,6008578.1440908015 L -686521.2149854496,6012562.9286370855 L -688189.1315997135,6014585.686332143 L -689377.9309876395,6015204.383812199 L -696856.3595556231,6015632.910849574 L -697362.7293540903,6016098.942531378 L -699262.1612876797,6016609.431884016 L -704853.2742905663,6017381.671490502 L -706489.8375705091,6017235.119640818 L -707779.7058077363,6016098.942531378 L -716930.0589043311,6011018.318992323 L -730273.4669863408,6010184.360573991 L -734536.3494601602,6009474.69731557 z\" /><path fill-rule=\"evenodd\" fill=\"#66cc99\" stroke=\"#555555\" stroke-width=\"8717.023305142504\" opacity=\"0.6\" d=\"M -719864.6176676191,6443567.06278464 L -719802.992148418,6442887.764892538 L -727338.9081118589,6439938.107175959 L -730999.2357356348,6439428.6057913285 L -736620.6954240737,6439846.041678561 L -739786.769506681,6440417.243194269 L -741038.1451314775,6441034.803704953 L -744111.2589301225,6444648.641901964 L -744852.1265215076,6445699.0166863175 L -745531.424524804,6447829.852077003 L -745732.5743666042,6449667.677172157 L -744559.0229333331,6451860.21269392 L -740489.2935981866,6454423.713356912 L -737161.5688238039,6454687.569978567 L -735941.4161015503,6454531.884345184 L -733269.7445614818,6454709.808098775 L -734335.0877561356,6455350.743810224 L -742133.9841242475,6455783.390401771 L -743540.03884484,6455567.011174889 L -751833.1887541205,6449126.803772427 L -747601.7527960865,6444006.84865429 L -745099.8777634904,6443165.750957855 L -742984.0666030187,6441606.0239014225 L -741083.6280206604,6438254.942607033 L -740713.6882089691,6436262.550278295 L -748930.0018947391,6429945.668637314 L -774465.3743139034,6418880.766195467 L -776264.7439357667,6418965.711095528 L -791917.0044546968,6428926.684437628 L -792179.8545387707,6431034.387032741 L -789917.4915286147,6431150.591974485 L -788620.5025828507,6430718.03867559 L -787662.2306574291,6429822.361556605 L -785686.0555705869,6429389.696395493 L -781577.8707621427,6430656.319863744 L -759708.7909139519,6438439.968388394 L -764960.3294714723,6441806.185886414 L -771137.6495395207,6443721.741880442 L -772372.9011038656,6444061.4467576 L -777130.0556884264,6444787.2155068945 L -780805.6125860906,6443969.362579435 L -781994.3932932437,6444061.4467576 L -786736.3186039163,6445142.037906916 L -790967.8290626353,6447706.507745954 L -787723.9493580817,6450207.394921742 L -784542.7764333771,6451567.109105746 L -784790.3971323688,6453358.351592685 L -788805.547044972,6457157.085028062 L -792534.5649653799,6463535.6854808945 L -788867.2658568185,6469543.227722237 L -784743.9262751772,6473975.906703523 L -782396.711657617,6475520.516348284 L -778874.82720698,6475428.450850885 L -769438.3609101501,6473343.098238184 L -768079.7836955244,6472702.162526734 L -769501.0862595781,6471953.149008464 L -771260.9566202228,6470222.507044767 L -764033.2803373934,6461389.620705128 L -762906.2184420868,6461096.517228148 L -764274.9174084209,6469171.274724188 L -756702.5220188999,6471091.845058946 L -750608.0403719115,6469910.166379557 L -749980.2275665352,6471240.503276445 L -754634.3000042316,6474822.988027928 L -757022.0018510191,6478192.206569118 L -757979.2672388594,6480710.224342934 L -755879.6920010577,6482917.989138579 L -742010.6584739664,6488138.043818782 L -739886.8504991736,6487936.8752962155 L -729470.8619023425,6489311.707114271 L -728358.9175298937,6489713.000260291 L -706675.870000639,6500184.574817251 L -701702.4667321868,6502593.415065207 L -699726.1798943204,6503612.380584127 L -697702.4342312538,6505960.601739275 L -696452.0280048932,6506315.424139296 L -694830.6007061935,6506037.438073985 L -693270.7432179768,6505373.2948438935 L -692004.2315007497,6504508.076383879 L -685625.6496174891,6496339.240092881 L -689872.3149606053,6488910.395287486 L -693023.1225189848,6484647.643245462 L -698274.5305335143,6481311.791224962 L -703185.3575651024,6478624.853049465 L -703534.0472245954,6475488.156365175 L -698539.3936927511,6474078.988850381 L -697140.3292489044,6474390.322866809 L -691726.2454354328,6475289.001028965 L -690366.5683905801,6476091.606112963 L -685872.282459666,6478137.60846581 L -683571.5385880972,6477604.862312197 L -684776.5552179202,6473589.730969166 L -685888.499701563,6472617.329488897 L -692157.7920855524,6469729.2601523725 L -696501.5371556019,6468950.887805359 L -703765.5625439147,6469636.29986841 L -707941.5056120754,6466949.3803736875 L -709108.0481990343,6464123.029737816 L -722458.446446596,6460154.369251977 L -728111.2781501353,6459536.659628736 L -734010.6121528669,6458764.42002225 L -736079.8405939227,6458223.565303293 L -733299.9608152368,6458022.415350299 L -722428.211512068,6459041.418230752 L -713903.564964235,6460678.9694786975 L -712358.9366387064,6461065.163782625 L -710907.3991401246,6460617.269347625 L -706675.870000639,6452818.484730537 L -710103.6757675207,6450331.745790372 L -718073.375291874,6445759.598417599 L -719864.6176676191,6443567.06278464 z\" /><path fill-rule=\"evenodd\" fill=\"#66cc99\" stroke=\"#555555\" stroke-width=\"8717.023305142504\" opacity=\"0.6\" d=\"M -650213.0370638365,6349823.631765176 L -651510.0073288338,6348433.701216222 L -655062.1267139988,6345067.483829396 L -659170.3487727762,6342410.92970099 L -660436.9723522277,6342071.224823834 L -664946.3756948058,6341112.934217639 L -666985.3506317607,6340742.994405954 L -668761.3637336176,6340726.777164058 L -670853.8369436554,6343916.058654107 L -666151.3923246224,6350534.17124058 L -664297.4431690221,6352603.511543861 L -670567.8540640111,6357854.919669584 L -675787.8901746466,6352070.784071015 L -677918.837427549,6352387.113747406 L -686814.4490054151,6357082.549631307 L -702351.3805771974,6355738.1018603435 L -717176.6916353141,6367738.16211281 L -720559.1262640309,6371754.299993421 L -714065.327407041,6375235.697214832 L -711463.371381946,6374657.48685281 L -708745.0985528949,6373081.523873719 L -705625.6256480762,6371722.946659094 L -704127.5055412723,6371228.693117918 L -701872.2445588928,6371452.081191119 L -726118.8672518234,6383429.772780401 L -730952.7461976766,6380371.925505976 L -729879.2944376648,6377135.147829187 L -730396.7739558553,6375506.562682805 L -731570.4558209173,6375213.459094631 L -736667.184850838,6376387.029097475 L -743801.9008497115,6378240.959572301 L -745006.8056173101,6378579.6764814565 L -746087.3966554314,6379042.576577104 L -747485.454561703,6380340.553490877 L -747725.0971271341,6382997.126188854 L -753377.7982876888,6385900.313048241 L -754489.7427713315,6387939.176122979 L -750288.5791093649,6392911.721966407 L -738057.1153997977,6405452.394643822 L -736420.552119855,6405482.760010147 L -735169.0460632739,6405127.937610125 L -732374.0487617303,6403568.210553699 L -731138.7973085732,6402657.397342278 L -730057.1996216829,6401312.949682508 L -729702.3772216616,6399560.069487409 L -718691.0476647754,6394703.952310162 L -714984.1374327836,6394271.305829807 L -708930.1430150161,6396402.141220492 L -711185.3853166354,6405143.166995207 L -713903.564964235,6408973.272445682 L -712450.8903850808,6410271.267929034 L -705594.2909945153,6414255.045937731 L -700991.815394563,6414408.7183847595 L -697965.3028849004,6412865.115388778 L -686953.8801465626,6406115.568475477 L -685023.20662967,6404185.789745143 L -683293.5525227867,6401668.759939343 L -682366.6339316925,6391985.679481103 L -683478.5969849079,6384726.649863947 L -683602.9106031976,6383058.733138482 L -682150.2547048101,6372926.844777917 L -681317.2842544931,6372155.593139441 L -655957.8225137502,6365020.877140567 L -654197.9147915661,6364758.139029911 L -648638.1738037735,6366317.866086337 L -641472.1044705726,6368387.094638587 L -639016.6816143952,6368804.642276842 L -627989.2466778363,6366842.48499383 L -629835.0871568911,6360996.612013836 L -645332.5753985672,6351090.162163169 L -646753.8592818544,6350379.622687763 L -648267.1155922889,6349916.59204913 L -650213.0370638365,6349823.631765176 z\" /><path fill-rule=\"evenodd\" fill=\"#66cc99\" stroke=\"#555555\" stroke-width=\"8717.023305142504\" opacity=\"0.6\" d=\"M -183225.18191717044,6696690.46737697 L -184027.78688997487,6696845.146472772 L -185108.3779280962,6697369.765380261 L -186391.25599977767,6698713.225072027 L -188159.25360654053,6703400.552279391 L -185356.12917007267,6705030.106824208 L -184059.1402243024,6705401.034603902 L -181062.99308095864,6705864.06513134 L -177154.93289597283,6705864.06513134 L -163981.32132142945,6706728.388915991 L -160769.89478143016,6707129.68206201 L -158669.31300604693,6707440.02811043 L -149650.3756667059,6709509.256662686 L -146808.81432651918,6711330.864404749 L -160769.89478143016,6722913.265045548 L -167039.18727661972,6723933.255782817 L -173518.85668995444,6724374.048301249 L -179062.4921868742,6724898.648527969 L -177139.8154843089,6728164.784922302 L -172012.72108805663,6731284.257827122 L -157156.0566956124,6739084.142163235 L -144167.3591514058,6742133.880872306 L -143163.604225601,6739901.864658904 L -144120.8882942142,6726310.835877896 L -143070.66262241168,6724087.934878619 L -129418.90299757241,6722233.967153447 L -115481.16049308889,6720937.108639472 L -118546.01661382489,6711516.766403088 L -122437.84076495953,6702374.540663812 L -129542.21007827442,6700628.78117725 L -132916.55471121854,6701494.092818717 L -133217.76697593866,6700149.626478179 L -131827.83631578519,6697339.399902747 L -131271.86418516404,6696721.839392064 L -128708.25165994863,6693354.615356463 L -125341.04630511394,6688042.495178862 L -127859.17582994627,6686436.297265245 L -129743.3599200746,6686976.014903635 L -132012.75034612196,6685848.953008323 L -134792.6115552287,6683130.791930289 L -135719.66057811372,6674204.833555677 L -140260.4173662195,6656166.00838172 L -141063.02233902394,6655147.005501266 L -145325.92349360365,6655857.65683889 L -152553.599776433,6659656.4089550385 L -153217.6311443078,6661062.575426655 L -147627.65522198722,6671949.5726844845 L -145711.96868496767,6672737.060245625 L -141032.7688349169,6682111.807841803 L -140337.25358972992,6684088.075998902 L -140213.9466202218,6685879.318374641 L -142885.61816029044,6696164.860612661 L -143596.26938672038,6698544.435213337 L -156730.40038081803,6699841.293616116 L -154283.1047707589,6698080.41660669 L -151626.55064235415,6697246.4396187905 L -150452.9993202769,6694929.590478743 L -151040.32489643208,6693107.982625479 L -161356.1206385524,6688582.361929811 L -165742.32887384045,6690358.468213119 L -169627.0324276259,6692652.091376151 L -168985.09006740068,6694065.266694087 L -176676.8035264435,6695701.829974029 L -183225.18191717044,6696690.46737697 z\" /><path fill-rule=\"evenodd\" fill=\"#66cc99\" stroke=\"#555555\" stroke-width=\"8717.023305142504\" opacity=\"0.6\" d=\"M -680142.7449644071,6299229.89789657 L -674830.6061060335,6297963.274317124 L -673502.3942577329,6297623.550870394 L -671556.4914669519,6296172.031941379 L -666567.8215630782,6291600.7979247365 L -664143.7707220013,6287817.144650679 L -651201.6744667707,6284651.107818418 L -644621.9240609434,6283987.057769777 L -643108.667861709,6283508.909719474 L -635448.3264177667,6280172.051161393 L -628375.3291195459,6277083.83852065 L -628097.3243734625,6275832.332464063 L -629457.0200990879,6271322.929010291 L -634028.1609342791,6266860.015094477 L -635448.3264177667,6266057.279578681 L -645888.5476403885,6262227.1741282055 L -649780.371902717,6261222.431345592 L -651602.9676127897,6261454.804089929 L -653085.9703079234,6262304.010351716 L -651912.307123628,6263600.868754495 L -650862.0627710653,6265268.804160732 L -652050.7502967669,6266087.6450562 L -654104.8613261586,6266057.279578681 L -655248.1591441288,6265748.070610833 L -665347.6688408246,6262349.4932408985 L -668961.5070378362,6260805.871564146 L -696605.6072704688,6255710.149071806 L -703092.3972811464,6256434.911283512 L -704914.9931024129,6257655.064005772 L -705779.1863440791,6258396.938134738 L -707896.0227228926,6261500.417410903 L -707601.8007349183,6263616.11670915 L -706119.8977588176,6264388.356315636 L -704914.9931024129,6264636.107446418 L -700282.1707057145,6264821.021476755 L -698984.1752223627,6264512.669933925 L -697748.9050884454,6263663.594103923 L -692961.5341389292,6262319.127763386 L -674491.0130910946,6266396.984455844 L -669918.791106443,6267662.620067281 L -669324.4566839756,6268728.093693732 L -670614.3249212028,6269454.850411035 L -675942.5691592552,6268188.226831583 L -678814.4026843093,6267262.314778077 L -680050.7726484599,6266951.968729657 L -685980.4720175102,6266520.310217313 L -687741.3675965093,6266582.0289179655 L -688976.6191608539,6267462.458082296 L -689594.3287840945,6269438.614488372 L -683077.2851581223,6274520.225995434 L -676405.5811171144,6276156.919818362 L -675138.9576488631,6276527.866278828 L -670722.5144790472,6278010.7571117375 L -669069.7152764471,6278674.918911403 L -667865.8170464298,6279847.482376666 L -667548.3317198944,6281693.32285572 L -669137.4362858306,6282137.079166978 L -678166.4581265408,6280419.69054115 L -680297.4240602094,6279554.360107724 L -681532.6755133667,6279693.921791856 L -703340.0179801382,6286906.350120031 L -704729.9672098644,6287708.973662415 L -702922.4889114556,6293809.569369164 L -687926.3934890578,6298427.162380781 L -682428.240770127,6299538.1188964145 L -680142.7449644071,6299229.89789657 z\" /><path fill-rule=\"evenodd\" fill=\"#66cc99\" stroke=\"#555555\" stroke-width=\"8717.023305142504\" opacity=\"0.6\" d=\"M -483853.1197693536,5907175.266302756 L -489504.8330730871,5907328.938749784 L -498030.4861585016,5912981.770564517 L -499760.14026538486,5914401.936048005 L -507883.36323540186,5923730.212786984 L -507945.0819360545,5936672.309042214 L -507049.40481706976,5937444.67908049 L -497566.4676630547,5939884.853982013 L -492161.387090298,5940564.133304536 L -491049.44271784916,5940595.505319636 L -479683.3093305206,5939143.837389258 L -476810.4692678789,5938417.080671961 L -475575.21781472804,5937629.593110821 L -474802.8477764517,5936549.001961506 L -469489.72095006943,5929105.058425212 L -458633.0890585645,5927946.493971814 L -457336.10011279426,5928069.801052523 L -451451.88352173293,5927312.678968901 L -449953.7447341624,5926865.902933699 L -454787.73554223374,5921692.337680262 L -456054.35912167886,5920888.744739449 L -469026.8208544221,5915606.971247394 L -480980.2982762846,5909460.892651461 L -483853.1197693536,5907175.266302756 z\" /><path fill-rule=\"evenodd\" fill=\"#66cc99\" stroke=\"#555555\" stroke-width=\"8717.023305142504\" opacity=\"0.6\" d=\"M -697687.3168195835,6179417.229793334 L -700590.5036789713,6179881.11785699 L -703247.0763769489,6180976.956960954 L -702907.3714997855,6184344.162315789 L -698953.9216070682,6194366.835788968 L -695247.0300558431,6201262.934551946 L -696327.6210939643,6202150.484313618 L -703694.858949732,6202614.502920259 L -705161.625833396,6202196.973851576 L -706135.0152816818,6201131.500225126 L -707030.710970233,6199587.002331387 L -708034.4472152648,6198103.981066681 L -709393.0244298906,6196683.6850402085 L -710876.0458057971,6195478.7802726105 L -712853.3019309057,6193996.895977276 L -717146.4567007861,6191370.688756818 L -718597.9941993678,6190660.037419194 L -719802.992148418,6190228.378795656 L -721454.6915207913,6190120.189237812 L -723122.6269270282,6190784.351037477 L -723833.278153458,6192049.98664892 L -722767.804527007,6195941.810911242 L -722243.185730707,6197301.394663449 L -716728.9089513307,6210366.797999382 L -708281.0799462479,6212404.673217304 L -701609.3759052461,6211756.747229108 L -688543.9539997409,6217624.839759731 L -685301.1926949868,6218861.116431229 L -682660.7440574486,6219586.866610951 L -681147.4877470204,6219277.527100112 L -680359.0123290713,6218212.183905452 L -680823.0308245182,6215247.259664645 L -680698.7172062284,6213455.029320898 L -678567.7699533262,6205702.734241768 L -677780.2823921856,6203941.726689357 L -676992.9066932696,6202891.50101756 L -675571.6228099824,6202181.856328713 L -673054.4998227252,6201007.186495641 L -670537.4886976924,6195849.726733076 L -670073.4700910517,6191262.49908778 L -671433.1471359043,6190228.378795656 L -675694.9298906844,6188003.48329079 L -692621.8292617721,6181579.399948773 L -697687.3168195835,6179417.229793334 z\" /><path fill-rule=\"evenodd\" fill=\"#66cc99\" stroke=\"#555555\" stroke-width=\"8717.023305142504\" opacity=\"0.6\" d=\"M -314064.4087399804,6547040.175662517 L -319036.8241516178,6548646.37357614 L -330249.28498073167,6553773.467972387 L -334512.1487737782,6553835.186784233 L -339947.48296182946,6553372.174826368 L -345878.3007306857,6552507.8510417165 L -346897.1730681481,6551750.7289580945 L -352734.91880202416,6550592.295047682 L -354897.2193892539,6550561.929570168 L -367314.6968481844,6554484.119310011 L -368426.64122063323,6554948.137805457 L -372009.14465289004,6556708.026846868 L -373846.8578858268,6559827.611502712 L -374511.03836625896,6561851.357165777 L -372596.4516594662,6572538.192438622 L -368889.5599970472,6574900.524579047 L -364163.7587468201,6576152.049316401 L -360148.62740378955,6576754.49230422 L -357924.71986693144,6577032.478480731 L -355731.1776963921,6576954.635608438 L -341924.75776770455,6573897.776302024 L -333230.2960316386,6568090.396045674 L -333122.2182248185,6566715.582908377 L -327716.0192522623,6560321.864932685 L -317152.4909489321,6557789.605852998 L -310573.87773487106,6555101.810252484 L -306435.4020607929,6551364.665085958 L -314064.4087399804,6547040.175662517 z\" /><path fill-rule=\"evenodd\" fill=\"#66cc99\" stroke=\"#555555\" stroke-width=\"8717.023305142504\" opacity=\"0.6\" d=\"M -575094.7876184351,6163479.843930978 L -581804.8351593164,6163656.7610357925 L -587480.8929510714,6165424.7587537505 L -588531.1373036342,6165888.777249197 L -593921.1003535268,6168668.657027876 L -595696.0882370356,6171788.241794913 L -600514.961633443,6182969.3491785 L -600484.6148366906,6184420.998539305 L -600051.9496755776,6185656.2686732225 L -598182.8644275405,6190243.49631852 L -597210.4629472697,6190999.630434133 L -592422.9615659628,6193656.184562538 L -588809.1234801449,6195417.192003748 L -585503.6368259629,6195478.7802726105 L -583990.3805155347,6195355.473191902 L -582569.0779514747,6195077.487126592 L -581365.1611518847,6194706.540777318 L -578029.3091313839,6193471.289212974 L -576577.6784513444,6192760.63787535 L -574229.4571850025,6191525.367741426 L -573180.0890494243,6190599.325256122 L -565380.335145101,6177425.84411337 L -564423.0510764878,6166599.428586821 L -566353.8363444046,6164838.5515774 L -567496.0344433482,6164498.846700237 L -575094.7876184351,6163479.843930978 z\" /><path fill-rule=\"evenodd\" fill=\"#66cc99\" stroke=\"#555555\" stroke-width=\"8717.023305142504\" opacity=\"0.6\" d=\"M -664050.810438039,6203385.7545587355 L -670491.0178405008,6203833.537131519 L -673069.7290966136,6204715.103376416 L -674599.1094674873,6205363.029364611 L -675463.4331409443,6206196.987671743 L -675972.934636768,6207648.655602122 L -676946.3240850538,6213532.872193183 L -676560.260212923,6215154.318061455 L -675942.5691592552,6216419.804449141 L -663618.1639576927,6229547.951815268 L -662259.5493815274,6230319.184772978 L -656498.5466897228,6233547.9843162075 L -645950.2663410412,6239122.842715664 L -639927.4948258168,6241748.0433985405 L -638815.531772595,6242212.062005182 L -634753.9296835732,6243663.59950377 L -633194.2025159469,6243292.653043303 L -632143.8277315934,6240219.669676443 L -632792.8721195888,6238783.268270297 L -634399.088602779,6237764.265501038 L -635696.0775485493,6236867.581733278 L -637178.9683814648,6235600.958265026 L -639263.3144565785,6233624.820539718 L -650028.104463927,6221300.284795171 L -656513.7946443777,6213857.329115692 L -661270.9493401261,6208018.595413807 L -664050.810438039,6203385.7545587355 z\" /><path fill-rule=\"evenodd\" fill=\"#66cc99\" stroke=\"#555555\" stroke-width=\"8717.023305142504\" opacity=\"0.6\" d=\"M -142607.63198377966,5624122.265672075 L -152059.21580347346,5628538.708841891 L -163796.40740229288,5633233.138077017 L -166391.26128842385,5634021.63217574 L -168151.13176026242,5634128.833765576 L -169387.501724413,5633975.142637781 L -171024.08368512226,5633542.496157429 L -174529.73221309576,5633032.994772798 L -172445.3675684094,5634840.473071207 L -169387.501724413,5637063.373959291 L -145542.19085826792,5645495.955009718 L -143904.6209295499,5645557.673821565 L -124090.6586483324,5641634.496224908 L -121635.2544729217,5639874.476640513 L -117835.36527620109,5636198.043637058 L -129913.26828976536,5626685.747654299 L -132476.76884156882,5625758.828952012 L -135133.32296996724,5625048.177725581 L -138066.8751956802,5624523.577498861 L -142607.63198377966,5624122.265672075 z\" /><path fill-rule=\"evenodd\" fill=\"#66cc99\" stroke=\"#555555\" stroke-width=\"8717.023305142504\" opacity=\"0.6\" d=\"M -804341.4907599458,6394116.626734005 L -814179.250313982,6394409.730322181 L -814781.6933018012,6396773.180862411 L -814535.0792515911,6398626.030187784 L -817036.9728537599,6399367.028210959 L -824140.3355183057,6401282.584204988 L -829020.7971835686,6400819.684109348 L -830889.8637508327,6400633.65167921 L -832418.2374729312,6401066.31684033 L -838503.7157680108,6403737.988491594 L -832588.127161849,6410301.521544329 L -830936.353177597,6410950.547251558 L -826457.1846583531,6410764.514821429 L -808727.69888404,6411275.022854833 L -805576.7422130967,6413389.715615499 L -799816.839351519,6414517.914591378 L -785994.2952511921,6408903.5755002815 L -795121.4221483774,6395073.892121846 L -797083.560861822,6394609.8736264 L -804341.4907599458,6394116.626734005 z\" /><path fill-rule=\"evenodd\" fill=\"#66cc99\" stroke=\"#555555\" stroke-width=\"8717.023305142504\" opacity=\"0.6\" d=\"M -802240.8901925959,6350842.504102644 L -802303.6155420238,6350379.622687763 L -803477.2788375131,6348896.6013118625 L -803971.5509482544,6348649.968580879 L -807893.7405769018,6349638.60598382 L -810302.5434633237,6349916.59204913 L -812094.8856692957,6349916.59204913 L -815460.9911939036,6349237.294157035 L -818349.0606416212,6349190.823299843 L -821067.2216084606,6350534.17124058 L -822210.5381072036,6352402.249839837 L -824866.0855868268,6358642.40711953 L -825160.307574801,6362394.669808914 L -825468.5472554123,6380788.33606366 L -824201.9237871612,6381452.49797452 L -819291.2271873703,6382749.486809096 L -815677.3891015527,6382131.795866622 L -810148.9641977545,6380494.225937904 L -808341.5045801123,6379676.391691212 L -803245.7821989667,6375876.632926288 L -804063.5045834351,6375120.517380247 L -806611.8691539958,6374502.807757006 L -810087.2640666746,6375491.445159941 L -810395.6156095042,6373977.200992699 L -807183.0892392781,6355075.039890905 L -802240.8901925959,6350842.504102644 z\" /><path fill-rule=\"evenodd\" fill=\"#66cc99\" stroke=\"#555555\" stroke-width=\"8717.023305142504\" opacity=\"0.6\" d=\"M -122839.15259174503,6725693.144824227 L -125372.39963944146,6725786.216970408 L -126917.00928420351,6726295.6066040145 L -130129.55422400232,6730326.973758508 L -131549.8502504746,6738295.666745286 L -131364.80578834706,6741044.1745088715 L -131025.21277340807,6742265.333768707 L -123426.4781678939,6752411.314433782 L -122159.85469964264,6752875.332929228 L -121047.91021599993,6753045.110755934 L -117527.16284593524,6752967.286675603 L -110515.73535819743,6752025.120018666 L -109264.34105263428,6744364.797255483 L -113249.14427968531,6729215.029274865 L -114021.38388617092,6727322.699369046 L -122839.15259174503,6725693.144824227 z\" /><path fill-rule=\"evenodd\" fill=\"#66cc99\" stroke=\"#555555\" stroke-width=\"8717.023305142504\" opacity=\"0.6\" d=\"M -359314.6690966513,6535550.604873884 L -366565.57146769634,6535704.27732091 L -381685.10451378726,6546715.606877795 L -379746.30375077645,6550206.100632567 L -377846.89038675977,6551302.946274111 L -372410.43791010283,6552383.537423426 L -370897.20016924734,6552446.2627728535 L -359236.8263355595,6547843.787172909 L -357460.7013714846,6546515.444892812 L -348658.1805093652,6538545.875800242 L -349075.5977158296,6536677.797200987 L -351407.6949217259,6536168.295816356 L -353693.30258966394,6535951.916589474 L -359314.6690966513,6535550.604873884 z\" /><path fill-rule=\"evenodd\" fill=\"#66cc99\" stroke=\"#555555\" stroke-width=\"8717.023305142504\" opacity=\"0.6\" d=\"M -92847.85642231259,6746574.575237493 L -104029.07577931066,6746696.875780614 L -106978.73338469621,6747901.9109800095 L -106715.86473104954,6750806.104376979 L -104400.02212858349,6760041.290400211 L -97928.46139179422,6765476.717769713 L -89635.31148251376,6765168.384796457 L -85651.53347381075,6763994.833474386 L -84245.46029483923,6762418.8704952905 L -84909.52891305332,6759916.976781927 L -91148.56779294198,6748304.210774803 L -92847.85642231259,6746574.575237493 z\" /><path fill-rule=\"evenodd\" fill=\"#66cc99\" stroke=\"#555555\" stroke-width=\"8717.023305142504\" opacity=\"0.6\" d=\"M -558538.8344854264,6195941.810911242 L -559589.0602684164,6196142.960753043 L -569365.1010106124,6202320.280821084 L -578167.7523045227,6213115.324443734 L -578916.7658227927,6215432.304126772 L -575426.2347064894,6217910.8226393685 L -573828.1640389899,6217501.532679022 L -564902.1870947987,6213238.631524443 L -560021.7254295358,6208883.907166473 L -556777.8270442092,6202413.352967265 L -556562.5663283267,6201100.258641822 L -556870.9178711562,6196760.521263726 L -557797.8177814775,6196003.399180104 L -558538.8344854264,6195941.810911242 z\" /><path fill-rule=\"evenodd\" fill=\"#66cc99\" stroke=\"#555555\" stroke-width=\"8717.023305142504\" opacity=\"0.6\" d=\"M -702474.7063386724,6330797.063863641 L -703648.3695229677,6330874.888055165 L -707416.886704588,6332156.740908499 L -717316.2532082526,6338487.733423568 L -713377.939519166,6341761.997175214 L -710907.3991401246,6342997.267309131 L -709887.4084028563,6343460.1488352055 L -705810.5583591732,6344017.127614608 L -703431.9717265127,6344140.471945656 L -697625.5980077371,6342843.59486211 L -695849.4730436621,6341993.381951542 L -694907.4369297101,6340789.483832718 L -694691.0578140217,6337623.409638918 L -695633.2057901918,6333931.747361581 L -696822.0050669239,6332742.966654421 L -698119.96329993,6331940.34300085 L -700374.1244520891,6331136.750060037 L -701702.4667321868,6330827.39197962 L -702474.7063386724,6330797.063863641 z\" /><path fill-rule=\"evenodd\" fill=\"#66cc99\" stroke=\"#555555\" stroke-width=\"8717.023305142504\" opacity=\"0.6\" d=\"M -809870.9781324376,6382317.828296752 L -813608.160549303,6382657.402630923 L -820403.171671013,6384850.0873764455 L -821515.1347242284,6385251.380522465 L -823793.6217948301,6388008.015532161 L -823152.6860833736,6390170.204368373 L -817777.970988136,6392479.0568052875 L -811785.5648392304,6391892.719197148 L -809067.2733294064,6391553.014319991 L -805515.1539442412,6391090.114224343 L -801005.6387394387,6389174.464937668 L -800975.3851241441,6384479.010484188 L -805283.6386249221,6382920.289965343 L -808264.6683566018,6382472.50728136 L -809870.9781324376,6382317.828296752 z\" /><path fill-rule=\"evenodd\" fill=\"#66cc99\" stroke=\"#555555\" stroke-width=\"8717.023305142504\" opacity=\"0.6\" d=\"M -298651.7535361422,6580985.928262253 L -299354.2961972205,6581958.422923982 L -299284.4501392558,6584120.593079421 L -298497.09312110627,6585063.766273946 L -288304.5112782428,6592816.042783497 L -284165.0476361559,6594205.992013223 L -281817.8330185895,6594421.3832720965 L -267532.27696040337,6595271.465639673 L -266558.7570803268,6594236.357379542 L -265771.38138141064,6591796.182478019 L -277493.34359514795,6587749.679231088 L -286219.02823375055,6587441.327688258 L -291640.3632987436,6586622.48679279 L -298157.3882439492,6582282.879846484 L -298651.7535361422,6580985.928262253 z\" /><path fill-rule=\"evenodd\" fill=\"#66cc99\" stroke=\"#555555\" stroke-width=\"8717.023305142504\" opacity=\"0.6\" d=\"M -672853.3498697311,6374193.4682461675 L -674482.9044145491,6374517.925279864 L -676019.4053827657,6377143.163213087 L -675880.9436400541,6381946.78865484 L -675293.6366334717,6385992.266794616 L -674336.3526760587,6388480.030953131 L -670474.7633482644,6392958.192823599 L -667509.988108821,6394672.598975827 L -664676.516875607,6392741.79491595 L -666582.9390859359,6376263.684766427 L -667880.915888521,6375368.138079238 L -670166.5422372257,6374657.48685281 L -672853.3498697311,6374193.4682461675 z\" /><path fill-rule=\"evenodd\" fill=\"#66cc99\" stroke=\"#555555\" stroke-width=\"8717.023305142504\" opacity=\"0.6\" d=\"M -766443.2203043879,6275693.889290923 L -770025.6864863053,6275847.580418717 L -775276.106532826,6276867.459293767 L -777222.0093236071,6282102.7246782845 L -775400.5134437612,6283414.831035718 L -773701.261953536,6283971.809815122 L -751786.717896929,6287940.47030096 L -750411.886078873,6287507.8051398415 L -748350.7848839355,6285183.835291257 L -749361.6604070768,6284280.161357951 L -751523.8305625158,6284095.1355765965 L -753253.484669399,6284280.161357951 L -755307.577129218,6284188.207722771 L -756558.9713235811,6283878.849531166 L -764928.9574563783,6279400.687660697 L -766443.2203043879,6275693.889290923 z\" /><path fill-rule=\"evenodd\" fill=\"#66cc99\" stroke=\"#555555\" stroke-width=\"8717.023305142504\" opacity=\"0.6\" d=\"M -742597.9840501215,6288696.585847001 L -743431.9423572534,6288820.936826824 L -744389.2451066333,6290242.202140538 L -744728.8194408057,6291600.7979247365 L -735431.9147169206,6297468.890455359 L -730984.1182127707,6299569.472230743 L -727864.6454191522,6300990.7749059955 L -723570.4094998115,6302874.958884924 L -722026.8996852762,6303337.989523556 L -717876.2144612542,6302843.735982387 L -721099.8692319703,6297932.908950806 L -722474.7009388324,6296696.650848873 L -731292.4697556003,6291909.1307868 L -732682.4003045599,6291414.877356825 L -742597.9840501215,6288696.585847001 z\" /><path fill-rule=\"evenodd\" fill=\"#66cc99\" stroke=\"#555555\" stroke-width=\"8717.023305142504\" opacity=\"0.6\" d=\"M 99982.49780931356,5710668.367205458 L 98439.00667555122,5710791.6928557325 L 87211.29789178882,5712088.681801503 L 84817.61241703074,5713015.581823024 L 82871.69105667708,5714806.824198763 L 82052.85016120905,5715904.657808322 L 82345.95374938371,5718730.020476185 L 83272.984202696,5720273.623472172 L 84539.60767094727,5720397.937090456 L 87967.41343782893,5719872.330326153 L 99210.23963326153,5717804.089741912 L 100801.32013520887,5717416.907469976 L 103812.71523320753,5715007.974040562 L 104956.03162075678,5713756.598526967 L 105210.7730282853,5712467.736827315 L 100600.17018221482,5710761.327489413 L 99982.49780931356,5710668.367205458 z\" /><path fill-rule=\"evenodd\" fill=\"#66cc99\" stroke=\"#555555\" stroke-width=\"8717.023305142504\" opacity=\"0.6\" d=\"M -830287.4206518198,6331538.04331725 L -831214.3393541079,6331538.04331725 L -835662.1357470576,6331785.682585814 L -837360.4179500407,6331909.008347289 L -840063.4615052097,6332495.327385857 L -840665.9044930289,6333437.4939316 L -839923.8998210712,6334379.641796581 L -827584.3585270781,6344233.525411064 L -824696.3077601271,6342858.693704201 L -820294.9821131688,6335939.368964202 L -826951.5686313126,6331877.76676398 L -830287.4206518198,6331538.04331725 z\" /><path fill-rule=\"evenodd\" fill=\"#66cc99\" stroke=\"#555555\" stroke-width=\"8717.023305142504\" opacity=\"0.6\" d=\"M -326851.8260106024,6530485.22917829 L -327809.11007920926,6530546.8174471455 L -328890.7077661058,6531009.848085783 L -330311.0036813843,6531813.441026596 L -331361.2294643743,6532739.502192667 L -337152.48566028586,6540631.20973217 L -334387.72329327033,6541867.505195636 L -330773.8852074526,6542191.067331588 L -324256.8601510532,6542592.379158373 L -322094.68999561423,6542453.824123009 L -320952.38014565274,6541820.009120096 L -319932.3707276116,6540739.41797078 L -324256.8601510532,6530809.704781565 L -326851.8260106024,6530485.22917829 z\" /></g></g></svg>"
      ],
      "text/plain": [
       "<shapely.geometry.multipolygon.MultiPolygon at 0x7ff6dd96a940>"
      ]
     },
     "execution_count": 16,
     "metadata": {
      "tags": []
     },
     "output_type": "execute_result"
    }
   ],
   "source": [
    "country_dict['GB']"
   ]
  },
  {
   "cell_type": "code",
   "execution_count": null,
   "metadata": {
    "colab": {
     "base_uri": "https://localhost:8080/",
     "height": 320
    },
    "colab_type": "code",
    "executionInfo": {
     "elapsed": 91034,
     "status": "ok",
     "timestamp": 1596107162309,
     "user": {
      "displayName": "Katy Brown",
      "photoUrl": "",
      "userId": "04725673548216289527"
     },
     "user_tz": -60
    },
    "id": "o16J2MxMYHt5",
    "outputId": "5c906d3a-5adb-478f-b458-d15874f65abe"
   },
   "outputs": [
    {
     "data": {
      "image/svg+xml": [
       "<svg xmlns=\"http://www.w3.org/2000/svg\" xmlns:xlink=\"http://www.w3.org/1999/xlink\" width=\"300\" height=\"300\" viewBox=\"-596492.7073935556 4535738.011326634 1723601.0911655268 1209177.4303059848\" preserveAspectRatio=\"xMinYMin meet\"><g transform=\"matrix(1,0,0,-1,0,10280653.452959254)\"><g><path fill-rule=\"evenodd\" fill=\"#66cc99\" stroke=\"#555555\" stroke-width=\"11490.673941103512\" opacity=\"0.6\" d=\"M 198118.23255425604,4733569.242823765 L 193324.72886421185,4738731.698357485 L 188846.56699374318,4739812.289395606 L 173432.94250266277,4743132.017355662 L 165294.45300841815,4742515.314381203 L 160769.82028075788,4737125.351331304 L 157587.64070728415,4742561.803807967 L 154592.50021271573,4746730.607598019 L 151132.22260051314,4749726.885173159 L 147333.45191479227,4749973.518015336 L 130530.88473156706,4749109.194230685 L 127186.90546494807,4751731.39387039 L 125279.38342438596,4755224.9073490985 L 121017.58210003306,4757463.932408821 L 99735.84650875776,4760598.634587528 L 91581.25152364667,4762823.530092395 L 79627.79267135686,4765695.494049246 L 77033.94532280733,4765109.1564411 L 74254.06554412784,4763502.958527482 L 72493.05810291071,4757480.168331484 L 73589.90374446224,4753711.669719437 L 75905.7463469283,4750390.935221801 L 75782.43926621995,4748105.439304886 L 75113.28180659877,4746747.850058263 L 73573.68639137133,4747131.9194248095 L 66222.66577749435,4747472.630839549 L 62269.25324631032,4747564.584585923 L 56199.992304315274,4747101.684490282 L 48123.24019148989,4746545.712248455 L 29929.624059511883,4748869.682097045 L 20115.202455903138,4751865.829240389 L 16030.243735674514,4750499.124779638 L 12447.740303424021,4749078.828753167 L 309.3674208037775,4746479.985744661 L -6440.179381302385,4748005.358423588 L -13744.691887642153,4754422.321057067 L -16895.62998900644,4756552.131229397 L -20015.08421305853,4757417.46155163 L -22856.682692390652,4758499.171100745 L -29188.681856235246,4761094.025098069 L -33713.314583895524,4763796.062004463 L -34329.998988788095,4764527.944924712 L -35342.88769829247,4762745.705900876 L -43582.446153038465,4758746.810480509 L -61806.29721954446,4756924.196089664 L -79597.50180570403,4768553.1980194505 L -81242.08058074064,4770382.802575836 L -80429.35374503404,4772374.1882558 L -80446.59631647296,4773587.220269516 L -83852.1638519538,4777425.564939529 L -87705.64450320255,4776351.982636532 L -91025.24203147338,4775394.698567926 L -104554.68254361935,4776290.3756869035 L -110484.38191266972,4778730.550588426 L -119288.03985535522,4782096.768086446 L -133495.75304125558,4786482.845778749 L -144584.90678966106,4789355.797703609 L -149920.2717362439,4785409.375337971 L -155456.78663582084,4785618.521994098 L -160067.2589389003,4786877.148759216 L -163093.86474121455,4791622.056543488 L -158244.6445480611,4795093.462444986 L -153881.81162474,4804706.715526029 L -154020.3479793303,4809470.99081912 L -156661.69140341948,4811748.359378722 L -167193.84769165557,4813386.05973923 L -184089.5055906275,4815794.862625653 L -189263.07084406505,4815409.805402297 L -192408.90142325568,4814632.439704065 L -197587.59276844593,4819471.426172098 L -198024.24705193314,4821409.201716755 L -192367.40754525305,4823516.922881448 L -185356.12917007267,4824227.574219071 L -176815.33988103384,4830050.05331752 L -170128.4065661375,4838374.5752419 L -165309.66360152725,4844828.874837672 L -160553.51566574798,4852612.541931895 L -160398.83656994556,4855393.40967859 L -160152.20383895616,4858265.373635441 L -158421.56176406416,4868643.857476643 L -149495.73393243662,4899454.013222316 L -147773.20042289622,4902704.901773188 L -145109.52569714858,4914325.795026425 L -140568.7689090491,4936318.163385751 L -139951.0779665751,4942866.560346051 L -138959.43940926896,4949321.997022395 L -137190.43515372448,4954641.126157514 L -134391.31829801592,4962171.021131445 L -128028.95376784622,4965646.434836084 L -125217.7206548329,4964982.254355652 L -121202.58931180237,4965275.357943826 L -115712.54526941707,4967630.699807511 L -117851.61976843742,4971622.605062333 L -125403.75297377529,4977012.568112225 L -130113.4115939841,4978634.013980498 L -136754.76883824603,4971128.351521158 L -138530.87512155433,4967677.1706647035 L -138715.80772145747,4976842.771604752 L -134236.6393134074,5005259.092763104 L -129913.26828976536,5026973.493515492 L -128090.69114926545,5045073.049644481 L -128120.90740302685,5047389.898895729 L -127719.61425700792,5051313.095061958 L -126762.33018840106,5058694.443791809 L -121141.00104294684,5065891.773389085 L -118322.6285406302,5067065.436573381 L -117217.80476552423,5064996.0775893405 L -117457.31678797057,5061891.740888152 L -110685.53186566377,5056841.482715417 L -108661.7862025971,5055899.316058474 L -104754.84452860466,5055127.076563188 L -102176.11459172536,5053830.106186991 L -89102.56532890176,5043907.495025538 L -85743.48722019157,5039574.897036744 L -84415.27537188459,5037629.982102784 L -81652.50762165303,5028823.323116921 L -81240.0860751505,5025051.823461703 L -79473.07632520248,5018294.167871863 L -78160.98853734102,5015452.699824322 L -60037.181212982076,4992170.444658196 L -60091.77931629185,5002324.552458194 L -61620.283470181086,5006371.05581632 L -68091.82563739763,5010016.247347665 L -70948.54163959385,5012100.593311585 L -72461.79795002207,5014016.279848598 L -74577.49724826937,5018355.88668371 L -78507.79555346214,5039588.019942825 L -79813.78785113487,5043498.074633401 L -83149.63987164204,5050833.959154841 L -86901.90244982569,5055651.6953594815 L -89357.325306003,5057953.445768632 L -95905.70369673627,5062586.268054137 L -111226.38658462735,5072099.44025388 L -120723.45329349775,5076886.96020476 L -129635.28211325458,5080222.81222526 L -137754.53464166398,5082305.145002823 L -136661.69669206566,5091389.7901651915 L -132200.77728184205,5092721.133599655 L -127422.48440730733,5093060.708045021 L -127658.02598815243,5100269.277793806 L -119086.89001355505,5104291.417871961 L -117125.83244957702,5116330.828161888 L -117024.65162685122,5119265.387036377 L -124538.44133230952,5128963.585017474 L -127719.61425700792,5132021.450972664 L -122963.5780722529,5143728.295663537 L -123942.09372347896,5150174.617125761 L -129981.99583673663,5151264.323489197 L -134136.55832091472,5149967.334543433 L -135411.30914647802,5148067.902609844 L -140754.78265841247,5148885.755537302 L -163425.3490796081,5158646.678756635 L -183949.94401768284,5164493.40927284 L -198637.81844024215,5169271.79544002 L -202899.58251425574,5178909.411689844 L -206884.49749233102,5185889.467162488 L -213139.6418630925,5191820.154610741 L -223192.68081378422,5199665.540516811 L -226096.98607297154,5201302.103796754 L -228938.47280127945,5202476.643198026 L -231595.02681849035,5203773.632032603 L -234034.19518243131,5205193.928059076 L -236335.94559158146,5207372.352706751 L -237216.48661812313,5209456.698670671 L -236644.27845363814,5214993.213570247 L -232150.9990603117,5219680.6339590615 L -226250.5466577806,5224128.449143978 L -220819.23895363664,5230273.409228917 L -222869.21174809057,5233193.838548544 L -225076.99533570334,5234969.963512626 L -229494.44504310083,5237518.3279719865 L -234914.75488973956,5239263.080920966 L -241386.29694576224,5240251.718323907 L -240102.4495868386,5252536.642945018 L -237308.45893407037,5257085.526979236 L -227239.184060715,5258104.529859696 L -222266.76876027146,5257548.557617874 L -215533.45776964136,5256652.992361107 L -213386.27459407554,5255973.582606787 L -210992.58911931748,5254134.862725075 L -200429.06081598092,5249733.537078123 L -197154.92760732662,5249301.8785657855 L -192923.398467841,5249370.717974968 L -210205.1016693708,5258274.307686395 L -213649.14324772224,5259278.1930439845 L -223811.37840503352,5261733.485468371 L -226188.95838891878,5261780.0867573535 L -236783.84002658282,5260606.404892291 L -243643.5524337382,5257303.9193924805 L -253664.25008209373,5252884.475179487 L -270605.26032726385,5255356.003415343 L -275795.06150336505,5256992.566695279 L -282397.05002939305,5259309.434627294 L -281045.462980313,5269100.723324139 L -275006.5859742158,5272343.61506069 L -271763.6756680982,5271324.612180237 L -267810.2631369142,5272343.61506069 L -273495.3242805716,5276537.658125314 L -276060.93131137715,5276254.545857056 L -276149.88390338625,5281493.968046084 L -269401.34352766763,5281703.114702212 L -263207.78753696184,5281934.630021525 L -265571.219396419,5282907.14336402 L -279037.95323990996,5285007.725250604 L -286976.2621795965,5285965.009208016 L -296180.1134380741,5283185.12942933 L -310573.87773487106,5280528.575412125 L -314890.2399121944,5281462.61471175 L -318212.9689154276,5286931.40849075 L -312545.01980021806,5286761.481551487 L -308597.60946657736,5287015.234879812 L -304604.6976741748,5286737.248814502 L -298682.00715144305,5292405.198040899 L -298095.7812943208,5294567.386765917 L -300257.97013053263,5297007.673529658 L -321224.3454438536,5292852.980613682 L -325282.9650592766,5290777.619432099 L -343978.8687970963,5291323.618923575 L -347492.6258904214,5292373.844595377 L -347793.8567247143,5284590.177501154 L -346959.898417576,5281825.433814906 L -344566.21294282423,5279069.917205008 L -348333.7049060901,5279169.9980863 L -349600.2166233171,5285247.23727305 L -348426.665190046,5287432.782629262 L -348542.85156221763,5290752.398727105 L -350681.92617243185,5294196.440416644 L -354773.91230855184,5296065.506983908 L -357708.4525022672,5298505.681885431 L -390171.2956995163,5310520.87811914 L -404000.9603971798,5312616.333913971 L -421738.5735288049,5314443.067858981 L -427097.16456360347,5315478.176007913 L -432154.5434448694,5318752.309327767 L -434155.0629085329,5320991.446138514 L -442802.90467484976,5325099.5377655 L -456054.35912167886,5323461.986517555 L -462070.00992837286,5319238.565943415 L -463405.34248521656,5317037.903175539 L -465104.6311145809,5315586.365676951 L -468377.7577856601,5315014.157512472 L -473227.984516395,5314536.00946217 L -474741.2408268232,5314567.38147727 L -485629.24462223466,5316095.736518596 L -485319.8865418236,5318466.326336935 L -483065.6322082131,5320212.085934692 L -483698.4406735449,5323122.262959626 L -485243.05031830695,5326119.547183535 L -488392.8699086778,5330071.953065944 L -491420.5009293401,5333006.511940433 L -494092.1911501753,5334767.519381643 L -499304.23033528955,5337686.830301477 L -504214.9269350805,5339531.664242949 L -510508.5639182789,5339245.550820321 L -521705.9072245286,5340775.042942219 L -525089.348502027,5341718.1975671705 L -523272.7551006852,5344929.624107163 L -484131.10583466425,5349917.268681495 L -481690.93093314173,5348975.1208165195 L -477930.410565849,5348395.903805715 L -476239.2491825965,5350319.5684762895 L -475498.3815912113,5353863.7097279 L -479613.59381554066,5359909.707331341 L -493860.6758308625,5363863.138543291 L -496856.9161556577,5364310.921116074 L -499575.09580325725,5362933.218797831 L -501612.9709099854,5359601.374469277 L -505559.39327562373,5356758.76922997 L -513914.24331597786,5368458.493323512 L -507775.1735663637,5374287.235705473 L -504532.3936920369,5375229.271819426 L -505644.35685644625,5371438.516406411 L -504038.00971907104,5369685.766754303 L -490185.2121146497,5368898.279193163 L -474061.9428235269,5369021.58627387 L -466146.87865282263,5370651.159388261 L -478138.6997969525,5373005.364171374 L -489504.8330730871,5373870.6946048 L -493757.59368399804,5375858.091162389 L -512084.54557814135,5375693.290314873 L -523883.3440153953,5374581.345831229 L -529358.1214223591,5374612.699165563 L -531751.9560096746,5377894.95973153 L -532655.6299429805,5384480.693654128 L -531141.3670949708,5394195.146127468 L -528284.6696623473,5397344.965829033 L -525829.24680617,5399507.266416263 L -522585.3485320436,5400835.496834142 L -514694.62884934817,5401839.2330791745 L -511450.73046402796,5400673.827572788 L -510353.90350324305,5399631.580034552 L -510045.68250340445,5401175.2017113 L -507558.90620169946,5406565.034329401 L -504748.6610567012,5408063.173116972 L -484161.4713121832,5412326.055590784 L -463899.7263469822,5413807.958566885 L -444069.528254295,5417731.136163542 L -441614.12407888426,5416526.100964146 L -440795.39504563436,5413561.325835903 L -439158.8316545041,5410318.434099358 L -428934.8777965338,5408094.5264513 L -428224.22645891004,5410255.708749929 L -429289.7000853612,5413206.503435881 L -426093.4096377987,5416897.177856403 L -423714.84168590466,5418102.082512808 L -413970.0238462517,5416480.636644536 L -409012.83770849626,5414611.551507698 L -404595.2762500746,5413190.2489436455 L -398348.1286936405,5412727.36741757 L -392734.90811353154,5419553.750554381 L -397205.94927546347,5422503.408270961 L -397939.8267013029,5424758.669142152 L -393259.5083402588,5429190.229723632 L -390572.58884553524,5430456.85319189 L -386371.4250723684,5430858.146449102 L -375082.12801974424,5429020.433216166 L -358727.32483973587,5434055.573866037 L -347422.9103754414,5433546.072481408 L -340349.8945076479,5429251.948535479 L -320148.76863526687,5412851.681147054 L -312674.4596214544,5405654.351549776 L -302512.2430337095,5396635.321028991 L -299732.36325503007,5394411.413492126 L -298590.0534050622,5393144.920455666 L -274195.8537552932,5407492.083463481 L -268907.07141692616,5410040.447922847 L -256551.20101881793,5412542.322955449 L -254019.07237092103,5412109.6764750965 L -236660.51437630178,5408372.512627809 L -226776.283965074,5403881.227740067 L -219733.52171257502,5394410.406954545 L -216314.83115982026,5396153.183967508 L -217973.63267116377,5402310.390963924 L -221401.4383268452,5403754.9196161935 L -223968.05200642606,5408872.898798313 L -221061.8639926728,5413747.227723048 L -214884.4133816397,5414889.537573015 L -205432.82956195218,5416217.898533881 L -204675.70747833062,5413414.643554428 L -207610.26624161872,5410488.211926058 L -205757.30516522727,5406827.902983048 L -203811.3836936797,5405577.515326267 L -201509.65196529613,5405251.921323191 L -198729.77218661664,5405251.921323191 L -191564.82125321522,5405314.64667262 L -182483.1772452128,5405917.108341206 L -179595.20097894673,5406766.314714192 L -176647.4260169332,5408491.830586138 L -169139.7691632031,5408124.891928818 L -162900.73028330813,5408217.833532007 L -152213.876218503,5408928.484869631 L -161201.44154274996,5412480.604254797 L -166159.7460802986,5413808.946534894 L -173750.3718980734,5420642.319837251 L -175533.48702770035,5430518.57200373 L -175193.91269352793,5433299.439750425 L -173927.2891140828,5439044.11333812 L -173062.96532943187,5450317.286330299 L -176020.75029212947,5449637.9884381965 L -177634.06891428377,5453035.577840122 L -179024.01814400364,5458502.246681735 L -178992.64612890952,5472464.333674234 L -186930.9737493627,5481298.226551447 L -189680.5999127476,5483953.792711844 L -194081.81369748144,5488093.2375619635 L -198344.71485206747,5490177.714068868 L -201162.9382418204,5490402.10867965 L -205216.56219728792,5504123.565249897 L -204683.8347244488,5513366.878519247 L -204815.269051269,5516787.694009383 L -206436.58437655677,5520679.518271712 L -210390.12745073182,5522470.760647451 L -212722.24322620075,5522810.465524614 L -216259.24519970195,5523829.337862083 L -215949.88700809077,5528794.762996974 L -213717.8707946872,5529335.487284141 L -205123.4900511139,5527937.55992086 L -190730.84426531038,5524200.396073568 L -185162.97603140594,5522054.331409001 L -180197.68132829896,5521420.516294888 L -169908.01964730825,5521669.143642655 L -166915.8615151448,5522440.395281131 L -164067.27275906675,5524702.77686086 L -156878.05194953523,5526948.922517919 L -153062.97072927194,5527150.072470913 L -147086.80050302998,5526485.891990481 L -143286.91130630937,5525776.247301633 L -140568.7689090491,5524633.0612346865 L -137727.1703185168,5521482.123244517 L -136653.6998777383,5517365.904371412 L -140012.79666722773,5515088.405268819 L -144391.88419397906,5512764.4167394675 L -145001.31745853776,5510331.250684264 L -143573.0247289383,5507196.548616758 L -140152.22780837526,5503289.606831565 L -138406.44964104646,5501405.422852636 L -129573.58198218099,5493776.434743022 L -123380.00742190248,5489636.859349911 L -120005.77453998258,5491899.240929639 L -108631.5512680691,5492664.490259379 L -102808.92305705711,5492401.6216057325 L -99704.58635586912,5490580.013863669 L -95596.36418589798,5489343.755761736 L -91982.52610008024,5488772.665997051 L -80678.11152459192,5487660.702943835 L -69157.29926384875,5486918.698271877 L -64554.82366389643,5486950.051606212 L -55937.21683211378,5487043.011890167 L -46423.91420057978,5486517.405125859 L -40918.75274652425,5484726.16275012 L -32725.683829736456,5482147.432813234 L -25389.911170514362,5480093.321783848 L -10981.048031626282,5481931.035016779 L -8154.678826176151,5482532.49003659 L -4386.198894901591,5483552.480885058 L 0.009340386453682464,5485115.3395276405 L 7860.51265812661,5488078.1201503 L 10239.080721214468,5489869.362526038 L 12632.76608477867,5492078.152651233 L 15628.913228122425,5493698.59187073 L 18841.458167921253,5494610.393050154 L 26162.206596924636,5496061.9305487415 L 30054.04954001974,5496401.635425899 L 32828.78454617992,5496532.939320928 L 41883.08291180169,5497575.18685917 L 47226.556534930016,5498780.22205856 L 51790.57666158446,5500687.650806476 L 54284.436310286714,5502625.426351132 L 49080.50557933016,5501004.111025851 L 42238.91184940431,5499336.1943003815 L 39319.58224880438,5499058.20823507 L 35119.40655484648,5498949.99999646 L 28478.067880157272,5499397.782569243 L 17884.174210508267,5500695.759483022 L 12586.29533878094,5502795.35340159 L 8432.590390820773,5506663.951575703 L 18871.823645433924,5525158.668110189 L 20679.301943842656,5526841.720928083 L 23474.299134192363,5528493.532162681 L 29682.972647762228,5530131.102091399 L 34593.79967934392,5531396.719022069 L 47474.177233921786,5536246.815321013 L 62640.18102601043,5542485.854089708 L 65142.07473937934,5543381.549889453 L 71196.21826970416,5544863.434184787 L 76616.3975733582,5545775.235364211 L 79319.44112852728,5545913.659856583 L 119102.0261060045,5551597.863575223 L 134654.22431320845,5556740.075494333 L 137047.90967677263,5557713.59537441 L 152607.0980495286,5567067.092818389 L 155858.00528116745,5568523.73783915 L 159981.32618204225,5570963.912740672 L 162468.10237254706,5573558.878489021 L 167410.15230667178,5582207.726904114 L 170622.6972464643,5592044.498490142 L 172838.60808019526,5599789.803403718 L 177001.2976992976,5600941.098036016 L 178340.6379480882,5600760.191808833 L 173441.05106801435,5604438.749749669 L 175378.84529344374,5618469.433968536 L 173927.21461341053,5635889.710774994 L 173958.54926697144,5638236.925392562 L 177757.4319261043,5649727.484149204 L 180691.97211982595,5657356.472258819 L 193432.91853325,5664862.134606965 L 196691.93433024042,5666035.68604023 L 199348.5070282179,5666808.056078507 L 216089.35539959022,5670422.882132333 L 248552.3103478636,5675178.918317094 L 262358.61852552695,5677001.514027166 L 265168.8451009525,5676722.521424268 L 268551.1866594179,5677232.022808898 L 277122.32263400895,5679410.447456574 L 279840.5022816148,5680151.464160522 L 282620.36349072156,5681078.364182044 L 288829.16743608227,5670483.482544379 L 288860.5207704161,5662699.834019729 L 294728.48275804723,5650499.742325262 L 309338.51430831454,5643766.300902835 L 318851.81693984853,5639076.997870648 L 322249.2572292112,5637927.56731215 L 327253.044655949,5642191.4563235445 L 329198.9474467237,5643982.69869929 L 335176.25475353806,5645357.530517346 L 336586.42891710816,5645355.405468771 L 338727.36748992786,5646345.030839714 L 346527.27050681494,5647781.581358429 L 351217.71073076123,5646969.861171491 L 353919.747637155,5643932.108399128 L 354402.8727778401,5642777.794042885 L 355577.5426109108,5640615.493344455 L 360565.07532301825,5633604.214969275 L 364642.95069624955,5619797.776248634 L 366619.2188533494,5618052.016762071 L 374727.32430050225,5614824.372980181 L 384132.437374192,5616507.407117309 L 391190.18660656404,5617449.573663059 L 401854.82112074125,5614564.486800133 L 407018.37637349474,5610376.557795265 L 408209.1702670109,5608352.812243392 L 408858.08411202155,5603704.853754257 L 419729.9639581814,5599102.378265505 L 432517.399798376,5597558.775158323 L 442988.9744665256,5598145.112877664 L 448755.86749365536,5599336.894627989 L 463127.3935590578,5591226.645562682 L 466401.5268789123,5586161.288547855 L 463838.04489668156,5575010.415987603 L 461150.1187531827,5560863.414964774 L 461374.5133639588,5557347.644685092 L 464641.6565182676,5557321.286899527 L 468716.4001941362,5555260.167023823 L 471420.5435795321,5555689.831141763 L 480053.2865037516,5556385.234413539 L 490741.1284253715,5554099.757288592 L 492595.0775809718,5553637.733298735 L 495721.67108312703,5552994.784400922 L 501551.2894596848,5553913.724858455 L 520021.7919379467,5559659.498165184 L 521882.86180208385,5566053.216140881 L 521921.22398273,5569094.846173408 L 529628.0361726701,5574825.371525482 L 536485.7726438143,5578385.74869975 L 543287.9044740611,5574670.841653431 L 539666.9456797066,5570377.575021332 L 538060.747766089,5567443.165370601 L 536053.107482695,5558948.846938754 L 541350.1102486318,5537760.0715202475 L 545936.3499259205,5536323.651544523 L 549002.3431272289,5536609.764855952 L 551434.4093522058,5537760.0715202475 L 554924.9032181698,5537914.75061605 L 592792.9386279996,5521575.19539069 L 599598.0716126182,5517782.3150402885 L 601210.4022667638,5517204.104678267 L 604067.1182689599,5515660.613433304 L 608784.7922730688,5508146.842408618 L 608546.2866770101,5505142.568019156 L 614074.6743304689,5505266.881637446 L 621951.2831390755,5507088.489490705 L 626244.4005474229,5508138.715162501 L 634058.4331191591,5508942.308103314 L 644065.9704999013,5509250.659646142 L 645807.7409752832,5509163.701559731 L 646136.2055897386,5508339.8650043 L 649224.4369112477,5505729.912276078 L 651078.386066848,5504278.244234506 L 664899.9421991599,5498424.393120957 L 677455.8627200355,5498996.470853651 L 680540.9437746153,5501486.248087327 L 685038.361402886,5504633.0666345265 L 693269.79250032,5505050.483840992 L 694670.851449763,5504819.099064663 L 700838.1801978878,5501560.083267672 L 703679.648356623,5500726.12484934 L 707442.163229506,5499639.419751464 L 713176.6963847268,5501451.893598635 L 719246.9452947305,5499861.801175883 L 723694.760479647,5497791.584655625 L 727354.0628850686,5495690.984199469 L 733299.9981767889,5488927.195980296 L 743555.1935068623,5475799.197726726 L 746682.8868392506,5469383.241630828 L 748257.7314185343,5467197.696274616 L 759918.1053634161,5465799.768911335 L 762392.6347536377,5468768.66359375 L 761249.4487978856,5472135.757197561 L 770566.485274163,5473042.562717022 L 780527.533228141,5469405.479862229 L 788434.5075142666,5462733.775821221 L 795229.5372055493,5462024.131132373 L 810580.5668901866,5460973.905349382 L 818843.351321948,5465451.936788053 L 819398.3357069609,5467325.141590255 L 820464.7971902267,5467723.433581909 L 825684.8519816225,5468178.206431438 L 832511.2164376664,5466811.632402485 L 848201.8391372425,5456031.7063027 L 850874.6477578836,5453554.064007089 L 852742.7263571392,5453251.826524015 L 860371.7144667541,5453313.563905434 L 869699.9726361667,5453715.863700228 L 882440.9376191635,5453992.843227963 L 894656.1467253005,5449468.210500303 L 906857.2262765821,5445932.196606004 L 914699.6110282802,5444600.853171541 L 911613.3928931279,5443600.099400108 L 904849.7352169456,5436680.774660109 L 903088.7463453012,5433546.072481408 L 901946.5483575577,5431167.504529513 L 901251.0145427919,5428480.5850347895 L 899814.594455874,5426718.7014877815 L 885328.8765238965,5417885.815259344 L 876216.9975813724,5411214.111218336 L 867568.018734483,5401391.469075964 L 861250.1491254937,5384614.122597738 L 860278.6423205801,5381176.195079154 L 860989.2749774372,5378627.8305085935 L 861618.0943203948,5374700.663789558 L 855460.8874351725,5368094.667682776 L 845941.5824949011,5355618.584428583 L 842678.5776867304,5350394.410194216 L 841669.6966691792,5347060.571360072 L 841801.1309959993,5342267.049100455 L 843291.1425374516,5340388.867319064 L 847281.0531754824,5336976.179075046 L 847661.1148500761,5334366.077123067 L 843321.3960415523,5326612.794075929 L 840325.2490094025,5322104.3971597385 L 836927.6967466278,5313794.992758222 L 835306.3441710006,5303462.979774211 L 837035.8677348995,5299825.896919411 L 841097.5071854609,5297239.1888489695 L 843832.8920429661,5292764.028021679 L 843778.4058018808,5291158.818076065 L 842534.0204538301,5291139.581110229 L 839970.4079286148,5290536.131473634 L 839151.5857139132,5289054.098065743 L 836371.7059352339,5288405.184109539 L 834248.9977906679,5287316.465825299 L 834209.517099022,5281825.433814906 L 833623.1794908819,5281207.854623456 L 828711.4763535095,5278427.974844776 L 826518.8102887608,5277377.618629989 L 824572.8888172134,5275679.467081191 L 821221.9379546149,5274351.124801093 L 818179.1895222886,5274382.478135421 L 817939.6774998362,5274427.961024609 L 816203.033227407,5274983.933266431 L 812650.783299251,5275123.494839369 L 809005.5918791058,5274258.164517137 L 805909.3823128421,5273054.26628712 L 798704.9322294221,5275539.905508252 L 794646.3125027989,5281659.62631862 L 781145.2428513817,5282659.392122043 L 777315.0069691088,5281455.494003214 L 765206.8875905892,5266605.950319307 L 770736.3750742811,5266074.210703283 L 776234.4158197936,5266382.562246112 L 778458.3047870853,5266753.508706578 L 775214.4437632982,5258629.148655989 L 760457.8416825801,5245239.251147209 L 761654.7496358514,5244513.501078688 L 755385.3453896439,5240714.6184195485 L 744945.1241670158,5233271.681420837 L 742597.9095494492,5229966.176197082 L 737501.1805195222,5226167.312218715 L 730150.1971559908,5223943.404570657 L 725918.6493357385,5223016.485979569 L 718351.3987187368,5214583.774497343 L 716868.3773428366,5208313.382283128 L 717972.325012152,5201866.0728528965 L 715540.1656057235,5199263.110179026 L 707060.9645855401,5194668.743366819 L 697099.9166315685,5190894.242557228 L 681479.1213091841,5180360.949188426 L 682212.9987350173,5174986.233981995 L 676838.1530967948,5164947.306016579 L 675077.2760873685,5162383.824034355 L 679525.0725915184,5160530.862846763 L 684243.7531332087,5157144.550957884 L 680250.8413408124,5149303.1727437675 L 678969.100349697,5148051.778549398 L 680019.3260214933,5144052.771266813 L 675463.4705024902,5142593.106522113 L 670506.1726137168,5141813.746207091 L 668189.1929306784,5140979.787899959 L 665101.0920409601,5139650.4389710855 L 663501.8657233156,5138022.002937261 L 666769.0087664241,5131311.806172621 L 681988.5108315957,5131627.278423982 L 688019.3910233655,5134106.933905956 L 694474.6972679186,5139249.127144294 L 697409.2374616339,5144098.235475229 L 694273.5473149245,5150055.299167433 L 692745.1735928261,5151688.861404198 L 694397.8796139809,5154600.175509703 L 700034.4381445172,5158801.3578524375 L 702721.3763200074,5159913.302336079 L 721872.1460888014,5165348.61773217 L 724450.8760256871,5165951.191374174 L 737624.4876002305,5166585.006377088 L 745315.1944104916,5165534.650162307 L 749208.0252104015,5164731.038651921 L 755941.3176314653,5162631.463302919 L 756906.7102654238,5159920.292501631 L 756126.3434128199,5157040.350411226 L 754288.6301798832,5132176.129957273 L 764342.6570985836,5124763.409212316 L 770921.2889934176,5121118.348223962 L 779167.9680455065,5114755.871831574 L 781762.8033620648,5110739.715270195 L 782596.7617803905,5107403.881930461 L 776642.8296743492,5101172.9516159175 L 772126.3241928071,5099218.921579025 L 769716.384225819,5098539.623686923 L 767477.3592772906,5098276.755033276 L 764172.7674096659,5098957.171325178 L 757609.2342457355,5096540.110649646 L 756053.5148812564,5091472.740559657 L 757223.077192147,5084910.12086305 L 774967.7923515423,5070153.537463099 L 777855.8616880723,5062184.974908117 L 788279.8470992307,5056802.132566761 L 794704.8997284828,5051651.681539316 L 796001.8886742531,5045752.347536583 L 792574.0829073715,5032610.089407568 L 785561.6860211976,5028579.710109883 L 771631.9403310415,5023730.601778948 L 758535.1835495812,5020796.042904459 L 752389.1982462939,5022479.226265351 L 743886.7711379011,5020240.070773838 L 738088.5247764438,5017799.914441888 L 737681.098778703,5017565.398079397 L 736551.9118348154,5016644.481685847 L 740743.9790746155,5008224.017003911 L 750458.3941864165,4994695.564459774 L 753377.8356492345,4993274.280465293 L 761609.2667466685,4989367.338791301 L 767430.7765578809,4988255.375626884 L 771956.4158231227,4989398.692125628 L 774936.4575867875,4988688.040788004 L 779076.0144103258,4987174.78458877 L 781886.1478043062,4985027.731844995 L 781516.1706310753,4975391.103563179 L 775631.9541512078,4969105.593826099 L 772898.5637992928,4966495.510554886 L 761995.4611617901,4952720.443960533 L 762087.3961161979,4950155.955329533 L 764790.4397825671,4934295.42426026 L 775740.1623898187,4924179.790503131 L 781855.8941890054,4920040.214998825 L 817376.584549478,4907206.308412634 L 825175.4810287836,4906604.853281629 L 830225.7392015192,4907994.802511356 L 836218.1453504248,4909940.70530213 L 846718.9481931332,4912627.62479686 L 852000.7216851879,4911577.268582073 L 851939.0215541079,4907477.173769414 L 857207.6534593097,4902735.267139508 L 856896.3008733086,4901013.740278743 L 851599.4285391689,4893338.28142313 L 844897.3591318358,4888658.969599667 L 833542.3355754183,4878628.187449943 L 835352.8149169985,4872690.360834775 L 837513.9972156227,4868346.634334303 L 835723.7613774652,4869339.39129141 L 832201.8956075947,4868427.608792752 L 827212.3495979304,4865619.358153338 L 826067.0385935971,4866818.260612205 L 821831.5017621646,4864713.689714442 L 821910.3324912651,4862286.507287202 L 813793.1118299854,4860304.236821371 L 805809.3014315432,4859408.690134178 L 795677.4316405507,4854837.437436768 L 786673.6305048403,4845014.925837381 L 765932.7496325286,4829710.478872153 L 761284.8098241662,4828552.063642513 L 755477.3177055911,4828397.38454671 L 737933.8456806414,4815979.888518207 L 738057.1527613435,4813386.05973923 L 744535.7223444514,4812085.063101513 L 738520.0714265635,4801958.189081676 L 733825.6236218578,4802792.166069575 L 725825.7077325492,4802421.219609114 L 712327.6205547308,4799517.902317936 L 686046.1053398647,4794212.9027376715 L 684652.1669877644,4788861.413730644 L 685548.8507555244,4787008.452543052 L 682490.9848003342,4787594.790262393 L 680019.3260214933,4788552.074219805 L 674088.6386844341,4792661.284246597 L 662228.1214353337,4794544.480368711 L 659757.5998482591,4790985.240275009 L 652360.127057957,4787904.148342803 L 648699.8180037539,4788228.605265312 L 642993.5067079044,4792363.05456667 L 646769.0140550704,4794467.6441452 L 631418.1149134178,4802567.771458799 L 613796.6881539581,4804738.068860356 L 601225.519678434,4805540.67383316 L 596329.9406015009,4806366.523574946 L 595858.931829308,4809046.322361134 L 597503.6224665628,4811602.795497046 L 596314.8230786368,4818281.638927357 L 594013.0913502595,4821046.382613606 L 590755.0822020444,4822119.852943185 L 584623.0957994275,4820173.95015241 L 580221.7701524693,4819085.231756977 L 566693.4667208957,4818852.728580842 L 560376.5849687151,4820072.86262233 L 561320.7461312482,4824900.739370646 L 565347.0058747623,4826276.559045516 L 572298.690486671,4827718.086654608 L 576947.6555133876,4829632.654680634 L 581719.9089400397,4833184.755385026 L 581441.9228747291,4836227.503817359 L 558662.0856350352,4842837.489157714 L 557118.5758204999,4838589.835957783 L 559109.9615004638,4835215.640326208 L 562090.9912321373,4834111.804519111 L 560324.9880197707,4830659.635694642 L 557909.064424812,4829008.961429423 L 554957.2630900787,4828892.625944694 L 551280.8300866302,4828645.005245702 L 547604.2666513845,4829733.723641135 L 542199.2047593943,4828520.691627412 L 539697.3110460255,4827347.028331923 L 537646.2197405781,4825902.480998893 L 535410.1772656486,4825778.167380604 L 532472.6172368013,4827186.347038583 L 527389.0112241481,4830474.609802093 L 528222.96953128,4835996.007178806 L 527798.4316162788,4839416.804099369 L 523450.7161046279,4844999.808425716 L 526446.8445672051,4828914.882745667 L 526699.6101499101,4825654.860299902 L 529173.1515721229,4822990.179036573 L 517366.3376397751,4821385.975628545 L 512948.7760701532,4821586.118932764 L 510678.39778729744,4822143.097712167 L 508570.80705440167,4824474.188269287 L 511064.57341045217,4828995.707980358 L 508686.0054585582,4831053.938675115 L 504331.1506687979,4832350.797077894 L 501057.0360297099,4832845.18105086 L 497474.551278226,4832752.108904679 L 494400.44940037216,4832505.476173697 L 491698.39381321176,4831857.550185501 L 480239.3189338878,4833204.011031635 L 480014.92432310537,4837215.153363485 L 476594.1087217758,4837602.20509243 L 472502.1412664287,4836197.157131806 L 471626.68908129423,4835422.773907167 L 477011.56328977336,4832319.443743567 L 466772.6037711698,4832660.155158306 L 462818.0541594134,4833772.099641948 L 459494.31850740477,4837929.793712289 L 459282.04015392717,4841416.18659366 L 456401.0915259339,4843169.085358325 L 451034.3731338296,4843964.681596012 L 440857.0205648481,4841525.382689086 L 435127.4830695892,4839346.976722178 L 427390.30540213006,4834266.353071922 L 413923.59023941203,4827162.114412786 L 394371.3968928019,4816938.160443628 L 379631.0307347474,4813324.322357811 L 370835.5000381801,4810884.166025861 L 368395.2133856334,4809772.202972646 L 362279.4814752529,4806682.983683128 L 349275.7782704003,4796830.106717422 L 342635.44624448643,4789109.053110402 L 342234.1344177009,4785988.592237581 L 338620.2963318832,4776290.3756869035 L 333986.4673976033,4768166.015747515 L 329283.9109163585,4763842.532861655 L 330558.66174192185,4760506.6808411535 L 331268.19456855225,4759889.120330471 L 334943.7514662165,4758930.699181291 L 337816.57295927923,4751179.41063975 L 338187.6498515367,4738314.150608036 L 340048.5890614889,4730700.4104530765 L 345847.97261471255,4728716.015049858 L 349307.1502854944,4727765.87025936 L 351376.3788377503,4723380.649992081 L 352982.5767513679,4719734.451923154 L 353339.3936569792,4718763.056980466 L 351900.9790644712,4718499.181789237 L 345383.95411926566,4717912.9746128805 L 342928.54983266105,4718530.5538043305 L 338920.52062859456,4722004.960860196 L 328025.4146942255,4723627.282834258 L 302975.1618101361,4716832.271712548 L 297817.7206171441,4714855.127338464 L 295454.38193913206,4712661.454736127 L 296937.2728832415,4709063.8524617795 L 281756.15156828874,4707209.90341738 L 275454.3873389721,4708909.173477171 L 271408.8906296228,4712276.397401578 L 259331.11804784936,4716677.59261674 L 252766.59702710417,4718629.628148048 L 238466.93009483564,4716816.147652103 L 236104.4675226143,4714199.074215344 L 232798.9809796261,4710685.298330052 L 229308.44986332284,4709882.562925456 L 224675.60889705172,4709403.426907145 L 221972.56534188264,4710500.272548697 L 219363.6191512356,4712383.468559623 L 217849.26312177442,4715873.981106353 L 211981.2637726038,4719889.131018956 L 205865.53197342344,4722452.743432978 L 197927.20446416418,4724491.606507715 L 191656.81224994166,4726838.821125282 L 191711.41035325144,4728167.163405379 L 193687.6785103512,4732531.0029774755 L 196969.920395551,4733696.55759642 L 198118.23255425604,4733569.242823765 z\" /><path fill-rule=\"evenodd\" fill=\"#66cc99\" stroke=\"#555555\" stroke-width=\"11490.673941103512\" opacity=\"0.6\" d=\"M 962887.4127330382,4671117.974179657 L 972199.5654115782,4675682.1061685365 L 965296.364732024,4682021.226040917 L 960601.935496891,4683566.823542494 L 957203.3581269622,4684955.766234633 L 954856.1435093958,4689063.857861626 L 953003.1823218041,4694840.01521544 L 958315.3026106049,4698330.397219186 L 961713.8799805401,4698916.734827332 L 965678.4209122076,4700083.2959838575 L 959798.2121242872,4707657.667420589 L 957559.1870645649,4709078.969984643 L 955103.7642083875,4709187.159542488 L 953590.5080091533,4712847.487166264 L 963536.4756906127,4727024.853555412 L 969419.7043136653,4733634.838895767 L 988184.2983481106,4740028.556760264 L 1007141.0575532139,4746252.478228489 L 1010268.6390233842,4749355.808280901 L 1013835.9876824314,4751301.729752449 L 1017527.6686405411,4751734.394913563 L 1028909.0498713306,4750237.374525798 L 1031210.7815997142,4747626.30339777 L 1032878.716894751,4745248.72330269 L 1035758.6589851566,4747309.824608822 L 1038785.1716060193,4752275.24974372 L 1038152.3444599147,4758892.3556814175 L 1035510.9265351406,4762406.112885931 L 1039317.8990788584,4781432.587606014 L 1043380.5264974348,4782344.388785438 L 1047595.8010334839,4782545.538627238 L 1051858.7021880702,4780057.774468725 L 1055063.1198817508,4759927.463941543 L 1052739.1500331664,4755317.8676330615 L 1051349.20080344,4750097.831633626 L 1050515.242385108,4746144.269989878 L 1050808.3459732828,4741340.644548126 L 1053681.2978981426,4734592.234715398 L 1057278.9001724906,4733622.722527275 L 1055905.205546201,4737155.716697629 L 1054160.4339164535,4738592.136784547 L 1052074.9695527342,4741032.423548287 L 1054778.0131079033,4738607.3847392015 L 1056383.353485303,4736754.42355161 L 1058608.2491013638,4733850.230043447 L 1059997.1916823145,4730854.959117088 L 1063271.3063213963,4700523.081853507 L 1063024.692159986,4691565.751463794 L 1062198.8424182057,4683349.4377780305 L 1050576.8307651638,4670130.343425498 L 1048074.937051795,4667412.182347465 L 1046159.399627339,4664029.859469773 L 1044891.7695103125,4655664.868996937 L 1045295.0758426881,4653018.418050668 L 1045711.6170545558,4650593.379241583 L 1045110.1619235517,4636709.228302827 L 1042778.064717649,4631504.309715056 L 1036399.464264822,4625991.039584462 L 1030963.0490385044,4616880.036747722 L 1027658.5317827583,4609251.048638106 L 1028677.5345520177,4605833.364734134 L 1025179.8828383654,4599837.957430856 L 1021055.573969488,4599575.08877721 L 1015457.4335507101,4602826.107871067 L 1013635.844378219,4607026.15313324 L 998083.7766027994,4612076.411305969 L 994207.0698633351,4613419.870997737 L 991581.869180458,4614563.187496474 L 977450.9735373077,4621026.602306378 L 976910.1187071503,4627195.944352061 L 979292.8248939823,4629481.5520199975 L 986871.1853419011,4631057.40313687 L 991539.3873344468,4635242.461419163 L 987288.7330913503,4636617.1441246625 L 984207.6410479443,4636717.225005961 L 978176.7422866018,4637975.870451845 L 970268.7801436613,4640106.687272957 L 967952.9188604286,4643442.539293463 L 972709.0669074018,4649126.593788346 L 977281.1770298351,4653883.748484095 L 978779.2039551876,4659119.032438185 L 976362.2551418744,4662006.1139179 L 972053.0136730878,4662345.688252072 L 968755.5238332332,4660369.550526763 L 963906.4155022978,4659999.480283281 L 959303.9400135456,4659813.578284943 L 955273.6912588448,4666137.431521902 L 957790.683703111,4666949.1703896 L 960786.8308464547,4666716.648532705 L 963659.7827713147,4668484.646139468 L 962887.4127330382,4671117.974179657 z\" /><path fill-rule=\"evenodd\" fill=\"#66cc99\" stroke=\"#555555\" stroke-width=\"11490.673941103512\" opacity=\"0.6\" d=\"M -134762.39519027344,5093504.482925857 L -137850.4773992251,5099281.646928453 L -139086.84736337568,5100917.203670808 L -142777.42849125233,5104593.767217247 L -146406.51464291883,5106477.951196182 L -148908.38967552115,5107836.528410808 L -151842.9485500031,5109442.875436989 L -152878.0566989415,5110709.499016434 L -155588.20228187443,5120515.7746931575 L -153973.76525992062,5120469.285266394 L -151379.9179113711,5119851.72475571 L -141588.7410767446,5114508.232451816 L -137109.6098078399,5111049.0733506065 L -130236.75592503174,5102887.357768153 L -131426.5431697663,5098045.370145754 L -132453.52418378042,5095643.557424878 L -134762.39519027344,5093504.482925857 z\" /><path fill-rule=\"evenodd\" fill=\"#66cc99\" stroke=\"#555555\" stroke-width=\"11490.673941103512\" opacity=\"0.6\" d=\"M -142792.6578763345,5132268.083703648 L -144491.9465056988,5132392.527753722 L -146622.76332681018,5132855.427960563 L -167564.9245839131,5137674.301245777 L -169078.1808943413,5138230.273487598 L -170452.86348864602,5139047.9773024935 L -172506.9745180315,5142330.2378684655 L -167132.25942279375,5143388.590786381 L -165927.22411221042,5143512.028298879 L -164275.54342060385,5143465.427009897 L -143626.63486423934,5136994.87281069 L -139882.35030840995,5132728.113187908 L -142792.6578763345,5132268.083703648 z\" /><path fill-rule=\"evenodd\" fill=\"#66cc99\" stroke=\"#555555\" stroke-width=\"11490.673941103512\" opacity=\"0.6\" d=\"M -343129.7742863337,5258166.248560341 L -345631.6493189297,5259031.448450783 L -346743.6124833454,5259308.427978518 L -352133.4636710199,5259911.001509323 L -354588.8678464243,5259834.165285812 L -356734.93262219056,5259587.420692604 L -357986.43867877795,5260035.315127612 L -360087.0205653551,5261409.009865096 L -362449.3712753583,5267501.4968953 L -361044.304522768,5269718.414266612 L -340658.13418825937,5261131.023688591 L -342665.7743604596,5258352.150558687 L -343129.7742863337,5258166.248560341 z\" /><path fill-rule=\"evenodd\" fill=\"#66cc99\" stroke=\"#555555\" stroke-width=\"11490.673941103512\" opacity=\"0.6\" d=\"M -397707.3234139751,5426751.061359698 L -398324.8839246583,5426751.061359698 L -398387.60938528005,5427121.001171382 L -398046.8978593477,5427398.987347893 L -397583.9977637003,5427707.338890723 L -397059.3602866338,5427738.69222505 L -396441.6879137325,5427615.385144349 L -396225.4018683017,5427275.680267185 L -396533.6415489131,5426966.322186774 L -397707.3234139751,5426751.061359698 z\" /></g></g></svg>"
      ],
      "text/plain": [
       "<shapely.geometry.multipolygon.MultiPolygon at 0x7ff6dd8f8400>"
      ]
     },
     "execution_count": 17,
     "metadata": {
      "tags": []
     },
     "output_type": "execute_result"
    }
   ],
   "source": [
    "country_dict['FR']"
   ]
  },
  {
   "cell_type": "markdown",
   "metadata": {
    "colab_type": "text",
    "id": "fxvq36DOZJjD"
   },
   "source": [
    "We can check one point manually just to demonstrate.\n",
    "\n",
    "Take the last point in the table - point 2972 - which should be in the UK.\n"
   ]
  },
  {
   "cell_type": "code",
   "execution_count": null,
   "metadata": {
    "colab": {},
    "colab_type": "code",
    "id": "dlSwoio_fJa4"
   },
   "outputs": [],
   "source": [
    "# select point 2972\n",
    "current_point = gdf.loc[2972]"
   ]
  },
  {
   "cell_type": "markdown",
   "metadata": {
    "colab_type": "text",
    "id": "DF5p3bl4fW4J"
   },
   "source": [
    "Using the ```within``` function we can check if this point is within this region."
   ]
  },
  {
   "cell_type": "code",
   "execution_count": null,
   "metadata": {
    "colab": {
     "base_uri": "https://localhost:8080/",
     "height": 35
    },
    "colab_type": "code",
    "executionInfo": {
     "elapsed": 91018,
     "status": "ok",
     "timestamp": 1596107162312,
     "user": {
      "displayName": "Katy Brown",
      "photoUrl": "",
      "userId": "04725673548216289527"
     },
     "user_tz": -60
    },
    "id": "UlIZLB0ufNGC",
    "outputId": "21d6aa63-7581-47d7-8c93-ba2707444f21"
   },
   "outputs": [
    {
     "data": {
      "text/plain": [
       "True"
      ]
     },
     "execution_count": 19,
     "metadata": {
      "tags": []
     },
     "output_type": "execute_result"
    }
   ],
   "source": [
    "current_point['geometry'].within(country_dict['GB'])"
   ]
  },
  {
   "cell_type": "markdown",
   "metadata": {
    "colab_type": "text",
    "id": "lFEFCse6fcEZ"
   },
   "source": [
    "This prints \"True\" - the point is within the UK.  We can check on a map."
   ]
  },
  {
   "cell_type": "code",
   "execution_count": null,
   "metadata": {
    "colab": {
     "base_uri": "https://localhost:8080/",
     "height": 620
    },
    "colab_type": "code",
    "executionInfo": {
     "elapsed": 91005,
     "status": "ok",
     "timestamp": 1596107162314,
     "user": {
      "displayName": "Katy Brown",
      "photoUrl": "",
      "userId": "04725673548216289527"
     },
     "user_tz": -60
    },
    "id": "bzFrBHPDZOjQ",
    "outputId": "22056e6f-bf46-446f-dc2a-82e05fe17eb7"
   },
   "outputs": [
    {
     "data": {
      "text/plain": [
       "<matplotlib.collections.PathCollection at 0x7ff6dd633588>"
      ]
     },
     "execution_count": 20,
     "metadata": {
      "tags": []
     },
     "output_type": "execute_result"
    },
    {
     "data": {
      "image/png": "[encoded data removed]",
      "text/plain": [
       "<Figure size 720x720 with 1 Axes>"
      ]
     },
     "metadata": {
      "needs_background": "light",
      "tags": []
     },
     "output_type": "display_data"
    }
   ],
   "source": [
    "\n",
    "# create an empty set of axis\n",
    "f = plt.figure(figsize=(10, 10))\n",
    "\n",
    "# add a plot to these axis\n",
    "a = f.add_subplot(111, facecolor=sea_colour)\n",
    "\n",
    "# select the UK only\n",
    "uk_map = worldmap[worldmap['ISO'] == 'GB']\n",
    "uk_map.plot(ax=a, color=land_colour, edgecolor='black', lw=0.3)\n",
    "\n",
    "# plot the point on the map\n",
    "a.scatter(current_point['x_positions'], current_point['y_positions'])"
   ]
  },
  {
   "cell_type": "markdown",
   "metadata": {
    "colab_type": "text",
    "id": "UTFasuo4YWrO"
   },
   "source": [
    "Now we can run through each point in the table and check it is in the right country."
   ]
  },
  {
   "cell_type": "code",
   "execution_count": null,
   "metadata": {
    "colab": {},
    "colab_type": "code",
    "id": "8sqPZVhpWN_d"
   },
   "outputs": [],
   "source": [
    "correct_country = []\n",
    "# run through every point the table\n",
    "for iso, point in zip(gdf['countryCode'], gdf['geometry']):\n",
    "  # get the polygon the point should be inside\n",
    "  poly = country_dict[iso]\n",
    "  # check the point is in the polygon\n",
    "  correct_country.append(point.within(poly))\n",
    "\n",
    "# insert this information into the table\n",
    "gdf['correct_country'] = correct_country"
   ]
  },
  {
   "cell_type": "markdown",
   "metadata": {
    "colab_type": "text",
    "id": "tWvG_EhLhAfU"
   },
   "source": [
    "Now the \"correct country\" column in the table tells us if the point was recorded in the right country or not."
   ]
  },
  {
   "cell_type": "code",
   "execution_count": null,
   "metadata": {
    "colab": {},
    "colab_type": "code",
    "id": "RrZXEprbWNF2"
   },
   "outputs": [],
   "source": []
  },
  {
   "cell_type": "markdown",
   "metadata": {
    "colab_type": "text",
    "id": "3bZ-L-RxhJga"
   },
   "source": [
    "We want to save the incorrect countries in a separate table and count how many there are."
   ]
  },
  {
   "cell_type": "code",
   "execution_count": null,
   "metadata": {
    "colab": {},
    "colab_type": "code",
    "id": "CKEIGPcEhZZ0"
   },
   "outputs": [],
   "source": [
    "wrong_country = gdf[gdf['correct_country'] == False]\n",
    "wrong_country.to_csv(file_path + \"/wrong_country_tables/\"  + species_name + \".csv\", sep=\"\\t\", index=None)\n",
    "\n",
    "count_wrong_country = len(wrong_country)\n",
    "\n",
    "gdf = gdf[gdf['correct_country'] == True]\n",
    "\n",
    "geosummary.loc[species_name, \"n_in_wrong_country\"] = count_wrong_country"
   ]
  },
  {
   "cell_type": "code",
   "execution_count": null,
   "metadata": {
    "colab": {
     "base_uri": "https://localhost:8080/",
     "height": 80
    },
    "colab_type": "code",
    "executionInfo": {
     "elapsed": 97409,
     "status": "ok",
     "timestamp": 1596107168736,
     "user": {
      "displayName": "Katy Brown",
      "photoUrl": "",
      "userId": "04725673548216289527"
     },
     "user_tz": -60
    },
    "id": "XloXggPygM_y",
    "outputId": "662ffc71-181a-4831-a3c2-9260b33b1a30"
   },
   "outputs": [
    {
     "data": {
      "text/html": [
       "<div>\n",
       "<style scoped>\n",
       "    .dataframe tbody tr th:only-of-type {\n",
       "        vertical-align: middle;\n",
       "    }\n",
       "\n",
       "    .dataframe tbody tr th {\n",
       "        vertical-align: top;\n",
       "    }\n",
       "\n",
       "    .dataframe thead th {\n",
       "        text-align: right;\n",
       "    }\n",
       "</style>\n",
       "<table border=\"1\" class=\"dataframe\">\n",
       "  <thead>\n",
       "    <tr style=\"text-align: right;\">\n",
       "      <th></th>\n",
       "      <th>nrecords_unfiltered</th>\n",
       "      <th>n_in_wrong_country</th>\n",
       "      <th>n_in_ocean</th>\n",
       "      <th>nrecords_clean</th>\n",
       "    </tr>\n",
       "  </thead>\n",
       "  <tbody>\n",
       "    <tr>\n",
       "      <th>Athalia_rosae</th>\n",
       "      <td>2973</td>\n",
       "      <td>292</td>\n",
       "      <td>NaN</td>\n",
       "      <td>NaN</td>\n",
       "    </tr>\n",
       "  </tbody>\n",
       "</table>\n",
       "</div>"
      ],
      "text/plain": [
       "              nrecords_unfiltered n_in_wrong_country n_in_ocean nrecords_clean\n",
       "Athalia_rosae                2973                292        NaN            NaN"
      ]
     },
     "execution_count": 23,
     "metadata": {
      "tags": []
     },
     "output_type": "execute_result"
    }
   ],
   "source": [
    "geosummary"
   ]
  },
  {
   "cell_type": "markdown",
   "metadata": {
    "colab_type": "text",
    "id": "_m_8eqHni6gP"
   },
   "source": [
    "Next we want to look for points which are in the ocean - these are unlikely to be correct, especially as they are far from the coast.\n",
    "\n",
    "We need to import a map projection from another package which provides a function to check this."
   ]
  },
  {
   "cell_type": "code",
   "execution_count": null,
   "metadata": {
    "colab": {},
    "colab_type": "code",
    "id": "tSPawY3So4TH"
   },
   "outputs": [],
   "source": [
    "# read in a map in the world cylindrical projection\n",
    "m = Basemap(projection='cyl',\n",
    "            llcrnrlat=-90,\n",
    "            urcrnrlat=90,\\\n",
    "            llcrnrlon=-180,\n",
    "            urcrnrlon=180,\n",
    "            resolution='l')"
   ]
  },
  {
   "cell_type": "markdown",
   "metadata": {
    "colab_type": "text",
    "id": "sz0sV8fzm7cA"
   },
   "source": [
    "The ```is_land``` function tells us if the point is on land.\n",
    "\n",
    "e.g. if we take point 2732 again"
   ]
  },
  {
   "cell_type": "code",
   "execution_count": null,
   "metadata": {
    "colab": {
     "base_uri": "https://localhost:8080/",
     "height": 35
    },
    "colab_type": "code",
    "executionInfo": {
     "elapsed": 98378,
     "status": "ok",
     "timestamp": 1596107169719,
     "user": {
      "displayName": "Katy Brown",
      "photoUrl": "",
      "userId": "04725673548216289527"
     },
     "user_tz": -60
    },
    "id": "m6Jr5b4qmv-0",
    "outputId": "51ed5050-c612-43d3-d41a-284358eab809"
   },
   "outputs": [
    {
     "data": {
      "text/plain": [
       "True"
      ]
     },
     "execution_count": 25,
     "metadata": {
      "tags": []
     },
     "output_type": "execute_result"
    }
   ],
   "source": [
    "point = gdf.loc[2732]\n",
    "\n",
    "m.is_land(point['decimalLongitude'], point['decimalLatitude'])"
   ]
  },
  {
   "cell_type": "markdown",
   "metadata": {
    "colab_type": "text",
    "id": "KK5pWa3LnOr-"
   },
   "source": [
    "We need to run this for every point in the table."
   ]
  },
  {
   "cell_type": "code",
   "execution_count": null,
   "metadata": {
    "colab": {},
    "colab_type": "code",
    "id": "GSkwR6NtnL8f"
   },
   "outputs": [],
   "source": [
    "# make a list to store the results\n",
    "results = []\n",
    "for long, lat in zip(gdf['decimalLongitude'], gdf['decimalLatitude']):\n",
    "  # check if the point is on land\n",
    "  point_is_land = m.is_land(long, lat)\n",
    "  results.append(point_is_land)\n",
    "\n",
    "# put this data into the table\n",
    "gdf['is_land'] = results"
   ]
  },
  {
   "cell_type": "code",
   "execution_count": null,
   "metadata": {
    "colab": {
     "base_uri": "https://localhost:8080/",
     "height": 949
    },
    "colab_type": "code",
    "executionInfo": {
     "elapsed": 112398,
     "status": "ok",
     "timestamp": 1596107183753,
     "user": {
      "displayName": "Katy Brown",
      "photoUrl": "",
      "userId": "04725673548216289527"
     },
     "user_tz": -60
    },
    "id": "ZtkUTSAfknYn",
    "outputId": "7a2e3afe-023e-41d1-b941-76a74f5ed750"
   },
   "outputs": [
    {
     "data": {
      "text/html": [
       "<div>\n",
       "<style scoped>\n",
       "    .dataframe tbody tr th:only-of-type {\n",
       "        vertical-align: middle;\n",
       "    }\n",
       "\n",
       "    .dataframe tbody tr th {\n",
       "        vertical-align: top;\n",
       "    }\n",
       "\n",
       "    .dataframe thead th {\n",
       "        text-align: right;\n",
       "    }\n",
       "</style>\n",
       "<table border=\"1\" class=\"dataframe\">\n",
       "  <thead>\n",
       "    <tr style=\"text-align: right;\">\n",
       "      <th></th>\n",
       "      <th>CountryName</th>\n",
       "      <th>countryCode</th>\n",
       "      <th>gbifID</th>\n",
       "      <th>datasetKey</th>\n",
       "      <th>occurrenceID</th>\n",
       "      <th>kingdom</th>\n",
       "      <th>phylum</th>\n",
       "      <th>class</th>\n",
       "      <th>order</th>\n",
       "      <th>family</th>\n",
       "      <th>genus</th>\n",
       "      <th>species</th>\n",
       "      <th>infraspecificEpithet</th>\n",
       "      <th>taxonRank</th>\n",
       "      <th>scientificName</th>\n",
       "      <th>verbatimScientificName</th>\n",
       "      <th>verbatimScientificNameAuthorship</th>\n",
       "      <th>locality</th>\n",
       "      <th>stateProvince</th>\n",
       "      <th>occurrenceStatus</th>\n",
       "      <th>individualCount</th>\n",
       "      <th>publishingOrgKey</th>\n",
       "      <th>decimalLatitude</th>\n",
       "      <th>decimalLongitude</th>\n",
       "      <th>coordinateUncertaintyInMeters</th>\n",
       "      <th>coordinatePrecision</th>\n",
       "      <th>elevation</th>\n",
       "      <th>elevationAccuracy</th>\n",
       "      <th>depth</th>\n",
       "      <th>depthAccuracy</th>\n",
       "      <th>eventDate</th>\n",
       "      <th>day</th>\n",
       "      <th>month</th>\n",
       "      <th>year</th>\n",
       "      <th>taxonKey</th>\n",
       "      <th>speciesKey</th>\n",
       "      <th>basisOfRecord</th>\n",
       "      <th>institutionCode</th>\n",
       "      <th>collectionCode</th>\n",
       "      <th>catalogNumber</th>\n",
       "      <th>recordNumber</th>\n",
       "      <th>identifiedBy</th>\n",
       "      <th>dateIdentified</th>\n",
       "      <th>license</th>\n",
       "      <th>rightsHolder</th>\n",
       "      <th>recordedBy</th>\n",
       "      <th>typeStatus</th>\n",
       "      <th>establishmentMeans</th>\n",
       "      <th>lastInterpreted</th>\n",
       "      <th>mediaType</th>\n",
       "      <th>issue</th>\n",
       "      <th>geometry</th>\n",
       "      <th>x_positions</th>\n",
       "      <th>y_positions</th>\n",
       "      <th>correct_country</th>\n",
       "      <th>is_land</th>\n",
       "    </tr>\n",
       "  </thead>\n",
       "  <tbody>\n",
       "    <tr>\n",
       "      <th>0</th>\n",
       "      <td>Austria</td>\n",
       "      <td>AT</td>\n",
       "      <td>2445054003</td>\n",
       "      <td>50c9509d-22c7-4a22-a47d-8c48425ef4a7</td>\n",
       "      <td>https://www.inaturalist.org/observations/34636624</td>\n",
       "      <td>Animalia</td>\n",
       "      <td>Arthropoda</td>\n",
       "      <td>Insecta</td>\n",
       "      <td>Hymenoptera</td>\n",
       "      <td>Tenthredinidae</td>\n",
       "      <td>Athalia</td>\n",
       "      <td>Athalia rosae</td>\n",
       "      <td>NaN</td>\n",
       "      <td>SPECIES</td>\n",
       "      <td>Athalia rosae (Linnaeus, 1758)</td>\n",
       "      <td>Athalia rosae</td>\n",
       "      <td>NaN</td>\n",
       "      <td>NaN</td>\n",
       "      <td>Steiermark</td>\n",
       "      <td>NaN</td>\n",
       "      <td>NaN</td>\n",
       "      <td>28eb1a3f-1c15-4a95-931a-4af90ecb574d</td>\n",
       "      <td>46.735321</td>\n",
       "      <td>15.583444</td>\n",
       "      <td>NaN</td>\n",
       "      <td>NaN</td>\n",
       "      <td>NaN</td>\n",
       "      <td>NaN</td>\n",
       "      <td>NaN</td>\n",
       "      <td>NaN</td>\n",
       "      <td>2019-10-20T17:16:51</td>\n",
       "      <td>20.0</td>\n",
       "      <td>10.0</td>\n",
       "      <td>2019.0</td>\n",
       "      <td>4490913</td>\n",
       "      <td>4490913</td>\n",
       "      <td>HUMAN_OBSERVATION</td>\n",
       "      <td>iNaturalist</td>\n",
       "      <td>Observations</td>\n",
       "      <td>34636624</td>\n",
       "      <td>NaN</td>\n",
       "      <td>Alexander Boldyrev</td>\n",
       "      <td>NaN</td>\n",
       "      <td>CC_BY_NC_4_0</td>\n",
       "      <td>julia_neuer</td>\n",
       "      <td>julia_neuer</td>\n",
       "      <td>NaN</td>\n",
       "      <td>NaN</td>\n",
       "      <td>2020-07-21T08:52:00.522Z</td>\n",
       "      <td>StillImage</td>\n",
       "      <td>COORDINATE_ROUNDED;GEODETIC_DATUM_ASSUMED_WGS84</td>\n",
       "      <td>POINT (1732801.816 5196736.300)</td>\n",
       "      <td>1.732802e+06</td>\n",
       "      <td>5.196736e+06</td>\n",
       "      <td>True</td>\n",
       "      <td>True</td>\n",
       "    </tr>\n",
       "    <tr>\n",
       "      <th>1</th>\n",
       "      <td>Austria</td>\n",
       "      <td>AT</td>\n",
       "      <td>1949983717</td>\n",
       "      <td>50c9509d-22c7-4a22-a47d-8c48425ef4a7</td>\n",
       "      <td>https://www.inaturalist.org/observations/17679331</td>\n",
       "      <td>Animalia</td>\n",
       "      <td>Arthropoda</td>\n",
       "      <td>Insecta</td>\n",
       "      <td>Hymenoptera</td>\n",
       "      <td>Tenthredinidae</td>\n",
       "      <td>Athalia</td>\n",
       "      <td>Athalia rosae</td>\n",
       "      <td>NaN</td>\n",
       "      <td>SPECIES</td>\n",
       "      <td>Athalia rosae (Linnaeus, 1758)</td>\n",
       "      <td>Athalia rosae</td>\n",
       "      <td>NaN</td>\n",
       "      <td>NaN</td>\n",
       "      <td>Wien</td>\n",
       "      <td>NaN</td>\n",
       "      <td>NaN</td>\n",
       "      <td>28eb1a3f-1c15-4a95-931a-4af90ecb574d</td>\n",
       "      <td>48.304750</td>\n",
       "      <td>16.419672</td>\n",
       "      <td>6.0</td>\n",
       "      <td>NaN</td>\n",
       "      <td>NaN</td>\n",
       "      <td>NaN</td>\n",
       "      <td>NaN</td>\n",
       "      <td>NaN</td>\n",
       "      <td>2018-10-20T09:55:10</td>\n",
       "      <td>20.0</td>\n",
       "      <td>10.0</td>\n",
       "      <td>2018.0</td>\n",
       "      <td>4490913</td>\n",
       "      <td>4490913</td>\n",
       "      <td>HUMAN_OBSERVATION</td>\n",
       "      <td>iNaturalist</td>\n",
       "      <td>Observations</td>\n",
       "      <td>17679331</td>\n",
       "      <td>NaN</td>\n",
       "      <td>carnifex</td>\n",
       "      <td>2018-10-20T16:19:41</td>\n",
       "      <td>CC_BY_NC_4_0</td>\n",
       "      <td>carnifex</td>\n",
       "      <td>carnifex</td>\n",
       "      <td>NaN</td>\n",
       "      <td>NaN</td>\n",
       "      <td>2020-07-21T08:51:34.566Z</td>\n",
       "      <td>StillImage</td>\n",
       "      <td>COORDINATE_ROUNDED;GEODETIC_DATUM_ASSUMED_WGS84</td>\n",
       "      <td>POINT (1825786.230 5371249.034)</td>\n",
       "      <td>1.825786e+06</td>\n",
       "      <td>5.371249e+06</td>\n",
       "      <td>True</td>\n",
       "      <td>True</td>\n",
       "    </tr>\n",
       "    <tr>\n",
       "      <th>2</th>\n",
       "      <td>Austria</td>\n",
       "      <td>AT</td>\n",
       "      <td>1946190437</td>\n",
       "      <td>50c9509d-22c7-4a22-a47d-8c48425ef4a7</td>\n",
       "      <td>https://www.inaturalist.org/observations/12173291</td>\n",
       "      <td>Animalia</td>\n",
       "      <td>Arthropoda</td>\n",
       "      <td>Insecta</td>\n",
       "      <td>Hymenoptera</td>\n",
       "      <td>Tenthredinidae</td>\n",
       "      <td>Athalia</td>\n",
       "      <td>Athalia rosae</td>\n",
       "      <td>NaN</td>\n",
       "      <td>SPECIES</td>\n",
       "      <td>Athalia rosae (Linnaeus, 1758)</td>\n",
       "      <td>Athalia rosae</td>\n",
       "      <td>NaN</td>\n",
       "      <td>NaN</td>\n",
       "      <td>Wien</td>\n",
       "      <td>NaN</td>\n",
       "      <td>NaN</td>\n",
       "      <td>28eb1a3f-1c15-4a95-931a-4af90ecb574d</td>\n",
       "      <td>48.231321</td>\n",
       "      <td>16.333859</td>\n",
       "      <td>44.0</td>\n",
       "      <td>NaN</td>\n",
       "      <td>NaN</td>\n",
       "      <td>NaN</td>\n",
       "      <td>NaN</td>\n",
       "      <td>NaN</td>\n",
       "      <td>2018-05-05T23:01:42</td>\n",
       "      <td>5.0</td>\n",
       "      <td>5.0</td>\n",
       "      <td>2018.0</td>\n",
       "      <td>4490913</td>\n",
       "      <td>4490913</td>\n",
       "      <td>HUMAN_OBSERVATION</td>\n",
       "      <td>iNaturalist</td>\n",
       "      <td>Observations</td>\n",
       "      <td>12173291</td>\n",
       "      <td>NaN</td>\n",
       "      <td>Konstantin</td>\n",
       "      <td>2018-11-28T05:24:27</td>\n",
       "      <td>CC_BY_NC_4_0</td>\n",
       "      <td>carnifex</td>\n",
       "      <td>carnifex</td>\n",
       "      <td>NaN</td>\n",
       "      <td>NaN</td>\n",
       "      <td>2020-07-21T08:51:33.716Z</td>\n",
       "      <td>StillImage</td>\n",
       "      <td>GEODETIC_DATUM_ASSUMED_WGS84</td>\n",
       "      <td>POINT (1816244.249 5363084.093)</td>\n",
       "      <td>1.816244e+06</td>\n",
       "      <td>5.363084e+06</td>\n",
       "      <td>True</td>\n",
       "      <td>True</td>\n",
       "    </tr>\n",
       "    <tr>\n",
       "      <th>3</th>\n",
       "      <td>Austria</td>\n",
       "      <td>AT</td>\n",
       "      <td>1338113327</td>\n",
       "      <td>6ac3f774-d9fb-4796-b3e9-92bf6c81c084</td>\n",
       "      <td>NaN</td>\n",
       "      <td>Animalia</td>\n",
       "      <td>Arthropoda</td>\n",
       "      <td>Insecta</td>\n",
       "      <td>Hymenoptera</td>\n",
       "      <td>Tenthredinidae</td>\n",
       "      <td>Athalia</td>\n",
       "      <td>Athalia rosae</td>\n",
       "      <td>NaN</td>\n",
       "      <td>SPECIES</td>\n",
       "      <td>Athalia rosae (Linnaeus, 1758)</td>\n",
       "      <td>Athalia rosae</td>\n",
       "      <td>NaN</td>\n",
       "      <td>Schloss und Park Arenberg, Salzburg</td>\n",
       "      <td>NaN</td>\n",
       "      <td>NaN</td>\n",
       "      <td>NaN</td>\n",
       "      <td>bb646dff-a905-4403-a49b-6d378c2cf0d9</td>\n",
       "      <td>47.799248</td>\n",
       "      <td>13.058721</td>\n",
       "      <td>250.0</td>\n",
       "      <td>NaN</td>\n",
       "      <td>NaN</td>\n",
       "      <td>NaN</td>\n",
       "      <td>NaN</td>\n",
       "      <td>NaN</td>\n",
       "      <td>2014-09-12T00:00:00</td>\n",
       "      <td>12.0</td>\n",
       "      <td>9.0</td>\n",
       "      <td>2014.0</td>\n",
       "      <td>4490913</td>\n",
       "      <td>4490913</td>\n",
       "      <td>HUMAN_OBSERVATION</td>\n",
       "      <td>naturgucker</td>\n",
       "      <td>naturgucker</td>\n",
       "      <td>750179370</td>\n",
       "      <td>NaN</td>\n",
       "      <td>NaN</td>\n",
       "      <td>NaN</td>\n",
       "      <td>CC_BY_4_0</td>\n",
       "      <td>NaN</td>\n",
       "      <td>-1082328577</td>\n",
       "      <td>NaN</td>\n",
       "      <td>NaN</td>\n",
       "      <td>2020-03-01T11:56:29.324Z</td>\n",
       "      <td>NaN</td>\n",
       "      <td>COORDINATE_ROUNDED;GEODETIC_DATUM_ASSUMED_WGS84</td>\n",
       "      <td>POINT (1452065.119 5315039.715)</td>\n",
       "      <td>1.452065e+06</td>\n",
       "      <td>5.315040e+06</td>\n",
       "      <td>True</td>\n",
       "      <td>True</td>\n",
       "    </tr>\n",
       "    <tr>\n",
       "      <th>4</th>\n",
       "      <td>Belgium</td>\n",
       "      <td>BE</td>\n",
       "      <td>2283049884</td>\n",
       "      <td>50c9509d-22c7-4a22-a47d-8c48425ef4a7</td>\n",
       "      <td>https://www.inaturalist.org/observations/27806550</td>\n",
       "      <td>Animalia</td>\n",
       "      <td>Arthropoda</td>\n",
       "      <td>Insecta</td>\n",
       "      <td>Hymenoptera</td>\n",
       "      <td>Tenthredinidae</td>\n",
       "      <td>Athalia</td>\n",
       "      <td>Athalia rosae</td>\n",
       "      <td>NaN</td>\n",
       "      <td>SPECIES</td>\n",
       "      <td>Athalia rosae (Linnaeus, 1758)</td>\n",
       "      <td>Athalia rosae</td>\n",
       "      <td>NaN</td>\n",
       "      <td>NaN</td>\n",
       "      <td>Wallonie</td>\n",
       "      <td>NaN</td>\n",
       "      <td>NaN</td>\n",
       "      <td>28eb1a3f-1c15-4a95-931a-4af90ecb574d</td>\n",
       "      <td>50.708869</td>\n",
       "      <td>4.779504</td>\n",
       "      <td>12.0</td>\n",
       "      <td>NaN</td>\n",
       "      <td>NaN</td>\n",
       "      <td>NaN</td>\n",
       "      <td>NaN</td>\n",
       "      <td>NaN</td>\n",
       "      <td>2019-06-28T15:10:00</td>\n",
       "      <td>28.0</td>\n",
       "      <td>6.0</td>\n",
       "      <td>2019.0</td>\n",
       "      <td>4490913</td>\n",
       "      <td>4490913</td>\n",
       "      <td>HUMAN_OBSERVATION</td>\n",
       "      <td>iNaturalist</td>\n",
       "      <td>Observations</td>\n",
       "      <td>27806550</td>\n",
       "      <td>NaN</td>\n",
       "      <td>Colin Ducarme</td>\n",
       "      <td>2019-06-28T13:17:05</td>\n",
       "      <td>CC_BY_NC_4_0</td>\n",
       "      <td>Colin Ducarme</td>\n",
       "      <td>Colin Ducarme</td>\n",
       "      <td>NaN</td>\n",
       "      <td>NaN</td>\n",
       "      <td>2020-07-21T08:51:37.022Z</td>\n",
       "      <td>StillImage</td>\n",
       "      <td>COORDINATE_ROUNDED;GEODETIC_DATUM_ASSUMED_WGS84</td>\n",
       "      <td>POINT (531457.181 5638575.164)</td>\n",
       "      <td>5.314572e+05</td>\n",
       "      <td>5.638575e+06</td>\n",
       "      <td>True</td>\n",
       "      <td>True</td>\n",
       "    </tr>\n",
       "    <tr>\n",
       "      <th>...</th>\n",
       "      <td>...</td>\n",
       "      <td>...</td>\n",
       "      <td>...</td>\n",
       "      <td>...</td>\n",
       "      <td>...</td>\n",
       "      <td>...</td>\n",
       "      <td>...</td>\n",
       "      <td>...</td>\n",
       "      <td>...</td>\n",
       "      <td>...</td>\n",
       "      <td>...</td>\n",
       "      <td>...</td>\n",
       "      <td>...</td>\n",
       "      <td>...</td>\n",
       "      <td>...</td>\n",
       "      <td>...</td>\n",
       "      <td>...</td>\n",
       "      <td>...</td>\n",
       "      <td>...</td>\n",
       "      <td>...</td>\n",
       "      <td>...</td>\n",
       "      <td>...</td>\n",
       "      <td>...</td>\n",
       "      <td>...</td>\n",
       "      <td>...</td>\n",
       "      <td>...</td>\n",
       "      <td>...</td>\n",
       "      <td>...</td>\n",
       "      <td>...</td>\n",
       "      <td>...</td>\n",
       "      <td>...</td>\n",
       "      <td>...</td>\n",
       "      <td>...</td>\n",
       "      <td>...</td>\n",
       "      <td>...</td>\n",
       "      <td>...</td>\n",
       "      <td>...</td>\n",
       "      <td>...</td>\n",
       "      <td>...</td>\n",
       "      <td>...</td>\n",
       "      <td>...</td>\n",
       "      <td>...</td>\n",
       "      <td>...</td>\n",
       "      <td>...</td>\n",
       "      <td>...</td>\n",
       "      <td>...</td>\n",
       "      <td>...</td>\n",
       "      <td>...</td>\n",
       "      <td>...</td>\n",
       "      <td>...</td>\n",
       "      <td>...</td>\n",
       "      <td>...</td>\n",
       "      <td>...</td>\n",
       "      <td>...</td>\n",
       "      <td>...</td>\n",
       "      <td>...</td>\n",
       "    </tr>\n",
       "    <tr>\n",
       "      <th>2968</th>\n",
       "      <td>United Kingdom</td>\n",
       "      <td>GB</td>\n",
       "      <td>1504126540</td>\n",
       "      <td>4bc14221-60af-43e5-8e92-0c2b262b9945</td>\n",
       "      <td>72396a41-b021-4679-9982-59e4c773b71b</td>\n",
       "      <td>Animalia</td>\n",
       "      <td>Arthropoda</td>\n",
       "      <td>Insecta</td>\n",
       "      <td>Hymenoptera</td>\n",
       "      <td>Tenthredinidae</td>\n",
       "      <td>Athalia</td>\n",
       "      <td>Athalia rosae</td>\n",
       "      <td>NaN</td>\n",
       "      <td>SPECIES</td>\n",
       "      <td>Athalia rosae (Linnaeus, 1758)</td>\n",
       "      <td>Athalia rosae</td>\n",
       "      <td>NaN</td>\n",
       "      <td>Stodmarsh</td>\n",
       "      <td>England</td>\n",
       "      <td>present</td>\n",
       "      <td>NaN</td>\n",
       "      <td>c71f0513-c95a-4e98-abad-0c222b87ec66</td>\n",
       "      <td>51.319950</td>\n",
       "      <td>1.205420</td>\n",
       "      <td>100.0</td>\n",
       "      <td>NaN</td>\n",
       "      <td>NaN</td>\n",
       "      <td>NaN</td>\n",
       "      <td>NaN</td>\n",
       "      <td>NaN</td>\n",
       "      <td>2009-06-17T00:00:00</td>\n",
       "      <td>17.0</td>\n",
       "      <td>6.0</td>\n",
       "      <td>2009.0</td>\n",
       "      <td>4490913</td>\n",
       "      <td>4490913</td>\n",
       "      <td>HUMAN_OBSERVATION</td>\n",
       "      <td>RSPB</td>\n",
       "      <td>no key</td>\n",
       "      <td>NaN</td>\n",
       "      <td>3574</td>\n",
       "      <td>NaN</td>\n",
       "      <td>NaN</td>\n",
       "      <td>CC_BY_4_0</td>\n",
       "      <td>NaN</td>\n",
       "      <td>NaN</td>\n",
       "      <td>NaN</td>\n",
       "      <td>NaN</td>\n",
       "      <td>2020-02-10T11:26:27.275Z</td>\n",
       "      <td>NaN</td>\n",
       "      <td>NaN</td>\n",
       "      <td>POINT (134036.736 5706524.346)</td>\n",
       "      <td>1.340367e+05</td>\n",
       "      <td>5.706524e+06</td>\n",
       "      <td>True</td>\n",
       "      <td>True</td>\n",
       "    </tr>\n",
       "    <tr>\n",
       "      <th>2969</th>\n",
       "      <td>United Kingdom</td>\n",
       "      <td>GB</td>\n",
       "      <td>1504126414</td>\n",
       "      <td>4bc14221-60af-43e5-8e92-0c2b262b9945</td>\n",
       "      <td>5bc97a5f-0613-45a0-b223-9a5a2a9af619</td>\n",
       "      <td>Animalia</td>\n",
       "      <td>Arthropoda</td>\n",
       "      <td>Insecta</td>\n",
       "      <td>Hymenoptera</td>\n",
       "      <td>Tenthredinidae</td>\n",
       "      <td>Athalia</td>\n",
       "      <td>Athalia rosae</td>\n",
       "      <td>NaN</td>\n",
       "      <td>SPECIES</td>\n",
       "      <td>Athalia rosae (Linnaeus, 1758)</td>\n",
       "      <td>Athalia rosae</td>\n",
       "      <td>NaN</td>\n",
       "      <td>Stodmarsh</td>\n",
       "      <td>England</td>\n",
       "      <td>present</td>\n",
       "      <td>NaN</td>\n",
       "      <td>c71f0513-c95a-4e98-abad-0c222b87ec66</td>\n",
       "      <td>51.306050</td>\n",
       "      <td>1.187230</td>\n",
       "      <td>100.0</td>\n",
       "      <td>NaN</td>\n",
       "      <td>NaN</td>\n",
       "      <td>NaN</td>\n",
       "      <td>NaN</td>\n",
       "      <td>NaN</td>\n",
       "      <td>2009-06-16T00:00:00</td>\n",
       "      <td>16.0</td>\n",
       "      <td>6.0</td>\n",
       "      <td>2009.0</td>\n",
       "      <td>4490913</td>\n",
       "      <td>4490913</td>\n",
       "      <td>HUMAN_OBSERVATION</td>\n",
       "      <td>RSPB</td>\n",
       "      <td>no key</td>\n",
       "      <td>NaN</td>\n",
       "      <td>3571</td>\n",
       "      <td>NaN</td>\n",
       "      <td>NaN</td>\n",
       "      <td>CC_BY_4_0</td>\n",
       "      <td>NaN</td>\n",
       "      <td>NaN</td>\n",
       "      <td>NaN</td>\n",
       "      <td>NaN</td>\n",
       "      <td>2020-02-10T11:26:27.497Z</td>\n",
       "      <td>NaN</td>\n",
       "      <td>NaN</td>\n",
       "      <td>POINT (132014.098 5704978.734)</td>\n",
       "      <td>1.320141e+05</td>\n",
       "      <td>5.704979e+06</td>\n",
       "      <td>True</td>\n",
       "      <td>True</td>\n",
       "    </tr>\n",
       "    <tr>\n",
       "      <th>2970</th>\n",
       "      <td>United Kingdom</td>\n",
       "      <td>GB</td>\n",
       "      <td>1504126270</td>\n",
       "      <td>4bc14221-60af-43e5-8e92-0c2b262b9945</td>\n",
       "      <td>edcec703-e150-4cbb-83b2-10a09d1a9fbd</td>\n",
       "      <td>Animalia</td>\n",
       "      <td>Arthropoda</td>\n",
       "      <td>Insecta</td>\n",
       "      <td>Hymenoptera</td>\n",
       "      <td>Tenthredinidae</td>\n",
       "      <td>Athalia</td>\n",
       "      <td>Athalia rosae</td>\n",
       "      <td>NaN</td>\n",
       "      <td>SPECIES</td>\n",
       "      <td>Athalia rosae (Linnaeus, 1758)</td>\n",
       "      <td>Athalia rosae</td>\n",
       "      <td>NaN</td>\n",
       "      <td>Stodmarsh</td>\n",
       "      <td>England</td>\n",
       "      <td>present</td>\n",
       "      <td>NaN</td>\n",
       "      <td>c71f0513-c95a-4e98-abad-0c222b87ec66</td>\n",
       "      <td>51.306050</td>\n",
       "      <td>1.187230</td>\n",
       "      <td>100.0</td>\n",
       "      <td>NaN</td>\n",
       "      <td>NaN</td>\n",
       "      <td>NaN</td>\n",
       "      <td>NaN</td>\n",
       "      <td>NaN</td>\n",
       "      <td>2009-06-15T00:00:00</td>\n",
       "      <td>15.0</td>\n",
       "      <td>6.0</td>\n",
       "      <td>2009.0</td>\n",
       "      <td>4490913</td>\n",
       "      <td>4490913</td>\n",
       "      <td>HUMAN_OBSERVATION</td>\n",
       "      <td>RSPB</td>\n",
       "      <td>no key</td>\n",
       "      <td>NaN</td>\n",
       "      <td>3569</td>\n",
       "      <td>NaN</td>\n",
       "      <td>NaN</td>\n",
       "      <td>CC_BY_4_0</td>\n",
       "      <td>NaN</td>\n",
       "      <td>NaN</td>\n",
       "      <td>NaN</td>\n",
       "      <td>NaN</td>\n",
       "      <td>2020-02-10T11:26:27.557Z</td>\n",
       "      <td>NaN</td>\n",
       "      <td>NaN</td>\n",
       "      <td>POINT (132014.098 5704978.734)</td>\n",
       "      <td>1.320141e+05</td>\n",
       "      <td>5.704979e+06</td>\n",
       "      <td>True</td>\n",
       "      <td>True</td>\n",
       "    </tr>\n",
       "    <tr>\n",
       "      <th>2971</th>\n",
       "      <td>United Kingdom</td>\n",
       "      <td>GB</td>\n",
       "      <td>1504125580</td>\n",
       "      <td>4bc14221-60af-43e5-8e92-0c2b262b9945</td>\n",
       "      <td>9659fcc9-a361-4db1-abe9-ddcc678bfb2d</td>\n",
       "      <td>Animalia</td>\n",
       "      <td>Arthropoda</td>\n",
       "      <td>Insecta</td>\n",
       "      <td>Hymenoptera</td>\n",
       "      <td>Tenthredinidae</td>\n",
       "      <td>Athalia</td>\n",
       "      <td>Athalia rosae</td>\n",
       "      <td>NaN</td>\n",
       "      <td>SPECIES</td>\n",
       "      <td>Athalia rosae (Linnaeus, 1758)</td>\n",
       "      <td>Athalia rosae</td>\n",
       "      <td>NaN</td>\n",
       "      <td>Stodmarsh</td>\n",
       "      <td>England</td>\n",
       "      <td>present</td>\n",
       "      <td>NaN</td>\n",
       "      <td>c71f0513-c95a-4e98-abad-0c222b87ec66</td>\n",
       "      <td>51.312060</td>\n",
       "      <td>1.197690</td>\n",
       "      <td>100.0</td>\n",
       "      <td>NaN</td>\n",
       "      <td>NaN</td>\n",
       "      <td>NaN</td>\n",
       "      <td>NaN</td>\n",
       "      <td>NaN</td>\n",
       "      <td>2009-06-17T00:00:00</td>\n",
       "      <td>17.0</td>\n",
       "      <td>6.0</td>\n",
       "      <td>2009.0</td>\n",
       "      <td>4490913</td>\n",
       "      <td>4490913</td>\n",
       "      <td>HUMAN_OBSERVATION</td>\n",
       "      <td>RSPB</td>\n",
       "      <td>no key</td>\n",
       "      <td>NaN</td>\n",
       "      <td>3572</td>\n",
       "      <td>NaN</td>\n",
       "      <td>NaN</td>\n",
       "      <td>CC_BY_4_0</td>\n",
       "      <td>NaN</td>\n",
       "      <td>NaN</td>\n",
       "      <td>NaN</td>\n",
       "      <td>NaN</td>\n",
       "      <td>2020-02-10T11:26:27.218Z</td>\n",
       "      <td>NaN</td>\n",
       "      <td>NaN</td>\n",
       "      <td>POINT (133177.198 5705647.017)</td>\n",
       "      <td>1.331772e+05</td>\n",
       "      <td>5.705647e+06</td>\n",
       "      <td>True</td>\n",
       "      <td>True</td>\n",
       "    </tr>\n",
       "    <tr>\n",
       "      <th>2972</th>\n",
       "      <td>United Kingdom</td>\n",
       "      <td>GB</td>\n",
       "      <td>1098893419</td>\n",
       "      <td>50c9509d-22c7-4a22-a47d-8c48425ef4a7</td>\n",
       "      <td>http://www.inaturalist.org/observations/406110</td>\n",
       "      <td>Animalia</td>\n",
       "      <td>Arthropoda</td>\n",
       "      <td>Insecta</td>\n",
       "      <td>Hymenoptera</td>\n",
       "      <td>Tenthredinidae</td>\n",
       "      <td>Athalia</td>\n",
       "      <td>Athalia rosae</td>\n",
       "      <td>NaN</td>\n",
       "      <td>SPECIES</td>\n",
       "      <td>Athalia rosae (Linnaeus, 1758)</td>\n",
       "      <td>Athalia rosae</td>\n",
       "      <td>NaN</td>\n",
       "      <td>NaN</td>\n",
       "      <td>England</td>\n",
       "      <td>NaN</td>\n",
       "      <td>NaN</td>\n",
       "      <td>28eb1a3f-1c15-4a95-931a-4af90ecb574d</td>\n",
       "      <td>52.263900</td>\n",
       "      <td>0.252662</td>\n",
       "      <td>NaN</td>\n",
       "      <td>NaN</td>\n",
       "      <td>NaN</td>\n",
       "      <td>NaN</td>\n",
       "      <td>NaN</td>\n",
       "      <td>NaN</td>\n",
       "      <td>2013-09-22T00:00:00</td>\n",
       "      <td>22.0</td>\n",
       "      <td>9.0</td>\n",
       "      <td>2013.0</td>\n",
       "      <td>4490913</td>\n",
       "      <td>4490913</td>\n",
       "      <td>HUMAN_OBSERVATION</td>\n",
       "      <td>iNaturalist</td>\n",
       "      <td>Observations</td>\n",
       "      <td>406110</td>\n",
       "      <td>NaN</td>\n",
       "      <td>Finlay Cox</td>\n",
       "      <td>2013-09-23T22:27:19</td>\n",
       "      <td>CC_BY_NC_4_0</td>\n",
       "      <td>Finlay Cox</td>\n",
       "      <td>Finlay Cox</td>\n",
       "      <td>NaN</td>\n",
       "      <td>NaN</td>\n",
       "      <td>2020-07-21T08:52:12.837Z</td>\n",
       "      <td>StillImage</td>\n",
       "      <td>GEODETIC_DATUM_ASSUMED_WGS84</td>\n",
       "      <td>POINT (28094.763 5811486.912)</td>\n",
       "      <td>2.809476e+04</td>\n",
       "      <td>5.811487e+06</td>\n",
       "      <td>True</td>\n",
       "      <td>True</td>\n",
       "    </tr>\n",
       "  </tbody>\n",
       "</table>\n",
       "<p>2681 rows × 56 columns</p>\n",
       "</div>"
      ],
      "text/plain": [
       "         CountryName countryCode  ...  correct_country is_land\n",
       "0            Austria          AT  ...             True    True\n",
       "1            Austria          AT  ...             True    True\n",
       "2            Austria          AT  ...             True    True\n",
       "3            Austria          AT  ...             True    True\n",
       "4            Belgium          BE  ...             True    True\n",
       "...              ...         ...  ...              ...     ...\n",
       "2968  United Kingdom          GB  ...             True    True\n",
       "2969  United Kingdom          GB  ...             True    True\n",
       "2970  United Kingdom          GB  ...             True    True\n",
       "2971  United Kingdom          GB  ...             True    True\n",
       "2972  United Kingdom          GB  ...             True    True\n",
       "\n",
       "[2681 rows x 56 columns]"
      ]
     },
     "execution_count": 27,
     "metadata": {
      "tags": []
     },
     "output_type": "execute_result"
    }
   ],
   "source": [
    "gdf"
   ]
  },
  {
   "cell_type": "markdown",
   "metadata": {
    "colab_type": "text",
    "id": "o2VandUsrBCU"
   },
   "source": [
    "Now we can move the \"sea\" points into a seperate table and filter them out of the main table.\n",
    "\n"
   ]
  },
  {
   "cell_type": "code",
   "execution_count": null,
   "metadata": {
    "colab": {},
    "colab_type": "code",
    "id": "qbeGGqBDrKfs"
   },
   "outputs": [],
   "source": [
    "gdf_sea = gdf[gdf['is_land'] == False]\n",
    "geosummary.loc[species_name, 'n_in_ocean'] = len(gdf_sea)\n",
    "gdf = gdf[gdf['is_land'] == True]"
   ]
  },
  {
   "cell_type": "markdown",
   "metadata": {
    "colab_type": "text",
    "id": "U2BM3dIQsHAo"
   },
   "source": [
    "Now we've finished filtering the table, we can make another plot with just the good quality points."
   ]
  },
  {
   "cell_type": "code",
   "execution_count": null,
   "metadata": {
    "colab": {
     "base_uri": "https://localhost:8080/",
     "height": 344
    },
    "colab_type": "code",
    "executionInfo": {
     "elapsed": 115411,
     "status": "ok",
     "timestamp": 1596107186778,
     "user": {
      "displayName": "Katy Brown",
      "photoUrl": "",
      "userId": "04725673548216289527"
     },
     "user_tz": -60
    },
    "id": "1YV1qSpDmPak",
    "outputId": "c67605d6-36ba-4293-dfbf-2620625246b9"
   },
   "outputs": [
    {
     "data": {
      "image/png": "[encoded data removed]",
      "text/plain": [
       "<Figure size 720x720 with 1 Axes>"
      ]
     },
     "metadata": {
      "needs_background": "light",
      "tags": []
     },
     "output_type": "display_data"
    }
   ],
   "source": [
    "# feel free to change these colours using the codes here: https://htmlcolorcodes.com/\n",
    "sea_colour = '#B5F0FC'\n",
    "land_colour = '#CDFCB5'\n",
    "point_colour = '#8237B9'\n",
    "\n",
    "\n",
    "# create an empty set of axis\n",
    "f = plt.figure(figsize=(10, 10))\n",
    "\n",
    "# add a plot to these axis\n",
    "a = f.add_subplot(111, facecolor=sea_colour)\n",
    "\n",
    "# plot the countries onto the axis\n",
    "worldmap.plot(ax=a, color=land_colour, edgecolor='black', lw=0.3)\n",
    "\n",
    "# add the species observation points\n",
    "gdf['geometry'].plot(ax=a, color=point_colour)\n",
    "\n",
    "# add a title\n",
    "a.set_title(species_name.replace(\"_\", \" \") + \" Filtered Points\")\n",
    "\n",
    "# save a copy\n",
    "f.savefig(file_path + \"/filtered_maps/\" + species_name + \".png\", dpi=300, bbox_inches='tight')"
   ]
  },
  {
   "cell_type": "markdown",
   "metadata": {
    "colab_type": "text",
    "id": "Ld6eQFdRsd0H"
   },
   "source": [
    "We also want to record the remaining number of points in the summary table."
   ]
  },
  {
   "cell_type": "code",
   "execution_count": null,
   "metadata": {
    "colab": {},
    "colab_type": "code",
    "id": "UZLVffY0sgHE"
   },
   "outputs": [],
   "source": [
    "geosummary.loc[species_name, 'nrecords_clean'] = len(gdf)"
   ]
  },
  {
   "cell_type": "code",
   "execution_count": null,
   "metadata": {
    "colab": {
     "base_uri": "https://localhost:8080/",
     "height": 80
    },
    "colab_type": "code",
    "executionInfo": {
     "elapsed": 115405,
     "status": "ok",
     "timestamp": 1596107186783,
     "user": {
      "displayName": "Katy Brown",
      "photoUrl": "",
      "userId": "04725673548216289527"
     },
     "user_tz": -60
    },
    "id": "rxhaP-av94vq",
    "outputId": "baef0394-4776-4639-b500-4f487532e5db"
   },
   "outputs": [
    {
     "data": {
      "text/html": [
       "<div>\n",
       "<style scoped>\n",
       "    .dataframe tbody tr th:only-of-type {\n",
       "        vertical-align: middle;\n",
       "    }\n",
       "\n",
       "    .dataframe tbody tr th {\n",
       "        vertical-align: top;\n",
       "    }\n",
       "\n",
       "    .dataframe thead th {\n",
       "        text-align: right;\n",
       "    }\n",
       "</style>\n",
       "<table border=\"1\" class=\"dataframe\">\n",
       "  <thead>\n",
       "    <tr style=\"text-align: right;\">\n",
       "      <th></th>\n",
       "      <th>nrecords_unfiltered</th>\n",
       "      <th>n_in_wrong_country</th>\n",
       "      <th>n_in_ocean</th>\n",
       "      <th>nrecords_clean</th>\n",
       "    </tr>\n",
       "  </thead>\n",
       "  <tbody>\n",
       "    <tr>\n",
       "      <th>Athalia_rosae</th>\n",
       "      <td>2973</td>\n",
       "      <td>292</td>\n",
       "      <td>188</td>\n",
       "      <td>2493</td>\n",
       "    </tr>\n",
       "  </tbody>\n",
       "</table>\n",
       "</div>"
      ],
      "text/plain": [
       "              nrecords_unfiltered n_in_wrong_country n_in_ocean nrecords_clean\n",
       "Athalia_rosae                2973                292        188           2493"
      ]
     },
     "execution_count": 31,
     "metadata": {
      "tags": []
     },
     "output_type": "execute_result"
    }
   ],
   "source": [
    "geosummary"
   ]
  },
  {
   "cell_type": "markdown",
   "metadata": {
    "colab_type": "text",
    "id": "uDKk16w5swZU"
   },
   "source": [
    "Finally, we save the clean table and the summary table."
   ]
  },
  {
   "cell_type": "code",
   "execution_count": null,
   "metadata": {
    "colab": {},
    "colab_type": "code",
    "id": "Fw0TJ2HusrjH"
   },
   "outputs": [],
   "source": [
    "gdf.to_csv(file_path + \"/geo_filtered_main_tables/\" + species_name + \".csv\", sep=\"\\t\", index=None)\n",
    "geosummary.to_csv(file_path + \"/geo_summary_tables/\" + species_name + \".csv\", sep=\"\\t\")"
   ]
  }
 ],
 "metadata": {
  "colab": {
   "authorship_tag": "ABX9TyO4rxxLfAjEVBaai9dJ8z9d",
   "collapsed_sections": [],
   "name": "3_Georeferencing",
   "provenance": [
    {
     "file_id": "1JCagcN5sKQdf8OvgrxerPOcpDiTURygr",
     "timestamp": 1596019556776
    },
    {
     "file_id": "1vhDRNO8Ov_4I3V0wjyGdSv5qZd28P26R",
     "timestamp": 1596016780263
    },
    {
     "file_id": "1fgK0oP7jFP4z2krdH0pKzR--BtjpzyLs",
     "timestamp": 1595944079107
    }
   ]
  },
  "kernelspec": {
   "display_name": "Python 3",
   "language": "python",
   "name": "python3"
  },
  "language_info": {
   "codemirror_mode": {
    "name": "ipython",
    "version": 3
   },
   "file_extension": ".py",
   "mimetype": "text/x-python",
   "name": "python",
   "nbconvert_exporter": "python",
   "pygments_lexer": "ipython3",
   "version": "3.6.10"
  }
 },
 "nbformat": 4,
 "nbformat_minor": 1
}
