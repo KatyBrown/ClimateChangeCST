{
 "cells": [
  {
   "cell_type": "code",
   "execution_count": null,
   "metadata": {},
   "outputs": [],
   "source": []
  },
  {
   "cell_type": "code",
   "execution_count": null,
   "metadata": {
    "colab": {
     "base_uri": "https://localhost:8080/",
     "height": 354
    },
    "colab_type": "code",
    "executionInfo": {
     "elapsed": 12410,
     "status": "ok",
     "timestamp": 1596471842907,
     "user": {
      "displayName": "Katy Brown",
      "photoUrl": "",
      "userId": "04725673548216289527"
     },
     "user_tz": -60
    },
    "id": "y1veLe2gxKO-",
    "outputId": "912c17db-1ba0-4f2e-d907-87eff7febeac"
   },
   "outputs": [
    {
     "name": "stdout",
     "output_type": "stream",
     "text": [
      "Requirement already satisfied: wget in /usr/local/lib/python3.6/dist-packages (3.2)\n",
      "Collecting rasterio\n",
      "\u001b[?25l  Downloading https://files.pythonhosted.org/packages/02/7e/eed7dfd109fc89ed3cf8b5ed3f26f841b03b92f6ca1c31c4745f938a081b/rasterio-1.1.5-cp36-cp36m-manylinux1_x86_64.whl (18.2MB)\n",
      "\u001b[K     |████████████████████████████████| 18.2MB 1.3MB/s \n",
      "\u001b[?25hCollecting snuggs>=1.4.1\n",
      "  Downloading https://files.pythonhosted.org/packages/cc/0e/d27d6e806d6c0d1a2cfdc5d1f088e42339a0a54a09c3343f7f81ec8947ea/snuggs-1.4.7-py3-none-any.whl\n",
      "Collecting click-plugins\n",
      "  Downloading https://files.pythonhosted.org/packages/e9/da/824b92d9942f4e472702488857914bdd50f73021efea15b4cad9aca8ecef/click_plugins-1.1.1-py2.py3-none-any.whl\n",
      "Requirement already satisfied: attrs in /usr/local/lib/python3.6/dist-packages (from rasterio) (19.3.0)\n",
      "Collecting cligj>=0.5\n",
      "  Downloading https://files.pythonhosted.org/packages/e4/be/30a58b4b0733850280d01f8bd132591b4668ed5c7046761098d665ac2174/cligj-0.5.0-py3-none-any.whl\n",
      "Requirement already satisfied: click<8,>=4.0 in /usr/local/lib/python3.6/dist-packages (from rasterio) (7.1.2)\n",
      "Requirement already satisfied: numpy in /usr/local/lib/python3.6/dist-packages (from rasterio) (1.18.5)\n",
      "Collecting affine\n",
      "  Downloading https://files.pythonhosted.org/packages/ac/a6/1a39a1ede71210e3ddaf623982b06ecfc5c5c03741ae659073159184cd3e/affine-2.3.0-py2.py3-none-any.whl\n",
      "Requirement already satisfied: pyparsing>=2.1.6 in /usr/local/lib/python3.6/dist-packages (from snuggs>=1.4.1->rasterio) (2.4.7)\n",
      "Installing collected packages: snuggs, click-plugins, cligj, affine, rasterio\n",
      "Successfully installed affine-2.3.0 click-plugins-1.1.1 cligj-0.5.0 rasterio-1.1.5 snuggs-1.4.7\n"
     ]
    }
   ],
   "source": [
    "!pip install wget\n",
    "!pip install rasterio"
   ]
  },
  {
   "cell_type": "code",
   "execution_count": null,
   "metadata": {
    "colab": {
     "base_uri": "https://localhost:8080/",
     "height": 34
    },
    "colab_type": "code",
    "executionInfo": {
     "elapsed": 2592,
     "status": "ok",
     "timestamp": 1596471855948,
     "user": {
      "displayName": "Katy Brown",
      "photoUrl": "",
      "userId": "04725673548216289527"
     },
     "user_tz": -60
    },
    "id": "fecOMaw0vFqC",
    "outputId": "0027ab34-c8e1-4e60-f874-56b3266c1e53"
   },
   "outputs": [
    {
     "name": "stdout",
     "output_type": "stream",
     "text": [
      "Mounted at /content/drive\n"
     ]
    }
   ],
   "source": [
    "# Pandas is a package containing additional functions to use data frames in Python\n",
    "import pandas as pd\n",
    "import matplotlib\n",
    "import matplotlib.pyplot as plt\n",
    "%matplotlib inline\n",
    "import warnings\n",
    "warnings.simplefilter('ignore')\n",
    "import numpy as np\n",
    "import wget\n",
    "import zipfile\n",
    "import glob\n",
    "import os\n",
    "import shutil\n",
    "import rasterio\n",
    "# These two lines allow the notebook to access the Google Drive.\n",
    "from google.colab import drive\n",
    "drive.mount('/content/drive', force_remount=True)\n",
    "\n",
    "# This is the path to the project folder within the Google Drive.\n",
    "file_path = \"/content/drive/My Drive/\""
   ]
  },
  {
   "cell_type": "markdown",
   "metadata": {},
   "source": [
    "---\n",
    "## Notebook 6\n",
    "# Downloading WORLDCLIM Data"
   ]
  },
  {
   "cell_type": "markdown",
   "metadata": {
    "colab_type": "text",
    "id": "vtYljGu0e1Yz"
   },
   "source": [
    "This code downloads all the data from WORLDCLIM under six climate models and four SSPs, for four time periods plus the present."
   ]
  },
  {
   "cell_type": "markdown",
   "metadata": {
    "colab_type": "text",
    "id": "_8ptR98Q0MOY"
   },
   "source": [
    "Skip GFDL-ESM4 - doesn't have data for every SSP - and IPSL-CM6A-LR, MRI-ESM2\t- some of the links are broken."
   ]
  },
  {
   "cell_type": "code",
   "execution_count": null,
   "metadata": {
    "colab": {},
    "colab_type": "code",
    "id": "hy1ip9R6vL9A"
   },
   "outputs": [],
   "source": [
    "models = ['BCC-CSM2-MR',\n",
    "         'CNRM-CM6-1',\n",
    "         'CNRM-ESM2-1',\n",
    "         'CanESM5',\n",
    "         'MIROC-ES2L',\n",
    "         'MIROC6']"
   ]
  },
  {
   "cell_type": "code",
   "execution_count": null,
   "metadata": {
    "colab": {},
    "colab_type": "code",
    "id": "R59SDWijv6rz"
   },
   "outputs": [],
   "source": [
    "ssps = ['ssp126', 'ssp245', 'ssp370', 'ssp585']"
   ]
  },
  {
   "cell_type": "code",
   "execution_count": null,
   "metadata": {
    "colab": {},
    "colab_type": "code",
    "id": "ffkc0nYFwG6C"
   },
   "outputs": [],
   "source": [
    "intervals = ['2021-2040', '2041-2060', '2061-2080', '2081-2100']"
   ]
  },
  {
   "cell_type": "code",
   "execution_count": null,
   "metadata": {
    "colab": {},
    "colab_type": "code",
    "id": "vHAHsub8wdMt"
   },
   "outputs": [],
   "source": [
    "base = \"http://biogeo.ucdavis.edu/data/worldclim/v2.1/fut/10m/wc2.1_10m_bioc\""
   ]
  },
  {
   "cell_type": "markdown",
   "metadata": {
    "colab_type": "text",
    "id": "zmGonMKoyrKj"
   },
   "source": [
    "Download the files for every possible combination of model, ssp and interval."
   ]
  },
  {
   "cell_type": "code",
   "execution_count": null,
   "metadata": {
    "colab": {
     "base_uri": "https://localhost:8080/",
     "height": 1000
    },
    "colab_type": "code",
    "executionInfo": {
     "elapsed": 157226,
     "status": "ok",
     "timestamp": 1596470076775,
     "user": {
      "displayName": "Katy Brown",
      "photoUrl": "",
      "userId": "04725673548216289527"
     },
     "user_tz": -60
    },
    "id": "Sro756c_wHYA",
    "outputId": "f5ea4e5d-07d7-436f-cbda-b96eeba558ec"
   },
   "outputs": [
    {
     "name": "stdout",
     "output_type": "stream",
     "text": [
      "http://biogeo.ucdavis.edu/data/worldclim/v2.1/fut/10m/wc2.1_10m_bioc_BCC-CSM2-MR_ssp126_2021-2040.zip\n",
      "http://biogeo.ucdavis.edu/data/worldclim/v2.1/fut/10m/wc2.1_10m_bioc_BCC-CSM2-MR_ssp126_2041-2060.zip\n",
      "http://biogeo.ucdavis.edu/data/worldclim/v2.1/fut/10m/wc2.1_10m_bioc_BCC-CSM2-MR_ssp126_2061-2080.zip\n",
      "http://biogeo.ucdavis.edu/data/worldclim/v2.1/fut/10m/wc2.1_10m_bioc_BCC-CSM2-MR_ssp126_2081-2100.zip\n",
      "http://biogeo.ucdavis.edu/data/worldclim/v2.1/fut/10m/wc2.1_10m_bioc_BCC-CSM2-MR_ssp245_2021-2040.zip\n",
      "http://biogeo.ucdavis.edu/data/worldclim/v2.1/fut/10m/wc2.1_10m_bioc_BCC-CSM2-MR_ssp245_2041-2060.zip\n",
      "http://biogeo.ucdavis.edu/data/worldclim/v2.1/fut/10m/wc2.1_10m_bioc_BCC-CSM2-MR_ssp245_2061-2080.zip\n",
      "http://biogeo.ucdavis.edu/data/worldclim/v2.1/fut/10m/wc2.1_10m_bioc_BCC-CSM2-MR_ssp245_2081-2100.zip\n",
      "http://biogeo.ucdavis.edu/data/worldclim/v2.1/fut/10m/wc2.1_10m_bioc_BCC-CSM2-MR_ssp370_2021-2040.zip\n",
      "http://biogeo.ucdavis.edu/data/worldclim/v2.1/fut/10m/wc2.1_10m_bioc_BCC-CSM2-MR_ssp370_2041-2060.zip\n",
      "http://biogeo.ucdavis.edu/data/worldclim/v2.1/fut/10m/wc2.1_10m_bioc_BCC-CSM2-MR_ssp370_2061-2080.zip\n",
      "http://biogeo.ucdavis.edu/data/worldclim/v2.1/fut/10m/wc2.1_10m_bioc_BCC-CSM2-MR_ssp370_2081-2100.zip\n",
      "http://biogeo.ucdavis.edu/data/worldclim/v2.1/fut/10m/wc2.1_10m_bioc_BCC-CSM2-MR_ssp585_2021-2040.zip\n",
      "http://biogeo.ucdavis.edu/data/worldclim/v2.1/fut/10m/wc2.1_10m_bioc_BCC-CSM2-MR_ssp585_2041-2060.zip\n",
      "http://biogeo.ucdavis.edu/data/worldclim/v2.1/fut/10m/wc2.1_10m_bioc_BCC-CSM2-MR_ssp585_2061-2080.zip\n",
      "http://biogeo.ucdavis.edu/data/worldclim/v2.1/fut/10m/wc2.1_10m_bioc_BCC-CSM2-MR_ssp585_2081-2100.zip\n",
      "http://biogeo.ucdavis.edu/data/worldclim/v2.1/fut/10m/wc2.1_10m_bioc_CNRM-CM6-1_ssp126_2021-2040.zip\n",
      "http://biogeo.ucdavis.edu/data/worldclim/v2.1/fut/10m/wc2.1_10m_bioc_CNRM-CM6-1_ssp126_2041-2060.zip\n",
      "http://biogeo.ucdavis.edu/data/worldclim/v2.1/fut/10m/wc2.1_10m_bioc_CNRM-CM6-1_ssp126_2061-2080.zip\n",
      "http://biogeo.ucdavis.edu/data/worldclim/v2.1/fut/10m/wc2.1_10m_bioc_CNRM-CM6-1_ssp126_2081-2100.zip\n",
      "http://biogeo.ucdavis.edu/data/worldclim/v2.1/fut/10m/wc2.1_10m_bioc_CNRM-CM6-1_ssp245_2021-2040.zip\n",
      "http://biogeo.ucdavis.edu/data/worldclim/v2.1/fut/10m/wc2.1_10m_bioc_CNRM-CM6-1_ssp245_2041-2060.zip\n",
      "http://biogeo.ucdavis.edu/data/worldclim/v2.1/fut/10m/wc2.1_10m_bioc_CNRM-CM6-1_ssp245_2061-2080.zip\n",
      "http://biogeo.ucdavis.edu/data/worldclim/v2.1/fut/10m/wc2.1_10m_bioc_CNRM-CM6-1_ssp245_2081-2100.zip\n",
      "http://biogeo.ucdavis.edu/data/worldclim/v2.1/fut/10m/wc2.1_10m_bioc_CNRM-CM6-1_ssp370_2021-2040.zip\n",
      "http://biogeo.ucdavis.edu/data/worldclim/v2.1/fut/10m/wc2.1_10m_bioc_CNRM-CM6-1_ssp370_2041-2060.zip\n",
      "http://biogeo.ucdavis.edu/data/worldclim/v2.1/fut/10m/wc2.1_10m_bioc_CNRM-CM6-1_ssp370_2061-2080.zip\n",
      "http://biogeo.ucdavis.edu/data/worldclim/v2.1/fut/10m/wc2.1_10m_bioc_CNRM-CM6-1_ssp370_2081-2100.zip\n",
      "http://biogeo.ucdavis.edu/data/worldclim/v2.1/fut/10m/wc2.1_10m_bioc_CNRM-CM6-1_ssp585_2021-2040.zip\n",
      "http://biogeo.ucdavis.edu/data/worldclim/v2.1/fut/10m/wc2.1_10m_bioc_CNRM-CM6-1_ssp585_2041-2060.zip\n",
      "http://biogeo.ucdavis.edu/data/worldclim/v2.1/fut/10m/wc2.1_10m_bioc_CNRM-CM6-1_ssp585_2061-2080.zip\n",
      "http://biogeo.ucdavis.edu/data/worldclim/v2.1/fut/10m/wc2.1_10m_bioc_CNRM-CM6-1_ssp585_2081-2100.zip\n",
      "http://biogeo.ucdavis.edu/data/worldclim/v2.1/fut/10m/wc2.1_10m_bioc_CNRM-ESM2-1_ssp126_2021-2040.zip\n",
      "http://biogeo.ucdavis.edu/data/worldclim/v2.1/fut/10m/wc2.1_10m_bioc_CNRM-ESM2-1_ssp126_2041-2060.zip\n",
      "http://biogeo.ucdavis.edu/data/worldclim/v2.1/fut/10m/wc2.1_10m_bioc_CNRM-ESM2-1_ssp126_2061-2080.zip\n",
      "http://biogeo.ucdavis.edu/data/worldclim/v2.1/fut/10m/wc2.1_10m_bioc_CNRM-ESM2-1_ssp126_2081-2100.zip\n",
      "http://biogeo.ucdavis.edu/data/worldclim/v2.1/fut/10m/wc2.1_10m_bioc_CNRM-ESM2-1_ssp245_2021-2040.zip\n",
      "http://biogeo.ucdavis.edu/data/worldclim/v2.1/fut/10m/wc2.1_10m_bioc_CNRM-ESM2-1_ssp245_2041-2060.zip\n",
      "http://biogeo.ucdavis.edu/data/worldclim/v2.1/fut/10m/wc2.1_10m_bioc_CNRM-ESM2-1_ssp245_2061-2080.zip\n",
      "http://biogeo.ucdavis.edu/data/worldclim/v2.1/fut/10m/wc2.1_10m_bioc_CNRM-ESM2-1_ssp245_2081-2100.zip\n",
      "http://biogeo.ucdavis.edu/data/worldclim/v2.1/fut/10m/wc2.1_10m_bioc_CNRM-ESM2-1_ssp370_2021-2040.zip\n",
      "http://biogeo.ucdavis.edu/data/worldclim/v2.1/fut/10m/wc2.1_10m_bioc_CNRM-ESM2-1_ssp370_2041-2060.zip\n",
      "http://biogeo.ucdavis.edu/data/worldclim/v2.1/fut/10m/wc2.1_10m_bioc_CNRM-ESM2-1_ssp370_2061-2080.zip\n",
      "http://biogeo.ucdavis.edu/data/worldclim/v2.1/fut/10m/wc2.1_10m_bioc_CNRM-ESM2-1_ssp370_2081-2100.zip\n",
      "http://biogeo.ucdavis.edu/data/worldclim/v2.1/fut/10m/wc2.1_10m_bioc_CNRM-ESM2-1_ssp585_2021-2040.zip\n",
      "http://biogeo.ucdavis.edu/data/worldclim/v2.1/fut/10m/wc2.1_10m_bioc_CNRM-ESM2-1_ssp585_2041-2060.zip\n",
      "http://biogeo.ucdavis.edu/data/worldclim/v2.1/fut/10m/wc2.1_10m_bioc_CNRM-ESM2-1_ssp585_2061-2080.zip\n",
      "http://biogeo.ucdavis.edu/data/worldclim/v2.1/fut/10m/wc2.1_10m_bioc_CNRM-ESM2-1_ssp585_2081-2100.zip\n",
      "http://biogeo.ucdavis.edu/data/worldclim/v2.1/fut/10m/wc2.1_10m_bioc_CanESM5_ssp126_2021-2040.zip\n",
      "http://biogeo.ucdavis.edu/data/worldclim/v2.1/fut/10m/wc2.1_10m_bioc_CanESM5_ssp126_2041-2060.zip\n",
      "http://biogeo.ucdavis.edu/data/worldclim/v2.1/fut/10m/wc2.1_10m_bioc_CanESM5_ssp126_2061-2080.zip\n",
      "http://biogeo.ucdavis.edu/data/worldclim/v2.1/fut/10m/wc2.1_10m_bioc_CanESM5_ssp126_2081-2100.zip\n",
      "http://biogeo.ucdavis.edu/data/worldclim/v2.1/fut/10m/wc2.1_10m_bioc_CanESM5_ssp245_2021-2040.zip\n",
      "http://biogeo.ucdavis.edu/data/worldclim/v2.1/fut/10m/wc2.1_10m_bioc_CanESM5_ssp245_2041-2060.zip\n",
      "http://biogeo.ucdavis.edu/data/worldclim/v2.1/fut/10m/wc2.1_10m_bioc_CanESM5_ssp245_2061-2080.zip\n",
      "http://biogeo.ucdavis.edu/data/worldclim/v2.1/fut/10m/wc2.1_10m_bioc_CanESM5_ssp245_2081-2100.zip\n",
      "http://biogeo.ucdavis.edu/data/worldclim/v2.1/fut/10m/wc2.1_10m_bioc_CanESM5_ssp370_2021-2040.zip\n",
      "http://biogeo.ucdavis.edu/data/worldclim/v2.1/fut/10m/wc2.1_10m_bioc_CanESM5_ssp370_2041-2060.zip\n",
      "http://biogeo.ucdavis.edu/data/worldclim/v2.1/fut/10m/wc2.1_10m_bioc_CanESM5_ssp370_2061-2080.zip\n",
      "http://biogeo.ucdavis.edu/data/worldclim/v2.1/fut/10m/wc2.1_10m_bioc_CanESM5_ssp370_2081-2100.zip\n",
      "http://biogeo.ucdavis.edu/data/worldclim/v2.1/fut/10m/wc2.1_10m_bioc_CanESM5_ssp585_2021-2040.zip\n",
      "http://biogeo.ucdavis.edu/data/worldclim/v2.1/fut/10m/wc2.1_10m_bioc_CanESM5_ssp585_2041-2060.zip\n",
      "http://biogeo.ucdavis.edu/data/worldclim/v2.1/fut/10m/wc2.1_10m_bioc_CanESM5_ssp585_2061-2080.zip\n",
      "http://biogeo.ucdavis.edu/data/worldclim/v2.1/fut/10m/wc2.1_10m_bioc_CanESM5_ssp585_2081-2100.zip\n",
      "http://biogeo.ucdavis.edu/data/worldclim/v2.1/fut/10m/wc2.1_10m_bioc_MIROC-ES2L_ssp126_2021-2040.zip\n",
      "http://biogeo.ucdavis.edu/data/worldclim/v2.1/fut/10m/wc2.1_10m_bioc_MIROC-ES2L_ssp126_2041-2060.zip\n",
      "http://biogeo.ucdavis.edu/data/worldclim/v2.1/fut/10m/wc2.1_10m_bioc_MIROC-ES2L_ssp126_2061-2080.zip\n",
      "http://biogeo.ucdavis.edu/data/worldclim/v2.1/fut/10m/wc2.1_10m_bioc_MIROC-ES2L_ssp126_2081-2100.zip\n",
      "http://biogeo.ucdavis.edu/data/worldclim/v2.1/fut/10m/wc2.1_10m_bioc_MIROC-ES2L_ssp245_2021-2040.zip\n",
      "http://biogeo.ucdavis.edu/data/worldclim/v2.1/fut/10m/wc2.1_10m_bioc_MIROC-ES2L_ssp245_2041-2060.zip\n",
      "http://biogeo.ucdavis.edu/data/worldclim/v2.1/fut/10m/wc2.1_10m_bioc_MIROC-ES2L_ssp245_2061-2080.zip\n",
      "http://biogeo.ucdavis.edu/data/worldclim/v2.1/fut/10m/wc2.1_10m_bioc_MIROC-ES2L_ssp245_2081-2100.zip\n",
      "http://biogeo.ucdavis.edu/data/worldclim/v2.1/fut/10m/wc2.1_10m_bioc_MIROC-ES2L_ssp370_2021-2040.zip\n",
      "http://biogeo.ucdavis.edu/data/worldclim/v2.1/fut/10m/wc2.1_10m_bioc_MIROC-ES2L_ssp370_2041-2060.zip\n",
      "http://biogeo.ucdavis.edu/data/worldclim/v2.1/fut/10m/wc2.1_10m_bioc_MIROC-ES2L_ssp370_2061-2080.zip\n",
      "http://biogeo.ucdavis.edu/data/worldclim/v2.1/fut/10m/wc2.1_10m_bioc_MIROC-ES2L_ssp370_2081-2100.zip\n",
      "http://biogeo.ucdavis.edu/data/worldclim/v2.1/fut/10m/wc2.1_10m_bioc_MIROC-ES2L_ssp585_2021-2040.zip\n",
      "http://biogeo.ucdavis.edu/data/worldclim/v2.1/fut/10m/wc2.1_10m_bioc_MIROC-ES2L_ssp585_2041-2060.zip\n",
      "http://biogeo.ucdavis.edu/data/worldclim/v2.1/fut/10m/wc2.1_10m_bioc_MIROC-ES2L_ssp585_2061-2080.zip\n",
      "http://biogeo.ucdavis.edu/data/worldclim/v2.1/fut/10m/wc2.1_10m_bioc_MIROC-ES2L_ssp585_2081-2100.zip\n",
      "http://biogeo.ucdavis.edu/data/worldclim/v2.1/fut/10m/wc2.1_10m_bioc_MIROC6_ssp126_2021-2040.zip\n",
      "http://biogeo.ucdavis.edu/data/worldclim/v2.1/fut/10m/wc2.1_10m_bioc_MIROC6_ssp126_2041-2060.zip\n",
      "http://biogeo.ucdavis.edu/data/worldclim/v2.1/fut/10m/wc2.1_10m_bioc_MIROC6_ssp126_2061-2080.zip\n",
      "http://biogeo.ucdavis.edu/data/worldclim/v2.1/fut/10m/wc2.1_10m_bioc_MIROC6_ssp126_2081-2100.zip\n",
      "http://biogeo.ucdavis.edu/data/worldclim/v2.1/fut/10m/wc2.1_10m_bioc_MIROC6_ssp245_2021-2040.zip\n",
      "http://biogeo.ucdavis.edu/data/worldclim/v2.1/fut/10m/wc2.1_10m_bioc_MIROC6_ssp245_2041-2060.zip\n",
      "http://biogeo.ucdavis.edu/data/worldclim/v2.1/fut/10m/wc2.1_10m_bioc_MIROC6_ssp245_2061-2080.zip\n",
      "http://biogeo.ucdavis.edu/data/worldclim/v2.1/fut/10m/wc2.1_10m_bioc_MIROC6_ssp245_2081-2100.zip\n",
      "http://biogeo.ucdavis.edu/data/worldclim/v2.1/fut/10m/wc2.1_10m_bioc_MIROC6_ssp370_2021-2040.zip\n",
      "http://biogeo.ucdavis.edu/data/worldclim/v2.1/fut/10m/wc2.1_10m_bioc_MIROC6_ssp370_2041-2060.zip\n",
      "http://biogeo.ucdavis.edu/data/worldclim/v2.1/fut/10m/wc2.1_10m_bioc_MIROC6_ssp370_2061-2080.zip\n",
      "http://biogeo.ucdavis.edu/data/worldclim/v2.1/fut/10m/wc2.1_10m_bioc_MIROC6_ssp370_2081-2100.zip\n",
      "http://biogeo.ucdavis.edu/data/worldclim/v2.1/fut/10m/wc2.1_10m_bioc_MIROC6_ssp585_2021-2040.zip\n",
      "http://biogeo.ucdavis.edu/data/worldclim/v2.1/fut/10m/wc2.1_10m_bioc_MIROC6_ssp585_2041-2060.zip\n",
      "http://biogeo.ucdavis.edu/data/worldclim/v2.1/fut/10m/wc2.1_10m_bioc_MIROC6_ssp585_2061-2080.zip\n",
      "http://biogeo.ucdavis.edu/data/worldclim/v2.1/fut/10m/wc2.1_10m_bioc_MIROC6_ssp585_2081-2100.zip\n"
     ]
    }
   ],
   "source": [
    "for model in models:\n",
    "  for ssp in ssps:\n",
    "    for interval in intervals:\n",
    "      url = (base + \"_\" + model + \"_\" + ssp + \"_\" + interval + \".zip\")\n",
    "      print (url)\n",
    "      wget.download(url, out=file_path + \"/climate_data/zipped/\" + model + \"_\" + ssp + \"_\" + interval + \".zip\")"
   ]
  },
  {
   "cell_type": "markdown",
   "metadata": {
    "colab": {
     "base_uri": "https://localhost:8080/",
     "height": 35
    },
    "colab_type": "code",
    "executionInfo": {
     "elapsed": 532,
     "status": "ok",
     "timestamp": 1596466283660,
     "user": {
      "displayName": "Katy Brown",
      "photoUrl": "",
      "userId": "04725673548216289527"
     },
     "user_tz": -60
    },
    "id": "JmP61YTXwXw0",
    "outputId": "a331425e-c763-4d85-d20c-60f73870852a"
   },
   "source": [
    "Extract all the zipped data"
   ]
  },
  {
   "cell_type": "code",
   "execution_count": null,
   "metadata": {
    "colab": {},
    "colab_type": "code",
    "id": "4rj7gGBnxh7O"
   },
   "outputs": [],
   "source": [
    "for model in models:\n",
    "  for ssp in ssps:\n",
    "    for interval in intervals:\n",
    "      dir_path = file_path + \"climate_data/unzipped/\" + model + \"_\" + ssp + \"_\" + interval\n",
    "      if not os.path.exists(dir_path):\n",
    "          os.mkdir(dir_path)\n",
    "      with zipfile.ZipFile(file_path + \"/climate_data/zipped/\" + model + \"_\" + ssp + \"_\" + interval + \".zip\") as zip_ref:\n",
    "        zip_ref.extractall(dir_path)"
   ]
  },
  {
   "cell_type": "markdown",
   "metadata": {},
   "source": [
    "Tidy up the directory structure"
   ]
  },
  {
   "cell_type": "code",
   "execution_count": null,
   "metadata": {
    "colab": {},
    "colab_type": "code",
    "id": "qEu4XDZOAxTo"
   },
   "outputs": [],
   "source": [
    "newpath = file_path + \"unzipped/\" + model + \"_\" + ssp + \"_\" + interval + \"/share/spatial03/worldclim/cmip6/7_fut/10m/\" + model + \"/\" + ssp + \"/\" + model + \"_\" + ssp + \"_\" + interval + \".tif\""
   ]
  },
  {
   "cell_type": "code",
   "execution_count": null,
   "metadata": {
    "colab": {},
    "colab_type": "code",
    "id": "4Gkt_EjJGiXQ"
   },
   "outputs": [],
   "source": [
    "for model in models:\n",
    "    if not os.path.exists(file_path + \"climate_data/\" + model):\n",
    "      os.mkdir(file_path + \"climate_data/\" + model)\n",
    "    for ssp in ssps:\n",
    "      if not os.path.exists(file_path + \"climate_data/\" + model + \"/\" + ssp):\n",
    "        os.mkdir(file_path + \"climate_data/\" + model + \"/\" + ssp)\n"
   ]
  },
  {
   "cell_type": "code",
   "execution_count": null,
   "metadata": {
    "colab": {},
    "colab_type": "code",
    "id": "lZlytO1UDaCU"
   },
   "outputs": [],
   "source": [
    "for model in models:\n",
    "  for ssp in ssps:\n",
    "    for interval in intervals:\n",
    "      full_path = file_path + \"climate_data/unzipped/\" + model + \"_\" + ssp + \"_\" + interval + \"/share/spatial03/worldclim/cmip6/7_fut/10m/\" + model + \"/\" + ssp + \"/\" + \"wc2.1_10m_bioc_\" + model + \"_\" + ssp + \"_\" + interval + \".tif\"\n",
    "      shutil.move(full_path, file_path + \"climate_data/\" + \"/\"  +model + \"/\" + ssp + \"/\" + interval + \".tiff\")"
   ]
  },
  {
   "cell_type": "markdown",
   "metadata": {},
   "source": [
    "Combine all the present day raster data into a single stack so it resembles the future data and can be processed in the same way."
   ]
  },
  {
   "cell_type": "code",
   "execution_count": null,
   "metadata": {
    "colab": {},
    "colab_type": "code",
    "id": "VyDAsS_NDaqG"
   },
   "outputs": [],
   "source": [
    "file_list = [file_path + \"climate_data/near_present/\" + 'wc2.1_10m_bio_%i.tif' % i for i in range(1, 20)]\n",
    "\n",
    "# Read metadata of first file\n",
    "with rasterio.open(file_list[0]) as src0:\n",
    "    meta = src0.meta\n",
    "\n",
    "# Update meta to reflect the number of layers\n",
    "meta.update(count = len(file_list))\n",
    "\n",
    "# Read each layer and write it to stack\n",
    "with rasterio.open(file_path + \"climate_data/\" + 'near_present.tif', 'w', **meta) as dst:\n",
    "    for id, layer in enumerate(file_list, start=1):\n",
    "        with rasterio.open(layer) as src1:\n",
    "            dst.write_band(id, src1.read(1))"
   ]
  },
  {
   "cell_type": "markdown",
   "metadata": {},
   "source": [
    "Find the maximum and minimum of each climate variable (to use for plotting later)"
   ]
  },
  {
   "cell_type": "code",
   "execution_count": 206,
   "metadata": {
    "colab": {},
    "colab_type": "code",
    "executionInfo": {
     "elapsed": 107073,
     "status": "ok",
     "timestamp": 1596493870767,
     "user": {
      "displayName": "Katy Brown",
      "photoUrl": "",
      "userId": "04725673548216289527"
     },
     "user_tz": -60
    },
    "id": "1NG9ZgwUIaTv"
   },
   "outputs": [],
   "source": [
    "D_min = dict()\n",
    "D_max = dict()\n",
    "for model in models:\n",
    "  for ssp in ssps:\n",
    "    for interval in intervals:\n",
    "      raster = rasterio.open(file_path + \"climate_data/\" + \"/\"  +model + \"/\" + ssp + \"/\" + interval + \".tiff\")\n",
    "      # convert the data into a matrix\n",
    "      grid = raster.read()\n",
    "\n",
    "      # round it to six decimal places\n",
    "      grid = np.round(grid, 6)\n",
    "\n",
    "      # replace \"-inf\" with \"nan\"\n",
    "      grid[grid == float('-inf'), ] = float('nan')\n",
    "\n",
    "      for i in range(0, 19):\n",
    "        D_min.setdefault(i, [])\n",
    "        D_max.setdefault(i, [])\n",
    "        D_min[i].append(np.nanmin(grid[i][0:930, :]))\n",
    "        D_max[i].append(np.nanmax(grid[i][0:930, :]))"
   ]
  },
  {
   "cell_type": "markdown",
   "metadata": {},
   "source": [
    "Clean the data and write it to file"
   ]
  },
  {
   "cell_type": "code",
   "execution_count": 182,
   "metadata": {
    "colab": {},
    "colab_type": "code",
    "executionInfo": {
     "elapsed": 561,
     "status": "ok",
     "timestamp": 1596492032021,
     "user": {
      "displayName": "Katy Brown",
      "photoUrl": "",
      "userId": "04725673548216289527"
     },
     "user_tz": -60
    },
    "id": "O45tiNtXIi9O"
   },
   "outputs": [],
   "source": [
    "clim = pd.read_csv(file_path + \"bioclim_variables.tsv\", sep=\"\\t\", header=None, names=['ID', 'name'])"
   ]
  },
  {
   "cell_type": "code",
   "execution_count": 183,
   "metadata": {
    "colab": {},
    "colab_type": "code",
    "executionInfo": {
     "elapsed": 530,
     "status": "ok",
     "timestamp": 1596492032632,
     "user": {
      "displayName": "Katy Brown",
      "photoUrl": "",
      "userId": "04725673548216289527"
     },
     "user_tz": -60
    },
    "id": "HNYdWpSXKwIt"
   },
   "outputs": [],
   "source": [
    "clim['variable_number'] = clim.index.values + 1"
   ]
  },
  {
   "cell_type": "code",
   "execution_count": 184,
   "metadata": {
    "colab": {},
    "colab_type": "code",
    "executionInfo": {
     "elapsed": 503,
     "status": "ok",
     "timestamp": 1596492033084,
     "user": {
      "displayName": "Katy Brown",
      "photoUrl": "",
      "userId": "04725673548216289527"
     },
     "user_tz": -60
    },
    "id": "gtdq7NZQK-6a"
   },
   "outputs": [],
   "source": [
    "clim = clim.merge(results)"
   ]
  },
  {
   "cell_type": "code",
   "execution_count": 185,
   "metadata": {
    "colab": {},
    "colab_type": "code",
    "executionInfo": {
     "elapsed": 365,
     "status": "ok",
     "timestamp": 1596492033409,
     "user": {
      "displayName": "Katy Brown",
      "photoUrl": "",
      "userId": "04725673548216289527"
     },
     "user_tz": -60
    },
    "id": "E1CA9wq1LB6_"
   },
   "outputs": [],
   "source": [
    "clim = clim[['variable_number', 'ID', 'name', 'minimum', 'maximum']]"
   ]
  },
  {
   "cell_type": "code",
   "execution_count": 186,
   "metadata": {
    "colab": {},
    "colab_type": "code",
    "executionInfo": {
     "elapsed": 506,
     "status": "ok",
     "timestamp": 1596492034168,
     "user": {
      "displayName": "Katy Brown",
      "photoUrl": "",
      "userId": "04725673548216289527"
     },
     "user_tz": -60
    },
    "id": "ey53YgFnLZ6A"
   },
   "outputs": [],
   "source": [
    "clim.to_csv(file_path + \"bioclim.tsv\", sep=\"\\t\", index=None)"
   ]
  }
 ],
 "metadata": {
  "colab": {
   "authorship_tag": "ABX9TyOfTiWZN0PbxnHmIHIBMXKr",
   "name": "download_worldclim.ipynb",
   "provenance": []
  },
  "kernelspec": {
   "display_name": "Python 3",
   "language": "python",
   "name": "python3"
  },
  "language_info": {
   "codemirror_mode": {
    "name": "ipython",
    "version": 3
   },
   "file_extension": ".py",
   "mimetype": "text/x-python",
   "name": "python",
   "nbconvert_exporter": "python",
   "pygments_lexer": "ipython3",
   "version": "3.6.10"
  }
 },
 "nbformat": 4,
 "nbformat_minor": 1
}
