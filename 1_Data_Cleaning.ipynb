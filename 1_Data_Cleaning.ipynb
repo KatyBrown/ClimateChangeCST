{
 "cells": [
  {
   "cell_type": "code",
   "execution_count": 3,
   "metadata": {
    "colab": {
     "base_uri": "https://localhost:8080/",
     "height": 122
    },
    "colab_type": "code",
    "executionInfo": {
     "elapsed": 26582,
     "status": "ok",
     "timestamp": 1596038765750,
     "user": {
      "displayName": "Katy Brown",
      "photoUrl": "",
      "userId": "04725673548216289527"
     },
     "user_tz": -60
    },
    "id": "_d_1WZWg2nCE",
    "outputId": "8d64360e-3b45-4a28-ea6c-7a541db0b040"
   },
   "outputs": [
    {
     "name": "stdout",
     "output_type": "stream",
     "text": [
      "Go to this URL in a browser: https://accounts.google.com/o/oauth2/auth?client_id=947318989803-6bn6qk8qdgf4n4g3pfee6491hc0brc4i.apps.googleusercontent.com&redirect_uri=urn%3aietf%3awg%3aoauth%3a2.0%3aoob&response_type=code&scope=email%20https%3a%2f%2fwww.googleapis.com%2fauth%2fdocs.test%20https%3a%2f%2fwww.googleapis.com%2fauth%2fdrive%20https%3a%2f%2fwww.googleapis.com%2fauth%2fdrive.photos.readonly%20https%3a%2f%2fwww.googleapis.com%2fauth%2fpeopleapi.readonly\n",
      "\n",
      "Enter your authorization code:\n",
      "··········\n",
      "Mounted at /content/drive\n"
     ]
    }
   ],
   "source": [
    "# Pandas is a package containing additional functions to use data frames in Python\n",
    "import pandas as pd\n",
    "\n",
    "# These two lines allow the notebook to access the Google Drive.\n",
    "from google.colab import drive\n",
    "drive.mount('/content/drive', force_remount=True)\n",
    "\n",
    "# This is the path to the project folder within the Google Drive.\n",
    "file_path = \"/content/drive/My Drive/\""
   ]
  },
  {
   "cell_type": "markdown",
   "metadata": {
    "colab_type": "text",
    "id": "Suu258UHBAIC"
   },
   "source": [
    "We can use a variable to control the species name - this means we only have to change it in one place every time we want to run a different table."
   ]
  },
  {
   "cell_type": "markdown",
   "metadata": {},
   "source": [
    "---"
   ]
  },
  {
   "cell_type": "markdown",
   "metadata": {
    "colab": {},
    "colab_type": "code",
    "executionInfo": {
     "elapsed": 26552,
     "status": "ok",
     "timestamp": 1596038765754,
     "user": {
      "displayName": "Katy Brown",
      "photoUrl": "",
      "userId": "04725673548216289527"
     },
     "user_tz": -60
    },
    "id": "wmv00W4jA8lO"
   },
   "source": [
    "## Notebook 1"
   ]
  },
  {
   "cell_type": "markdown",
   "metadata": {
    "colab_type": "text",
    "id": "zM0yVXe_GG55"
   },
   "source": [
    "# Data Cleaning"
   ]
  },
  {
   "cell_type": "markdown",
   "metadata": {},
   "source": [
    "This notebook contains instructions on how to clean a GBIF dataset using Python and Pandas for a single species"
   ]
  },
  {
   "cell_type": "markdown",
   "metadata": {},
   "source": [
    "The species is defined in the following variable"
   ]
  },
  {
   "cell_type": "code",
   "execution_count": 2,
   "metadata": {},
   "outputs": [],
   "source": [
    "species_name = 'Athalia_rosae'"
   ]
  },
  {
   "cell_type": "markdown",
   "metadata": {
    "colab_type": "text",
    "id": "3gXvKaTc3EiM"
   },
   "source": [
    "Read the input table from GBIF into Python."
   ]
  },
  {
   "cell_type": "code",
   "execution_count": 5,
   "metadata": {
    "colab": {},
    "colab_type": "code",
    "executionInfo": {
     "elapsed": 27643,
     "status": "ok",
     "timestamp": 1596038766848,
     "user": {
      "displayName": "Katy Brown",
      "photoUrl": "",
      "userId": "04725673548216289527"
     },
     "user_tz": -60
    },
    "id": "RJowWXj73G60"
   },
   "outputs": [],
   "source": [
    "mytab = pd.read_csv(file_path + \"/species_tables/\" + species_name + \".csv\", sep=\"\\t\")"
   ]
  },
  {
   "cell_type": "markdown",
   "metadata": {
    "colab_type": "text",
    "id": "6mOZFdS3BVn6"
   },
   "source": [
    "Make a \"summary\" table to record information about the data as we go along."
   ]
  },
  {
   "cell_type": "code",
   "execution_count": 6,
   "metadata": {
    "colab": {},
    "colab_type": "code",
    "executionInfo": {
     "elapsed": 27603,
     "status": "ok",
     "timestamp": 1596038766857,
     "user": {
      "displayName": "Katy Brown",
      "photoUrl": "",
      "userId": "04725673548216289527"
     },
     "user_tz": -60
    },
    "id": "xViDfM32BvOn"
   },
   "outputs": [],
   "source": [
    "# Create an empty dataframe with these columns and with one row for this species\n",
    "summary = pd.DataFrame(columns=['nrecords_unfiltered', 'species', 'genus', 'family', 'order', 'class', 'phylum', 'kingdom', 'wrong_taxon_rank_count',\n",
    "                                'no_country_code_count', 'no_latlong_count', 'total_removed_data_cleaning', 'nrecords_clean'],\n",
    "                       index=[species_name])\n"
   ]
  },
  {
   "cell_type": "code",
   "execution_count": 7,
   "metadata": {
    "colab": {
     "base_uri": "https://localhost:8080/",
     "height": 100
    },
    "colab_type": "code",
    "executionInfo": {
     "elapsed": 27592,
     "status": "ok",
     "timestamp": 1596038766857,
     "user": {
      "displayName": "Katy Brown",
      "photoUrl": "",
      "userId": "04725673548216289527"
     },
     "user_tz": -60
    },
    "id": "W7C4zOFECt9z",
    "outputId": "215c8ea6-66cb-4ae6-fd2a-17031414974a"
   },
   "outputs": [
    {
     "data": {
      "text/html": [
       "<div>\n",
       "<style scoped>\n",
       "    .dataframe tbody tr th:only-of-type {\n",
       "        vertical-align: middle;\n",
       "    }\n",
       "\n",
       "    .dataframe tbody tr th {\n",
       "        vertical-align: top;\n",
       "    }\n",
       "\n",
       "    .dataframe thead th {\n",
       "        text-align: right;\n",
       "    }\n",
       "</style>\n",
       "<table border=\"1\" class=\"dataframe\">\n",
       "  <thead>\n",
       "    <tr style=\"text-align: right;\">\n",
       "      <th></th>\n",
       "      <th>nrecords_unfiltered</th>\n",
       "      <th>species</th>\n",
       "      <th>genus</th>\n",
       "      <th>family</th>\n",
       "      <th>order</th>\n",
       "      <th>class</th>\n",
       "      <th>phylum</th>\n",
       "      <th>kingdom</th>\n",
       "      <th>wrong_taxon_rank_count</th>\n",
       "      <th>no_country_code_count</th>\n",
       "      <th>no_latlong_count</th>\n",
       "      <th>total_removed_data_cleaning</th>\n",
       "      <th>nrecords_clean</th>\n",
       "    </tr>\n",
       "  </thead>\n",
       "  <tbody>\n",
       "    <tr>\n",
       "      <th>Athalia_rosae</th>\n",
       "      <td>NaN</td>\n",
       "      <td>NaN</td>\n",
       "      <td>NaN</td>\n",
       "      <td>NaN</td>\n",
       "      <td>NaN</td>\n",
       "      <td>NaN</td>\n",
       "      <td>NaN</td>\n",
       "      <td>NaN</td>\n",
       "      <td>NaN</td>\n",
       "      <td>NaN</td>\n",
       "      <td>NaN</td>\n",
       "      <td>NaN</td>\n",
       "      <td>NaN</td>\n",
       "    </tr>\n",
       "  </tbody>\n",
       "</table>\n",
       "</div>"
      ],
      "text/plain": [
       "              nrecords_unfiltered  ... nrecords_clean\n",
       "Athalia_rosae                 NaN  ...            NaN\n",
       "\n",
       "[1 rows x 13 columns]"
      ]
     },
     "execution_count": 7,
     "metadata": {
      "tags": []
     },
     "output_type": "execute_result"
    }
   ],
   "source": [
    "summary"
   ]
  },
  {
   "cell_type": "markdown",
   "metadata": {
    "colab_type": "text",
    "id": "bqjhqYNwDHOD"
   },
   "source": [
    "Count the number of records for this species in the unfiltered input table and record this information in the summary table and write it to the log file."
   ]
  },
  {
   "cell_type": "code",
   "execution_count": 8,
   "metadata": {
    "colab": {},
    "colab_type": "code",
    "executionInfo": {
     "elapsed": 27539,
     "status": "ok",
     "timestamp": 1596038766858,
     "user": {
      "displayName": "Katy Brown",
      "photoUrl": "",
      "userId": "04725673548216289527"
     },
     "user_tz": -60
    },
    "id": "k_GGZUEGBYcT"
   },
   "outputs": [],
   "source": [
    "nrecords = len(mytab)\n",
    "summary.loc[species_name, 'nrecords_unfiltered'] = nrecords"
   ]
  },
  {
   "cell_type": "code",
   "execution_count": 9,
   "metadata": {
    "colab": {
     "base_uri": "https://localhost:8080/",
     "height": 100
    },
    "colab_type": "code",
    "executionInfo": {
     "elapsed": 27529,
     "status": "ok",
     "timestamp": 1596038766860,
     "user": {
      "displayName": "Katy Brown",
      "photoUrl": "",
      "userId": "04725673548216289527"
     },
     "user_tz": -60
    },
    "id": "3XzA3NNaC0oi",
    "outputId": "8789b727-e674-4a7b-afb8-c379cb265731"
   },
   "outputs": [
    {
     "data": {
      "text/html": [
       "<div>\n",
       "<style scoped>\n",
       "    .dataframe tbody tr th:only-of-type {\n",
       "        vertical-align: middle;\n",
       "    }\n",
       "\n",
       "    .dataframe tbody tr th {\n",
       "        vertical-align: top;\n",
       "    }\n",
       "\n",
       "    .dataframe thead th {\n",
       "        text-align: right;\n",
       "    }\n",
       "</style>\n",
       "<table border=\"1\" class=\"dataframe\">\n",
       "  <thead>\n",
       "    <tr style=\"text-align: right;\">\n",
       "      <th></th>\n",
       "      <th>nrecords_unfiltered</th>\n",
       "      <th>species</th>\n",
       "      <th>genus</th>\n",
       "      <th>family</th>\n",
       "      <th>order</th>\n",
       "      <th>class</th>\n",
       "      <th>phylum</th>\n",
       "      <th>kingdom</th>\n",
       "      <th>wrong_taxon_rank_count</th>\n",
       "      <th>no_country_code_count</th>\n",
       "      <th>no_latlong_count</th>\n",
       "      <th>total_removed_data_cleaning</th>\n",
       "      <th>nrecords_clean</th>\n",
       "    </tr>\n",
       "  </thead>\n",
       "  <tbody>\n",
       "    <tr>\n",
       "      <th>Athalia_rosae</th>\n",
       "      <td>3463</td>\n",
       "      <td>NaN</td>\n",
       "      <td>NaN</td>\n",
       "      <td>NaN</td>\n",
       "      <td>NaN</td>\n",
       "      <td>NaN</td>\n",
       "      <td>NaN</td>\n",
       "      <td>NaN</td>\n",
       "      <td>NaN</td>\n",
       "      <td>NaN</td>\n",
       "      <td>NaN</td>\n",
       "      <td>NaN</td>\n",
       "      <td>NaN</td>\n",
       "    </tr>\n",
       "  </tbody>\n",
       "</table>\n",
       "</div>"
      ],
      "text/plain": [
       "              nrecords_unfiltered  ... nrecords_clean\n",
       "Athalia_rosae                3463  ...            NaN\n",
       "\n",
       "[1 rows x 13 columns]"
      ]
     },
     "execution_count": 9,
     "metadata": {
      "tags": []
     },
     "output_type": "execute_result"
    }
   ],
   "source": [
    "summary"
   ]
  },
  {
   "cell_type": "markdown",
   "metadata": {
    "colab_type": "text",
    "id": "JFWhbNjo6bSs"
   },
   "source": [
    "Count the number of unique values in the “kingdom”, “phylum”, “class”, “order”, “family”, “genus” and “species” columns - there should only be one in each.  Print a warning if there is more than one.\n"
   ]
  },
  {
   "cell_type": "code",
   "execution_count": 10,
   "metadata": {
    "colab": {
     "base_uri": "https://localhost:8080/",
     "height": 136
    },
    "colab_type": "code",
    "executionInfo": {
     "elapsed": 27509,
     "status": "ok",
     "timestamp": 1596038766861,
     "user": {
      "displayName": "Katy Brown",
      "photoUrl": "",
      "userId": "04725673548216289527"
     },
     "user_tz": -60
    },
    "id": "bMxJWR6Q6hDL",
    "outputId": "eff1638b-b48c-4667-96f9-0d71a298de47"
   },
   "outputs": [
    {
     "name": "stdout",
     "output_type": "stream",
     "text": [
      "All rows are from the same kingdom\n",
      "All rows are from the same phylum\n",
      "All rows are from the same class\n",
      "All rows are from the same order\n",
      "All rows are from the same family\n",
      "All rows are from the same genus\n",
      "All rows are from the same species\n"
     ]
    }
   ],
   "source": [
    "# if there is only one kingdom for all the rows\n",
    "if mytab['kingdom'].nunique() == 1:\n",
    "  # print this message\n",
    "  print(\"All rows are from the same kingdom\")\n",
    "  # record the first value in the kingdom column (as they are all the same)\n",
    "  kingdom = mytab['kingdom'].values[0]\n",
    "# if there is > 1\n",
    "else:\n",
    "  # write this message to the log file\n",
    "  print(\"Warning - the kingdom column has multiple values\" )\n",
    "  # record the kingdom for this species as \"NA\"\n",
    "  kingdom = \"NA\"\n",
    "summary.loc[species_name, \"kingdom\"] = kingdom\n",
    "\n",
    "# repeat for phylum, class, order, family, genus, species\n",
    "if mytab['phylum'].nunique() == 1:\n",
    "  print(\"All rows are from the same phylum\")\n",
    "  phylum = mytab['kingdom'].values[0]\n",
    "else:\n",
    "  print(\"Warning - the phylum column has multiple values\")\n",
    "  phylum = \"NA\"\n",
    "summary.loc[species_name, \"phylum\"] = phylum\n",
    "\n",
    "if mytab['class'].nunique() == 1:\n",
    "  print(\"All rows are from the same class\")\n",
    "  clas = mytab['class'].values[0]\n",
    "else:\n",
    "  print(\"Warning - the class column has multiple values\")\n",
    "  clas = \"NA\"\n",
    "summary.loc[species_name, \"class\"] = clas\n",
    "\n",
    "if mytab['order'].nunique() == 1:\n",
    "   print(\"All rows are from the same order\")\n",
    "   order = mytab['order'].values[0]\n",
    "else:\n",
    "   print(\"Warning - the order column has multiple values\")\n",
    "   order = \"NA\"\n",
    "summary.loc[species_name, \"order\"] = order\n",
    "\n",
    "if mytab['family'].nunique() == 1:\n",
    "  print(\"All rows are from the same family\")\n",
    "  family = mytab['family'].values[0]\n",
    "else:\n",
    "  print(\"Warning - the family column has multiple values\")\n",
    "  family = \"NA\"\n",
    "summary.loc[species_name, \"family\"] = family\n",
    "\n",
    "if mytab['genus'].nunique() == 1:\n",
    "   print(\"All rows are from the same genus\")\n",
    "   genus = mytab['genus'].values[0]\n",
    "else:\n",
    "   print (\"Warning - the genus column has multiple values\")\n",
    "   genus = \"NA\"\n",
    "summary.loc[species_name, \"genus\"] = genus\n",
    "\n",
    "if mytab['species'].nunique() == 1:\n",
    "  print(\"All rows are from the same species\")\n",
    "  species = mytab['species'].values[0]\n",
    "else:\n",
    "  print(\"Warning - the species column has multiple values\")\n",
    "  species = \"NA\"\n",
    "summary.loc[species_name, \"species\"] = species\n"
   ]
  },
  {
   "cell_type": "code",
   "execution_count": 22,
   "metadata": {
    "colab": {
     "base_uri": "https://localhost:8080/",
     "height": 117
    },
    "colab_type": "code",
    "executionInfo": {
     "elapsed": 1147,
     "status": "ok",
     "timestamp": 1596039453025,
     "user": {
      "displayName": "Katy Brown",
      "photoUrl": "",
      "userId": "04725673548216289527"
     },
     "user_tz": -60
    },
    "id": "c8Jds05oF8JS",
    "outputId": "b00344d4-ce92-4ede-ca79-809aa6225c53"
   },
   "outputs": [
    {
     "data": {
      "text/html": [
       "<div>\n",
       "<style scoped>\n",
       "    .dataframe tbody tr th:only-of-type {\n",
       "        vertical-align: middle;\n",
       "    }\n",
       "\n",
       "    .dataframe tbody tr th {\n",
       "        vertical-align: top;\n",
       "    }\n",
       "\n",
       "    .dataframe thead th {\n",
       "        text-align: right;\n",
       "    }\n",
       "</style>\n",
       "<table border=\"1\" class=\"dataframe\">\n",
       "  <thead>\n",
       "    <tr style=\"text-align: right;\">\n",
       "      <th></th>\n",
       "      <th>nrecords_unfiltered</th>\n",
       "      <th>species</th>\n",
       "      <th>genus</th>\n",
       "      <th>family</th>\n",
       "      <th>order</th>\n",
       "      <th>class</th>\n",
       "      <th>phylum</th>\n",
       "      <th>kingdom</th>\n",
       "      <th>wrong_taxon_rank_count</th>\n",
       "      <th>no_country_code_count</th>\n",
       "      <th>no_latlong_count</th>\n",
       "      <th>total_removed_data_cleaning</th>\n",
       "      <th>nrecords_clean</th>\n",
       "    </tr>\n",
       "  </thead>\n",
       "  <tbody>\n",
       "    <tr>\n",
       "      <th>Athalia_rosae</th>\n",
       "      <td>3463</td>\n",
       "      <td>Athalia rosae</td>\n",
       "      <td>Athalia</td>\n",
       "      <td>Tenthredinidae</td>\n",
       "      <td>Hymenoptera</td>\n",
       "      <td>Insecta</td>\n",
       "      <td>Animalia</td>\n",
       "      <td>Animalia</td>\n",
       "      <td>294</td>\n",
       "      <td>38</td>\n",
       "      <td>158</td>\n",
       "      <td>490</td>\n",
       "      <td>2973</td>\n",
       "    </tr>\n",
       "  </tbody>\n",
       "</table>\n",
       "</div>"
      ],
      "text/plain": [
       "              nrecords_unfiltered  ... nrecords_clean\n",
       "Athalia_rosae                3463  ...           2973\n",
       "\n",
       "[1 rows x 13 columns]"
      ]
     },
     "execution_count": 22,
     "metadata": {
      "tags": []
     },
     "output_type": "execute_result"
    }
   ],
   "source": [
    "summary"
   ]
  },
  {
   "cell_type": "markdown",
   "metadata": {
    "colab_type": "text",
    "id": "9yuNGw7L-iEg"
   },
   "source": [
    "In the taxonRank column, some records are classified as “SPECIES” and some as SUBSPECIES”.  Subspecies is a more specific classification - some researchers will be able to recognise and record different subspecies and others will not.  For now, we will focus on the “SPECIES” records because there are more of them.\n",
    "\n",
    "Create and save a smaller table of individuals with “SUBSPECIES” in this column.\n",
    "\n",
    "Remove these individuals from the main table - filter it to keep only records where taxonRank == “SPECIES”.\n"
   ]
  },
  {
   "cell_type": "code",
   "execution_count": 23,
   "metadata": {
    "colab": {},
    "colab_type": "code",
    "executionInfo": {
     "elapsed": 1383,
     "status": "ok",
     "timestamp": 1596039457344,
     "user": {
      "displayName": "Katy Brown",
      "photoUrl": "",
      "userId": "04725673548216289527"
     },
     "user_tz": -60
    },
    "id": "H0rHLkhZ-sVm"
   },
   "outputs": [],
   "source": [
    "filtered_tab_subspecies_only = mytab[mytab[\"taxonRank\"] == \"SUBSPECIES\"]\n",
    "filtered_tab_subspecies_only.to_csv(file_path + \"/subspecies_tables/Athalia_rosae.csv\", sep=\"\\t\", index=None)\n",
    "\n",
    "# count how many rows in the unfiltered table have something other than species in this column\n",
    "count_wrong_taxon_rank = len(mytab[mytab['taxonRank'] != \"SPECIES\"])\n",
    "# record this count in the summary table\n",
    "summary.loc[species_name, \"wrong_taxon_rank_count\"] = count_wrong_taxon_rank\n",
    "\n",
    "# filter out all rows which don't have \"SPECIES\" in this column\n",
    "mytab = mytab[mytab[\"taxonRank\"] == \"SPECIES\"]"
   ]
  },
  {
   "cell_type": "code",
   "execution_count": 24,
   "metadata": {
    "colab": {
     "base_uri": "https://localhost:8080/",
     "height": 117
    },
    "colab_type": "code",
    "executionInfo": {
     "elapsed": 1193,
     "status": "ok",
     "timestamp": 1596039462072,
     "user": {
      "displayName": "Katy Brown",
      "photoUrl": "",
      "userId": "04725673548216289527"
     },
     "user_tz": -60
    },
    "id": "wQxZWMYXIaIN",
    "outputId": "4aa2b381-b77c-42f8-8327-ab1ecd10a291"
   },
   "outputs": [
    {
     "data": {
      "text/html": [
       "<div>\n",
       "<style scoped>\n",
       "    .dataframe tbody tr th:only-of-type {\n",
       "        vertical-align: middle;\n",
       "    }\n",
       "\n",
       "    .dataframe tbody tr th {\n",
       "        vertical-align: top;\n",
       "    }\n",
       "\n",
       "    .dataframe thead th {\n",
       "        text-align: right;\n",
       "    }\n",
       "</style>\n",
       "<table border=\"1\" class=\"dataframe\">\n",
       "  <thead>\n",
       "    <tr style=\"text-align: right;\">\n",
       "      <th></th>\n",
       "      <th>nrecords_unfiltered</th>\n",
       "      <th>species</th>\n",
       "      <th>genus</th>\n",
       "      <th>family</th>\n",
       "      <th>order</th>\n",
       "      <th>class</th>\n",
       "      <th>phylum</th>\n",
       "      <th>kingdom</th>\n",
       "      <th>wrong_taxon_rank_count</th>\n",
       "      <th>no_country_code_count</th>\n",
       "      <th>no_latlong_count</th>\n",
       "      <th>total_removed_data_cleaning</th>\n",
       "      <th>nrecords_clean</th>\n",
       "    </tr>\n",
       "  </thead>\n",
       "  <tbody>\n",
       "    <tr>\n",
       "      <th>Athalia_rosae</th>\n",
       "      <td>3463</td>\n",
       "      <td>Athalia rosae</td>\n",
       "      <td>Athalia</td>\n",
       "      <td>Tenthredinidae</td>\n",
       "      <td>Hymenoptera</td>\n",
       "      <td>Insecta</td>\n",
       "      <td>Animalia</td>\n",
       "      <td>Animalia</td>\n",
       "      <td>0</td>\n",
       "      <td>38</td>\n",
       "      <td>158</td>\n",
       "      <td>490</td>\n",
       "      <td>2973</td>\n",
       "    </tr>\n",
       "  </tbody>\n",
       "</table>\n",
       "</div>"
      ],
      "text/plain": [
       "              nrecords_unfiltered  ... nrecords_clean\n",
       "Athalia_rosae                3463  ...           2973\n",
       "\n",
       "[1 rows x 13 columns]"
      ]
     },
     "execution_count": 24,
     "metadata": {
      "tags": []
     },
     "output_type": "execute_result"
    }
   ],
   "source": [
    "summary"
   ]
  },
  {
   "cell_type": "markdown",
   "metadata": {
    "colab_type": "text",
    "id": "mDfW-9eVJ9mV"
   },
   "source": [
    "\n",
    "Create and save a smaller table of samples with no value in the “countryCode” column then remove these individuals from the main table.\n"
   ]
  },
  {
   "cell_type": "code",
   "execution_count": 25,
   "metadata": {
    "colab": {},
    "colab_type": "code",
    "executionInfo": {
     "elapsed": 1530,
     "status": "ok",
     "timestamp": 1596039470656,
     "user": {
      "displayName": "Katy Brown",
      "photoUrl": "",
      "userId": "04725673548216289527"
     },
     "user_tz": -60
    },
    "id": "HWLS2ZidhXMu"
   },
   "outputs": [],
   "source": [
    "filtered_table_null = mytab[mytab['countryCode'].isnull()]\n",
    "filtered_table_null.to_csv(file_path + \"/species_tables_null/Athalia_rosae.csv\", sep=\"\\t\", index=None)\n",
    "\n",
    "# count how many rows have no country code\n",
    "count_no_country_code = len(mytab[mytab['countryCode'].isnull()])\n",
    "summary.loc[species_name, \"no_country_code_count\"] = count_no_country_code\n",
    "\n",
    "mytab = mytab[mytab['countryCode'].notnull()]"
   ]
  },
  {
   "cell_type": "code",
   "execution_count": 26,
   "metadata": {
    "colab": {
     "base_uri": "https://localhost:8080/",
     "height": 117
    },
    "colab_type": "code",
    "executionInfo": {
     "elapsed": 1279,
     "status": "ok",
     "timestamp": 1596039490624,
     "user": {
      "displayName": "Katy Brown",
      "photoUrl": "",
      "userId": "04725673548216289527"
     },
     "user_tz": -60
    },
    "id": "Rr8F2wgaJThe",
    "outputId": "a6031669-77eb-4654-fddb-e1e3168eed71"
   },
   "outputs": [
    {
     "data": {
      "text/html": [
       "<div>\n",
       "<style scoped>\n",
       "    .dataframe tbody tr th:only-of-type {\n",
       "        vertical-align: middle;\n",
       "    }\n",
       "\n",
       "    .dataframe tbody tr th {\n",
       "        vertical-align: top;\n",
       "    }\n",
       "\n",
       "    .dataframe thead th {\n",
       "        text-align: right;\n",
       "    }\n",
       "</style>\n",
       "<table border=\"1\" class=\"dataframe\">\n",
       "  <thead>\n",
       "    <tr style=\"text-align: right;\">\n",
       "      <th></th>\n",
       "      <th>nrecords_unfiltered</th>\n",
       "      <th>species</th>\n",
       "      <th>genus</th>\n",
       "      <th>family</th>\n",
       "      <th>order</th>\n",
       "      <th>class</th>\n",
       "      <th>phylum</th>\n",
       "      <th>kingdom</th>\n",
       "      <th>wrong_taxon_rank_count</th>\n",
       "      <th>no_country_code_count</th>\n",
       "      <th>no_latlong_count</th>\n",
       "      <th>total_removed_data_cleaning</th>\n",
       "      <th>nrecords_clean</th>\n",
       "    </tr>\n",
       "  </thead>\n",
       "  <tbody>\n",
       "    <tr>\n",
       "      <th>Athalia_rosae</th>\n",
       "      <td>3463</td>\n",
       "      <td>Athalia rosae</td>\n",
       "      <td>Athalia</td>\n",
       "      <td>Tenthredinidae</td>\n",
       "      <td>Hymenoptera</td>\n",
       "      <td>Insecta</td>\n",
       "      <td>Animalia</td>\n",
       "      <td>Animalia</td>\n",
       "      <td>0</td>\n",
       "      <td>0</td>\n",
       "      <td>158</td>\n",
       "      <td>490</td>\n",
       "      <td>2973</td>\n",
       "    </tr>\n",
       "  </tbody>\n",
       "</table>\n",
       "</div>"
      ],
      "text/plain": [
       "              nrecords_unfiltered  ... nrecords_clean\n",
       "Athalia_rosae                3463  ...           2973\n",
       "\n",
       "[1 rows x 13 columns]"
      ]
     },
     "execution_count": 26,
     "metadata": {
      "tags": []
     },
     "output_type": "execute_result"
    }
   ],
   "source": [
    "summary"
   ]
  },
  {
   "cell_type": "markdown",
   "metadata": {
    "colab_type": "text",
    "id": "qw4YgSYuR67h"
   },
   "source": [
    "\n",
    "Remove rows where latitude or longitude is NA\n"
   ]
  },
  {
   "cell_type": "code",
   "execution_count": 16,
   "metadata": {
    "colab": {},
    "colab_type": "code",
    "executionInfo": {
     "elapsed": 28371,
     "status": "ok",
     "timestamp": 1596038767912,
     "user": {
      "displayName": "Katy Brown",
      "photoUrl": "",
      "userId": "04725673548216289527"
     },
     "user_tz": -60
    },
    "id": "7td00G_eSZbm"
   },
   "outputs": [],
   "source": [
    "count_no_latlong = len(mytab[(mytab['decimalLatitude'].isnull()) | (mytab['decimalLongitude'].isnull())])\n",
    "summary.loc[species_name, 'no_latlong_count'] = count_no_latlong\n",
    "\n",
    "mytab = mytab[mytab['decimalLatitude'].notnull()]\n",
    "mytab = mytab[mytab['decimalLongitude'].notnull()]"
   ]
  },
  {
   "cell_type": "code",
   "execution_count": 17,
   "metadata": {
    "colab": {
     "base_uri": "https://localhost:8080/",
     "height": 117
    },
    "colab_type": "code",
    "executionInfo": {
     "elapsed": 28736,
     "status": "ok",
     "timestamp": 1596038768316,
     "user": {
      "displayName": "Katy Brown",
      "photoUrl": "",
      "userId": "04725673548216289527"
     },
     "user_tz": -60
    },
    "id": "uMwJFrIZKQLn",
    "outputId": "f7d21689-4ef5-4473-9c50-d6f8f82f6207"
   },
   "outputs": [
    {
     "data": {
      "text/html": [
       "<div>\n",
       "<style scoped>\n",
       "    .dataframe tbody tr th:only-of-type {\n",
       "        vertical-align: middle;\n",
       "    }\n",
       "\n",
       "    .dataframe tbody tr th {\n",
       "        vertical-align: top;\n",
       "    }\n",
       "\n",
       "    .dataframe thead th {\n",
       "        text-align: right;\n",
       "    }\n",
       "</style>\n",
       "<table border=\"1\" class=\"dataframe\">\n",
       "  <thead>\n",
       "    <tr style=\"text-align: right;\">\n",
       "      <th></th>\n",
       "      <th>nrecords_unfiltered</th>\n",
       "      <th>species</th>\n",
       "      <th>genus</th>\n",
       "      <th>family</th>\n",
       "      <th>order</th>\n",
       "      <th>class</th>\n",
       "      <th>phylum</th>\n",
       "      <th>kingdom</th>\n",
       "      <th>wrong_taxon_rank_count</th>\n",
       "      <th>no_country_code_count</th>\n",
       "      <th>no_latlong_count</th>\n",
       "      <th>total_removed_data_cleaning</th>\n",
       "      <th>nrecords_clean</th>\n",
       "    </tr>\n",
       "  </thead>\n",
       "  <tbody>\n",
       "    <tr>\n",
       "      <th>Athalia_rosae</th>\n",
       "      <td>3463</td>\n",
       "      <td>Athalia rosae</td>\n",
       "      <td>Athalia</td>\n",
       "      <td>Tenthredinidae</td>\n",
       "      <td>Hymenoptera</td>\n",
       "      <td>Insecta</td>\n",
       "      <td>Animalia</td>\n",
       "      <td>Animalia</td>\n",
       "      <td>294</td>\n",
       "      <td>38</td>\n",
       "      <td>158</td>\n",
       "      <td>NaN</td>\n",
       "      <td>NaN</td>\n",
       "    </tr>\n",
       "  </tbody>\n",
       "</table>\n",
       "</div>"
      ],
      "text/plain": [
       "              nrecords_unfiltered  ... nrecords_clean\n",
       "Athalia_rosae                3463  ...            NaN\n",
       "\n",
       "[1 rows x 13 columns]"
      ]
     },
     "execution_count": 17,
     "metadata": {
      "tags": []
     },
     "output_type": "execute_result"
    }
   ],
   "source": [
    "summary"
   ]
  },
  {
   "cell_type": "markdown",
   "metadata": {
    "colab_type": "text",
    "id": "hmrK4CfaKTW3"
   },
   "source": [
    "We can now count the total number of rows which have been filtered out and add it to the summary table."
   ]
  },
  {
   "cell_type": "code",
   "execution_count": 27,
   "metadata": {
    "colab": {},
    "colab_type": "code",
    "executionInfo": {
     "elapsed": 970,
     "status": "ok",
     "timestamp": 1596039546124,
     "user": {
      "displayName": "Katy Brown",
      "photoUrl": "",
      "userId": "04725673548216289527"
     },
     "user_tz": -60
    },
    "id": "UZO8IOxEKZa1"
   },
   "outputs": [],
   "source": [
    "total_removed = count_wrong_taxon_rank + count_no_country_code + count_no_latlong\n",
    "summary.loc[species_name, 'total_removed_data_cleaning'] = total_removed"
   ]
  },
  {
   "cell_type": "markdown",
   "metadata": {
    "colab_type": "text",
    "id": "cQuFapaCKyHo"
   },
   "source": [
    "The last data cleaning step is to add the total number of rows removed in this stage to the summary table."
   ]
  },
  {
   "cell_type": "code",
   "execution_count": 29,
   "metadata": {
    "colab": {},
    "colab_type": "code",
    "executionInfo": {
     "elapsed": 1377,
     "status": "ok",
     "timestamp": 1596039588087,
     "user": {
      "displayName": "Katy Brown",
      "photoUrl": "",
      "userId": "04725673548216289527"
     },
     "user_tz": -60
    },
    "id": "9diwcTdpKq7d"
   },
   "outputs": [],
   "source": [
    "summary.loc[species_name, \"nrecords_clean\"] = len(mytab)"
   ]
  },
  {
   "cell_type": "code",
   "execution_count": 30,
   "metadata": {
    "colab": {
     "base_uri": "https://localhost:8080/",
     "height": 117
    },
    "colab_type": "code",
    "executionInfo": {
     "elapsed": 1856,
     "status": "ok",
     "timestamp": 1596039591220,
     "user": {
      "displayName": "Katy Brown",
      "photoUrl": "",
      "userId": "04725673548216289527"
     },
     "user_tz": -60
    },
    "id": "ef2mYVEMLGQM",
    "outputId": "e9d42dbe-4d4b-47e0-9d06-4b81baf7bd65"
   },
   "outputs": [
    {
     "data": {
      "text/html": [
       "<div>\n",
       "<style scoped>\n",
       "    .dataframe tbody tr th:only-of-type {\n",
       "        vertical-align: middle;\n",
       "    }\n",
       "\n",
       "    .dataframe tbody tr th {\n",
       "        vertical-align: top;\n",
       "    }\n",
       "\n",
       "    .dataframe thead th {\n",
       "        text-align: right;\n",
       "    }\n",
       "</style>\n",
       "<table border=\"1\" class=\"dataframe\">\n",
       "  <thead>\n",
       "    <tr style=\"text-align: right;\">\n",
       "      <th></th>\n",
       "      <th>nrecords_unfiltered</th>\n",
       "      <th>species</th>\n",
       "      <th>genus</th>\n",
       "      <th>family</th>\n",
       "      <th>order</th>\n",
       "      <th>class</th>\n",
       "      <th>phylum</th>\n",
       "      <th>kingdom</th>\n",
       "      <th>wrong_taxon_rank_count</th>\n",
       "      <th>no_country_code_count</th>\n",
       "      <th>no_latlong_count</th>\n",
       "      <th>total_removed_data_cleaning</th>\n",
       "      <th>nrecords_clean</th>\n",
       "    </tr>\n",
       "  </thead>\n",
       "  <tbody>\n",
       "    <tr>\n",
       "      <th>Athalia_rosae</th>\n",
       "      <td>3463</td>\n",
       "      <td>Athalia rosae</td>\n",
       "      <td>Athalia</td>\n",
       "      <td>Tenthredinidae</td>\n",
       "      <td>Hymenoptera</td>\n",
       "      <td>Insecta</td>\n",
       "      <td>Animalia</td>\n",
       "      <td>Animalia</td>\n",
       "      <td>0</td>\n",
       "      <td>0</td>\n",
       "      <td>158</td>\n",
       "      <td>158</td>\n",
       "      <td>2973</td>\n",
       "    </tr>\n",
       "  </tbody>\n",
       "</table>\n",
       "</div>"
      ],
      "text/plain": [
       "              nrecords_unfiltered  ... nrecords_clean\n",
       "Athalia_rosae                3463  ...           2973\n",
       "\n",
       "[1 rows x 13 columns]"
      ]
     },
     "execution_count": 30,
     "metadata": {
      "tags": []
     },
     "output_type": "execute_result"
    }
   ],
   "source": [
    "summary"
   ]
  },
  {
   "cell_type": "markdown",
   "metadata": {
    "colab_type": "text",
    "id": "rFG-QFAGLljL"
   },
   "source": [
    "Finally, we save the filtered table and the summary table."
   ]
  },
  {
   "cell_type": "code",
   "execution_count": 31,
   "metadata": {
    "colab": {},
    "colab_type": "code",
    "executionInfo": {
     "elapsed": 1489,
     "status": "ok",
     "timestamp": 1596039596526,
     "user": {
      "displayName": "Katy Brown",
      "photoUrl": "",
      "userId": "04725673548216289527"
     },
     "user_tz": -60
    },
    "id": "_u2Foya-h3k4"
   },
   "outputs": [],
   "source": [
    "mytab.to_csv(file_path + \"/filtered_main_tables/\" + species_name + \".csv\", sep=\"\\t\", index=None)\n",
    "summary.to_csv(file_path + \"/summary_tables/\" + species_name + \".csv\", sep=\"\\t\")"
   ]
  }
 ],
 "metadata": {
  "colab": {
   "authorship_tag": "ABX9TyMlwCNrcojYxrxyq8V5NnYJ",
   "collapsed_sections": [],
   "name": "Data_Cleaning",
   "provenance": [
    {
     "file_id": "1vhDRNO8Ov_4I3V0wjyGdSv5qZd28P26R",
     "timestamp": 1596016780263
    },
    {
     "file_id": "1fgK0oP7jFP4z2krdH0pKzR--BtjpzyLs",
     "timestamp": 1595944079107
    }
   ]
  },
  "kernelspec": {
   "display_name": "Python 3",
   "language": "python",
   "name": "python3"
  },
  "language_info": {
   "codemirror_mode": {
    "name": "ipython",
    "version": 3
   },
   "file_extension": ".py",
   "mimetype": "text/x-python",
   "name": "python",
   "nbconvert_exporter": "python",
   "pygments_lexer": "ipython3",
   "version": "3.6.10"
  }
 },
 "nbformat": 4,
 "nbformat_minor": 1
}
